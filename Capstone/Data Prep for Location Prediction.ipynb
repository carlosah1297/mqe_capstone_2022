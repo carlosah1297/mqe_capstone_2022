{
 "cells": [
  {
   "cell_type": "markdown",
   "id": "cc1462f2",
   "metadata": {},
   "source": [
    "## This will set up data for Location Prediction within boroughs\n",
    "\n",
    "### Links: \n",
    "- Project 2 pdf from Econ412\n",
    "- Look up: \"how to determine if linear or nonlinear is appropriate for model\"\n",
    "- https://levelup.gitconnected.com/clustering-gps-co-ordinates-forming-regions-4f50caa7e4a1\n",
    "- https://medium.datadriveninvestor.com/weighted-k-means-clustering-of-gps-coordinates-python-7c6270846163\n",
    "- https://data.cityofnewyork.us/Public-Safety/NYPD-Complaint-Data-Historic/qgea-i56i\n",
    "- https://patrickparrottalaw.com/differences-between-a-violation-a-misdemeanor-and-a-felony/\n",
    "- https://stackoverflow.com/questions/41639557/how-to-perform-logistic-lasso-in-python\n",
    "- https://www.analyticsvidhya.com/blog/2021/04/k-means-clustering-simplified-in-python/#:~:text=K%20means%20is%20one%20of,having%20similar%20features%2C%20common%20patterns.\n",
    "- https://www.datacamp.com/community/tutorials/k-nearest-neighbor-classification-scikit-learn\n",
    "- https://machinelearningmastery.com/linear-discriminant-analysis-with-python/\n",
    "- https://realpython.com/logistic-regression-python/\n",
    "- https://www.statology.org/linear-discriminant-analysis-in-python/\n",
    "- https://stackoverflow.com/questions/41639557/how-to-perform-logistic-lasso-in-python\n",
    "- https://learn.g2.com/k-nearest-neighbor\n",
    "- https://elitedatascience.com/bias-variance-tradeoff\n",
    "- searh: \"naive bayes classifier\""
   ]
  },
  {
   "cell_type": "markdown",
   "id": "90166f94",
   "metadata": {},
   "source": [
    "- Set up the data for classification beginning with Queens. Try to find difference between Crime start and crime end.\n",
    "    - variables: crime rate? difference? UNRATE? Crime level? ARREST RATE? Premises? other dummies?\n",
    "- Use K-means to create clusters using GPS coordinates for boroughs not already clustered\n",
    "- Use other classification models:\n",
    "    - LDA, QDA, KNN, Other?"
   ]
  },
  {
   "cell_type": "code",
   "execution_count": 102,
   "id": "0c71e095",
   "metadata": {},
   "outputs": [],
   "source": [
    "import pandas as pd\n",
    "import numpy as np\n",
    "from math import radians\n",
    "from sklearn. linear_model import Lasso\n",
    "from sklearn.model_selection import train_test_split\n",
    "from sklearn.metrics import accuracy_score\n",
    "from sklearn import preprocessing\n",
    "from scipy.stats import norm\n",
    "from sklearn.linear_model import LogisticRegression\n",
    "from sklearn. linear_model import LassoCV\n",
    "import matplotlib.pyplot as plt\n",
    "from sklearn.metrics import classification_report, confusion_matrix\n",
    "from sklearn.model_selection import RepeatedStratifiedKFold\n",
    "from sklearn.model_selection import cross_val_score\n",
    "from sklearn.discriminant_analysis import LinearDiscriminantAnalysis, QuadraticDiscriminantAnalysis\n",
    "import statsmodels.api as sm\n",
    "import seaborn as sns\n",
    "sns.set()\n",
    "from sklearn.cluster import KMeans\n",
    "from sklearn.neighbors import KNeighborsClassifier\n",
    "from sklearn import metrics\n",
    "import matplotlib.patches as mpatches"
   ]
  },
  {
   "cell_type": "code",
   "execution_count": 2,
   "id": "dbf66ed1",
   "metadata": {},
   "outputs": [],
   "source": [
    "data = pd.read_csv('data.csv')"
   ]
  },
  {
   "cell_type": "code",
   "execution_count": 3,
   "id": "eeabe075",
   "metadata": {},
   "outputs": [
    {
     "data": {
      "text/plain": [
       "array(['PATROL BORO QUEENS NORTH', 'PATROL BORO QUEENS SOUTH',\n",
       "       'PATROL BORO MAN SOUTH', 'PATROL BORO MAN NORTH',\n",
       "       'PATROL BORO BKLYN SOUTH', 'PATROL BORO BKLYN NORTH',\n",
       "       'PATROL BORO BRONX', 'PATROL BORO STATEN ISLAND', nan],\n",
       "      dtype=object)"
      ]
     },
     "execution_count": 3,
     "metadata": {},
     "output_type": "execute_result"
    }
   ],
   "source": [
    "data['PATROL_BORO'].unique()"
   ]
  },
  {
   "cell_type": "code",
   "execution_count": 122,
   "id": "b672e72b",
   "metadata": {},
   "outputs": [
    {
     "data": {
      "text/plain": [
       "1792148"
      ]
     },
     "execution_count": 122,
     "metadata": {},
     "output_type": "execute_result"
    }
   ],
   "source": [
    "len(data)"
   ]
  },
  {
   "cell_type": "code",
   "execution_count": 4,
   "id": "639f707d",
   "metadata": {},
   "outputs": [],
   "source": [
    "################################################################################################################################"
   ]
  },
  {
   "cell_type": "markdown",
   "id": "cac12008",
   "metadata": {},
   "source": [
    "# Integrate date difference to original dataset"
   ]
  },
  {
   "cell_type": "code",
   "execution_count": 4,
   "id": "cb516767",
   "metadata": {},
   "outputs": [
    {
     "data": {
      "text/html": [
       "<div>\n",
       "<style scoped>\n",
       "    .dataframe tbody tr th:only-of-type {\n",
       "        vertical-align: middle;\n",
       "    }\n",
       "\n",
       "    .dataframe tbody tr th {\n",
       "        vertical-align: top;\n",
       "    }\n",
       "\n",
       "    .dataframe thead th {\n",
       "        text-align: right;\n",
       "    }\n",
       "</style>\n",
       "<table border=\"1\" class=\"dataframe\">\n",
       "  <thead>\n",
       "    <tr style=\"text-align: right;\">\n",
       "      <th></th>\n",
       "      <th>index</th>\n",
       "      <th>crime_diff</th>\n",
       "    </tr>\n",
       "  </thead>\n",
       "  <tbody>\n",
       "    <tr>\n",
       "      <th>0</th>\n",
       "      <td>1</td>\n",
       "      <td>596</td>\n",
       "    </tr>\n",
       "    <tr>\n",
       "      <th>1</th>\n",
       "      <td>2</td>\n",
       "      <td>364</td>\n",
       "    </tr>\n",
       "    <tr>\n",
       "      <th>2</th>\n",
       "      <td>3</td>\n",
       "      <td>1047</td>\n",
       "    </tr>\n",
       "  </tbody>\n",
       "</table>\n",
       "</div>"
      ],
      "text/plain": [
       "   index  crime_diff\n",
       "0      1         596\n",
       "1      2         364\n",
       "2      3        1047"
      ]
     },
     "execution_count": 4,
     "metadata": {},
     "output_type": "execute_result"
    }
   ],
   "source": [
    "index = list(range(1, 1792148+1))\n",
    "data['index'] = index\n",
    "crime_diff = pd.read_csv('crime_diff.csv')\n",
    "crime_diff.head(3)"
   ]
  },
  {
   "cell_type": "code",
   "execution_count": 5,
   "id": "e6d16d63",
   "metadata": {},
   "outputs": [
    {
     "data": {
      "text/html": [
       "<div>\n",
       "<style scoped>\n",
       "    .dataframe tbody tr th:only-of-type {\n",
       "        vertical-align: middle;\n",
       "    }\n",
       "\n",
       "    .dataframe tbody tr th {\n",
       "        vertical-align: top;\n",
       "    }\n",
       "\n",
       "    .dataframe thead th {\n",
       "        text-align: right;\n",
       "    }\n",
       "</style>\n",
       "<table border=\"1\" class=\"dataframe\">\n",
       "  <thead>\n",
       "    <tr style=\"text-align: right;\">\n",
       "      <th></th>\n",
       "      <th>Unnamed: 0</th>\n",
       "      <th>CMPLNT_NUM</th>\n",
       "      <th>CMPLNT_FR_DT</th>\n",
       "      <th>CMPLNT_FR_TM</th>\n",
       "      <th>CMPLNT_TO_DT</th>\n",
       "      <th>ADDR_PCT_CD</th>\n",
       "      <th>RPT_DT</th>\n",
       "      <th>KY_CD</th>\n",
       "      <th>OFNS_DESC</th>\n",
       "      <th>PD_CD</th>\n",
       "      <th>...</th>\n",
       "      <th>year</th>\n",
       "      <th>date_y</th>\n",
       "      <th>borough_y</th>\n",
       "      <th>crimes</th>\n",
       "      <th>time_borough</th>\n",
       "      <th>location_yr</th>\n",
       "      <th>pop</th>\n",
       "      <th>crime_rate</th>\n",
       "      <th>index</th>\n",
       "      <th>crime_diff</th>\n",
       "    </tr>\n",
       "  </thead>\n",
       "  <tbody>\n",
       "    <tr>\n",
       "      <th>0</th>\n",
       "      <td>0</td>\n",
       "      <td>216044876</td>\n",
       "      <td>2017-01-01</td>\n",
       "      <td>11:00:00</td>\n",
       "      <td>08/20/2018</td>\n",
       "      <td>109.0</td>\n",
       "      <td>12/31/2019</td>\n",
       "      <td>116</td>\n",
       "      <td>SEX CRIMES</td>\n",
       "      <td>179.0</td>\n",
       "      <td>...</td>\n",
       "      <td>2017</td>\n",
       "      <td>201701</td>\n",
       "      <td>queens</td>\n",
       "      <td>7617</td>\n",
       "      <td>201701queens</td>\n",
       "      <td>2017queens</td>\n",
       "      <td>2358582</td>\n",
       "      <td>322.95</td>\n",
       "      <td>1</td>\n",
       "      <td>596.0</td>\n",
       "    </tr>\n",
       "    <tr>\n",
       "      <th>1</th>\n",
       "      <td>1</td>\n",
       "      <td>669902330</td>\n",
       "      <td>2017-01-01</td>\n",
       "      <td>00:01:00</td>\n",
       "      <td>12/31/2017</td>\n",
       "      <td>114.0</td>\n",
       "      <td>11/26/2019</td>\n",
       "      <td>233</td>\n",
       "      <td>SEX CRIMES</td>\n",
       "      <td>175.0</td>\n",
       "      <td>...</td>\n",
       "      <td>2017</td>\n",
       "      <td>201701</td>\n",
       "      <td>queens</td>\n",
       "      <td>7617</td>\n",
       "      <td>201701queens</td>\n",
       "      <td>2017queens</td>\n",
       "      <td>2358582</td>\n",
       "      <td>322.95</td>\n",
       "      <td>2</td>\n",
       "      <td>364.0</td>\n",
       "    </tr>\n",
       "    <tr>\n",
       "      <th>2</th>\n",
       "      <td>2</td>\n",
       "      <td>336910010</td>\n",
       "      <td>2017-01-01</td>\n",
       "      <td>12:00:00</td>\n",
       "      <td>11/14/2019</td>\n",
       "      <td>104.0</td>\n",
       "      <td>11/14/2019</td>\n",
       "      <td>361</td>\n",
       "      <td>OFF. AGNST PUB ORD SENSBLTY &amp;</td>\n",
       "      <td>639.0</td>\n",
       "      <td>...</td>\n",
       "      <td>2017</td>\n",
       "      <td>201701</td>\n",
       "      <td>queens</td>\n",
       "      <td>7617</td>\n",
       "      <td>201701queens</td>\n",
       "      <td>2017queens</td>\n",
       "      <td>2358582</td>\n",
       "      <td>322.95</td>\n",
       "      <td>3</td>\n",
       "      <td>1047.0</td>\n",
       "    </tr>\n",
       "  </tbody>\n",
       "</table>\n",
       "<p>3 rows × 40 columns</p>\n",
       "</div>"
      ],
      "text/plain": [
       "   Unnamed: 0  CMPLNT_NUM CMPLNT_FR_DT CMPLNT_FR_TM CMPLNT_TO_DT  ADDR_PCT_CD  \\\n",
       "0           0   216044876   2017-01-01     11:00:00   08/20/2018        109.0   \n",
       "1           1   669902330   2017-01-01     00:01:00   12/31/2017        114.0   \n",
       "2           2   336910010   2017-01-01     12:00:00   11/14/2019        104.0   \n",
       "\n",
       "       RPT_DT  KY_CD                      OFNS_DESC  PD_CD  ...  year  date_y  \\\n",
       "0  12/31/2019    116                     SEX CRIMES  179.0  ...  2017  201701   \n",
       "1  11/26/2019    233                     SEX CRIMES  175.0  ...  2017  201701   \n",
       "2  11/14/2019    361  OFF. AGNST PUB ORD SENSBLTY &  639.0  ...  2017  201701   \n",
       "\n",
       "  borough_y crimes  time_borough location_yr      pop crime_rate index  \\\n",
       "0    queens   7617  201701queens  2017queens  2358582     322.95     1   \n",
       "1    queens   7617  201701queens  2017queens  2358582     322.95     2   \n",
       "2    queens   7617  201701queens  2017queens  2358582     322.95     3   \n",
       "\n",
       "  crime_diff  \n",
       "0      596.0  \n",
       "1      364.0  \n",
       "2     1047.0  \n",
       "\n",
       "[3 rows x 40 columns]"
      ]
     },
     "execution_count": 5,
     "metadata": {},
     "output_type": "execute_result"
    }
   ],
   "source": [
    "data = pd.merge(data, crime_diff,on='index', how = 'outer')\n",
    "data.head(3)"
   ]
  },
  {
   "cell_type": "code",
   "execution_count": 6,
   "id": "f4d23bc3",
   "metadata": {},
   "outputs": [],
   "source": [
    "################################################################################################################################"
   ]
  },
  {
   "cell_type": "code",
   "execution_count": 7,
   "id": "6fc5971b",
   "metadata": {},
   "outputs": [
    {
     "name": "stderr",
     "output_type": "stream",
     "text": [
      "<ipython-input-7-4887ffc6ec17>:2: SettingWithCopyWarning: \n",
      "A value is trying to be set on a copy of a slice from a DataFrame.\n",
      "Try using .loc[row_indexer,col_indexer] = value instead\n",
      "\n",
      "See the caveats in the documentation: https://pandas.pydata.org/pandas-docs/stable/user_guide/indexing.html#returning-a-view-versus-a-copy\n",
      "  df['borough'] = df['borough_y']\n"
     ]
    },
    {
     "data": {
      "text/html": [
       "<div>\n",
       "<style scoped>\n",
       "    .dataframe tbody tr th:only-of-type {\n",
       "        vertical-align: middle;\n",
       "    }\n",
       "\n",
       "    .dataframe tbody tr th {\n",
       "        vertical-align: top;\n",
       "    }\n",
       "\n",
       "    .dataframe thead th {\n",
       "        text-align: right;\n",
       "    }\n",
       "</style>\n",
       "<table border=\"1\" class=\"dataframe\">\n",
       "  <thead>\n",
       "    <tr style=\"text-align: right;\">\n",
       "      <th></th>\n",
       "      <th>crime_rate</th>\n",
       "      <th>PATROL_BORO</th>\n",
       "      <th>crime_diff</th>\n",
       "      <th>Latitude</th>\n",
       "      <th>Longitude</th>\n",
       "      <th>borough</th>\n",
       "    </tr>\n",
       "  </thead>\n",
       "  <tbody>\n",
       "    <tr>\n",
       "      <th>0</th>\n",
       "      <td>322.95</td>\n",
       "      <td>PATROL BORO QUEENS NORTH</td>\n",
       "      <td>596.0</td>\n",
       "      <td>40.762334</td>\n",
       "      <td>-73.826917</td>\n",
       "      <td>queens</td>\n",
       "    </tr>\n",
       "    <tr>\n",
       "      <th>1</th>\n",
       "      <td>322.95</td>\n",
       "      <td>PATROL BORO QUEENS NORTH</td>\n",
       "      <td>364.0</td>\n",
       "      <td>40.769306</td>\n",
       "      <td>-73.915508</td>\n",
       "      <td>queens</td>\n",
       "    </tr>\n",
       "    <tr>\n",
       "      <th>2</th>\n",
       "      <td>322.95</td>\n",
       "      <td>PATROL BORO QUEENS NORTH</td>\n",
       "      <td>1047.0</td>\n",
       "      <td>40.717372</td>\n",
       "      <td>-73.900820</td>\n",
       "      <td>queens</td>\n",
       "    </tr>\n",
       "    <tr>\n",
       "      <th>3</th>\n",
       "      <td>322.95</td>\n",
       "      <td>PATROL BORO QUEENS SOUTH</td>\n",
       "      <td>364.0</td>\n",
       "      <td>40.679700</td>\n",
       "      <td>-73.776047</td>\n",
       "      <td>queens</td>\n",
       "    </tr>\n",
       "    <tr>\n",
       "      <th>4</th>\n",
       "      <td>322.95</td>\n",
       "      <td>PATROL BORO QUEENS NORTH</td>\n",
       "      <td>585.0</td>\n",
       "      <td>40.745253</td>\n",
       "      <td>-73.870063</td>\n",
       "      <td>queens</td>\n",
       "    </tr>\n",
       "  </tbody>\n",
       "</table>\n",
       "</div>"
      ],
      "text/plain": [
       "   crime_rate               PATROL_BORO  crime_diff   Latitude  Longitude  \\\n",
       "0      322.95  PATROL BORO QUEENS NORTH       596.0  40.762334 -73.826917   \n",
       "1      322.95  PATROL BORO QUEENS NORTH       364.0  40.769306 -73.915508   \n",
       "2      322.95  PATROL BORO QUEENS NORTH      1047.0  40.717372 -73.900820   \n",
       "3      322.95  PATROL BORO QUEENS SOUTH       364.0  40.679700 -73.776047   \n",
       "4      322.95  PATROL BORO QUEENS NORTH       585.0  40.745253 -73.870063   \n",
       "\n",
       "  borough  \n",
       "0  queens  \n",
       "1  queens  \n",
       "2  queens  \n",
       "3  queens  \n",
       "4  queens  "
      ]
     },
     "execution_count": 7,
     "metadata": {},
     "output_type": "execute_result"
    }
   ],
   "source": [
    "df = data[['borough_y', 'crime_rate', 'PATROL_BORO', 'crime_diff', 'Latitude', 'Longitude']]\n",
    "df['borough'] = df['borough_y']\n",
    "df = df.drop('borough_y', axis=1)\n",
    "df.head()"
   ]
  },
  {
   "cell_type": "code",
   "execution_count": 8,
   "id": "1d08198c",
   "metadata": {},
   "outputs": [],
   "source": [
    "law_cat = pd.get_dummies(data[\"LAW_CAT_CD\"])\n",
    "#law_cat\n",
    "## dummy variable for type of crime, reference is when it is a violation\n",
    "df['felony'] = law_cat['FELONY']\n",
    "df['misdemeanor'] = law_cat['MISDEMEANOR']\n",
    "#df['violation'] = law_cat['VIOLATION']\n",
    "### Dummy variable for whether crime was completed or not, attempted crimes are reference\n",
    "completed_attempted = pd.get_dummies(data['CRM_ATPT_CPTD_CD'])\n",
    "df['completed'] = completed_attempted['COMPLETED']\n",
    "#completed_attempted\n",
    "### Dummy variable for race of suspect, reference dummy is when it is unknown/NaN\n",
    "data['SUSP_RACE'].value_counts()\n",
    "suspect_race = pd.get_dummies(data['SUSP_RACE'], dummy_na=True)\n",
    "df['s_native'] = suspect_race['AMERICAN INDIAN/ALASKAN NATIVE']\n",
    "df['s_apac'] = suspect_race['ASIAN / PACIFIC ISLANDER']\n",
    "df['s_black'] = suspect_race['BLACK']\n",
    "df['s_bl_hisp'] = suspect_race['BLACK HISPANIC']\n",
    "df['s_white'] = suspect_race['WHITE']\n",
    "df['s_white_hisp'] = suspect_race['WHITE HISPANIC']\n",
    "#suspect_race\n",
    "#Dummy variable for suspect age, reference is unknown/NaN\n",
    "data['SUSP_AGE_GROUP'].value_counts()\n",
    "suspect_age = pd.get_dummies(data['SUSP_AGE_GROUP'], dummy_na=True)\n",
    "suspect_age.head(3)\n",
    "df['s_u18'] = suspect_age['<18']\n",
    "df['s_18_24'] = suspect_age['18-24']\n",
    "df['s_25_44'] = suspect_age['25-44']\n",
    "df['s_45_64'] = suspect_age['45-64']\n",
    "df['s_65plus'] = suspect_age['65+']\n",
    "#dummy for suspect sex, reference is unknown\n",
    "suspect_sex = pd.get_dummies(data['SUSP_SEX'], dummy_na=True)\n",
    "suspect_sex.head(3)\n",
    "df['s_male'] = suspect_sex['M']\n",
    "df['s_female'] = suspect_sex['F']\n",
    "#sex of victim, reference is other gender\n",
    "victim_sex = pd.get_dummies(data['VIC_SEX'], dummy_na=True)\n",
    "victim_sex.head(3)\n",
    "df['v_male'] = victim_sex['M']\n",
    "df['v_female'] = victim_sex['F']\n",
    "##dummies for victim race, reference is unknown\n",
    "victim_race = pd.get_dummies(data['VIC_RACE'], dummy_na=True)\n",
    "df['v_native'] = victim_race['AMERICAN INDIAN/ALASKAN NATIVE']\n",
    "df['v_apac'] = victim_race['ASIAN / PACIFIC ISLANDER']\n",
    "df['v_black'] = victim_race['BLACK']\n",
    "df['v_bl_hisp'] = victim_race['BLACK HISPANIC']\n",
    "df['v_white'] = victim_race['WHITE']\n",
    "df['v_white_hisp'] = victim_race['WHITE HISPANIC']\n",
    "##dummies for victim age group, reference is unknown/other\n",
    "data['VIC_AGE_GROUP'].value_counts()\n",
    "victim_age = pd.get_dummies(data['VIC_AGE_GROUP'], dummy_na=True)\n",
    "victim_age.head(3)\n",
    "df['v_u18'] = victim_age['<18']\n",
    "df['v_18_24'] = victim_age['18-24']\n",
    "df['v_25_44'] = victim_age['25-44']\n",
    "df['v_45_64'] = victim_age['45-64']\n",
    "df['v_65plus'] = victim_age['65+']\n"
   ]
  },
  {
   "cell_type": "code",
   "execution_count": 9,
   "id": "3ebe4367",
   "metadata": {},
   "outputs": [
    {
     "data": {
      "text/html": [
       "<div>\n",
       "<style scoped>\n",
       "    .dataframe tbody tr th:only-of-type {\n",
       "        vertical-align: middle;\n",
       "    }\n",
       "\n",
       "    .dataframe tbody tr th {\n",
       "        vertical-align: top;\n",
       "    }\n",
       "\n",
       "    .dataframe thead th {\n",
       "        text-align: right;\n",
       "    }\n",
       "</style>\n",
       "<table border=\"1\" class=\"dataframe\">\n",
       "  <thead>\n",
       "    <tr style=\"text-align: right;\">\n",
       "      <th></th>\n",
       "      <th>crime_rate</th>\n",
       "      <th>PATROL_BORO</th>\n",
       "      <th>crime_diff</th>\n",
       "      <th>Latitude</th>\n",
       "      <th>Longitude</th>\n",
       "      <th>borough</th>\n",
       "      <th>felony</th>\n",
       "      <th>misdemeanor</th>\n",
       "      <th>completed</th>\n",
       "      <th>s_native</th>\n",
       "      <th>...</th>\n",
       "      <th>v_apac</th>\n",
       "      <th>v_black</th>\n",
       "      <th>v_bl_hisp</th>\n",
       "      <th>v_white</th>\n",
       "      <th>v_white_hisp</th>\n",
       "      <th>v_u18</th>\n",
       "      <th>v_18_24</th>\n",
       "      <th>v_25_44</th>\n",
       "      <th>v_45_64</th>\n",
       "      <th>v_65plus</th>\n",
       "    </tr>\n",
       "  </thead>\n",
       "  <tbody>\n",
       "    <tr>\n",
       "      <th>0</th>\n",
       "      <td>322.95</td>\n",
       "      <td>PATROL BORO QUEENS NORTH</td>\n",
       "      <td>596.0</td>\n",
       "      <td>40.762334</td>\n",
       "      <td>-73.826917</td>\n",
       "      <td>queens</td>\n",
       "      <td>1</td>\n",
       "      <td>0</td>\n",
       "      <td>1</td>\n",
       "      <td>0</td>\n",
       "      <td>...</td>\n",
       "      <td>1</td>\n",
       "      <td>0</td>\n",
       "      <td>0</td>\n",
       "      <td>0</td>\n",
       "      <td>0</td>\n",
       "      <td>1</td>\n",
       "      <td>0</td>\n",
       "      <td>0</td>\n",
       "      <td>0</td>\n",
       "      <td>0</td>\n",
       "    </tr>\n",
       "    <tr>\n",
       "      <th>1</th>\n",
       "      <td>322.95</td>\n",
       "      <td>PATROL BORO QUEENS NORTH</td>\n",
       "      <td>364.0</td>\n",
       "      <td>40.769306</td>\n",
       "      <td>-73.915508</td>\n",
       "      <td>queens</td>\n",
       "      <td>0</td>\n",
       "      <td>1</td>\n",
       "      <td>1</td>\n",
       "      <td>0</td>\n",
       "      <td>...</td>\n",
       "      <td>0</td>\n",
       "      <td>1</td>\n",
       "      <td>0</td>\n",
       "      <td>0</td>\n",
       "      <td>0</td>\n",
       "      <td>1</td>\n",
       "      <td>0</td>\n",
       "      <td>0</td>\n",
       "      <td>0</td>\n",
       "      <td>0</td>\n",
       "    </tr>\n",
       "    <tr>\n",
       "      <th>2</th>\n",
       "      <td>322.95</td>\n",
       "      <td>PATROL BORO QUEENS NORTH</td>\n",
       "      <td>1047.0</td>\n",
       "      <td>40.717372</td>\n",
       "      <td>-73.900820</td>\n",
       "      <td>queens</td>\n",
       "      <td>0</td>\n",
       "      <td>1</td>\n",
       "      <td>1</td>\n",
       "      <td>0</td>\n",
       "      <td>...</td>\n",
       "      <td>0</td>\n",
       "      <td>0</td>\n",
       "      <td>0</td>\n",
       "      <td>1</td>\n",
       "      <td>0</td>\n",
       "      <td>0</td>\n",
       "      <td>1</td>\n",
       "      <td>0</td>\n",
       "      <td>0</td>\n",
       "      <td>0</td>\n",
       "    </tr>\n",
       "  </tbody>\n",
       "</table>\n",
       "<p>3 rows × 35 columns</p>\n",
       "</div>"
      ],
      "text/plain": [
       "   crime_rate               PATROL_BORO  crime_diff   Latitude  Longitude  \\\n",
       "0      322.95  PATROL BORO QUEENS NORTH       596.0  40.762334 -73.826917   \n",
       "1      322.95  PATROL BORO QUEENS NORTH       364.0  40.769306 -73.915508   \n",
       "2      322.95  PATROL BORO QUEENS NORTH      1047.0  40.717372 -73.900820   \n",
       "\n",
       "  borough  felony  misdemeanor  completed  s_native  ...  v_apac  v_black  \\\n",
       "0  queens       1            0          1         0  ...       1        0   \n",
       "1  queens       0            1          1         0  ...       0        1   \n",
       "2  queens       0            1          1         0  ...       0        0   \n",
       "\n",
       "   v_bl_hisp  v_white  v_white_hisp  v_u18  v_18_24  v_25_44  v_45_64  \\\n",
       "0          0        0             0      1        0        0        0   \n",
       "1          0        0             0      1        0        0        0   \n",
       "2          0        1             0      0        1        0        0   \n",
       "\n",
       "   v_65plus  \n",
       "0         0  \n",
       "1         0  \n",
       "2         0  \n",
       "\n",
       "[3 rows x 35 columns]"
      ]
     },
     "execution_count": 9,
     "metadata": {},
     "output_type": "execute_result"
    }
   ],
   "source": [
    "df.head(3)"
   ]
  },
  {
   "cell_type": "code",
   "execution_count": 10,
   "id": "a8902608",
   "metadata": {},
   "outputs": [],
   "source": [
    "data['CMPLNT_FR_DT'] = data['CMPLNT_FR_DT'].astype(str)\n",
    "data['CMPLNT_FR_DT'] = pd.to_datetime(data['CMPLNT_FR_DT'].astype(str), format='%Y-%m-%d')\n",
    "#data['month'] = pd.to_datetime(data['CMPLNT_FR_DT'],format='%m', errors='coerce').dt.to_period('m')\n",
    "data['month'] = pd.DatetimeIndex(data['CMPLNT_FR_DT']).month\n",
    "##dummies depending on month of year, reference is january\n",
    "month = pd.get_dummies(data['month'], dummy_na=True)\n",
    "month.head()\n",
    "df['feb'] = month[2.0]\n",
    "df['mar'] = month[3.0]\n",
    "df['apr'] = month[4.0]\n",
    "df['may'] = month[5.0]\n",
    "df['jun'] = month[6.0]\n",
    "df['jul'] = month[7.0]\n",
    "df['aug'] = month[8.0]\n",
    "df['sep'] = month[9.0]\n",
    "df['oct'] = month[10.0]\n",
    "df['nov'] = month[11.0]\n",
    "df['dec'] = month[12.0]"
   ]
  },
  {
   "cell_type": "code",
   "execution_count": 11,
   "id": "7fd5689c",
   "metadata": {},
   "outputs": [
    {
     "data": {
      "text/html": [
       "<div>\n",
       "<style scoped>\n",
       "    .dataframe tbody tr th:only-of-type {\n",
       "        vertical-align: middle;\n",
       "    }\n",
       "\n",
       "    .dataframe tbody tr th {\n",
       "        vertical-align: top;\n",
       "    }\n",
       "\n",
       "    .dataframe thead th {\n",
       "        text-align: right;\n",
       "    }\n",
       "</style>\n",
       "<table border=\"1\" class=\"dataframe\">\n",
       "  <thead>\n",
       "    <tr style=\"text-align: right;\">\n",
       "      <th></th>\n",
       "      <th>crime_rate</th>\n",
       "      <th>PATROL_BORO</th>\n",
       "      <th>crime_diff</th>\n",
       "      <th>Latitude</th>\n",
       "      <th>Longitude</th>\n",
       "      <th>borough</th>\n",
       "      <th>felony</th>\n",
       "      <th>misdemeanor</th>\n",
       "      <th>completed</th>\n",
       "      <th>s_native</th>\n",
       "      <th>...</th>\n",
       "      <th>apr</th>\n",
       "      <th>may</th>\n",
       "      <th>jun</th>\n",
       "      <th>jul</th>\n",
       "      <th>aug</th>\n",
       "      <th>sep</th>\n",
       "      <th>oct</th>\n",
       "      <th>nov</th>\n",
       "      <th>dec</th>\n",
       "      <th>index</th>\n",
       "    </tr>\n",
       "  </thead>\n",
       "  <tbody>\n",
       "    <tr>\n",
       "      <th>0</th>\n",
       "      <td>322.95</td>\n",
       "      <td>PATROL BORO QUEENS NORTH</td>\n",
       "      <td>596.0</td>\n",
       "      <td>40.762334</td>\n",
       "      <td>-73.826917</td>\n",
       "      <td>queens</td>\n",
       "      <td>1</td>\n",
       "      <td>0</td>\n",
       "      <td>1</td>\n",
       "      <td>0</td>\n",
       "      <td>...</td>\n",
       "      <td>0</td>\n",
       "      <td>0</td>\n",
       "      <td>0</td>\n",
       "      <td>0</td>\n",
       "      <td>0</td>\n",
       "      <td>0</td>\n",
       "      <td>0</td>\n",
       "      <td>0</td>\n",
       "      <td>0</td>\n",
       "      <td>1</td>\n",
       "    </tr>\n",
       "    <tr>\n",
       "      <th>1</th>\n",
       "      <td>322.95</td>\n",
       "      <td>PATROL BORO QUEENS NORTH</td>\n",
       "      <td>364.0</td>\n",
       "      <td>40.769306</td>\n",
       "      <td>-73.915508</td>\n",
       "      <td>queens</td>\n",
       "      <td>0</td>\n",
       "      <td>1</td>\n",
       "      <td>1</td>\n",
       "      <td>0</td>\n",
       "      <td>...</td>\n",
       "      <td>0</td>\n",
       "      <td>0</td>\n",
       "      <td>0</td>\n",
       "      <td>0</td>\n",
       "      <td>0</td>\n",
       "      <td>0</td>\n",
       "      <td>0</td>\n",
       "      <td>0</td>\n",
       "      <td>0</td>\n",
       "      <td>2</td>\n",
       "    </tr>\n",
       "    <tr>\n",
       "      <th>2</th>\n",
       "      <td>322.95</td>\n",
       "      <td>PATROL BORO QUEENS NORTH</td>\n",
       "      <td>1047.0</td>\n",
       "      <td>40.717372</td>\n",
       "      <td>-73.900820</td>\n",
       "      <td>queens</td>\n",
       "      <td>0</td>\n",
       "      <td>1</td>\n",
       "      <td>1</td>\n",
       "      <td>0</td>\n",
       "      <td>...</td>\n",
       "      <td>0</td>\n",
       "      <td>0</td>\n",
       "      <td>0</td>\n",
       "      <td>0</td>\n",
       "      <td>0</td>\n",
       "      <td>0</td>\n",
       "      <td>0</td>\n",
       "      <td>0</td>\n",
       "      <td>0</td>\n",
       "      <td>3</td>\n",
       "    </tr>\n",
       "  </tbody>\n",
       "</table>\n",
       "<p>3 rows × 47 columns</p>\n",
       "</div>"
      ],
      "text/plain": [
       "   crime_rate               PATROL_BORO  crime_diff   Latitude  Longitude  \\\n",
       "0      322.95  PATROL BORO QUEENS NORTH       596.0  40.762334 -73.826917   \n",
       "1      322.95  PATROL BORO QUEENS NORTH       364.0  40.769306 -73.915508   \n",
       "2      322.95  PATROL BORO QUEENS NORTH      1047.0  40.717372 -73.900820   \n",
       "\n",
       "  borough  felony  misdemeanor  completed  s_native  ...  apr  may  jun  jul  \\\n",
       "0  queens       1            0          1         0  ...    0    0    0    0   \n",
       "1  queens       0            1          1         0  ...    0    0    0    0   \n",
       "2  queens       0            1          1         0  ...    0    0    0    0   \n",
       "\n",
       "   aug  sep  oct  nov  dec  index  \n",
       "0    0    0    0    0    0      1  \n",
       "1    0    0    0    0    0      2  \n",
       "2    0    0    0    0    0      3  \n",
       "\n",
       "[3 rows x 47 columns]"
      ]
     },
     "execution_count": 11,
     "metadata": {},
     "output_type": "execute_result"
    }
   ],
   "source": [
    "### Dummy variable for description of premises of crime, street is the reference dummy\n",
    "premises = pd.get_dummies(data['PREM_TYP_DESC'])\n",
    "premises.head(3)\n",
    "premises = premises.drop('STREET', axis=1)\n",
    "##creates index to merge dataframes and sets disorderly conduct as reference dummy\n",
    "df['index'] = index\n",
    "premises['index'] = index\n",
    "df.head(3)"
   ]
  },
  {
   "cell_type": "code",
   "execution_count": 12,
   "id": "d8e06ac3",
   "metadata": {},
   "outputs": [
    {
     "data": {
      "text/plain": [
       "75"
      ]
     },
     "execution_count": 12,
     "metadata": {},
     "output_type": "execute_result"
    }
   ],
   "source": [
    "len(data['PREM_TYP_DESC'].unique())"
   ]
  },
  {
   "cell_type": "code",
   "execution_count": 13,
   "id": "6f9edd92",
   "metadata": {},
   "outputs": [],
   "source": [
    "df = pd.merge(left=df, right=premises, left_on='index', right_on='index')\n",
    "df = df.drop(['index'], axis=1)\n",
    "#df.head(3)"
   ]
  },
  {
   "cell_type": "code",
   "execution_count": 14,
   "id": "193a73d1",
   "metadata": {},
   "outputs": [
    {
     "data": {
      "text/html": [
       "<div>\n",
       "<style scoped>\n",
       "    .dataframe tbody tr th:only-of-type {\n",
       "        vertical-align: middle;\n",
       "    }\n",
       "\n",
       "    .dataframe tbody tr th {\n",
       "        vertical-align: top;\n",
       "    }\n",
       "\n",
       "    .dataframe thead th {\n",
       "        text-align: right;\n",
       "    }\n",
       "</style>\n",
       "<table border=\"1\" class=\"dataframe\">\n",
       "  <thead>\n",
       "    <tr style=\"text-align: right;\">\n",
       "      <th></th>\n",
       "      <th>crime_rate</th>\n",
       "      <th>PATROL_BORO</th>\n",
       "      <th>crime_diff</th>\n",
       "      <th>Latitude</th>\n",
       "      <th>Longitude</th>\n",
       "      <th>borough</th>\n",
       "      <th>felony</th>\n",
       "      <th>misdemeanor</th>\n",
       "      <th>completed</th>\n",
       "      <th>s_native</th>\n",
       "      <th>...</th>\n",
       "      <th>VARIETY STORE</th>\n",
       "      <th>VIDEO STORE</th>\n",
       "      <th>median_age</th>\n",
       "      <th>poverty_rate</th>\n",
       "      <th>unemployment_rate</th>\n",
       "      <th>educ</th>\n",
       "      <th>labor_part</th>\n",
       "      <th>hispanic_rate</th>\n",
       "      <th>black_rate</th>\n",
       "      <th>asian_rate</th>\n",
       "    </tr>\n",
       "  </thead>\n",
       "  <tbody>\n",
       "    <tr>\n",
       "      <th>0</th>\n",
       "      <td>322.95</td>\n",
       "      <td>PATROL BORO QUEENS NORTH</td>\n",
       "      <td>596.0</td>\n",
       "      <td>40.762334</td>\n",
       "      <td>-73.826917</td>\n",
       "      <td>queens</td>\n",
       "      <td>1</td>\n",
       "      <td>0</td>\n",
       "      <td>1</td>\n",
       "      <td>0</td>\n",
       "      <td>...</td>\n",
       "      <td>0</td>\n",
       "      <td>0</td>\n",
       "      <td>39.0</td>\n",
       "      <td>12.2</td>\n",
       "      <td>5.6</td>\n",
       "      <td>32.2</td>\n",
       "      <td>64.2</td>\n",
       "      <td>27.76</td>\n",
       "      <td>15.85</td>\n",
       "      <td>27.3</td>\n",
       "    </tr>\n",
       "    <tr>\n",
       "      <th>1</th>\n",
       "      <td>322.95</td>\n",
       "      <td>PATROL BORO QUEENS NORTH</td>\n",
       "      <td>364.0</td>\n",
       "      <td>40.769306</td>\n",
       "      <td>-73.915508</td>\n",
       "      <td>queens</td>\n",
       "      <td>0</td>\n",
       "      <td>1</td>\n",
       "      <td>1</td>\n",
       "      <td>0</td>\n",
       "      <td>...</td>\n",
       "      <td>0</td>\n",
       "      <td>0</td>\n",
       "      <td>39.0</td>\n",
       "      <td>12.2</td>\n",
       "      <td>5.6</td>\n",
       "      <td>32.2</td>\n",
       "      <td>64.2</td>\n",
       "      <td>27.76</td>\n",
       "      <td>15.85</td>\n",
       "      <td>27.3</td>\n",
       "    </tr>\n",
       "    <tr>\n",
       "      <th>2</th>\n",
       "      <td>322.95</td>\n",
       "      <td>PATROL BORO QUEENS NORTH</td>\n",
       "      <td>1047.0</td>\n",
       "      <td>40.717372</td>\n",
       "      <td>-73.900820</td>\n",
       "      <td>queens</td>\n",
       "      <td>0</td>\n",
       "      <td>1</td>\n",
       "      <td>1</td>\n",
       "      <td>0</td>\n",
       "      <td>...</td>\n",
       "      <td>0</td>\n",
       "      <td>0</td>\n",
       "      <td>39.0</td>\n",
       "      <td>12.2</td>\n",
       "      <td>5.6</td>\n",
       "      <td>32.2</td>\n",
       "      <td>64.2</td>\n",
       "      <td>27.76</td>\n",
       "      <td>15.85</td>\n",
       "      <td>27.3</td>\n",
       "    </tr>\n",
       "  </tbody>\n",
       "</table>\n",
       "<p>3 rows × 127 columns</p>\n",
       "</div>"
      ],
      "text/plain": [
       "   crime_rate               PATROL_BORO  crime_diff   Latitude  Longitude  \\\n",
       "0      322.95  PATROL BORO QUEENS NORTH       596.0  40.762334 -73.826917   \n",
       "1      322.95  PATROL BORO QUEENS NORTH       364.0  40.769306 -73.915508   \n",
       "2      322.95  PATROL BORO QUEENS NORTH      1047.0  40.717372 -73.900820   \n",
       "\n",
       "  borough  felony  misdemeanor  completed  s_native  ...  VARIETY STORE  \\\n",
       "0  queens       1            0          1         0  ...              0   \n",
       "1  queens       0            1          1         0  ...              0   \n",
       "2  queens       0            1          1         0  ...              0   \n",
       "\n",
       "   VIDEO STORE  median_age  poverty_rate  unemployment_rate  educ  labor_part  \\\n",
       "0            0        39.0          12.2                5.6  32.2        64.2   \n",
       "1            0        39.0          12.2                5.6  32.2        64.2   \n",
       "2            0        39.0          12.2                5.6  32.2        64.2   \n",
       "\n",
       "   hispanic_rate  black_rate  asian_rate  \n",
       "0          27.76       15.85        27.3  \n",
       "1          27.76       15.85        27.3  \n",
       "2          27.76       15.85        27.3  \n",
       "\n",
       "[3 rows x 127 columns]"
      ]
     },
     "execution_count": 14,
     "metadata": {},
     "output_type": "execute_result"
    }
   ],
   "source": [
    "econ = pd.read_csv('economic_indicators.csv')\n",
    "econ = econ.drop('Unnamed: 0', axis=1)\n",
    "#econ.head(3)\n",
    "df = pd.merge(left=df, right=econ, left_on='borough', right_on='borough')\n",
    "#df.head(3)\n",
    "#df = df.drop('borough', axis=1)\n",
    "df = df.drop('foreign_percent', axis=1)\n",
    "df.head(3)\n"
   ]
  },
  {
   "cell_type": "code",
   "execution_count": 15,
   "id": "27637109",
   "metadata": {},
   "outputs": [
    {
     "data": {
      "text/plain": [
       "1790832"
      ]
     },
     "execution_count": 15,
     "metadata": {},
     "output_type": "execute_result"
    }
   ],
   "source": [
    "len(df)"
   ]
  },
  {
   "cell_type": "code",
   "execution_count": 16,
   "id": "47e317fa",
   "metadata": {},
   "outputs": [
    {
     "data": {
      "text/html": [
       "<div>\n",
       "<style scoped>\n",
       "    .dataframe tbody tr th:only-of-type {\n",
       "        vertical-align: middle;\n",
       "    }\n",
       "\n",
       "    .dataframe tbody tr th {\n",
       "        vertical-align: top;\n",
       "    }\n",
       "\n",
       "    .dataframe thead th {\n",
       "        text-align: right;\n",
       "    }\n",
       "</style>\n",
       "<table border=\"1\" class=\"dataframe\">\n",
       "  <thead>\n",
       "    <tr style=\"text-align: right;\">\n",
       "      <th></th>\n",
       "      <th>crime_rate</th>\n",
       "      <th>crime_diff</th>\n",
       "      <th>median_age</th>\n",
       "      <th>poverty_rate</th>\n",
       "      <th>unemployment_rate</th>\n",
       "      <th>educ</th>\n",
       "      <th>hispanic_rate</th>\n",
       "      <th>black_rate</th>\n",
       "      <th>asian_rate</th>\n",
       "      <th>labor_part</th>\n",
       "    </tr>\n",
       "  </thead>\n",
       "  <tbody>\n",
       "    <tr>\n",
       "      <th>0</th>\n",
       "      <td>322.95</td>\n",
       "      <td>596.0</td>\n",
       "      <td>39.0</td>\n",
       "      <td>12.2</td>\n",
       "      <td>5.6</td>\n",
       "      <td>32.2</td>\n",
       "      <td>27.76</td>\n",
       "      <td>15.85</td>\n",
       "      <td>27.3</td>\n",
       "      <td>64.2</td>\n",
       "    </tr>\n",
       "    <tr>\n",
       "      <th>1</th>\n",
       "      <td>322.95</td>\n",
       "      <td>364.0</td>\n",
       "      <td>39.0</td>\n",
       "      <td>12.2</td>\n",
       "      <td>5.6</td>\n",
       "      <td>32.2</td>\n",
       "      <td>27.76</td>\n",
       "      <td>15.85</td>\n",
       "      <td>27.3</td>\n",
       "      <td>64.2</td>\n",
       "    </tr>\n",
       "    <tr>\n",
       "      <th>2</th>\n",
       "      <td>322.95</td>\n",
       "      <td>1047.0</td>\n",
       "      <td>39.0</td>\n",
       "      <td>12.2</td>\n",
       "      <td>5.6</td>\n",
       "      <td>32.2</td>\n",
       "      <td>27.76</td>\n",
       "      <td>15.85</td>\n",
       "      <td>27.3</td>\n",
       "      <td>64.2</td>\n",
       "    </tr>\n",
       "    <tr>\n",
       "      <th>3</th>\n",
       "      <td>322.95</td>\n",
       "      <td>364.0</td>\n",
       "      <td>39.0</td>\n",
       "      <td>12.2</td>\n",
       "      <td>5.6</td>\n",
       "      <td>32.2</td>\n",
       "      <td>27.76</td>\n",
       "      <td>15.85</td>\n",
       "      <td>27.3</td>\n",
       "      <td>64.2</td>\n",
       "    </tr>\n",
       "    <tr>\n",
       "      <th>4</th>\n",
       "      <td>322.95</td>\n",
       "      <td>585.0</td>\n",
       "      <td>39.0</td>\n",
       "      <td>12.2</td>\n",
       "      <td>5.6</td>\n",
       "      <td>32.2</td>\n",
       "      <td>27.76</td>\n",
       "      <td>15.85</td>\n",
       "      <td>27.3</td>\n",
       "      <td>64.2</td>\n",
       "    </tr>\n",
       "  </tbody>\n",
       "</table>\n",
       "</div>"
      ],
      "text/plain": [
       "   crime_rate  crime_diff  median_age  poverty_rate  unemployment_rate  educ  \\\n",
       "0      322.95       596.0        39.0          12.2                5.6  32.2   \n",
       "1      322.95       364.0        39.0          12.2                5.6  32.2   \n",
       "2      322.95      1047.0        39.0          12.2                5.6  32.2   \n",
       "3      322.95       364.0        39.0          12.2                5.6  32.2   \n",
       "4      322.95       585.0        39.0          12.2                5.6  32.2   \n",
       "\n",
       "   hispanic_rate  black_rate  asian_rate  labor_part  \n",
       "0          27.76       15.85        27.3        64.2  \n",
       "1          27.76       15.85        27.3        64.2  \n",
       "2          27.76       15.85        27.3        64.2  \n",
       "3          27.76       15.85        27.3        64.2  \n",
       "4          27.76       15.85        27.3        64.2  "
      ]
     },
     "execution_count": 16,
     "metadata": {},
     "output_type": "execute_result"
    }
   ],
   "source": [
    "pre_scale = df[['crime_rate','crime_diff','median_age','poverty_rate', 'unemployment_rate',  'educ', 'hispanic_rate', 'black_rate', 'asian_rate', 'labor_part']]\n",
    "df = df.drop(['crime_rate','crime_diff','median_age','poverty_rate', 'unemployment_rate',  'educ', 'hispanic_rate', 'black_rate', 'asian_rate', 'labor_part'],axis=1)\n",
    "pre_scale.head()"
   ]
  },
  {
   "cell_type": "code",
   "execution_count": 17,
   "id": "30ecb4ac",
   "metadata": {},
   "outputs": [
    {
     "data": {
      "text/html": [
       "<div>\n",
       "<style scoped>\n",
       "    .dataframe tbody tr th:only-of-type {\n",
       "        vertical-align: middle;\n",
       "    }\n",
       "\n",
       "    .dataframe tbody tr th {\n",
       "        vertical-align: top;\n",
       "    }\n",
       "\n",
       "    .dataframe thead th {\n",
       "        text-align: right;\n",
       "    }\n",
       "</style>\n",
       "<table border=\"1\" class=\"dataframe\">\n",
       "  <thead>\n",
       "    <tr style=\"text-align: right;\">\n",
       "      <th></th>\n",
       "      <th>0</th>\n",
       "      <th>1</th>\n",
       "      <th>2</th>\n",
       "      <th>3</th>\n",
       "      <th>4</th>\n",
       "      <th>5</th>\n",
       "      <th>6</th>\n",
       "      <th>7</th>\n",
       "      <th>8</th>\n",
       "      <th>9</th>\n",
       "    </tr>\n",
       "  </thead>\n",
       "  <tbody>\n",
       "    <tr>\n",
       "      <th>0</th>\n",
       "      <td>-1.278982</td>\n",
       "      <td>22.413513</td>\n",
       "      <td>1.252528</td>\n",
       "      <td>-1.054108</td>\n",
       "      <td>-0.538622</td>\n",
       "      <td>-0.434118</td>\n",
       "      <td>-0.146719</td>\n",
       "      <td>-0.636541</td>\n",
       "      <td>1.767097</td>\n",
       "      <td>0.23365</td>\n",
       "    </tr>\n",
       "    <tr>\n",
       "      <th>1</th>\n",
       "      <td>-1.278982</td>\n",
       "      <td>13.645411</td>\n",
       "      <td>1.252528</td>\n",
       "      <td>-1.054108</td>\n",
       "      <td>-0.538622</td>\n",
       "      <td>-0.434118</td>\n",
       "      <td>-0.146719</td>\n",
       "      <td>-0.636541</td>\n",
       "      <td>1.767097</td>\n",
       "      <td>0.23365</td>\n",
       "    </tr>\n",
       "    <tr>\n",
       "      <th>2</th>\n",
       "      <td>-1.278982</td>\n",
       "      <td>39.458402</td>\n",
       "      <td>1.252528</td>\n",
       "      <td>-1.054108</td>\n",
       "      <td>-0.538622</td>\n",
       "      <td>-0.434118</td>\n",
       "      <td>-0.146719</td>\n",
       "      <td>-0.636541</td>\n",
       "      <td>1.767097</td>\n",
       "      <td>0.23365</td>\n",
       "    </tr>\n",
       "    <tr>\n",
       "      <th>3</th>\n",
       "      <td>-1.278982</td>\n",
       "      <td>13.645411</td>\n",
       "      <td>1.252528</td>\n",
       "      <td>-1.054108</td>\n",
       "      <td>-0.538622</td>\n",
       "      <td>-0.434118</td>\n",
       "      <td>-0.146719</td>\n",
       "      <td>-0.636541</td>\n",
       "      <td>1.767097</td>\n",
       "      <td>0.23365</td>\n",
       "    </tr>\n",
       "    <tr>\n",
       "      <th>4</th>\n",
       "      <td>-1.278982</td>\n",
       "      <td>21.997784</td>\n",
       "      <td>1.252528</td>\n",
       "      <td>-1.054108</td>\n",
       "      <td>-0.538622</td>\n",
       "      <td>-0.434118</td>\n",
       "      <td>-0.146719</td>\n",
       "      <td>-0.636541</td>\n",
       "      <td>1.767097</td>\n",
       "      <td>0.23365</td>\n",
       "    </tr>\n",
       "  </tbody>\n",
       "</table>\n",
       "</div>"
      ],
      "text/plain": [
       "          0          1         2         3         4         5         6  \\\n",
       "0 -1.278982  22.413513  1.252528 -1.054108 -0.538622 -0.434118 -0.146719   \n",
       "1 -1.278982  13.645411  1.252528 -1.054108 -0.538622 -0.434118 -0.146719   \n",
       "2 -1.278982  39.458402  1.252528 -1.054108 -0.538622 -0.434118 -0.146719   \n",
       "3 -1.278982  13.645411  1.252528 -1.054108 -0.538622 -0.434118 -0.146719   \n",
       "4 -1.278982  21.997784  1.252528 -1.054108 -0.538622 -0.434118 -0.146719   \n",
       "\n",
       "          7         8        9  \n",
       "0 -0.636541  1.767097  0.23365  \n",
       "1 -0.636541  1.767097  0.23365  \n",
       "2 -0.636541  1.767097  0.23365  \n",
       "3 -0.636541  1.767097  0.23365  \n",
       "4 -0.636541  1.767097  0.23365  "
      ]
     },
     "execution_count": 17,
     "metadata": {},
     "output_type": "execute_result"
    }
   ],
   "source": [
    "scaler = preprocessing.StandardScaler()\n",
    "scaled = pd.DataFrame(scaler.fit_transform(pre_scale))\n",
    "scaled.head()"
   ]
  },
  {
   "cell_type": "code",
   "execution_count": 16,
   "id": "10329233",
   "metadata": {},
   "outputs": [],
   "source": [
    "scaled = scaled.rename(columns={0:'crime_rate',1:'crime_diff',2: \"median_age\", 3: \"poverty_rate\", 4: \"unemployment_rate\",5: \"educ\",\n",
    "                       6: \"hispanic_rate\",7: \"black_rate\",8: \"asian_rate\", 9:\"labor_part\"})"
   ]
  },
  {
   "cell_type": "code",
   "execution_count": 18,
   "id": "3ff8ea97",
   "metadata": {},
   "outputs": [
    {
     "data": {
      "text/plain": [
       "1790832"
      ]
     },
     "execution_count": 18,
     "metadata": {},
     "output_type": "execute_result"
    }
   ],
   "source": [
    "len(df)"
   ]
  },
  {
   "cell_type": "code",
   "execution_count": 19,
   "id": "a5a8b3d1",
   "metadata": {},
   "outputs": [],
   "source": [
    "len(scaled)\n",
    "index = list(range(1, 1790832+1))\n",
    "df['index'] = index\n",
    "scaled['index'] = index"
   ]
  },
  {
   "cell_type": "code",
   "execution_count": 20,
   "id": "edb4ca30",
   "metadata": {},
   "outputs": [
    {
     "data": {
      "text/html": [
       "<div>\n",
       "<style scoped>\n",
       "    .dataframe tbody tr th:only-of-type {\n",
       "        vertical-align: middle;\n",
       "    }\n",
       "\n",
       "    .dataframe tbody tr th {\n",
       "        vertical-align: top;\n",
       "    }\n",
       "\n",
       "    .dataframe thead th {\n",
       "        text-align: right;\n",
       "    }\n",
       "</style>\n",
       "<table border=\"1\" class=\"dataframe\">\n",
       "  <thead>\n",
       "    <tr style=\"text-align: right;\">\n",
       "      <th></th>\n",
       "      <th>PATROL_BORO</th>\n",
       "      <th>Latitude</th>\n",
       "      <th>Longitude</th>\n",
       "      <th>borough</th>\n",
       "      <th>felony</th>\n",
       "      <th>misdemeanor</th>\n",
       "      <th>completed</th>\n",
       "      <th>s_native</th>\n",
       "      <th>s_apac</th>\n",
       "      <th>s_black</th>\n",
       "      <th>...</th>\n",
       "      <th>0</th>\n",
       "      <th>1</th>\n",
       "      <th>2</th>\n",
       "      <th>3</th>\n",
       "      <th>4</th>\n",
       "      <th>5</th>\n",
       "      <th>6</th>\n",
       "      <th>7</th>\n",
       "      <th>8</th>\n",
       "      <th>9</th>\n",
       "    </tr>\n",
       "  </thead>\n",
       "  <tbody>\n",
       "    <tr>\n",
       "      <th>0</th>\n",
       "      <td>PATROL BORO QUEENS NORTH</td>\n",
       "      <td>40.762334</td>\n",
       "      <td>-73.826917</td>\n",
       "      <td>queens</td>\n",
       "      <td>1</td>\n",
       "      <td>0</td>\n",
       "      <td>1</td>\n",
       "      <td>0</td>\n",
       "      <td>1</td>\n",
       "      <td>0</td>\n",
       "      <td>...</td>\n",
       "      <td>-1.278982</td>\n",
       "      <td>22.413513</td>\n",
       "      <td>1.252528</td>\n",
       "      <td>-1.054108</td>\n",
       "      <td>-0.538622</td>\n",
       "      <td>-0.434118</td>\n",
       "      <td>-0.146719</td>\n",
       "      <td>-0.636541</td>\n",
       "      <td>1.767097</td>\n",
       "      <td>0.23365</td>\n",
       "    </tr>\n",
       "    <tr>\n",
       "      <th>1</th>\n",
       "      <td>PATROL BORO QUEENS NORTH</td>\n",
       "      <td>40.769306</td>\n",
       "      <td>-73.915508</td>\n",
       "      <td>queens</td>\n",
       "      <td>0</td>\n",
       "      <td>1</td>\n",
       "      <td>1</td>\n",
       "      <td>0</td>\n",
       "      <td>0</td>\n",
       "      <td>1</td>\n",
       "      <td>...</td>\n",
       "      <td>-1.278982</td>\n",
       "      <td>13.645411</td>\n",
       "      <td>1.252528</td>\n",
       "      <td>-1.054108</td>\n",
       "      <td>-0.538622</td>\n",
       "      <td>-0.434118</td>\n",
       "      <td>-0.146719</td>\n",
       "      <td>-0.636541</td>\n",
       "      <td>1.767097</td>\n",
       "      <td>0.23365</td>\n",
       "    </tr>\n",
       "    <tr>\n",
       "      <th>2</th>\n",
       "      <td>PATROL BORO QUEENS NORTH</td>\n",
       "      <td>40.717372</td>\n",
       "      <td>-73.900820</td>\n",
       "      <td>queens</td>\n",
       "      <td>0</td>\n",
       "      <td>1</td>\n",
       "      <td>1</td>\n",
       "      <td>0</td>\n",
       "      <td>0</td>\n",
       "      <td>0</td>\n",
       "      <td>...</td>\n",
       "      <td>-1.278982</td>\n",
       "      <td>39.458402</td>\n",
       "      <td>1.252528</td>\n",
       "      <td>-1.054108</td>\n",
       "      <td>-0.538622</td>\n",
       "      <td>-0.434118</td>\n",
       "      <td>-0.146719</td>\n",
       "      <td>-0.636541</td>\n",
       "      <td>1.767097</td>\n",
       "      <td>0.23365</td>\n",
       "    </tr>\n",
       "    <tr>\n",
       "      <th>3</th>\n",
       "      <td>PATROL BORO QUEENS SOUTH</td>\n",
       "      <td>40.679700</td>\n",
       "      <td>-73.776047</td>\n",
       "      <td>queens</td>\n",
       "      <td>1</td>\n",
       "      <td>0</td>\n",
       "      <td>1</td>\n",
       "      <td>0</td>\n",
       "      <td>0</td>\n",
       "      <td>0</td>\n",
       "      <td>...</td>\n",
       "      <td>-1.278982</td>\n",
       "      <td>13.645411</td>\n",
       "      <td>1.252528</td>\n",
       "      <td>-1.054108</td>\n",
       "      <td>-0.538622</td>\n",
       "      <td>-0.434118</td>\n",
       "      <td>-0.146719</td>\n",
       "      <td>-0.636541</td>\n",
       "      <td>1.767097</td>\n",
       "      <td>0.23365</td>\n",
       "    </tr>\n",
       "    <tr>\n",
       "      <th>4</th>\n",
       "      <td>PATROL BORO QUEENS NORTH</td>\n",
       "      <td>40.745253</td>\n",
       "      <td>-73.870063</td>\n",
       "      <td>queens</td>\n",
       "      <td>0</td>\n",
       "      <td>1</td>\n",
       "      <td>1</td>\n",
       "      <td>0</td>\n",
       "      <td>0</td>\n",
       "      <td>1</td>\n",
       "      <td>...</td>\n",
       "      <td>-1.278982</td>\n",
       "      <td>21.997784</td>\n",
       "      <td>1.252528</td>\n",
       "      <td>-1.054108</td>\n",
       "      <td>-0.538622</td>\n",
       "      <td>-0.434118</td>\n",
       "      <td>-0.146719</td>\n",
       "      <td>-0.636541</td>\n",
       "      <td>1.767097</td>\n",
       "      <td>0.23365</td>\n",
       "    </tr>\n",
       "  </tbody>\n",
       "</table>\n",
       "<p>5 rows × 127 columns</p>\n",
       "</div>"
      ],
      "text/plain": [
       "                PATROL_BORO   Latitude  Longitude borough  felony  \\\n",
       "0  PATROL BORO QUEENS NORTH  40.762334 -73.826917  queens       1   \n",
       "1  PATROL BORO QUEENS NORTH  40.769306 -73.915508  queens       0   \n",
       "2  PATROL BORO QUEENS NORTH  40.717372 -73.900820  queens       0   \n",
       "3  PATROL BORO QUEENS SOUTH  40.679700 -73.776047  queens       1   \n",
       "4  PATROL BORO QUEENS NORTH  40.745253 -73.870063  queens       0   \n",
       "\n",
       "   misdemeanor  completed  s_native  s_apac  s_black  ...         0  \\\n",
       "0            0          1         0       1        0  ... -1.278982   \n",
       "1            1          1         0       0        1  ... -1.278982   \n",
       "2            1          1         0       0        0  ... -1.278982   \n",
       "3            0          1         0       0        0  ... -1.278982   \n",
       "4            1          1         0       0        1  ... -1.278982   \n",
       "\n",
       "           1         2         3         4         5         6         7  \\\n",
       "0  22.413513  1.252528 -1.054108 -0.538622 -0.434118 -0.146719 -0.636541   \n",
       "1  13.645411  1.252528 -1.054108 -0.538622 -0.434118 -0.146719 -0.636541   \n",
       "2  39.458402  1.252528 -1.054108 -0.538622 -0.434118 -0.146719 -0.636541   \n",
       "3  13.645411  1.252528 -1.054108 -0.538622 -0.434118 -0.146719 -0.636541   \n",
       "4  21.997784  1.252528 -1.054108 -0.538622 -0.434118 -0.146719 -0.636541   \n",
       "\n",
       "          8        9  \n",
       "0  1.767097  0.23365  \n",
       "1  1.767097  0.23365  \n",
       "2  1.767097  0.23365  \n",
       "3  1.767097  0.23365  \n",
       "4  1.767097  0.23365  \n",
       "\n",
       "[5 rows x 127 columns]"
      ]
     },
     "execution_count": 20,
     "metadata": {},
     "output_type": "execute_result"
    }
   ],
   "source": [
    "df = pd.merge(left=df, right=scaled, left_on='index', right_on='index')\n",
    "df = df.drop('index', axis=1)\n",
    "df.head()"
   ]
  },
  {
   "cell_type": "code",
   "execution_count": null,
   "id": "963ec457",
   "metadata": {},
   "outputs": [],
   "source": [
    "################################################################################################################################"
   ]
  },
  {
   "cell_type": "code",
   "execution_count": 23,
   "id": "4b8dd186",
   "metadata": {},
   "outputs": [
    {
     "data": {
      "text/plain": [
       "PATROL BORO QUEENS NORTH    187377\n",
       "PATROL BORO QUEENS SOUTH    173091\n",
       "Name: PATROL_BORO, dtype: int64"
      ]
     },
     "execution_count": 23,
     "metadata": {},
     "output_type": "execute_result"
    }
   ],
   "source": [
    "queens = df[df['borough']=='queens']\n",
    "queens = queens.drop(['borough','Latitude','Longitude'], axis=1)\n",
    "#queens.head()\n",
    "queens['PATROL_BORO'].value_counts()"
   ]
  },
  {
   "cell_type": "code",
   "execution_count": 19,
   "id": "92312ece",
   "metadata": {},
   "outputs": [
    {
     "data": {
      "text/plain": [
       "360468"
      ]
     },
     "execution_count": 19,
     "metadata": {},
     "output_type": "execute_result"
    }
   ],
   "source": [
    "len(queens)"
   ]
  },
  {
   "cell_type": "code",
   "execution_count": 20,
   "id": "aeb24165",
   "metadata": {},
   "outputs": [
    {
     "data": {
      "text/html": [
       "<div>\n",
       "<style scoped>\n",
       "    .dataframe tbody tr th:only-of-type {\n",
       "        vertical-align: middle;\n",
       "    }\n",
       "\n",
       "    .dataframe tbody tr th {\n",
       "        vertical-align: top;\n",
       "    }\n",
       "\n",
       "    .dataframe thead th {\n",
       "        text-align: right;\n",
       "    }\n",
       "</style>\n",
       "<table border=\"1\" class=\"dataframe\">\n",
       "  <thead>\n",
       "    <tr style=\"text-align: right;\">\n",
       "      <th></th>\n",
       "      <th>PATROL_BORO</th>\n",
       "      <th>felony</th>\n",
       "      <th>misdemeanor</th>\n",
       "      <th>completed</th>\n",
       "      <th>s_native</th>\n",
       "      <th>s_apac</th>\n",
       "      <th>s_black</th>\n",
       "      <th>s_bl_hisp</th>\n",
       "      <th>s_white</th>\n",
       "      <th>s_white_hisp</th>\n",
       "      <th>...</th>\n",
       "      <th>crime_diff</th>\n",
       "      <th>median_age</th>\n",
       "      <th>poverty_rate</th>\n",
       "      <th>unemployment_rate</th>\n",
       "      <th>educ</th>\n",
       "      <th>hispanic_rate</th>\n",
       "      <th>black_rate</th>\n",
       "      <th>asian_rate</th>\n",
       "      <th>labor_part</th>\n",
       "      <th>index</th>\n",
       "    </tr>\n",
       "  </thead>\n",
       "  <tbody>\n",
       "    <tr>\n",
       "      <th>0</th>\n",
       "      <td>PATROL BORO QUEENS NORTH</td>\n",
       "      <td>1</td>\n",
       "      <td>0</td>\n",
       "      <td>1</td>\n",
       "      <td>0</td>\n",
       "      <td>1</td>\n",
       "      <td>0</td>\n",
       "      <td>0</td>\n",
       "      <td>0</td>\n",
       "      <td>0</td>\n",
       "      <td>...</td>\n",
       "      <td>22.413513</td>\n",
       "      <td>1.252528</td>\n",
       "      <td>-1.054108</td>\n",
       "      <td>-0.538622</td>\n",
       "      <td>-0.434118</td>\n",
       "      <td>-0.146719</td>\n",
       "      <td>-0.636541</td>\n",
       "      <td>1.767097</td>\n",
       "      <td>0.23365</td>\n",
       "      <td>1</td>\n",
       "    </tr>\n",
       "  </tbody>\n",
       "</table>\n",
       "<p>1 rows × 125 columns</p>\n",
       "</div>"
      ],
      "text/plain": [
       "                PATROL_BORO  felony  misdemeanor  completed  s_native  s_apac  \\\n",
       "0  PATROL BORO QUEENS NORTH       1            0          1         0       1   \n",
       "\n",
       "   s_black  s_bl_hisp  s_white  s_white_hisp  ...  crime_diff  median_age  \\\n",
       "0        0          0        0             0  ...   22.413513    1.252528   \n",
       "\n",
       "   poverty_rate  unemployment_rate      educ  hispanic_rate  black_rate  \\\n",
       "0     -1.054108          -0.538622 -0.434118      -0.146719   -0.636541   \n",
       "\n",
       "   asian_rate  labor_part  index  \n",
       "0    1.767097     0.23365      1  \n",
       "\n",
       "[1 rows x 125 columns]"
      ]
     },
     "execution_count": 20,
     "metadata": {},
     "output_type": "execute_result"
    }
   ],
   "source": [
    "queens['index'] = index[:360468]\n",
    "queens.head(1)"
   ]
  },
  {
   "cell_type": "code",
   "execution_count": 21,
   "id": "93237d7b",
   "metadata": {},
   "outputs": [
    {
     "data": {
      "text/html": [
       "<div>\n",
       "<style scoped>\n",
       "    .dataframe tbody tr th:only-of-type {\n",
       "        vertical-align: middle;\n",
       "    }\n",
       "\n",
       "    .dataframe tbody tr th {\n",
       "        vertical-align: top;\n",
       "    }\n",
       "\n",
       "    .dataframe thead th {\n",
       "        text-align: right;\n",
       "    }\n",
       "</style>\n",
       "<table border=\"1\" class=\"dataframe\">\n",
       "  <thead>\n",
       "    <tr style=\"text-align: right;\">\n",
       "      <th></th>\n",
       "      <th>felony</th>\n",
       "      <th>misdemeanor</th>\n",
       "      <th>completed</th>\n",
       "      <th>s_native</th>\n",
       "      <th>s_apac</th>\n",
       "      <th>s_black</th>\n",
       "      <th>s_bl_hisp</th>\n",
       "      <th>s_white</th>\n",
       "      <th>s_white_hisp</th>\n",
       "      <th>s_u18</th>\n",
       "      <th>...</th>\n",
       "      <th>crime_diff</th>\n",
       "      <th>median_age</th>\n",
       "      <th>poverty_rate</th>\n",
       "      <th>unemployment_rate</th>\n",
       "      <th>educ</th>\n",
       "      <th>hispanic_rate</th>\n",
       "      <th>black_rate</th>\n",
       "      <th>asian_rate</th>\n",
       "      <th>labor_part</th>\n",
       "      <th>PATROL BORO QUEENS NORTH</th>\n",
       "    </tr>\n",
       "  </thead>\n",
       "  <tbody>\n",
       "    <tr>\n",
       "      <th>0</th>\n",
       "      <td>1</td>\n",
       "      <td>0</td>\n",
       "      <td>1</td>\n",
       "      <td>0</td>\n",
       "      <td>1</td>\n",
       "      <td>0</td>\n",
       "      <td>0</td>\n",
       "      <td>0</td>\n",
       "      <td>0</td>\n",
       "      <td>0</td>\n",
       "      <td>...</td>\n",
       "      <td>22.413513</td>\n",
       "      <td>1.252528</td>\n",
       "      <td>-1.054108</td>\n",
       "      <td>-0.538622</td>\n",
       "      <td>-0.434118</td>\n",
       "      <td>-0.146719</td>\n",
       "      <td>-0.636541</td>\n",
       "      <td>1.767097</td>\n",
       "      <td>0.23365</td>\n",
       "      <td>1</td>\n",
       "    </tr>\n",
       "    <tr>\n",
       "      <th>1</th>\n",
       "      <td>0</td>\n",
       "      <td>1</td>\n",
       "      <td>1</td>\n",
       "      <td>0</td>\n",
       "      <td>0</td>\n",
       "      <td>1</td>\n",
       "      <td>0</td>\n",
       "      <td>0</td>\n",
       "      <td>0</td>\n",
       "      <td>0</td>\n",
       "      <td>...</td>\n",
       "      <td>13.645411</td>\n",
       "      <td>1.252528</td>\n",
       "      <td>-1.054108</td>\n",
       "      <td>-0.538622</td>\n",
       "      <td>-0.434118</td>\n",
       "      <td>-0.146719</td>\n",
       "      <td>-0.636541</td>\n",
       "      <td>1.767097</td>\n",
       "      <td>0.23365</td>\n",
       "      <td>1</td>\n",
       "    </tr>\n",
       "    <tr>\n",
       "      <th>2</th>\n",
       "      <td>0</td>\n",
       "      <td>1</td>\n",
       "      <td>1</td>\n",
       "      <td>0</td>\n",
       "      <td>0</td>\n",
       "      <td>0</td>\n",
       "      <td>0</td>\n",
       "      <td>0</td>\n",
       "      <td>0</td>\n",
       "      <td>0</td>\n",
       "      <td>...</td>\n",
       "      <td>39.458402</td>\n",
       "      <td>1.252528</td>\n",
       "      <td>-1.054108</td>\n",
       "      <td>-0.538622</td>\n",
       "      <td>-0.434118</td>\n",
       "      <td>-0.146719</td>\n",
       "      <td>-0.636541</td>\n",
       "      <td>1.767097</td>\n",
       "      <td>0.23365</td>\n",
       "      <td>1</td>\n",
       "    </tr>\n",
       "    <tr>\n",
       "      <th>3</th>\n",
       "      <td>1</td>\n",
       "      <td>0</td>\n",
       "      <td>1</td>\n",
       "      <td>0</td>\n",
       "      <td>0</td>\n",
       "      <td>0</td>\n",
       "      <td>0</td>\n",
       "      <td>0</td>\n",
       "      <td>0</td>\n",
       "      <td>0</td>\n",
       "      <td>...</td>\n",
       "      <td>13.645411</td>\n",
       "      <td>1.252528</td>\n",
       "      <td>-1.054108</td>\n",
       "      <td>-0.538622</td>\n",
       "      <td>-0.434118</td>\n",
       "      <td>-0.146719</td>\n",
       "      <td>-0.636541</td>\n",
       "      <td>1.767097</td>\n",
       "      <td>0.23365</td>\n",
       "      <td>0</td>\n",
       "    </tr>\n",
       "    <tr>\n",
       "      <th>4</th>\n",
       "      <td>0</td>\n",
       "      <td>1</td>\n",
       "      <td>1</td>\n",
       "      <td>0</td>\n",
       "      <td>0</td>\n",
       "      <td>1</td>\n",
       "      <td>0</td>\n",
       "      <td>0</td>\n",
       "      <td>0</td>\n",
       "      <td>1</td>\n",
       "      <td>...</td>\n",
       "      <td>21.997784</td>\n",
       "      <td>1.252528</td>\n",
       "      <td>-1.054108</td>\n",
       "      <td>-0.538622</td>\n",
       "      <td>-0.434118</td>\n",
       "      <td>-0.146719</td>\n",
       "      <td>-0.636541</td>\n",
       "      <td>1.767097</td>\n",
       "      <td>0.23365</td>\n",
       "      <td>1</td>\n",
       "    </tr>\n",
       "  </tbody>\n",
       "</table>\n",
       "<p>5 rows × 124 columns</p>\n",
       "</div>"
      ],
      "text/plain": [
       "   felony  misdemeanor  completed  s_native  s_apac  s_black  s_bl_hisp  \\\n",
       "0       1            0          1         0       1        0          0   \n",
       "1       0            1          1         0       0        1          0   \n",
       "2       0            1          1         0       0        0          0   \n",
       "3       1            0          1         0       0        0          0   \n",
       "4       0            1          1         0       0        1          0   \n",
       "\n",
       "   s_white  s_white_hisp  s_u18  ...  crime_diff  median_age  poverty_rate  \\\n",
       "0        0             0      0  ...   22.413513    1.252528     -1.054108   \n",
       "1        0             0      0  ...   13.645411    1.252528     -1.054108   \n",
       "2        0             0      0  ...   39.458402    1.252528     -1.054108   \n",
       "3        0             0      0  ...   13.645411    1.252528     -1.054108   \n",
       "4        0             0      1  ...   21.997784    1.252528     -1.054108   \n",
       "\n",
       "   unemployment_rate      educ  hispanic_rate  black_rate  asian_rate  \\\n",
       "0          -0.538622 -0.434118      -0.146719   -0.636541    1.767097   \n",
       "1          -0.538622 -0.434118      -0.146719   -0.636541    1.767097   \n",
       "2          -0.538622 -0.434118      -0.146719   -0.636541    1.767097   \n",
       "3          -0.538622 -0.434118      -0.146719   -0.636541    1.767097   \n",
       "4          -0.538622 -0.434118      -0.146719   -0.636541    1.767097   \n",
       "\n",
       "   labor_part  PATROL BORO QUEENS NORTH  \n",
       "0     0.23365                         1  \n",
       "1     0.23365                         1  \n",
       "2     0.23365                         1  \n",
       "3     0.23365                         0  \n",
       "4     0.23365                         1  \n",
       "\n",
       "[5 rows x 124 columns]"
      ]
     },
     "execution_count": 21,
     "metadata": {},
     "output_type": "execute_result"
    }
   ],
   "source": [
    "queens_d = pd.get_dummies(queens['PATROL_BORO'])\n",
    "queens_d = queens_d.drop('PATROL BORO QUEENS SOUTH', axis=1) #####NORTH WILL BE REFERENCE FOR LOGISTIC\n",
    "queens_d['index'] = index[:360468]\n",
    "queens = pd.merge(left=queens, right=queens_d, left_on='index', right_on='index')\n",
    "queens = queens.drop(['PATROL_BORO', 'index'], axis=1)\n",
    "queens.head()"
   ]
  },
  {
   "cell_type": "code",
   "execution_count": null,
   "id": "e6856312",
   "metadata": {},
   "outputs": [],
   "source": [
    "################################################################################################################################"
   ]
  },
  {
   "cell_type": "code",
   "execution_count": 22,
   "id": "1bb13730",
   "metadata": {},
   "outputs": [],
   "source": [
    "queens = queens.dropna()\n"
   ]
  },
  {
   "cell_type": "code",
   "execution_count": null,
   "id": "bc63d488",
   "metadata": {},
   "outputs": [],
   "source": [
    "################################################################################################################################"
   ]
  },
  {
   "cell_type": "code",
   "execution_count": 23,
   "id": "33c90060",
   "metadata": {},
   "outputs": [],
   "source": [
    "y = np.array(queens['PATROL BORO QUEENS NORTH'])\n",
    "queens = queens.drop('PATROL BORO QUEENS NORTH', axis=1)\n",
    "queens.head(3)\n",
    "Xtilde = np.array(queens)\n",
    "#Xtilde[0]"
   ]
  },
  {
   "cell_type": "code",
   "execution_count": 24,
   "id": "262525b1",
   "metadata": {},
   "outputs": [
    {
     "data": {
      "text/html": [
       "<div>\n",
       "<style scoped>\n",
       "    .dataframe tbody tr th:only-of-type {\n",
       "        vertical-align: middle;\n",
       "    }\n",
       "\n",
       "    .dataframe tbody tr th {\n",
       "        vertical-align: top;\n",
       "    }\n",
       "\n",
       "    .dataframe thead th {\n",
       "        text-align: right;\n",
       "    }\n",
       "</style>\n",
       "<table border=\"1\" class=\"dataframe\">\n",
       "  <thead>\n",
       "    <tr style=\"text-align: right;\">\n",
       "      <th></th>\n",
       "      <th>felony</th>\n",
       "      <th>misdemeanor</th>\n",
       "      <th>completed</th>\n",
       "      <th>s_native</th>\n",
       "      <th>s_apac</th>\n",
       "      <th>s_black</th>\n",
       "      <th>s_bl_hisp</th>\n",
       "      <th>s_white</th>\n",
       "      <th>s_white_hisp</th>\n",
       "      <th>s_u18</th>\n",
       "      <th>...</th>\n",
       "      <th>crime_rate</th>\n",
       "      <th>crime_diff</th>\n",
       "      <th>median_age</th>\n",
       "      <th>poverty_rate</th>\n",
       "      <th>unemployment_rate</th>\n",
       "      <th>educ</th>\n",
       "      <th>hispanic_rate</th>\n",
       "      <th>black_rate</th>\n",
       "      <th>asian_rate</th>\n",
       "      <th>labor_part</th>\n",
       "    </tr>\n",
       "  </thead>\n",
       "  <tbody>\n",
       "    <tr>\n",
       "      <th>0</th>\n",
       "      <td>1</td>\n",
       "      <td>0</td>\n",
       "      <td>1</td>\n",
       "      <td>0</td>\n",
       "      <td>1</td>\n",
       "      <td>0</td>\n",
       "      <td>0</td>\n",
       "      <td>0</td>\n",
       "      <td>0</td>\n",
       "      <td>0</td>\n",
       "      <td>...</td>\n",
       "      <td>-1.278982</td>\n",
       "      <td>22.413513</td>\n",
       "      <td>1.252528</td>\n",
       "      <td>-1.054108</td>\n",
       "      <td>-0.538622</td>\n",
       "      <td>-0.434118</td>\n",
       "      <td>-0.146719</td>\n",
       "      <td>-0.636541</td>\n",
       "      <td>1.767097</td>\n",
       "      <td>0.23365</td>\n",
       "    </tr>\n",
       "    <tr>\n",
       "      <th>1</th>\n",
       "      <td>0</td>\n",
       "      <td>1</td>\n",
       "      <td>1</td>\n",
       "      <td>0</td>\n",
       "      <td>0</td>\n",
       "      <td>1</td>\n",
       "      <td>0</td>\n",
       "      <td>0</td>\n",
       "      <td>0</td>\n",
       "      <td>0</td>\n",
       "      <td>...</td>\n",
       "      <td>-1.278982</td>\n",
       "      <td>13.645411</td>\n",
       "      <td>1.252528</td>\n",
       "      <td>-1.054108</td>\n",
       "      <td>-0.538622</td>\n",
       "      <td>-0.434118</td>\n",
       "      <td>-0.146719</td>\n",
       "      <td>-0.636541</td>\n",
       "      <td>1.767097</td>\n",
       "      <td>0.23365</td>\n",
       "    </tr>\n",
       "    <tr>\n",
       "      <th>2</th>\n",
       "      <td>0</td>\n",
       "      <td>1</td>\n",
       "      <td>1</td>\n",
       "      <td>0</td>\n",
       "      <td>0</td>\n",
       "      <td>0</td>\n",
       "      <td>0</td>\n",
       "      <td>0</td>\n",
       "      <td>0</td>\n",
       "      <td>0</td>\n",
       "      <td>...</td>\n",
       "      <td>-1.278982</td>\n",
       "      <td>39.458402</td>\n",
       "      <td>1.252528</td>\n",
       "      <td>-1.054108</td>\n",
       "      <td>-0.538622</td>\n",
       "      <td>-0.434118</td>\n",
       "      <td>-0.146719</td>\n",
       "      <td>-0.636541</td>\n",
       "      <td>1.767097</td>\n",
       "      <td>0.23365</td>\n",
       "    </tr>\n",
       "  </tbody>\n",
       "</table>\n",
       "<p>3 rows × 123 columns</p>\n",
       "</div>"
      ],
      "text/plain": [
       "   felony  misdemeanor  completed  s_native  s_apac  s_black  s_bl_hisp  \\\n",
       "0       1            0          1         0       1        0          0   \n",
       "1       0            1          1         0       0        1          0   \n",
       "2       0            1          1         0       0        0          0   \n",
       "\n",
       "   s_white  s_white_hisp  s_u18  ...  crime_rate  crime_diff  median_age  \\\n",
       "0        0             0      0  ...   -1.278982   22.413513    1.252528   \n",
       "1        0             0      0  ...   -1.278982   13.645411    1.252528   \n",
       "2        0             0      0  ...   -1.278982   39.458402    1.252528   \n",
       "\n",
       "   poverty_rate  unemployment_rate      educ  hispanic_rate  black_rate  \\\n",
       "0     -1.054108          -0.538622 -0.434118      -0.146719   -0.636541   \n",
       "1     -1.054108          -0.538622 -0.434118      -0.146719   -0.636541   \n",
       "2     -1.054108          -0.538622 -0.434118      -0.146719   -0.636541   \n",
       "\n",
       "   asian_rate  labor_part  \n",
       "0    1.767097     0.23365  \n",
       "1    1.767097     0.23365  \n",
       "2    1.767097     0.23365  \n",
       "\n",
       "[3 rows x 123 columns]"
      ]
     },
     "execution_count": 24,
     "metadata": {},
     "output_type": "execute_result"
    }
   ],
   "source": [
    "queens.head(3)"
   ]
  },
  {
   "cell_type": "markdown",
   "id": "f8857fa1",
   "metadata": {},
   "source": [
    "# Queens Analysis\n",
    "## Logistic regression with L1 (\"LASSO\") Penalty\n",
    "\n",
    "### Test different C's for regularization strength"
   ]
  },
  {
   "cell_type": "code",
   "execution_count": 109,
   "id": "16482b17",
   "metadata": {},
   "outputs": [],
   "source": [
    "(Xt ,Xv ,Yt ,Yv)= train_test_split (Xtilde ,y, test_size =0.3 , random_state =0, shuffle = True)"
   ]
  },
  {
   "cell_type": "code",
   "execution_count": 110,
   "id": "8565370d",
   "metadata": {},
   "outputs": [
    {
     "data": {
      "text/plain": [
       "LogisticRegression(C=10.0, penalty='l1', solver='liblinear')"
      ]
     },
     "execution_count": 110,
     "metadata": {},
     "output_type": "execute_result"
    }
   ],
   "source": [
    "log = LogisticRegression(penalty='l1', solver='liblinear', C=10.0)\n",
    "log.fit(Xt, Yt)"
   ]
  },
  {
   "cell_type": "code",
   "execution_count": 111,
   "id": "0970fde2",
   "metadata": {},
   "outputs": [
    {
     "data": {
      "text/plain": [
       "array([0.03447771])"
      ]
     },
     "execution_count": 111,
     "metadata": {},
     "output_type": "execute_result"
    }
   ],
   "source": [
    "log.intercept_"
   ]
  },
  {
   "cell_type": "code",
   "execution_count": 112,
   "id": "b2e0f346",
   "metadata": {},
   "outputs": [
    {
     "data": {
      "text/plain": [
       "123"
      ]
     },
     "execution_count": 112,
     "metadata": {},
     "output_type": "execute_result"
    }
   ],
   "source": [
    "len(log.coef_[0])"
   ]
  },
  {
   "cell_type": "code",
   "execution_count": 113,
   "id": "86317a0b",
   "metadata": {},
   "outputs": [],
   "source": [
    "logit_coefs = pd.DataFrame(queens.columns)\n",
    "logit_coefs['coefs'] = log.coef_[0]\n",
    "logit_coefs['column_names'] = logit_coefs[0]\n",
    "logit_coefs['abs_coefs'] = abs(logit_coefs['coefs'])\n",
    "logit_coefs = logit_coefs.drop(0, axis=1)"
   ]
  },
  {
   "cell_type": "code",
   "execution_count": 114,
   "id": "8f70d4c7",
   "metadata": {},
   "outputs": [
    {
     "data": {
      "text/html": [
       "<div>\n",
       "<style scoped>\n",
       "    .dataframe tbody tr th:only-of-type {\n",
       "        vertical-align: middle;\n",
       "    }\n",
       "\n",
       "    .dataframe tbody tr th {\n",
       "        vertical-align: top;\n",
       "    }\n",
       "\n",
       "    .dataframe thead th {\n",
       "        text-align: right;\n",
       "    }\n",
       "</style>\n",
       "<table border=\"1\" class=\"dataframe\">\n",
       "  <thead>\n",
       "    <tr style=\"text-align: right;\">\n",
       "      <th></th>\n",
       "      <th>coefs</th>\n",
       "      <th>column_names</th>\n",
       "      <th>abs_coefs</th>\n",
       "    </tr>\n",
       "  </thead>\n",
       "  <tbody>\n",
       "    <tr>\n",
       "      <th>0</th>\n",
       "      <td>-0.152236</td>\n",
       "      <td>felony</td>\n",
       "      <td>0.152236</td>\n",
       "    </tr>\n",
       "  </tbody>\n",
       "</table>\n",
       "</div>"
      ],
      "text/plain": [
       "      coefs column_names  abs_coefs\n",
       "0 -0.152236       felony   0.152236"
      ]
     },
     "execution_count": 114,
     "metadata": {},
     "output_type": "execute_result"
    }
   ],
   "source": [
    "logit_coefs.head(1)"
   ]
  },
  {
   "cell_type": "code",
   "execution_count": 115,
   "id": "194af551",
   "metadata": {},
   "outputs": [
    {
     "data": {
      "text/plain": [
       "['TRAMWAY',\n",
       " 'DEPARTMENT STORE',\n",
       " 'HOMELESS SHELTER',\n",
       " 'SYNAGOGUE',\n",
       " 'MARINA/PIER',\n",
       " 'SHOE',\n",
       " 'VIDEO STORE',\n",
       " 'v_black',\n",
       " 'TAXI (YELLOW LICENSED)',\n",
       " 'BRIDGE',\n",
       " 'RESIDENCE - PUBLIC HOUSING',\n",
       " 's_black',\n",
       " 'CEMETERY',\n",
       " 'v_white',\n",
       " 'FACTORY/WAREHOUSE',\n",
       " 'v_white_hisp',\n",
       " 'RESIDENCE-HOUSE',\n",
       " 'SMALL MERCHANT',\n",
       " 'STORE UNCLASSIFIED',\n",
       " 'SOCIAL CLUB/POLICY',\n",
       " 'BAR/NIGHT CLUB',\n",
       " 'PHOTO/COPY',\n",
       " 'AIRPORT TERMINAL',\n",
       " 'RESTAURANT/DINER',\n",
       " 'CLOTHING/BOUTIQUE',\n",
       " 'v_female',\n",
       " 'DRUG STORE',\n",
       " 'CHAIN STORE',\n",
       " 'hispanic_rate',\n",
       " 'JEWELRY',\n",
       " 'MOSQUE',\n",
       " 'HOTEL/MOTEL',\n",
       " 'CONSTRUCTION SITE',\n",
       " 'HOSPITAL',\n",
       " 'PUBLIC BUILDING',\n",
       " 'BANK',\n",
       " 'GYM/FITNESS FACILITY',\n",
       " 'v_male',\n",
       " 'OTHER',\n",
       " 'OTHER HOUSE OF WORSHIP',\n",
       " 'STORAGE FACILITY',\n",
       " 'COMMERCIAL BUILDING',\n",
       " 'BOOK/CARD',\n",
       " 'BUS TERMINAL',\n",
       " 'TAXI (LIVERY LICENSED)',\n",
       " 'TELECOMM. STORE',\n",
       " 'v_65plus',\n",
       " 'PRIVATE/PAROCHIAL SCHOOL',\n",
       " 'v_25_44',\n",
       " 's_white_hisp',\n",
       " 'HIGHWAY/PARKWAY',\n",
       " 'TAXI/LIVERY (UNLICENSED)',\n",
       " 'TRANSIT - NYC SUBWAY',\n",
       " 's_native',\n",
       " 'VARIETY STORE',\n",
       " 'v_apac',\n",
       " 'PARK/PLAYGROUND',\n",
       " 'v_bl_hisp',\n",
       " 'TRANSIT FACILITY (OTHER)',\n",
       " 'LIQUOR STORE',\n",
       " 's_white',\n",
       " 'DOCTOR/DENTIST OFFICE',\n",
       " 'ATM',\n",
       " 'v_45_64',\n",
       " 'RESIDENCE - APT. HOUSE',\n",
       " 'MAILBOX OUTSIDE',\n",
       " 'LOAN COMPANY',\n",
       " 'v_u18',\n",
       " 's_apac',\n",
       " 'v_18_24',\n",
       " 'completed',\n",
       " 'ABANDONED BUILDING',\n",
       " 'FOOD SUPERMARKET',\n",
       " 'CHECK CASHING BUSINESS',\n",
       " 'BEAUTY & NAIL SALON',\n",
       " 'BUS STOP',\n",
       " 'DRY CLEANER/LAUNDRY',\n",
       " 'PARKING LOT/GARAGE (PUBLIC)',\n",
       " 'v_native',\n",
       " 'labor_part',\n",
       " 'BUS (OTHER)',\n",
       " 'black_rate',\n",
       " 's_male',\n",
       " 'felony',\n",
       " 'PARKING LOT/GARAGE (PRIVATE)',\n",
       " 'OPEN AREAS (OPEN LOTS)',\n",
       " 'GROCERY/BODEGA',\n",
       " 'unemployment_rate',\n",
       " 's_female',\n",
       " 's_65plus',\n",
       " 'CHURCH',\n",
       " 'CANDY STORE',\n",
       " 'MAILBOX INSIDE',\n",
       " 's_bl_hisp',\n",
       " 'PUBLIC SCHOOL',\n",
       " 'TUNNEL',\n",
       " 'poverty_rate',\n",
       " 's_u18',\n",
       " 'misdemeanor',\n",
       " 's_18_24',\n",
       " 'BUS (NYC TRANSIT)',\n",
       " 's_45_64',\n",
       " 'educ',\n",
       " 'jul',\n",
       " 'crime_diff',\n",
       " 'asian_rate',\n",
       " 'may',\n",
       " 'GAS STATION',\n",
       " 'jun',\n",
       " 'sep',\n",
       " 's_25_44',\n",
       " 'DAYCARE FACILITY',\n",
       " 'apr',\n",
       " 'crime_rate',\n",
       " 'feb',\n",
       " 'nov',\n",
       " 'aug',\n",
       " 'median_age',\n",
       " 'oct',\n",
       " 'mar',\n",
       " 'FAST FOOD',\n",
       " 'dec',\n",
       " 'FERRY/FERRY TERMINAL']"
      ]
     },
     "execution_count": 115,
     "metadata": {},
     "output_type": "execute_result"
    }
   ],
   "source": [
    "###take absolute value of coefs\n",
    "sorted_coefs = logit_coefs.sort_values(by=['abs_coefs'], ascending=False)\n",
    "#sorted_coefs = sorted_coefs.reset_index()\n",
    "list(sorted_coefs['column_names'])"
   ]
  },
  {
   "cell_type": "code",
   "execution_count": 116,
   "id": "e96802da",
   "metadata": {},
   "outputs": [],
   "source": [
    "Y_pred = log.predict(Xv)"
   ]
  },
  {
   "cell_type": "code",
   "execution_count": 117,
   "id": "0d6734ad",
   "metadata": {},
   "outputs": [
    {
     "data": {
      "text/plain": [
       "0.7020556495686188"
      ]
     },
     "execution_count": 117,
     "metadata": {},
     "output_type": "execute_result"
    }
   ],
   "source": [
    "log.score(Xv,Yv)"
   ]
  },
  {
   "cell_type": "code",
   "execution_count": 118,
   "id": "ae303663",
   "metadata": {},
   "outputs": [
    {
     "data": {
      "text/plain": [
       "array([[31316, 20538],\n",
       "       [11682, 44605]], dtype=int64)"
      ]
     },
     "execution_count": 118,
     "metadata": {},
     "output_type": "execute_result"
    }
   ],
   "source": [
    "logit_conf_matrix = confusion_matrix(Yv, log.predict(Xv))\n",
    "logit_conf_matrix"
   ]
  },
  {
   "cell_type": "code",
   "execution_count": 119,
   "id": "088aa6d7",
   "metadata": {},
   "outputs": [
    {
     "name": "stdout",
     "output_type": "stream",
     "text": [
      "              precision    recall  f1-score   support\n",
      "\n",
      "           0       0.73      0.60      0.66     51854\n",
      "           1       0.68      0.79      0.73     56287\n",
      "\n",
      "    accuracy                           0.70    108141\n",
      "   macro avg       0.71      0.70      0.70    108141\n",
      "weighted avg       0.71      0.70      0.70    108141\n",
      "\n"
     ]
    }
   ],
   "source": [
    "print(classification_report(Yv, Y_pred))"
   ]
  },
  {
   "cell_type": "markdown",
   "id": "43494416",
   "metadata": {},
   "source": [
    "## KNN model for Queens"
   ]
  },
  {
   "cell_type": "code",
   "execution_count": 86,
   "id": "2d7f1a38",
   "metadata": {},
   "outputs": [],
   "source": []
  },
  {
   "cell_type": "code",
   "execution_count": 82,
   "id": "b4a312ec",
   "metadata": {},
   "outputs": [
    {
     "data": {
      "text/plain": [
       "599"
      ]
     },
     "execution_count": 82,
     "metadata": {},
     "output_type": "execute_result"
    }
   ],
   "source": [
    "q_n = int(((len(queens))**.5)-1)\n",
    "q_n"
   ]
  },
  {
   "cell_type": "code",
   "execution_count": 89,
   "id": "e277062e",
   "metadata": {},
   "outputs": [],
   "source": [
    "knn = KNeighborsClassifier(n_neighbors=q_n)"
   ]
  },
  {
   "cell_type": "code",
   "execution_count": 90,
   "id": "582c6504",
   "metadata": {},
   "outputs": [],
   "source": [
    "knn.fit(Xt, Yt)\n",
    "\n",
    "#Predict the response for test dataset\n",
    "Ypr_knn = knn.predict(Xv)"
   ]
  },
  {
   "cell_type": "code",
   "execution_count": 91,
   "id": "9cf9fdb2",
   "metadata": {},
   "outputs": [
    {
     "name": "stdout",
     "output_type": "stream",
     "text": [
      "Accuracy: 0.6999565382232456\n"
     ]
    }
   ],
   "source": [
    "print(\"Accuracy:\",metrics.accuracy_score(Yv, Ypr_knn))"
   ]
  },
  {
   "cell_type": "code",
   "execution_count": 92,
   "id": "14a61e99",
   "metadata": {},
   "outputs": [
    {
     "data": {
      "text/plain": [
       "array([[30779, 21075],\n",
       "       [11372, 44915]], dtype=int64)"
      ]
     },
     "execution_count": 92,
     "metadata": {},
     "output_type": "execute_result"
    }
   ],
   "source": [
    "confusion_matrix(Yv, Ypr_knn)"
   ]
  },
  {
   "cell_type": "code",
   "execution_count": 93,
   "id": "4ddb117b",
   "metadata": {},
   "outputs": [
    {
     "name": "stdout",
     "output_type": "stream",
     "text": [
      "              precision    recall  f1-score   support\n",
      "\n",
      "           0       0.73      0.59      0.65     51854\n",
      "           1       0.68      0.80      0.73     56287\n",
      "\n",
      "    accuracy                           0.70    108141\n",
      "   macro avg       0.71      0.70      0.69    108141\n",
      "weighted avg       0.70      0.70      0.70    108141\n",
      "\n"
     ]
    }
   ],
   "source": [
    "print(classification_report(Yv, Ypr_knn))"
   ]
  },
  {
   "cell_type": "markdown",
   "id": "311eab30",
   "metadata": {},
   "source": [
    "## Linear Discriminant Analysis for Queens"
   ]
  },
  {
   "cell_type": "code",
   "execution_count": 106,
   "id": "6060b0f7",
   "metadata": {},
   "outputs": [
    {
     "data": {
      "text/plain": [
       "LinearDiscriminantAnalysis()"
      ]
     },
     "execution_count": 106,
     "metadata": {},
     "output_type": "execute_result"
    }
   ],
   "source": [
    "lda_q = LinearDiscriminantAnalysis()\n",
    "lda_q.fit(Xt, Yt)"
   ]
  },
  {
   "cell_type": "code",
   "execution_count": null,
   "id": "e1b7a6ef",
   "metadata": {},
   "outputs": [],
   "source": [
    "cv = RepeatedStratifiedKFold(n_splits=10, n_repeats=3, random_state=1)\n",
    "\n",
    "#evaluate model\n",
    "scores = cross_val_score(lda_q, Xtilde, y, scoring='accuracy', cv=cv, n_jobs=-1)\n",
    "print(np.mean(scores)) "
   ]
  },
  {
   "cell_type": "markdown",
   "id": "d773bddb",
   "metadata": {},
   "source": [
    "## Staten Island\n",
    "## K-means to create clusters"
   ]
  },
  {
   "cell_type": "code",
   "execution_count": 20,
   "id": "21d84085",
   "metadata": {},
   "outputs": [
    {
     "data": {
      "text/html": [
       "<div>\n",
       "<style scoped>\n",
       "    .dataframe tbody tr th:only-of-type {\n",
       "        vertical-align: middle;\n",
       "    }\n",
       "\n",
       "    .dataframe tbody tr th {\n",
       "        vertical-align: top;\n",
       "    }\n",
       "\n",
       "    .dataframe thead th {\n",
       "        text-align: right;\n",
       "    }\n",
       "</style>\n",
       "<table border=\"1\" class=\"dataframe\">\n",
       "  <thead>\n",
       "    <tr style=\"text-align: right;\">\n",
       "      <th></th>\n",
       "      <th>PATROL_BORO</th>\n",
       "      <th>Latitude</th>\n",
       "      <th>Longitude</th>\n",
       "      <th>borough</th>\n",
       "      <th>felony</th>\n",
       "      <th>misdemeanor</th>\n",
       "      <th>completed</th>\n",
       "      <th>s_native</th>\n",
       "      <th>s_apac</th>\n",
       "      <th>s_black</th>\n",
       "      <th>...</th>\n",
       "      <th>crime_rate</th>\n",
       "      <th>crime_diff</th>\n",
       "      <th>median_age</th>\n",
       "      <th>poverty_rate</th>\n",
       "      <th>unemployment_rate</th>\n",
       "      <th>educ</th>\n",
       "      <th>hispanic_rate</th>\n",
       "      <th>black_rate</th>\n",
       "      <th>asian_rate</th>\n",
       "      <th>labor_part</th>\n",
       "    </tr>\n",
       "  </thead>\n",
       "  <tbody>\n",
       "    <tr>\n",
       "      <th>1713358</th>\n",
       "      <td>PATROL BORO STATEN ISLAND</td>\n",
       "      <td>40.644726</td>\n",
       "      <td>-74.077483</td>\n",
       "      <td>staten</td>\n",
       "      <td>1</td>\n",
       "      <td>0</td>\n",
       "      <td>1</td>\n",
       "      <td>0</td>\n",
       "      <td>0</td>\n",
       "      <td>1</td>\n",
       "      <td>...</td>\n",
       "      <td>-0.831872</td>\n",
       "      <td>37.379757</td>\n",
       "      <td>1.841786</td>\n",
       "      <td>-1.143037</td>\n",
       "      <td>-1.078113</td>\n",
       "      <td>-0.156535</td>\n",
       "      <td>-0.748478</td>\n",
       "      <td>-1.513101</td>\n",
       "      <td>-0.307033</td>\n",
       "      <td>-1.642121</td>\n",
       "    </tr>\n",
       "    <tr>\n",
       "      <th>1713359</th>\n",
       "      <td>PATROL BORO STATEN ISLAND</td>\n",
       "      <td>40.631382</td>\n",
       "      <td>-74.126220</td>\n",
       "      <td>staten</td>\n",
       "      <td>1</td>\n",
       "      <td>0</td>\n",
       "      <td>1</td>\n",
       "      <td>0</td>\n",
       "      <td>1</td>\n",
       "      <td>0</td>\n",
       "      <td>...</td>\n",
       "      <td>-0.831872</td>\n",
       "      <td>32.088661</td>\n",
       "      <td>1.841786</td>\n",
       "      <td>-1.143037</td>\n",
       "      <td>-1.078113</td>\n",
       "      <td>-0.156535</td>\n",
       "      <td>-0.748478</td>\n",
       "      <td>-1.513101</td>\n",
       "      <td>-0.307033</td>\n",
       "      <td>-1.642121</td>\n",
       "    </tr>\n",
       "    <tr>\n",
       "      <th>1713360</th>\n",
       "      <td>PATROL BORO STATEN ISLAND</td>\n",
       "      <td>40.644726</td>\n",
       "      <td>-74.077483</td>\n",
       "      <td>staten</td>\n",
       "      <td>0</td>\n",
       "      <td>1</td>\n",
       "      <td>1</td>\n",
       "      <td>0</td>\n",
       "      <td>0</td>\n",
       "      <td>0</td>\n",
       "      <td>...</td>\n",
       "      <td>-0.831872</td>\n",
       "      <td>27.440055</td>\n",
       "      <td>1.841786</td>\n",
       "      <td>-1.143037</td>\n",
       "      <td>-1.078113</td>\n",
       "      <td>-0.156535</td>\n",
       "      <td>-0.748478</td>\n",
       "      <td>-1.513101</td>\n",
       "      <td>-0.307033</td>\n",
       "      <td>-1.642121</td>\n",
       "    </tr>\n",
       "  </tbody>\n",
       "</table>\n",
       "<p>3 rows × 127 columns</p>\n",
       "</div>"
      ],
      "text/plain": [
       "                       PATROL_BORO   Latitude  Longitude borough  felony  \\\n",
       "1713358  PATROL BORO STATEN ISLAND  40.644726 -74.077483  staten       1   \n",
       "1713359  PATROL BORO STATEN ISLAND  40.631382 -74.126220  staten       1   \n",
       "1713360  PATROL BORO STATEN ISLAND  40.644726 -74.077483  staten       0   \n",
       "\n",
       "         misdemeanor  completed  s_native  s_apac  s_black  ...  crime_rate  \\\n",
       "1713358            0          1         0       0        1  ...   -0.831872   \n",
       "1713359            0          1         0       1        0  ...   -0.831872   \n",
       "1713360            1          1         0       0        0  ...   -0.831872   \n",
       "\n",
       "         crime_diff  median_age  poverty_rate  unemployment_rate      educ  \\\n",
       "1713358   37.379757    1.841786     -1.143037          -1.078113 -0.156535   \n",
       "1713359   32.088661    1.841786     -1.143037          -1.078113 -0.156535   \n",
       "1713360   27.440055    1.841786     -1.143037          -1.078113 -0.156535   \n",
       "\n",
       "         hispanic_rate  black_rate  asian_rate  labor_part  \n",
       "1713358      -0.748478   -1.513101   -0.307033   -1.642121  \n",
       "1713359      -0.748478   -1.513101   -0.307033   -1.642121  \n",
       "1713360      -0.748478   -1.513101   -0.307033   -1.642121  \n",
       "\n",
       "[3 rows x 127 columns]"
      ]
     },
     "execution_count": 20,
     "metadata": {},
     "output_type": "execute_result"
    }
   ],
   "source": [
    "staten = df[df['borough']=='staten']\n",
    "staten.head(3)"
   ]
  },
  {
   "cell_type": "code",
   "execution_count": 21,
   "id": "ec971441",
   "metadata": {},
   "outputs": [
    {
     "data": {
      "text/plain": [
       "77474"
      ]
     },
     "execution_count": 21,
     "metadata": {},
     "output_type": "execute_result"
    }
   ],
   "source": [
    "len(staten)"
   ]
  },
  {
   "cell_type": "code",
   "execution_count": 22,
   "id": "acfb356a",
   "metadata": {},
   "outputs": [
    {
     "name": "stderr",
     "output_type": "stream",
     "text": [
      "<ipython-input-22-6b9f4448599b>:2: SettingWithCopyWarning: \n",
      "A value is trying to be set on a copy of a slice from a DataFrame.\n",
      "Try using .loc[row_indexer,col_indexer] = value instead\n",
      "\n",
      "See the caveats in the documentation: https://pandas.pydata.org/pandas-docs/stable/user_guide/indexing.html#returning-a-view-versus-a-copy\n",
      "  staten['index'] = index_staten\n"
     ]
    },
    {
     "data": {
      "text/html": [
       "<div>\n",
       "<style scoped>\n",
       "    .dataframe tbody tr th:only-of-type {\n",
       "        vertical-align: middle;\n",
       "    }\n",
       "\n",
       "    .dataframe tbody tr th {\n",
       "        vertical-align: top;\n",
       "    }\n",
       "\n",
       "    .dataframe thead th {\n",
       "        text-align: right;\n",
       "    }\n",
       "</style>\n",
       "<table border=\"1\" class=\"dataframe\">\n",
       "  <thead>\n",
       "    <tr style=\"text-align: right;\">\n",
       "      <th></th>\n",
       "      <th>PATROL_BORO</th>\n",
       "      <th>Latitude</th>\n",
       "      <th>Longitude</th>\n",
       "      <th>borough</th>\n",
       "      <th>felony</th>\n",
       "      <th>misdemeanor</th>\n",
       "      <th>completed</th>\n",
       "      <th>s_native</th>\n",
       "      <th>s_apac</th>\n",
       "      <th>s_black</th>\n",
       "      <th>...</th>\n",
       "      <th>crime_diff</th>\n",
       "      <th>median_age</th>\n",
       "      <th>poverty_rate</th>\n",
       "      <th>unemployment_rate</th>\n",
       "      <th>educ</th>\n",
       "      <th>hispanic_rate</th>\n",
       "      <th>black_rate</th>\n",
       "      <th>asian_rate</th>\n",
       "      <th>labor_part</th>\n",
       "      <th>index</th>\n",
       "    </tr>\n",
       "  </thead>\n",
       "  <tbody>\n",
       "    <tr>\n",
       "      <th>1713358</th>\n",
       "      <td>PATROL BORO STATEN ISLAND</td>\n",
       "      <td>40.644726</td>\n",
       "      <td>-74.077483</td>\n",
       "      <td>staten</td>\n",
       "      <td>1</td>\n",
       "      <td>0</td>\n",
       "      <td>1</td>\n",
       "      <td>0</td>\n",
       "      <td>0</td>\n",
       "      <td>1</td>\n",
       "      <td>...</td>\n",
       "      <td>37.379757</td>\n",
       "      <td>1.841786</td>\n",
       "      <td>-1.143037</td>\n",
       "      <td>-1.078113</td>\n",
       "      <td>-0.156535</td>\n",
       "      <td>-0.748478</td>\n",
       "      <td>-1.513101</td>\n",
       "      <td>-0.307033</td>\n",
       "      <td>-1.642121</td>\n",
       "      <td>1</td>\n",
       "    </tr>\n",
       "  </tbody>\n",
       "</table>\n",
       "<p>1 rows × 128 columns</p>\n",
       "</div>"
      ],
      "text/plain": [
       "                       PATROL_BORO   Latitude  Longitude borough  felony  \\\n",
       "1713358  PATROL BORO STATEN ISLAND  40.644726 -74.077483  staten       1   \n",
       "\n",
       "         misdemeanor  completed  s_native  s_apac  s_black  ...  crime_diff  \\\n",
       "1713358            0          1         0       0        1  ...   37.379757   \n",
       "\n",
       "         median_age  poverty_rate  unemployment_rate      educ  hispanic_rate  \\\n",
       "1713358    1.841786     -1.143037          -1.078113 -0.156535      -0.748478   \n",
       "\n",
       "         black_rate  asian_rate  labor_part  index  \n",
       "1713358   -1.513101   -0.307033   -1.642121      1  \n",
       "\n",
       "[1 rows x 128 columns]"
      ]
     },
     "execution_count": 22,
     "metadata": {},
     "output_type": "execute_result"
    }
   ],
   "source": [
    "index_staten = list(range(1, len(staten)+1))\n",
    "staten['index'] = index_staten\n",
    "staten.head(1)"
   ]
  },
  {
   "cell_type": "code",
   "execution_count": 23,
   "id": "357d614e",
   "metadata": {},
   "outputs": [
    {
     "data": {
      "text/html": [
       "<div>\n",
       "<style scoped>\n",
       "    .dataframe tbody tr th:only-of-type {\n",
       "        vertical-align: middle;\n",
       "    }\n",
       "\n",
       "    .dataframe tbody tr th {\n",
       "        vertical-align: top;\n",
       "    }\n",
       "\n",
       "    .dataframe thead th {\n",
       "        text-align: right;\n",
       "    }\n",
       "</style>\n",
       "<table border=\"1\" class=\"dataframe\">\n",
       "  <thead>\n",
       "    <tr style=\"text-align: right;\">\n",
       "      <th></th>\n",
       "      <th>Longitude</th>\n",
       "      <th>Latitude</th>\n",
       "    </tr>\n",
       "  </thead>\n",
       "  <tbody>\n",
       "    <tr>\n",
       "      <th>1713358</th>\n",
       "      <td>-74.077483</td>\n",
       "      <td>40.644726</td>\n",
       "    </tr>\n",
       "    <tr>\n",
       "      <th>1713359</th>\n",
       "      <td>-74.126220</td>\n",
       "      <td>40.631382</td>\n",
       "    </tr>\n",
       "    <tr>\n",
       "      <th>1713360</th>\n",
       "      <td>-74.077483</td>\n",
       "      <td>40.644726</td>\n",
       "    </tr>\n",
       "    <tr>\n",
       "      <th>1713361</th>\n",
       "      <td>-74.177036</td>\n",
       "      <td>40.610567</td>\n",
       "    </tr>\n",
       "    <tr>\n",
       "      <th>1713362</th>\n",
       "      <td>-74.119802</td>\n",
       "      <td>40.632325</td>\n",
       "    </tr>\n",
       "  </tbody>\n",
       "</table>\n",
       "</div>"
      ],
      "text/plain": [
       "         Longitude   Latitude\n",
       "1713358 -74.077483  40.644726\n",
       "1713359 -74.126220  40.631382\n",
       "1713360 -74.077483  40.644726\n",
       "1713361 -74.177036  40.610567\n",
       "1713362 -74.119802  40.632325"
      ]
     },
     "execution_count": 23,
     "metadata": {},
     "output_type": "execute_result"
    }
   ],
   "source": [
    "st_cluster = staten[['Longitude', 'Latitude']]\n",
    "st_cluster.head()"
   ]
  },
  {
   "cell_type": "code",
   "execution_count": 24,
   "id": "1687e35e",
   "metadata": {},
   "outputs": [
    {
     "data": {
      "image/png": "[encoded data removed]",
      "text/plain": [
       "<Figure size 432x288 with 1 Axes>"
      ]
     },
     "metadata": {},
     "output_type": "display_data"
    }
   ],
   "source": [
    "plt.scatter(st_cluster['Longitude'],st_cluster['Latitude'])\n",
    "plt.xlim(-74.3,-73.8)\n",
    "plt.ylim(40.4,40.8)\n",
    "plt.ylabel('Latitude')\n",
    "plt.xlabel('Longitude')\n",
    "plt.title('Unclustered Staten Island Crimes')\n",
    "plt.show()"
   ]
  },
  {
   "cell_type": "code",
   "execution_count": 35,
   "id": "e19314d4",
   "metadata": {},
   "outputs": [],
   "source": [
    "x = st_cluster.iloc[:,0:3] # 1t for rows and second for columns"
   ]
  },
  {
   "cell_type": "code",
   "execution_count": 55,
   "id": "a6b12404",
   "metadata": {},
   "outputs": [
    {
     "data": {
      "text/plain": [
       "KMeans(n_clusters=2)"
      ]
     },
     "execution_count": 55,
     "metadata": {},
     "output_type": "execute_result"
    }
   ],
   "source": [
    "kmeans = KMeans(2)\n",
    "kmeans.fit(x)"
   ]
  },
  {
   "cell_type": "code",
   "execution_count": 56,
   "id": "12c1880b",
   "metadata": {},
   "outputs": [
    {
     "data": {
      "text/plain": [
       "array([1, 1, 1, ..., 1, 1, 1])"
      ]
     },
     "execution_count": 56,
     "metadata": {},
     "output_type": "execute_result"
    }
   ],
   "source": [
    "identified_clusters = kmeans.fit_predict(x)\n",
    "identified_clusters"
   ]
  },
  {
   "cell_type": "code",
   "execution_count": 57,
   "id": "903163c7",
   "metadata": {},
   "outputs": [
    {
     "data": {
      "text/plain": [
       "77474"
      ]
     },
     "execution_count": 57,
     "metadata": {},
     "output_type": "execute_result"
    }
   ],
   "source": [
    "len(identified_clusters)"
   ]
  },
  {
   "cell_type": "code",
   "execution_count": null,
   "id": "d1f9ff92",
   "metadata": {},
   "outputs": [],
   "source": []
  },
  {
   "cell_type": "code",
   "execution_count": 58,
   "id": "5d5ca8f7",
   "metadata": {},
   "outputs": [
    {
     "data": {
      "image/png": "[encoded data removed]",
      "text/plain": [
       "<Figure size 432x288 with 1 Axes>"
      ]
     },
     "metadata": {},
     "output_type": "display_data"
    }
   ],
   "source": [
    "data_with_clusters = st_cluster.copy()\n",
    "data_with_clusters['Clusters'] = identified_clusters \n",
    "plt.scatter(data_with_clusters['Longitude'],data_with_clusters['Latitude'],c=data_with_clusters['Clusters'],cmap='rainbow')\n",
    "plt.ylabel('Latitude')\n",
    "plt.xlabel('Longitude')\n",
    "plt.title('Clustered (K=2) Staten Island Crimes after K-Means')\n",
    "red_patch = mpatches.Patch(color='red', label='1')\n",
    "purple_patch = mpatches.Patch(color='purple', label='0')\n",
    "plt.legend(handles=[red_patch, purple_patch])\n",
    "\n",
    "plt.show()"
   ]
  },
  {
   "cell_type": "code",
   "execution_count": 59,
   "id": "06b64990",
   "metadata": {},
   "outputs": [
    {
     "data": {
      "text/html": [
       "<div>\n",
       "<style scoped>\n",
       "    .dataframe tbody tr th:only-of-type {\n",
       "        vertical-align: middle;\n",
       "    }\n",
       "\n",
       "    .dataframe tbody tr th {\n",
       "        vertical-align: top;\n",
       "    }\n",
       "\n",
       "    .dataframe thead th {\n",
       "        text-align: right;\n",
       "    }\n",
       "</style>\n",
       "<table border=\"1\" class=\"dataframe\">\n",
       "  <thead>\n",
       "    <tr style=\"text-align: right;\">\n",
       "      <th></th>\n",
       "      <th>Longitude</th>\n",
       "      <th>Latitude</th>\n",
       "      <th>Clusters</th>\n",
       "    </tr>\n",
       "  </thead>\n",
       "  <tbody>\n",
       "    <tr>\n",
       "      <th>1713358</th>\n",
       "      <td>-74.077483</td>\n",
       "      <td>40.644726</td>\n",
       "      <td>1</td>\n",
       "    </tr>\n",
       "    <tr>\n",
       "      <th>1713359</th>\n",
       "      <td>-74.126220</td>\n",
       "      <td>40.631382</td>\n",
       "      <td>1</td>\n",
       "    </tr>\n",
       "    <tr>\n",
       "      <th>1713360</th>\n",
       "      <td>-74.077483</td>\n",
       "      <td>40.644726</td>\n",
       "      <td>1</td>\n",
       "    </tr>\n",
       "  </tbody>\n",
       "</table>\n",
       "</div>"
      ],
      "text/plain": [
       "         Longitude   Latitude  Clusters\n",
       "1713358 -74.077483  40.644726         1\n",
       "1713359 -74.126220  40.631382         1\n",
       "1713360 -74.077483  40.644726         1"
      ]
     },
     "execution_count": 59,
     "metadata": {},
     "output_type": "execute_result"
    }
   ],
   "source": [
    "data_with_clusters.head(3)"
   ]
  },
  {
   "cell_type": "code",
   "execution_count": 60,
   "id": "1504df44",
   "metadata": {},
   "outputs": [
    {
     "data": {
      "text/html": [
       "<div>\n",
       "<style scoped>\n",
       "    .dataframe tbody tr th:only-of-type {\n",
       "        vertical-align: middle;\n",
       "    }\n",
       "\n",
       "    .dataframe tbody tr th {\n",
       "        vertical-align: top;\n",
       "    }\n",
       "\n",
       "    .dataframe thead th {\n",
       "        text-align: right;\n",
       "    }\n",
       "</style>\n",
       "<table border=\"1\" class=\"dataframe\">\n",
       "  <thead>\n",
       "    <tr style=\"text-align: right;\">\n",
       "      <th></th>\n",
       "      <th>felony</th>\n",
       "      <th>misdemeanor</th>\n",
       "      <th>completed</th>\n",
       "      <th>s_native</th>\n",
       "      <th>s_apac</th>\n",
       "      <th>s_black</th>\n",
       "      <th>s_bl_hisp</th>\n",
       "      <th>s_white</th>\n",
       "      <th>s_white_hisp</th>\n",
       "      <th>s_u18</th>\n",
       "      <th>...</th>\n",
       "      <th>crime_diff</th>\n",
       "      <th>median_age</th>\n",
       "      <th>poverty_rate</th>\n",
       "      <th>unemployment_rate</th>\n",
       "      <th>educ</th>\n",
       "      <th>hispanic_rate</th>\n",
       "      <th>black_rate</th>\n",
       "      <th>asian_rate</th>\n",
       "      <th>labor_part</th>\n",
       "      <th>clusters</th>\n",
       "    </tr>\n",
       "  </thead>\n",
       "  <tbody>\n",
       "    <tr>\n",
       "      <th>1713358</th>\n",
       "      <td>1</td>\n",
       "      <td>0</td>\n",
       "      <td>1</td>\n",
       "      <td>0</td>\n",
       "      <td>0</td>\n",
       "      <td>1</td>\n",
       "      <td>0</td>\n",
       "      <td>0</td>\n",
       "      <td>0</td>\n",
       "      <td>0</td>\n",
       "      <td>...</td>\n",
       "      <td>37.379757</td>\n",
       "      <td>1.841786</td>\n",
       "      <td>-1.143037</td>\n",
       "      <td>-1.078113</td>\n",
       "      <td>-0.156535</td>\n",
       "      <td>-0.748478</td>\n",
       "      <td>-1.513101</td>\n",
       "      <td>-0.307033</td>\n",
       "      <td>-1.642121</td>\n",
       "      <td>1</td>\n",
       "    </tr>\n",
       "    <tr>\n",
       "      <th>1713359</th>\n",
       "      <td>1</td>\n",
       "      <td>0</td>\n",
       "      <td>1</td>\n",
       "      <td>0</td>\n",
       "      <td>1</td>\n",
       "      <td>0</td>\n",
       "      <td>0</td>\n",
       "      <td>0</td>\n",
       "      <td>0</td>\n",
       "      <td>0</td>\n",
       "      <td>...</td>\n",
       "      <td>32.088661</td>\n",
       "      <td>1.841786</td>\n",
       "      <td>-1.143037</td>\n",
       "      <td>-1.078113</td>\n",
       "      <td>-0.156535</td>\n",
       "      <td>-0.748478</td>\n",
       "      <td>-1.513101</td>\n",
       "      <td>-0.307033</td>\n",
       "      <td>-1.642121</td>\n",
       "      <td>1</td>\n",
       "    </tr>\n",
       "    <tr>\n",
       "      <th>1713360</th>\n",
       "      <td>0</td>\n",
       "      <td>1</td>\n",
       "      <td>1</td>\n",
       "      <td>0</td>\n",
       "      <td>0</td>\n",
       "      <td>0</td>\n",
       "      <td>0</td>\n",
       "      <td>0</td>\n",
       "      <td>0</td>\n",
       "      <td>0</td>\n",
       "      <td>...</td>\n",
       "      <td>27.440055</td>\n",
       "      <td>1.841786</td>\n",
       "      <td>-1.143037</td>\n",
       "      <td>-1.078113</td>\n",
       "      <td>-0.156535</td>\n",
       "      <td>-0.748478</td>\n",
       "      <td>-1.513101</td>\n",
       "      <td>-0.307033</td>\n",
       "      <td>-1.642121</td>\n",
       "      <td>1</td>\n",
       "    </tr>\n",
       "  </tbody>\n",
       "</table>\n",
       "<p>3 rows × 124 columns</p>\n",
       "</div>"
      ],
      "text/plain": [
       "         felony  misdemeanor  completed  s_native  s_apac  s_black  s_bl_hisp  \\\n",
       "1713358       1            0          1         0       0        1          0   \n",
       "1713359       1            0          1         0       1        0          0   \n",
       "1713360       0            1          1         0       0        0          0   \n",
       "\n",
       "         s_white  s_white_hisp  s_u18  ...  crime_diff  median_age  \\\n",
       "1713358        0             0      0  ...   37.379757    1.841786   \n",
       "1713359        0             0      0  ...   32.088661    1.841786   \n",
       "1713360        0             0      0  ...   27.440055    1.841786   \n",
       "\n",
       "         poverty_rate  unemployment_rate      educ  hispanic_rate  black_rate  \\\n",
       "1713358     -1.143037          -1.078113 -0.156535      -0.748478   -1.513101   \n",
       "1713359     -1.143037          -1.078113 -0.156535      -0.748478   -1.513101   \n",
       "1713360     -1.143037          -1.078113 -0.156535      -0.748478   -1.513101   \n",
       "\n",
       "         asian_rate  labor_part  clusters  \n",
       "1713358   -0.307033   -1.642121         1  \n",
       "1713359   -0.307033   -1.642121         1  \n",
       "1713360   -0.307033   -1.642121         1  \n",
       "\n",
       "[3 rows x 124 columns]"
      ]
     },
     "execution_count": 60,
     "metadata": {},
     "output_type": "execute_result"
    }
   ],
   "source": [
    "staten['clusters'] = identified_clusters\n",
    "staten.head(3)"
   ]
  },
  {
   "cell_type": "code",
   "execution_count": 61,
   "id": "8efc3e57",
   "metadata": {},
   "outputs": [
    {
     "data": {
      "text/plain": [
       "1    58611\n",
       "0    18863\n",
       "Name: clusters, dtype: int64"
      ]
     },
     "execution_count": 61,
     "metadata": {},
     "output_type": "execute_result"
    }
   ],
   "source": [
    "staten['clusters'].value_counts() ##1 is northeast,east; 0 is others"
   ]
  },
  {
   "cell_type": "code",
   "execution_count": 65,
   "id": "a2a992f3",
   "metadata": {},
   "outputs": [],
   "source": [
    "staten = staten.drop(['PATROL_BORO', 'Longitude', 'Latitude','index','borough'], axis=1)"
   ]
  },
  {
   "cell_type": "code",
   "execution_count": 48,
   "id": "f0bb702e",
   "metadata": {},
   "outputs": [
    {
     "data": {
      "text/plain": [
       "77474"
      ]
     },
     "execution_count": 48,
     "metadata": {},
     "output_type": "execute_result"
    }
   ],
   "source": [
    "staten = staten.dropna()\n",
    "len(staten)"
   ]
  },
  {
   "cell_type": "code",
   "execution_count": 49,
   "id": "57dc3d79",
   "metadata": {},
   "outputs": [
    {
     "data": {
      "text/html": [
       "<div>\n",
       "<style scoped>\n",
       "    .dataframe tbody tr th:only-of-type {\n",
       "        vertical-align: middle;\n",
       "    }\n",
       "\n",
       "    .dataframe tbody tr th {\n",
       "        vertical-align: top;\n",
       "    }\n",
       "\n",
       "    .dataframe thead th {\n",
       "        text-align: right;\n",
       "    }\n",
       "</style>\n",
       "<table border=\"1\" class=\"dataframe\">\n",
       "  <thead>\n",
       "    <tr style=\"text-align: right;\">\n",
       "      <th></th>\n",
       "      <th>felony</th>\n",
       "      <th>misdemeanor</th>\n",
       "      <th>completed</th>\n",
       "      <th>s_native</th>\n",
       "      <th>s_apac</th>\n",
       "      <th>s_black</th>\n",
       "      <th>s_bl_hisp</th>\n",
       "      <th>s_white</th>\n",
       "      <th>s_white_hisp</th>\n",
       "      <th>s_u18</th>\n",
       "      <th>...</th>\n",
       "      <th>crime_diff</th>\n",
       "      <th>median_age</th>\n",
       "      <th>poverty_rate</th>\n",
       "      <th>unemployment_rate</th>\n",
       "      <th>educ</th>\n",
       "      <th>hispanic_rate</th>\n",
       "      <th>black_rate</th>\n",
       "      <th>asian_rate</th>\n",
       "      <th>labor_part</th>\n",
       "      <th>clusters</th>\n",
       "    </tr>\n",
       "  </thead>\n",
       "  <tbody>\n",
       "    <tr>\n",
       "      <th>1713358</th>\n",
       "      <td>1</td>\n",
       "      <td>0</td>\n",
       "      <td>1</td>\n",
       "      <td>0</td>\n",
       "      <td>0</td>\n",
       "      <td>1</td>\n",
       "      <td>0</td>\n",
       "      <td>0</td>\n",
       "      <td>0</td>\n",
       "      <td>0</td>\n",
       "      <td>...</td>\n",
       "      <td>37.379757</td>\n",
       "      <td>1.841786</td>\n",
       "      <td>-1.143037</td>\n",
       "      <td>-1.078113</td>\n",
       "      <td>-0.156535</td>\n",
       "      <td>-0.748478</td>\n",
       "      <td>-1.513101</td>\n",
       "      <td>-0.307033</td>\n",
       "      <td>-1.642121</td>\n",
       "      <td>0</td>\n",
       "    </tr>\n",
       "  </tbody>\n",
       "</table>\n",
       "<p>1 rows × 124 columns</p>\n",
       "</div>"
      ],
      "text/plain": [
       "         felony  misdemeanor  completed  s_native  s_apac  s_black  s_bl_hisp  \\\n",
       "1713358       1            0          1         0       0        1          0   \n",
       "\n",
       "         s_white  s_white_hisp  s_u18  ...  crime_diff  median_age  \\\n",
       "1713358        0             0      0  ...   37.379757    1.841786   \n",
       "\n",
       "         poverty_rate  unemployment_rate      educ  hispanic_rate  black_rate  \\\n",
       "1713358     -1.143037          -1.078113 -0.156535      -0.748478   -1.513101   \n",
       "\n",
       "         asian_rate  labor_part  clusters  \n",
       "1713358   -0.307033   -1.642121         0  \n",
       "\n",
       "[1 rows x 124 columns]"
      ]
     },
     "execution_count": 49,
     "metadata": {},
     "output_type": "execute_result"
    }
   ],
   "source": [
    "staten.head(1)"
   ]
  },
  {
   "cell_type": "markdown",
   "id": "e6616922",
   "metadata": {},
   "source": [
    "## Logistic regression for Staten Island w/ clusters from K-means starting w/ 2 clusters"
   ]
  },
  {
   "cell_type": "code",
   "execution_count": 66,
   "id": "97bf1fd6",
   "metadata": {},
   "outputs": [],
   "source": [
    "y_st = np.array(staten['clusters'])\n",
    "Xtil_st = np.array(staten.iloc[:,0:123])\n",
    "#Xtil_st[0]"
   ]
  },
  {
   "cell_type": "code",
   "execution_count": 67,
   "id": "3ed1e868",
   "metadata": {},
   "outputs": [],
   "source": [
    "(Xt_st ,Xv_st ,Yt_st ,Yv_st)= train_test_split (Xtil_st ,y_st, test_size =0.3 , random_state =0, shuffle = True)"
   ]
  },
  {
   "cell_type": "code",
   "execution_count": 76,
   "id": "782b74c7",
   "metadata": {},
   "outputs": [
    {
     "data": {
      "text/plain": [
       "0.7624661188314762"
      ]
     },
     "execution_count": 76,
     "metadata": {},
     "output_type": "execute_result"
    }
   ],
   "source": [
    "log_st = LogisticRegression(penalty='l1', solver='liblinear', C=10.0)\n",
    "log_st.fit(Xt_st, Yt_st)\n",
    "Ypred_st = log_st.predict(Xv_st)\n",
    "log_st.score(Xv_st,Yv_st)"
   ]
  },
  {
   "cell_type": "code",
   "execution_count": 77,
   "id": "ce83dcb4",
   "metadata": {},
   "outputs": [
    {
     "data": {
      "text/plain": [
       "array([[ 1317,  4304],\n",
       "       [ 1217, 16405]], dtype=int64)"
      ]
     },
     "execution_count": 77,
     "metadata": {},
     "output_type": "execute_result"
    }
   ],
   "source": [
    "logit_conf_matrix_st = confusion_matrix(Yv_st, log_st.predict(Xv_st))\n",
    "logit_conf_matrix_st"
   ]
  },
  {
   "cell_type": "code",
   "execution_count": 86,
   "id": "e0214ca4",
   "metadata": {},
   "outputs": [
    {
     "data": {
      "text/plain": [
       "0.7630688874918518"
      ]
     },
     "execution_count": 86,
     "metadata": {},
     "output_type": "execute_result"
    }
   ],
   "source": [
    "cv = RepeatedStratifiedKFold(n_splits=5, n_repeats=3, random_state=1)\n",
    "scores_log_st = cross_val_score(log_st, Xtil_st, y_st, scoring='accuracy', cv=cv, n_jobs=-1)\n",
    "np.mean(scores_log_st)"
   ]
  },
  {
   "cell_type": "code",
   "execution_count": 78,
   "id": "40fba167",
   "metadata": {},
   "outputs": [
    {
     "name": "stdout",
     "output_type": "stream",
     "text": [
      "              precision    recall  f1-score   support\n",
      "\n",
      "           0       0.52      0.23      0.32      5621\n",
      "           1       0.79      0.93      0.86     17622\n",
      "\n",
      "    accuracy                           0.76     23243\n",
      "   macro avg       0.66      0.58      0.59     23243\n",
      "weighted avg       0.73      0.76      0.73     23243\n",
      "\n"
     ]
    }
   ],
   "source": [
    "print(classification_report(Yv_st, Ypred_st))"
   ]
  },
  {
   "cell_type": "markdown",
   "id": "83613109",
   "metadata": {},
   "source": [
    "## Knn for Staten Island w/ 2 categories"
   ]
  },
  {
   "cell_type": "code",
   "execution_count": 79,
   "id": "e0a1bb2c",
   "metadata": {},
   "outputs": [
    {
     "data": {
      "text/plain": [
       "277"
      ]
     },
     "execution_count": 79,
     "metadata": {},
     "output_type": "execute_result"
    }
   ],
   "source": [
    "st_n = int(((len(staten))**.5)-1)\n",
    "st_n"
   ]
  },
  {
   "cell_type": "code",
   "execution_count": 80,
   "id": "dbaa73cd",
   "metadata": {},
   "outputs": [
    {
     "name": "stdout",
     "output_type": "stream",
     "text": [
      "Accuracy: 0.7598846964677537\n"
     ]
    }
   ],
   "source": [
    "knn_st = KNeighborsClassifier(n_neighbors=st_n)\n",
    "knn_st.fit(Xt_st, Yt_st)\n",
    "\n",
    "#Predict the response for test dataset\n",
    "Ypr_knn_st = knn_st.predict(Xv_st)\n",
    "print(\"Accuracy:\",metrics.accuracy_score(Yv_st, Ypr_knn_st))"
   ]
  },
  {
   "cell_type": "code",
   "execution_count": 82,
   "id": "fabb18d2",
   "metadata": {},
   "outputs": [],
   "source": [
    "scores_knn_st = cross_val_score(knn_st, Xtil_st, y_st, scoring='accuracy', cv=cv, n_jobs=-1)"
   ]
  },
  {
   "cell_type": "code",
   "execution_count": 85,
   "id": "8d6ee6ee",
   "metadata": {},
   "outputs": [
    {
     "data": {
      "text/plain": [
       "0.759755986168765"
      ]
     },
     "execution_count": 85,
     "metadata": {},
     "output_type": "execute_result"
    }
   ],
   "source": [
    "np.mean(scores_knn_st)"
   ]
  },
  {
   "cell_type": "code",
   "execution_count": 85,
   "id": "84452192",
   "metadata": {},
   "outputs": [
    {
     "name": "stdout",
     "output_type": "stream",
     "text": [
      "[[  370  5242]\n",
      " [  329 17302]]\n",
      "              precision    recall  f1-score   support\n",
      "\n",
      "           0       0.53      0.07      0.12      5612\n",
      "           1       0.77      0.98      0.86     17631\n",
      "\n",
      "    accuracy                           0.76     23243\n",
      "   macro avg       0.65      0.52      0.49     23243\n",
      "weighted avg       0.71      0.76      0.68     23243\n",
      "\n"
     ]
    }
   ],
   "source": [
    "print(confusion_matrix(Yv_st, Ypr_knn_st))\n",
    "print(classification_report(Yv_st, Ypr_knn_st))"
   ]
  },
  {
   "cell_type": "markdown",
   "id": "d22c696c",
   "metadata": {},
   "source": [
    "## LDA for Staten w/ two clusters"
   ]
  },
  {
   "cell_type": "code",
   "execution_count": 87,
   "id": "be134be4",
   "metadata": {},
   "outputs": [
    {
     "data": {
      "text/plain": [
       "LinearDiscriminantAnalysis()"
      ]
     },
     "execution_count": 87,
     "metadata": {},
     "output_type": "execute_result"
    }
   ],
   "source": [
    "lda_st = LinearDiscriminantAnalysis()\n",
    "lda_st.fit(Xt_st, Yt_st)"
   ]
  },
  {
   "cell_type": "code",
   "execution_count": 88,
   "id": "b2825859",
   "metadata": {},
   "outputs": [
    {
     "name": "stdout",
     "output_type": "stream",
     "text": [
      "Accuracy: 0.7604870283526223\n",
      "[[  111  5510]\n",
      " [   57 17565]]\n",
      "              precision    recall  f1-score   support\n",
      "\n",
      "           0       0.66      0.02      0.04      5621\n",
      "           1       0.76      1.00      0.86     17622\n",
      "\n",
      "    accuracy                           0.76     23243\n",
      "   macro avg       0.71      0.51      0.45     23243\n",
      "weighted avg       0.74      0.76      0.66     23243\n",
      "\n"
     ]
    }
   ],
   "source": [
    "Ypr_lda_st = lda_st.predict(Xv_st)\n",
    "print(\"Accuracy:\",metrics.accuracy_score(Yv_st, Ypr_lda_st))\n",
    "print(confusion_matrix(Yv_st, Ypr_lda_st))\n",
    "print(classification_report(Yv_st, Ypr_lda_st))"
   ]
  },
  {
   "cell_type": "code",
   "execution_count": 89,
   "id": "62c59a06",
   "metadata": {},
   "outputs": [
    {
     "name": "stdout",
     "output_type": "stream",
     "text": [
      "0.7587835919760978\n"
     ]
    }
   ],
   "source": [
    "\n",
    "#evaluate model\n",
    "scores_lda_st = cross_val_score(lda_st, Xtil_st, y_st, scoring='accuracy', cv=cv, n_jobs=-1)\n",
    "print(np.mean(scores_lda_st))"
   ]
  },
  {
   "cell_type": "markdown",
   "id": "5eda79e8",
   "metadata": {},
   "source": [
    "# Bronx models"
   ]
  },
  {
   "cell_type": "code",
   "execution_count": 46,
   "id": "90a65c38",
   "metadata": {},
   "outputs": [],
   "source": [
    "bronx = df[df['borough']=='bronx']\n",
    "bronx = bronx.dropna()\n",
    "#bronx.head(3)\n",
    "len(bronx)\n",
    "index_bronx = list(range(1, len(bronx)+1))\n",
    "bronx['index'] = index_bronx\n",
    "#bronx.head(1)"
   ]
  },
  {
   "cell_type": "code",
   "execution_count": 48,
   "id": "3a3c4c19",
   "metadata": {},
   "outputs": [
    {
     "data": {
      "text/html": [
       "<div>\n",
       "<style scoped>\n",
       "    .dataframe tbody tr th:only-of-type {\n",
       "        vertical-align: middle;\n",
       "    }\n",
       "\n",
       "    .dataframe tbody tr th {\n",
       "        vertical-align: top;\n",
       "    }\n",
       "\n",
       "    .dataframe thead th {\n",
       "        text-align: right;\n",
       "    }\n",
       "</style>\n",
       "<table border=\"1\" class=\"dataframe\">\n",
       "  <thead>\n",
       "    <tr style=\"text-align: right;\">\n",
       "      <th></th>\n",
       "      <th>Longitude</th>\n",
       "      <th>Latitude</th>\n",
       "    </tr>\n",
       "  </thead>\n",
       "  <tbody>\n",
       "    <tr>\n",
       "      <th>1320660</th>\n",
       "      <td>-73.888019</td>\n",
       "      <td>40.813056</td>\n",
       "    </tr>\n",
       "    <tr>\n",
       "      <th>1320661</th>\n",
       "      <td>-73.847608</td>\n",
       "      <td>40.887451</td>\n",
       "    </tr>\n",
       "    <tr>\n",
       "      <th>1320662</th>\n",
       "      <td>-73.847608</td>\n",
       "      <td>40.887451</td>\n",
       "    </tr>\n",
       "  </tbody>\n",
       "</table>\n",
       "</div>"
      ],
      "text/plain": [
       "         Longitude   Latitude\n",
       "1320660 -73.888019  40.813056\n",
       "1320661 -73.847608  40.887451\n",
       "1320662 -73.847608  40.887451"
      ]
     },
     "execution_count": 48,
     "metadata": {},
     "output_type": "execute_result"
    }
   ],
   "source": [
    "br_cluster = bronx[['Longitude', 'Latitude']]\n",
    "br_cluster.head(3)"
   ]
  },
  {
   "cell_type": "code",
   "execution_count": 49,
   "id": "8074f574",
   "metadata": {},
   "outputs": [
    {
     "data": {
      "image/png": "[encoded data removed]",
      "text/plain": [
       "<Figure size 432x288 with 1 Axes>"
      ]
     },
     "metadata": {},
     "output_type": "display_data"
    }
   ],
   "source": [
    "plt.scatter(br_cluster['Longitude'],br_cluster['Latitude'])\n",
    "plt.xlim(-74.0,-73.75)\n",
    "plt.ylim(40.66,40.95)\n",
    "plt.ylabel('Latitude')\n",
    "plt.xlabel('Longitude')\n",
    "plt.title('Unclustered Bronx Crimes')\n",
    "plt.show()"
   ]
  },
  {
   "cell_type": "code",
   "execution_count": 50,
   "id": "1c91088b",
   "metadata": {},
   "outputs": [
    {
     "data": {
      "text/plain": [
       "Longitude    0\n",
       "Latitude     0\n",
       "dtype: int64"
      ]
     },
     "execution_count": 50,
     "metadata": {},
     "output_type": "execute_result"
    }
   ],
   "source": [
    "br_cluster = br_cluster.dropna()\n",
    "br_cluster.isna().sum()"
   ]
  },
  {
   "cell_type": "code",
   "execution_count": 51,
   "id": "c865b045",
   "metadata": {},
   "outputs": [
    {
     "data": {
      "text/plain": [
       "array([0, 1, 1, ..., 0, 0, 0])"
      ]
     },
     "execution_count": 51,
     "metadata": {},
     "output_type": "execute_result"
    }
   ],
   "source": [
    "x = br_cluster.iloc[:,0:3] # 1t for rows and second for columns\n",
    "kmeans = KMeans(2)\n",
    "kmeans.fit(x)\n",
    "identified_clusters = kmeans.fit_predict(x)\n",
    "identified_clusters"
   ]
  },
  {
   "cell_type": "code",
   "execution_count": 52,
   "id": "5a01b37e",
   "metadata": {},
   "outputs": [
    {
     "data": {
      "text/html": [
       "<div>\n",
       "<style scoped>\n",
       "    .dataframe tbody tr th:only-of-type {\n",
       "        vertical-align: middle;\n",
       "    }\n",
       "\n",
       "    .dataframe tbody tr th {\n",
       "        vertical-align: top;\n",
       "    }\n",
       "\n",
       "    .dataframe thead th {\n",
       "        text-align: right;\n",
       "    }\n",
       "</style>\n",
       "<table border=\"1\" class=\"dataframe\">\n",
       "  <thead>\n",
       "    <tr style=\"text-align: right;\">\n",
       "      <th></th>\n",
       "      <th>Longitude</th>\n",
       "      <th>Latitude</th>\n",
       "      <th>Clusters</th>\n",
       "    </tr>\n",
       "  </thead>\n",
       "  <tbody>\n",
       "    <tr>\n",
       "      <th>1320660</th>\n",
       "      <td>-73.888019</td>\n",
       "      <td>40.813056</td>\n",
       "      <td>0</td>\n",
       "    </tr>\n",
       "    <tr>\n",
       "      <th>1320661</th>\n",
       "      <td>-73.847608</td>\n",
       "      <td>40.887451</td>\n",
       "      <td>1</td>\n",
       "    </tr>\n",
       "    <tr>\n",
       "      <th>1320662</th>\n",
       "      <td>-73.847608</td>\n",
       "      <td>40.887451</td>\n",
       "      <td>1</td>\n",
       "    </tr>\n",
       "  </tbody>\n",
       "</table>\n",
       "</div>"
      ],
      "text/plain": [
       "         Longitude   Latitude  Clusters\n",
       "1320660 -73.888019  40.813056         0\n",
       "1320661 -73.847608  40.887451         1\n",
       "1320662 -73.847608  40.887451         1"
      ]
     },
     "execution_count": 52,
     "metadata": {},
     "output_type": "execute_result"
    }
   ],
   "source": [
    "bronx_with_clusters.head(3)"
   ]
  },
  {
   "cell_type": "code",
   "execution_count": 53,
   "id": "54a8e9aa",
   "metadata": {},
   "outputs": [
    {
     "data": {
      "image/png": "[encoded data removed]",
      "text/plain": [
       "<Figure size 432x288 with 1 Axes>"
      ]
     },
     "metadata": {},
     "output_type": "display_data"
    }
   ],
   "source": [
    "bronx_with_clusters = br_cluster.copy()\n",
    "bronx_with_clusters['Clusters'] = identified_clusters \n",
    "plt.scatter(bronx_with_clusters['Longitude'],bronx_with_clusters['Latitude'],c=bronx_with_clusters['Clusters'],cmap='rainbow')\n",
    "plt.ylabel('Latitude')\n",
    "plt.xlabel('Longitude')\n",
    "plt.title('Clustered (K=2) Bronx Crimes after K-Means')\n",
    "red_patch = mpatches.Patch(color='red', label='1')\n",
    "purple_patch = mpatches.Patch(color='purple', label='0')\n",
    "plt.legend(handles=[red_patch, purple_patch])\n",
    "\n",
    "plt.show()"
   ]
  },
  {
   "cell_type": "code",
   "execution_count": 54,
   "id": "c7f30f9f",
   "metadata": {},
   "outputs": [
    {
     "data": {
      "text/html": [
       "<div>\n",
       "<style scoped>\n",
       "    .dataframe tbody tr th:only-of-type {\n",
       "        vertical-align: middle;\n",
       "    }\n",
       "\n",
       "    .dataframe tbody tr th {\n",
       "        vertical-align: top;\n",
       "    }\n",
       "\n",
       "    .dataframe thead th {\n",
       "        text-align: right;\n",
       "    }\n",
       "</style>\n",
       "<table border=\"1\" class=\"dataframe\">\n",
       "  <thead>\n",
       "    <tr style=\"text-align: right;\">\n",
       "      <th></th>\n",
       "      <th>PATROL_BORO</th>\n",
       "      <th>Latitude</th>\n",
       "      <th>Longitude</th>\n",
       "      <th>borough</th>\n",
       "      <th>felony</th>\n",
       "      <th>misdemeanor</th>\n",
       "      <th>completed</th>\n",
       "      <th>s_native</th>\n",
       "      <th>s_apac</th>\n",
       "      <th>s_black</th>\n",
       "      <th>...</th>\n",
       "      <th>2</th>\n",
       "      <th>3</th>\n",
       "      <th>4</th>\n",
       "      <th>5</th>\n",
       "      <th>6</th>\n",
       "      <th>7</th>\n",
       "      <th>8</th>\n",
       "      <th>9</th>\n",
       "      <th>index</th>\n",
       "      <th>clusters</th>\n",
       "    </tr>\n",
       "  </thead>\n",
       "  <tbody>\n",
       "    <tr>\n",
       "      <th>1320660</th>\n",
       "      <td>PATROL BORO BRONX</td>\n",
       "      <td>40.813056</td>\n",
       "      <td>-73.888019</td>\n",
       "      <td>bronx</td>\n",
       "      <td>1</td>\n",
       "      <td>0</td>\n",
       "      <td>1</td>\n",
       "      <td>0</td>\n",
       "      <td>0</td>\n",
       "      <td>0</td>\n",
       "      <td>...</td>\n",
       "      <td>-1.318781</td>\n",
       "      <td>1.756053</td>\n",
       "      <td>1.835138</td>\n",
       "      <td>-1.252986</td>\n",
       "      <td>1.834682</td>\n",
       "      <td>1.093295</td>\n",
       "      <td>-1.280331</td>\n",
       "      <td>-1.433702</td>\n",
       "      <td>1</td>\n",
       "      <td>0</td>\n",
       "    </tr>\n",
       "    <tr>\n",
       "      <th>1320661</th>\n",
       "      <td>PATROL BORO BRONX</td>\n",
       "      <td>40.887451</td>\n",
       "      <td>-73.847608</td>\n",
       "      <td>bronx</td>\n",
       "      <td>0</td>\n",
       "      <td>1</td>\n",
       "      <td>1</td>\n",
       "      <td>0</td>\n",
       "      <td>0</td>\n",
       "      <td>1</td>\n",
       "      <td>...</td>\n",
       "      <td>-1.318781</td>\n",
       "      <td>1.756053</td>\n",
       "      <td>1.835138</td>\n",
       "      <td>-1.252986</td>\n",
       "      <td>1.834682</td>\n",
       "      <td>1.093295</td>\n",
       "      <td>-1.280331</td>\n",
       "      <td>-1.433702</td>\n",
       "      <td>2</td>\n",
       "      <td>1</td>\n",
       "    </tr>\n",
       "    <tr>\n",
       "      <th>1320662</th>\n",
       "      <td>PATROL BORO BRONX</td>\n",
       "      <td>40.887451</td>\n",
       "      <td>-73.847608</td>\n",
       "      <td>bronx</td>\n",
       "      <td>0</td>\n",
       "      <td>1</td>\n",
       "      <td>1</td>\n",
       "      <td>0</td>\n",
       "      <td>0</td>\n",
       "      <td>0</td>\n",
       "      <td>...</td>\n",
       "      <td>-1.318781</td>\n",
       "      <td>1.756053</td>\n",
       "      <td>1.835138</td>\n",
       "      <td>-1.252986</td>\n",
       "      <td>1.834682</td>\n",
       "      <td>1.093295</td>\n",
       "      <td>-1.280331</td>\n",
       "      <td>-1.433702</td>\n",
       "      <td>3</td>\n",
       "      <td>1</td>\n",
       "    </tr>\n",
       "  </tbody>\n",
       "</table>\n",
       "<p>3 rows × 129 columns</p>\n",
       "</div>"
      ],
      "text/plain": [
       "               PATROL_BORO   Latitude  Longitude borough  felony  misdemeanor  \\\n",
       "1320660  PATROL BORO BRONX  40.813056 -73.888019   bronx       1            0   \n",
       "1320661  PATROL BORO BRONX  40.887451 -73.847608   bronx       0            1   \n",
       "1320662  PATROL BORO BRONX  40.887451 -73.847608   bronx       0            1   \n",
       "\n",
       "         completed  s_native  s_apac  s_black  ...         2         3  \\\n",
       "1320660          1         0       0        0  ... -1.318781  1.756053   \n",
       "1320661          1         0       0        1  ... -1.318781  1.756053   \n",
       "1320662          1         0       0        0  ... -1.318781  1.756053   \n",
       "\n",
       "                4         5         6         7         8         9  index  \\\n",
       "1320660  1.835138 -1.252986  1.834682  1.093295 -1.280331 -1.433702      1   \n",
       "1320661  1.835138 -1.252986  1.834682  1.093295 -1.280331 -1.433702      2   \n",
       "1320662  1.835138 -1.252986  1.834682  1.093295 -1.280331 -1.433702      3   \n",
       "\n",
       "         clusters  \n",
       "1320660         0  \n",
       "1320661         1  \n",
       "1320662         1  \n",
       "\n",
       "[3 rows x 129 columns]"
      ]
     },
     "execution_count": 54,
     "metadata": {},
     "output_type": "execute_result"
    }
   ],
   "source": [
    "bronx['clusters'] = identified_clusters\n",
    "bronx.head(3)"
   ]
  },
  {
   "cell_type": "code",
   "execution_count": 55,
   "id": "29357347",
   "metadata": {},
   "outputs": [
    {
     "data": {
      "text/plain": [
       "0    260843\n",
       "1    131790\n",
       "Name: clusters, dtype: int64"
      ]
     },
     "execution_count": 55,
     "metadata": {},
     "output_type": "execute_result"
    }
   ],
   "source": [
    "bronx = bronx.drop(['PATROL_BORO', 'Longitude', 'Latitude','index','borough'], axis=1)\n",
    "bronx = bronx.dropna()\n",
    "len(bronx)\n",
    "bronx['clusters'].value_counts() ##0 is west; 1 is east"
   ]
  },
  {
   "cell_type": "markdown",
   "id": "52e519b2",
   "metadata": {},
   "source": [
    "### Logistic Regression"
   ]
  },
  {
   "cell_type": "code",
   "execution_count": 117,
   "id": "ddf5680a",
   "metadata": {},
   "outputs": [
    {
     "data": {
      "text/plain": [
       "392633"
      ]
     },
     "execution_count": 117,
     "metadata": {},
     "output_type": "execute_result"
    }
   ],
   "source": [
    "len(bronx)"
   ]
  },
  {
   "cell_type": "code",
   "execution_count": 58,
   "id": "ca208037",
   "metadata": {},
   "outputs": [
    {
     "data": {
      "text/plain": [
       "0.6914678665421513"
      ]
     },
     "execution_count": 58,
     "metadata": {},
     "output_type": "execute_result"
    }
   ],
   "source": [
    "y_br = np.array(bronx['clusters'])\n",
    "Xtil_br = np.array(bronx.iloc[:,0:123])\n",
    "#Xtil_st[0]\n",
    "(Xt_br ,Xv_br ,Yt_br ,Yv_br)= train_test_split (Xtil_br ,y_br, test_size =0.3 , random_state =0, shuffle = True)\n",
    "log_br = LogisticRegression(penalty='l1', solver='liblinear', C=10.0)\n",
    "log_br.fit(Xt_br, Yt_br)\n",
    "Ypred_br = log_br.predict(Xv_br)\n",
    "log_br.score(Xv_br,Yv_br)"
   ]
  },
  {
   "cell_type": "code",
   "execution_count": 59,
   "id": "498c881d",
   "metadata": {},
   "outputs": [
    {
     "data": {
      "text/plain": [
       "array([[74671,  3653],\n",
       "       [32689,  6777]], dtype=int64)"
      ]
     },
     "execution_count": 59,
     "metadata": {},
     "output_type": "execute_result"
    }
   ],
   "source": [
    "logit_conf_matrix_br = confusion_matrix(Yv_br, log_br.predict(Xv_br))\n",
    "logit_conf_matrix_br"
   ]
  },
  {
   "cell_type": "code",
   "execution_count": 61,
   "id": "d11e34b9",
   "metadata": {},
   "outputs": [
    {
     "name": "stdout",
     "output_type": "stream",
     "text": [
      "              precision    recall  f1-score   support\n",
      "\n",
      "           0       0.70      0.95      0.80     78324\n",
      "           1       0.65      0.17      0.27     39466\n",
      "\n",
      "    accuracy                           0.69    117790\n",
      "   macro avg       0.67      0.56      0.54    117790\n",
      "weighted avg       0.68      0.69      0.63    117790\n",
      "\n",
      "0.6917494612019764\n"
     ]
    }
   ],
   "source": [
    "print(classification_report(Yv_br, Ypred_br))\n",
    "cv = RepeatedStratifiedKFold(n_splits=5, n_repeats=1, random_state=1)\n",
    "scores_log_br = cross_val_score(log_br, Xtil_br, y_br, scoring='accuracy', cv=cv, n_jobs=-1)\n",
    "print(np.mean(scores_log_br))"
   ]
  },
  {
   "cell_type": "markdown",
   "id": "e4b229cd",
   "metadata": {},
   "source": [
    "### kNN"
   ]
  },
  {
   "cell_type": "code",
   "execution_count": 62,
   "id": "516646bf",
   "metadata": {},
   "outputs": [
    {
     "name": "stdout",
     "output_type": "stream",
     "text": [
      "K:  625\n",
      "Accuracy: 0.6760675778928602\n",
      "[[77879   445]\n",
      " [37711  1755]]\n",
      "              precision    recall  f1-score   support\n",
      "\n",
      "           0       0.67      0.99      0.80     78324\n",
      "           1       0.80      0.04      0.08     39466\n",
      "\n",
      "    accuracy                           0.68    117790\n",
      "   macro avg       0.74      0.52      0.44    117790\n",
      "weighted avg       0.72      0.68      0.56    117790\n",
      "\n"
     ]
    }
   ],
   "source": [
    "br_n = int(((len(bronx))**.5)-1)\n",
    "print('K: ', br_n)\n",
    "knn_br = KNeighborsClassifier(n_neighbors=br_n)\n",
    "knn_br.fit(Xt_br, Yt_br)\n",
    "\n",
    "#Predict the response for test dataset\n",
    "Ypr_knn_br = knn_br.predict(Xv_br)\n",
    "print(\"Accuracy:\",metrics.accuracy_score(Yv_br, Ypr_knn_br))\n",
    "print(confusion_matrix(Yv_br, Ypr_knn_br))\n",
    "print(classification_report(Yv_br, Ypr_knn_br))"
   ]
  },
  {
   "cell_type": "code",
   "execution_count": 118,
   "id": "e1865f69",
   "metadata": {},
   "outputs": [
    {
     "name": "stdout",
     "output_type": "stream",
     "text": [
      "CV accuracy:  0.6763007681108582\n"
     ]
    }
   ],
   "source": [
    "##RUN LATER\n",
    "cv = RepeatedStratifiedKFold(n_splits=5, n_repeats=1, random_state=1)\n",
    "scores_knn_br = cross_val_score(knn_br, Xtil_br, y_br, scoring='accuracy', cv=cv, n_jobs=-1)\n",
    "print('CV accuracy: ', np.mean(scores_knn_br))"
   ]
  },
  {
   "cell_type": "markdown",
   "id": "f5147e42",
   "metadata": {},
   "source": [
    "### LDA Model"
   ]
  },
  {
   "cell_type": "code",
   "execution_count": 63,
   "id": "450278a9",
   "metadata": {},
   "outputs": [
    {
     "name": "stdout",
     "output_type": "stream",
     "text": [
      "Accuracy: 0.6870022922149588\n",
      "[[76860  1464]\n",
      " [35404  4062]]\n",
      "              precision    recall  f1-score   support\n",
      "\n",
      "           0       0.68      0.98      0.81     78324\n",
      "           1       0.74      0.10      0.18     39466\n",
      "\n",
      "    accuracy                           0.69    117790\n",
      "   macro avg       0.71      0.54      0.49    117790\n",
      "weighted avg       0.70      0.69      0.60    117790\n",
      "\n",
      "0.6864697228582044\n"
     ]
    }
   ],
   "source": [
    "lda_br = LinearDiscriminantAnalysis()\n",
    "lda_br.fit(Xt_br, Yt_br)\n",
    "\n",
    "Ypr_lda_br = lda_br.predict(Xv_br)\n",
    "print(\"Accuracy:\",metrics.accuracy_score(Yv_br, Ypr_lda_br))\n",
    "print(confusion_matrix(Yv_br, Ypr_lda_br))\n",
    "print(classification_report(Yv_br, Ypr_lda_br))\n",
    "#evaluate model\n",
    "scores_lda_br = cross_val_score(lda_br, Xtil_br, y_br, scoring='accuracy', cv=cv, n_jobs=-1)\n",
    "print(np.mean(scores_lda_br))"
   ]
  },
  {
   "cell_type": "markdown",
   "id": "8965303b",
   "metadata": {},
   "source": [
    "# Manhattan Models"
   ]
  },
  {
   "cell_type": "code",
   "execution_count": 64,
   "id": "f287f133",
   "metadata": {},
   "outputs": [
    {
     "data": {
      "text/html": [
       "<div>\n",
       "<style scoped>\n",
       "    .dataframe tbody tr th:only-of-type {\n",
       "        vertical-align: middle;\n",
       "    }\n",
       "\n",
       "    .dataframe tbody tr th {\n",
       "        vertical-align: top;\n",
       "    }\n",
       "\n",
       "    .dataframe thead th {\n",
       "        text-align: right;\n",
       "    }\n",
       "</style>\n",
       "<table border=\"1\" class=\"dataframe\">\n",
       "  <thead>\n",
       "    <tr style=\"text-align: right;\">\n",
       "      <th></th>\n",
       "      <th>Longitude</th>\n",
       "      <th>Latitude</th>\n",
       "    </tr>\n",
       "  </thead>\n",
       "  <tbody>\n",
       "    <tr>\n",
       "      <th>360468</th>\n",
       "      <td>-73.983316</td>\n",
       "      <td>40.736698</td>\n",
       "    </tr>\n",
       "    <tr>\n",
       "      <th>360469</th>\n",
       "      <td>-73.956682</td>\n",
       "      <td>40.814850</td>\n",
       "    </tr>\n",
       "    <tr>\n",
       "      <th>360470</th>\n",
       "      <td>-73.948516</td>\n",
       "      <td>40.816041</td>\n",
       "    </tr>\n",
       "  </tbody>\n",
       "</table>\n",
       "</div>"
      ],
      "text/plain": [
       "        Longitude   Latitude\n",
       "360468 -73.983316  40.736698\n",
       "360469 -73.956682  40.814850\n",
       "360470 -73.948516  40.816041"
      ]
     },
     "execution_count": 64,
     "metadata": {},
     "output_type": "execute_result"
    }
   ],
   "source": [
    "manhattan = df[df['borough']=='manhattan']\n",
    "manhattan = manhattan.dropna()\n",
    "#bronx.head(3)\n",
    "len(manhattan)\n",
    "index_manhattan = list(range(1, len(manhattan)+1))\n",
    "manhattan['index'] = index_manhattan\n",
    "#bronx.head(1)\n",
    "man_cluster = manhattan[['Longitude', 'Latitude']]\n",
    "man_cluster.head(3)"
   ]
  },
  {
   "cell_type": "code",
   "execution_count": 67,
   "id": "8bc1d531",
   "metadata": {},
   "outputs": [
    {
     "data": {
      "image/png": "[encoded data removed]",
      "text/plain": [
       "<Figure size 432x288 with 1 Axes>"
      ]
     },
     "metadata": {},
     "output_type": "display_data"
    }
   ],
   "source": [
    "plt.scatter(man_cluster['Longitude'],man_cluster['Latitude'])\n",
    "plt.xlim(-74.05,-73.80)\n",
    "plt.ylim(40.60,40.90)\n",
    "plt.ylabel('Latitude')\n",
    "plt.xlabel('Longitude')\n",
    "plt.title('Unclustered Manhattan Crimes')\n",
    "plt.show()"
   ]
  },
  {
   "cell_type": "code",
   "execution_count": 68,
   "id": "434b7880",
   "metadata": {},
   "outputs": [
    {
     "data": {
      "text/plain": [
       "array([0, 1, 1, ..., 0, 0, 0])"
      ]
     },
     "execution_count": 68,
     "metadata": {},
     "output_type": "execute_result"
    }
   ],
   "source": [
    "man_cluster = man_cluster.dropna()\n",
    "man_cluster.isna().sum()\n",
    "x = man_cluster.iloc[:,0:3] # 1t for rows and second for columns\n",
    "kmeans = KMeans(2)\n",
    "kmeans.fit(x)\n",
    "identified_clusters_man = kmeans.fit_predict(x)\n",
    "identified_clusters_man"
   ]
  },
  {
   "cell_type": "code",
   "execution_count": 71,
   "id": "e5a9a003",
   "metadata": {},
   "outputs": [
    {
     "data": {
      "image/png": "[encoded data removed]",
      "text/plain": [
       "<Figure size 432x288 with 1 Axes>"
      ]
     },
     "metadata": {},
     "output_type": "display_data"
    }
   ],
   "source": [
    "manhattan_with_clusters = man_cluster.copy()\n",
    "manhattan_with_clusters['Clusters'] = identified_clusters_man \n",
    "plt.scatter(manhattan_with_clusters['Longitude'],manhattan_with_clusters['Latitude'],c=manhattan_with_clusters['Clusters'],cmap='rainbow')\n",
    "plt.ylabel('Latitude')\n",
    "plt.xlabel('Longitude')\n",
    "plt.title('Clustered (K=2) Manhattan Crimes after K-Means')\n",
    "red_patch = mpatches.Patch(color='red', label='1')\n",
    "purple_patch = mpatches.Patch(color='purple', label='0')\n",
    "plt.legend(handles=[red_patch, purple_patch])\n",
    "\n",
    "plt.show()"
   ]
  },
  {
   "cell_type": "code",
   "execution_count": 70,
   "id": "0f38b22d",
   "metadata": {},
   "outputs": [
    {
     "data": {
      "text/html": [
       "<div>\n",
       "<style scoped>\n",
       "    .dataframe tbody tr th:only-of-type {\n",
       "        vertical-align: middle;\n",
       "    }\n",
       "\n",
       "    .dataframe tbody tr th {\n",
       "        vertical-align: top;\n",
       "    }\n",
       "\n",
       "    .dataframe thead th {\n",
       "        text-align: right;\n",
       "    }\n",
       "</style>\n",
       "<table border=\"1\" class=\"dataframe\">\n",
       "  <thead>\n",
       "    <tr style=\"text-align: right;\">\n",
       "      <th></th>\n",
       "      <th>Longitude</th>\n",
       "      <th>Latitude</th>\n",
       "      <th>Clusters</th>\n",
       "    </tr>\n",
       "  </thead>\n",
       "  <tbody>\n",
       "    <tr>\n",
       "      <th>360468</th>\n",
       "      <td>-73.983316</td>\n",
       "      <td>40.736698</td>\n",
       "      <td>0</td>\n",
       "    </tr>\n",
       "    <tr>\n",
       "      <th>360469</th>\n",
       "      <td>-73.956682</td>\n",
       "      <td>40.814850</td>\n",
       "      <td>1</td>\n",
       "    </tr>\n",
       "    <tr>\n",
       "      <th>360470</th>\n",
       "      <td>-73.948516</td>\n",
       "      <td>40.816041</td>\n",
       "      <td>1</td>\n",
       "    </tr>\n",
       "  </tbody>\n",
       "</table>\n",
       "</div>"
      ],
      "text/plain": [
       "        Longitude   Latitude  Clusters\n",
       "360468 -73.983316  40.736698         0\n",
       "360469 -73.956682  40.814850         1\n",
       "360470 -73.948516  40.816041         1"
      ]
     },
     "execution_count": 70,
     "metadata": {},
     "output_type": "execute_result"
    }
   ],
   "source": [
    "manhattan_with_clusters.head(3)"
   ]
  },
  {
   "cell_type": "code",
   "execution_count": 72,
   "id": "1fcdc00f",
   "metadata": {},
   "outputs": [
    {
     "name": "stdout",
     "output_type": "stream",
     "text": [
      "438560\n"
     ]
    },
    {
     "data": {
      "text/plain": [
       "0    243618\n",
       "1    194942\n",
       "Name: clusters, dtype: int64"
      ]
     },
     "execution_count": 72,
     "metadata": {},
     "output_type": "execute_result"
    }
   ],
   "source": [
    "manhattan['clusters'] = identified_clusters_man\n",
    "#bronx.head(3)\n",
    "manhattan = manhattan.drop(['PATROL_BORO', 'Longitude', 'Latitude','index','borough'], axis=1)\n",
    "manhattan = manhattan.dropna()\n",
    "print(len(manhattan))\n",
    "manhattan['clusters'].value_counts() ##0 is southwest; 1 is northeast"
   ]
  },
  {
   "cell_type": "markdown",
   "id": "f280300c",
   "metadata": {},
   "source": [
    "#### Logitstic Regression Manhattan"
   ]
  },
  {
   "cell_type": "code",
   "execution_count": 73,
   "id": "02b5067d",
   "metadata": {},
   "outputs": [
    {
     "name": "stdout",
     "output_type": "stream",
     "text": [
      "accuracy:  0.6977836556001459\n",
      "[[55812 17547]\n",
      " [22215 35994]]\n",
      "              precision    recall  f1-score   support\n",
      "\n",
      "           0       0.72      0.76      0.74     73359\n",
      "           1       0.67      0.62      0.64     58209\n",
      "\n",
      "    accuracy                           0.70    131568\n",
      "   macro avg       0.69      0.69      0.69    131568\n",
      "weighted avg       0.70      0.70      0.70    131568\n",
      "\n",
      "0.6977357716161985\n"
     ]
    }
   ],
   "source": [
    "y_man = np.array(manhattan['clusters'])\n",
    "Xtil_man = np.array(manhattan.iloc[:,0:123])\n",
    "#Xtil_st[0]\n",
    "(Xt_man ,Xv_man ,Yt_man ,Yv_man)= train_test_split (Xtil_man ,y_man, test_size =0.3 , random_state =0, shuffle = True)\n",
    "log_man = LogisticRegression(penalty='l1', solver='liblinear', C=10.0)\n",
    "log_man.fit(Xt_man, Yt_man)\n",
    "Ypred_man = log_man.predict(Xv_man)\n",
    "print('accuracy: ', log_man.score(Xv_man,Yv_man))\n",
    "\n",
    "logit_conf_matrix_man = confusion_matrix(Yv_man, log_man.predict(Xv_man))\n",
    "print(logit_conf_matrix_man)\n",
    "\n",
    "print(classification_report(Yv_man, Ypred_man))\n",
    "cv = RepeatedStratifiedKFold(n_splits=5, n_repeats=1, random_state=1)\n",
    "scores_log_man = cross_val_score(log_man, Xtil_man, y_man, scoring='accuracy', cv=cv, n_jobs=-1)\n",
    "print(np.mean(scores_log_man))"
   ]
  },
  {
   "cell_type": "markdown",
   "id": "a5d0266a",
   "metadata": {},
   "source": [
    "#### KNN Manhattan"
   ]
  },
  {
   "cell_type": "code",
   "execution_count": 75,
   "id": "9f7deefa",
   "metadata": {},
   "outputs": [
    {
     "name": "stdout",
     "output_type": "stream",
     "text": [
      "K:  661\n",
      "Accuracy: 0.6783412379910009\n",
      "[[56597 16762]\n",
      " [25558 32651]]\n",
      "              precision    recall  f1-score   support\n",
      "\n",
      "           0       0.69      0.77      0.73     73359\n",
      "           1       0.66      0.56      0.61     58209\n",
      "\n",
      "    accuracy                           0.68    131568\n",
      "   macro avg       0.67      0.67      0.67    131568\n",
      "weighted avg       0.68      0.68      0.67    131568\n",
      "\n"
     ]
    }
   ],
   "source": [
    "man_n = int(((len(manhattan))**.5)-1)\n",
    "print('K: ', man_n)\n",
    "knn_man = KNeighborsClassifier(n_neighbors=man_n)\n",
    "knn_man.fit(Xt_man, Yt_man)\n",
    "\n",
    "#Predict the response for test dataset\n",
    "Ypr_knn_man = knn_man.predict(Xv_man)\n",
    "print(\"Accuracy:\",metrics.accuracy_score(Yv_man, Ypr_knn_man))\n",
    "print(confusion_matrix(Yv_man, Ypr_knn_man))\n",
    "print(classification_report(Yv_man, Ypr_knn_man))"
   ]
  },
  {
   "cell_type": "code",
   "execution_count": 119,
   "id": "59ab6fd0",
   "metadata": {},
   "outputs": [
    {
     "name": "stdout",
     "output_type": "stream",
     "text": [
      "CV accuracy:  0.6792001094491062\n"
     ]
    }
   ],
   "source": [
    "##RUN LATER\n",
    "scores_knn_man = cross_val_score(knn_man, Xtil_man, y_man, scoring='accuracy', cv=cv, n_jobs=-1)\n",
    "print('CV accuracy: ', np.mean(scores_knn_man))"
   ]
  },
  {
   "cell_type": "markdown",
   "id": "eb15ce3b",
   "metadata": {},
   "source": [
    "#### LDA Manhattan"
   ]
  },
  {
   "cell_type": "code",
   "execution_count": 77,
   "id": "6e76de11",
   "metadata": {},
   "outputs": [
    {
     "name": "stdout",
     "output_type": "stream",
     "text": [
      "Accuracy: 0.6929344521464186\n",
      "[[59037 14322]\n",
      " [26078 32131]]\n",
      "              precision    recall  f1-score   support\n",
      "\n",
      "           0       0.69      0.80      0.75     73359\n",
      "           1       0.69      0.55      0.61     58209\n",
      "\n",
      "    accuracy                           0.69    131568\n",
      "   macro avg       0.69      0.68      0.68    131568\n",
      "weighted avg       0.69      0.69      0.69    131568\n",
      "\n",
      "0.6934740970448742\n"
     ]
    }
   ],
   "source": [
    "lda_man = LinearDiscriminantAnalysis()\n",
    "lda_man.fit(Xt_man, Yt_man)\n",
    "\n",
    "Ypr_lda_man = lda_man.predict(Xv_man)\n",
    "print(\"Accuracy:\",metrics.accuracy_score(Yv_man, Ypr_lda_man))\n",
    "print(confusion_matrix(Yv_man, Ypr_lda_man))\n",
    "print(classification_report(Yv_man, Ypr_lda_man))\n",
    "#evaluate model\n",
    "scores_lda_man = cross_val_score(lda_man, Xtil_man, y_man, scoring='accuracy', cv=cv, n_jobs=-1)\n",
    "print(np.mean(scores_lda_man))"
   ]
  },
  {
   "cell_type": "markdown",
   "id": "84bfae7d",
   "metadata": {},
   "source": [
    "# Brooklyn Models (BK)"
   ]
  },
  {
   "cell_type": "code",
   "execution_count": 92,
   "id": "9c1658cd",
   "metadata": {},
   "outputs": [
    {
     "data": {
      "text/html": [
       "<div>\n",
       "<style scoped>\n",
       "    .dataframe tbody tr th:only-of-type {\n",
       "        vertical-align: middle;\n",
       "    }\n",
       "\n",
       "    .dataframe tbody tr th {\n",
       "        vertical-align: top;\n",
       "    }\n",
       "\n",
       "    .dataframe thead th {\n",
       "        text-align: right;\n",
       "    }\n",
       "</style>\n",
       "<table border=\"1\" class=\"dataframe\">\n",
       "  <thead>\n",
       "    <tr style=\"text-align: right;\">\n",
       "      <th></th>\n",
       "      <th>Longitude</th>\n",
       "      <th>Latitude</th>\n",
       "    </tr>\n",
       "  </thead>\n",
       "  <tbody>\n",
       "    <tr>\n",
       "      <th>799032</th>\n",
       "      <td>-73.957114</td>\n",
       "      <td>40.665023</td>\n",
       "    </tr>\n",
       "    <tr>\n",
       "      <th>799033</th>\n",
       "      <td>-73.964718</td>\n",
       "      <td>40.607011</td>\n",
       "    </tr>\n",
       "    <tr>\n",
       "      <th>799034</th>\n",
       "      <td>-73.918083</td>\n",
       "      <td>40.697964</td>\n",
       "    </tr>\n",
       "  </tbody>\n",
       "</table>\n",
       "</div>"
      ],
      "text/plain": [
       "        Longitude   Latitude\n",
       "799032 -73.957114  40.665023\n",
       "799033 -73.964718  40.607011\n",
       "799034 -73.918083  40.697964"
      ]
     },
     "execution_count": 92,
     "metadata": {},
     "output_type": "execute_result"
    }
   ],
   "source": [
    "brooklyn = df[df['borough']=='brooklyn']\n",
    "brooklyn = brooklyn.dropna()\n",
    "#bronx.head(3)\n",
    "len(brooklyn)\n",
    "index_brooklyn = list(range(1, len(brooklyn)+1))\n",
    "brooklyn['index'] = index_brooklyn\n",
    "#bronx.head(1)\n",
    "bk_cluster = brooklyn[['Longitude', 'Latitude']]\n",
    "bk_cluster.head(3)"
   ]
  },
  {
   "cell_type": "code",
   "execution_count": 123,
   "id": "b30680a4",
   "metadata": {},
   "outputs": [
    {
     "data": {
      "text/plain": [
       "521622"
      ]
     },
     "execution_count": 123,
     "metadata": {},
     "output_type": "execute_result"
    }
   ],
   "source": [
    "len(brooklyn)"
   ]
  },
  {
   "cell_type": "code",
   "execution_count": 79,
   "id": "54067b76",
   "metadata": {},
   "outputs": [
    {
     "data": {
      "image/png": "[encoded data removed]",
      "text/plain": [
       "<Figure size 432x288 with 1 Axes>"
      ]
     },
     "metadata": {},
     "output_type": "display_data"
    }
   ],
   "source": [
    "plt.scatter(bk_cluster['Longitude'],bk_cluster['Latitude'])\n",
    "#plt.xlim(-74.05,-73.80)\n",
    "#plt.ylim(40.60,40.90)\n",
    "plt.ylabel('Latitude')\n",
    "plt.xlabel('Longitude')\n",
    "plt.title('Unclustered Brooklyn Crimes')\n",
    "plt.show()"
   ]
  },
  {
   "cell_type": "code",
   "execution_count": 93,
   "id": "136c8a63",
   "metadata": {},
   "outputs": [
    {
     "data": {
      "text/plain": [
       "array([1, 0, 1, ..., 1, 1, 1])"
      ]
     },
     "execution_count": 93,
     "metadata": {},
     "output_type": "execute_result"
    }
   ],
   "source": [
    "bk_cluster = bk_cluster.dropna()\n",
    "bk_cluster.isna().sum()\n",
    "x = bk_cluster.iloc[:,0:3] # 1t for rows and second for columns\n",
    "kmeans = KMeans(2)\n",
    "kmeans.fit(x)\n",
    "identified_clusters_bk = kmeans.fit_predict(x)\n",
    "identified_clusters_bk"
   ]
  },
  {
   "cell_type": "code",
   "execution_count": 95,
   "id": "50c2519e",
   "metadata": {},
   "outputs": [
    {
     "data": {
      "image/png": "[encoded data removed]",
      "text/plain": [
       "<Figure size 432x288 with 1 Axes>"
      ]
     },
     "metadata": {},
     "output_type": "display_data"
    }
   ],
   "source": [
    "brooklyn_with_clusters = bk_cluster.copy()\n",
    "brooklyn_with_clusters['Clusters'] = identified_clusters_bk \n",
    "plt.scatter(brooklyn_with_clusters['Longitude'],brooklyn_with_clusters['Latitude'],c=brooklyn_with_clusters['Clusters'],cmap='rainbow')\n",
    "plt.ylabel('Latitude')\n",
    "plt.xlabel('Longitude')\n",
    "plt.title('Clustered (K=2) Brooklyn Crimes after K-Means')\n",
    "red_patch = mpatches.Patch(color='red', label='1')\n",
    "purple_patch = mpatches.Patch(color='purple', label='0')\n",
    "#green_patch = mpatches.Patch(color='lightgreen', label='1')\n",
    "plt.legend(handles=[red_patch, purple_patch])#, green_patch\n",
    "\n",
    "plt.show()"
   ]
  },
  {
   "cell_type": "code",
   "execution_count": 96,
   "id": "7f06e12b",
   "metadata": {},
   "outputs": [
    {
     "data": {
      "text/html": [
       "<div>\n",
       "<style scoped>\n",
       "    .dataframe tbody tr th:only-of-type {\n",
       "        vertical-align: middle;\n",
       "    }\n",
       "\n",
       "    .dataframe tbody tr th {\n",
       "        vertical-align: top;\n",
       "    }\n",
       "\n",
       "    .dataframe thead th {\n",
       "        text-align: right;\n",
       "    }\n",
       "</style>\n",
       "<table border=\"1\" class=\"dataframe\">\n",
       "  <thead>\n",
       "    <tr style=\"text-align: right;\">\n",
       "      <th></th>\n",
       "      <th>Longitude</th>\n",
       "      <th>Latitude</th>\n",
       "      <th>Clusters</th>\n",
       "    </tr>\n",
       "  </thead>\n",
       "  <tbody>\n",
       "    <tr>\n",
       "      <th>799032</th>\n",
       "      <td>-73.957114</td>\n",
       "      <td>40.665023</td>\n",
       "      <td>1</td>\n",
       "    </tr>\n",
       "    <tr>\n",
       "      <th>799033</th>\n",
       "      <td>-73.964718</td>\n",
       "      <td>40.607011</td>\n",
       "      <td>0</td>\n",
       "    </tr>\n",
       "    <tr>\n",
       "      <th>799034</th>\n",
       "      <td>-73.918083</td>\n",
       "      <td>40.697964</td>\n",
       "      <td>1</td>\n",
       "    </tr>\n",
       "  </tbody>\n",
       "</table>\n",
       "</div>"
      ],
      "text/plain": [
       "        Longitude   Latitude  Clusters\n",
       "799032 -73.957114  40.665023         1\n",
       "799033 -73.964718  40.607011         0\n",
       "799034 -73.918083  40.697964         1"
      ]
     },
     "execution_count": 96,
     "metadata": {},
     "output_type": "execute_result"
    }
   ],
   "source": [
    "brooklyn_with_clusters.head(3)"
   ]
  },
  {
   "cell_type": "code",
   "execution_count": 97,
   "id": "57e51990",
   "metadata": {},
   "outputs": [
    {
     "name": "stdout",
     "output_type": "stream",
     "text": [
      "521622\n"
     ]
    },
    {
     "data": {
      "text/plain": [
       "1    348069\n",
       "0    173553\n",
       "Name: clusters, dtype: int64"
      ]
     },
     "execution_count": 97,
     "metadata": {},
     "output_type": "execute_result"
    }
   ],
   "source": [
    "brooklyn['clusters'] = identified_clusters_bk\n",
    "#bronx.head(3)\n",
    "brooklyn = brooklyn.drop(['PATROL_BORO', 'Longitude', 'Latitude','index','borough'], axis=1)\n",
    "brooklyn = brooklyn.dropna()\n",
    "print(len(brooklyn))\n",
    "brooklyn['clusters'].value_counts() ##0 is southwest; 1 is northeast"
   ]
  },
  {
   "cell_type": "code",
   "execution_count": 98,
   "id": "833d570a",
   "metadata": {},
   "outputs": [],
   "source": [
    "y_bk = np.array(brooklyn['clusters'])\n",
    "Xtil_bk = np.array(brooklyn.iloc[:,0:123])\n",
    "#Xtil_st[0]\n",
    "(Xt_bk ,Xv_bk ,Yt_bk ,Yv_bk)= train_test_split (Xtil_bk ,y_bk, test_size =0.3 , random_state =0, shuffle = True)"
   ]
  },
  {
   "cell_type": "markdown",
   "id": "468fda58",
   "metadata": {},
   "source": [
    "#### Logistic Brooklyn"
   ]
  },
  {
   "cell_type": "code",
   "execution_count": 105,
   "id": "dda6bb07",
   "metadata": {},
   "outputs": [
    {
     "name": "stdout",
     "output_type": "stream",
     "text": [
      "accuracy:  0.7313514860659351\n",
      "[[19915 32037]\n",
      " [10003 94532]]\n",
      "              precision    recall  f1-score   support\n",
      "\n",
      "           0       0.67      0.38      0.49     51952\n",
      "           1       0.75      0.90      0.82    104535\n",
      "\n",
      "    accuracy                           0.73    156487\n",
      "   macro avg       0.71      0.64      0.65    156487\n",
      "weighted avg       0.72      0.73      0.71    156487\n",
      "\n",
      "0.7314587970803377\n"
     ]
    }
   ],
   "source": [
    "log_bk = LogisticRegression(penalty='l1', solver='liblinear', C=10.0)\n",
    "log_bk.fit(Xt_bk, Yt_bk)\n",
    "Ypred_bk = log_bk.predict(Xv_bk)\n",
    "print('accuracy: ', log_bk.score(Xv_bk,Yv_bk))\n",
    "\n",
    "logit_conf_matrix_bk = confusion_matrix(Yv_bk, log_bk.predict(Xv_bk))\n",
    "print(logit_conf_matrix_bk)\n",
    "\n",
    "print(classification_report(Yv_bk, Ypred_bk))\n",
    "cv = RepeatedStratifiedKFold(n_splits=5, n_repeats=1, random_state=1)\n",
    "scores_log_bk = cross_val_score(log_bk, Xtil_bk, y_bk, scoring='accuracy', cv=cv, n_jobs=-1)\n",
    "print(np.mean(scores_log_bk))"
   ]
  },
  {
   "cell_type": "markdown",
   "id": "3f48ecfa",
   "metadata": {},
   "source": [
    "#### LDA Brooklyn"
   ]
  },
  {
   "cell_type": "code",
   "execution_count": 99,
   "id": "c7c84577",
   "metadata": {},
   "outputs": [
    {
     "name": "stdout",
     "output_type": "stream",
     "text": [
      "Accuracy: 0.7049147852537272\n",
      "[[  8766  43186]\n",
      " [  2991 101544]]\n",
      "              precision    recall  f1-score   support\n",
      "\n",
      "           0       0.75      0.17      0.28     51952\n",
      "           1       0.70      0.97      0.81    104535\n",
      "\n",
      "    accuracy                           0.70    156487\n",
      "   macro avg       0.72      0.57      0.54    156487\n",
      "weighted avg       0.72      0.70      0.64    156487\n",
      "\n",
      "0.7038890239391625\n"
     ]
    }
   ],
   "source": [
    "lda_bk = LinearDiscriminantAnalysis()\n",
    "lda_bk.fit(Xt_bk, Yt_bk)\n",
    "\n",
    "Ypr_lda_bk = lda_bk.predict(Xv_bk)\n",
    "print(\"Accuracy:\",metrics.accuracy_score(Yv_bk, Ypr_lda_bk))\n",
    "print(confusion_matrix(Yv_bk, Ypr_lda_bk))\n",
    "print(classification_report(Yv_bk, Ypr_lda_bk))\n",
    "#evaluate model\n",
    "scores_lda_bk = cross_val_score(lda_bk, Xtil_bk, y_bk, scoring='accuracy', cv=cv, n_jobs=-1)\n",
    "print(np.mean(scores_lda_bk))"
   ]
  },
  {
   "cell_type": "markdown",
   "id": "c52fb163",
   "metadata": {},
   "source": [
    "#### KNN Regression Brooklyn"
   ]
  },
  {
   "cell_type": "code",
   "execution_count": 100,
   "id": "9979afb5",
   "metadata": {},
   "outputs": [
    {
     "name": "stdout",
     "output_type": "stream",
     "text": [
      "K:  721\n",
      "Accuracy: 0.7231463316441621\n",
      "[[15448 36504]\n",
      " [ 6820 97715]]\n",
      "              precision    recall  f1-score   support\n",
      "\n",
      "           0       0.69      0.30      0.42     51952\n",
      "           1       0.73      0.93      0.82    104535\n",
      "\n",
      "    accuracy                           0.72    156487\n",
      "   macro avg       0.71      0.62      0.62    156487\n",
      "weighted avg       0.72      0.72      0.68    156487\n",
      "\n"
     ]
    }
   ],
   "source": [
    "bk_n = int(((len(brooklyn))**.5)-1)\n",
    "print('K: ', bk_n)\n",
    "knn_bk = KNeighborsClassifier(n_neighbors=bk_n)\n",
    "knn_bk.fit(Xt_bk, Yt_bk)\n",
    "\n",
    "#Predict the response for test dataset\n",
    "Ypr_knn_bk = knn_bk.predict(Xv_bk)\n",
    "print(\"Accuracy:\",metrics.accuracy_score(Yv_bk, Ypr_knn_bk))\n",
    "print(confusion_matrix(Yv_bk, Ypr_knn_bk))\n",
    "print(classification_report(Yv_bk, Ypr_knn_bk))"
   ]
  },
  {
   "cell_type": "code",
   "execution_count": 120,
   "id": "6980bd8f",
   "metadata": {},
   "outputs": [
    {
     "name": "stdout",
     "output_type": "stream",
     "text": [
      "CV accuracy:  0.7242313425428402\n"
     ]
    }
   ],
   "source": [
    "##RUN LATER\n",
    "scores_knn_bk = cross_val_score(knn_bk, Xtil_bk, y_bk, scoring='accuracy', cv=cv, n_jobs=-1)\n",
    "print('CV accuracy: ', np.mean(scores_knn_bk))"
   ]
  },
  {
   "cell_type": "markdown",
   "id": "adc97478",
   "metadata": {},
   "source": [
    "# Queens Models"
   ]
  },
  {
   "cell_type": "code",
   "execution_count": 106,
   "id": "84d8b333",
   "metadata": {},
   "outputs": [
    {
     "data": {
      "text/html": [
       "<div>\n",
       "<style scoped>\n",
       "    .dataframe tbody tr th:only-of-type {\n",
       "        vertical-align: middle;\n",
       "    }\n",
       "\n",
       "    .dataframe tbody tr th {\n",
       "        vertical-align: top;\n",
       "    }\n",
       "\n",
       "    .dataframe thead th {\n",
       "        text-align: right;\n",
       "    }\n",
       "</style>\n",
       "<table border=\"1\" class=\"dataframe\">\n",
       "  <thead>\n",
       "    <tr style=\"text-align: right;\">\n",
       "      <th></th>\n",
       "      <th>Longitude</th>\n",
       "      <th>Latitude</th>\n",
       "    </tr>\n",
       "  </thead>\n",
       "  <tbody>\n",
       "    <tr>\n",
       "      <th>0</th>\n",
       "      <td>-73.826917</td>\n",
       "      <td>40.762334</td>\n",
       "    </tr>\n",
       "    <tr>\n",
       "      <th>1</th>\n",
       "      <td>-73.915508</td>\n",
       "      <td>40.769306</td>\n",
       "    </tr>\n",
       "    <tr>\n",
       "      <th>2</th>\n",
       "      <td>-73.900820</td>\n",
       "      <td>40.717372</td>\n",
       "    </tr>\n",
       "  </tbody>\n",
       "</table>\n",
       "</div>"
      ],
      "text/plain": [
       "   Longitude   Latitude\n",
       "0 -73.826917  40.762334\n",
       "1 -73.915508  40.769306\n",
       "2 -73.900820  40.717372"
      ]
     },
     "execution_count": 106,
     "metadata": {},
     "output_type": "execute_result"
    }
   ],
   "source": [
    "queens = df[df['borough']=='queens']\n",
    "queens = queens.dropna()\n",
    "#bronx.head(3)\n",
    "len(queens)\n",
    "index_queens = list(range(1, len(queens)+1))\n",
    "queens['index'] = index_queens\n",
    "#bronx.head(1)\n",
    "qn_cluster = queens[['Longitude', 'Latitude']]\n",
    "qn_cluster.head(3)"
   ]
  },
  {
   "cell_type": "code",
   "execution_count": 107,
   "id": "b661c7f6",
   "metadata": {},
   "outputs": [
    {
     "data": {
      "image/png": "[encoded data removed]",
      "text/plain": [
       "<Figure size 432x288 with 1 Axes>"
      ]
     },
     "metadata": {},
     "output_type": "display_data"
    }
   ],
   "source": [
    "plt.scatter(qn_cluster['Longitude'],qn_cluster['Latitude'])\n",
    "#plt.xlim(-74.05,-73.80)\n",
    "#plt.ylim(40.60,40.90)\n",
    "plt.ylabel('Latitude')\n",
    "plt.xlabel('Longitude')\n",
    "plt.title('Unclustered Queens Crimes')\n",
    "plt.show()"
   ]
  },
  {
   "cell_type": "code",
   "execution_count": 108,
   "id": "b3aa5b86",
   "metadata": {},
   "outputs": [
    {
     "data": {
      "text/plain": [
       "array([1, 1, 1, ..., 1, 0, 1])"
      ]
     },
     "execution_count": 108,
     "metadata": {},
     "output_type": "execute_result"
    }
   ],
   "source": [
    "qn_cluster = qn_cluster.dropna()\n",
    "qn_cluster.isna().sum()\n",
    "x = qn_cluster.iloc[:,0:3] # 1t for rows and second for columns\n",
    "kmeans = KMeans(2)\n",
    "kmeans.fit(x)\n",
    "identified_clusters_qn = kmeans.fit_predict(x)\n",
    "identified_clusters_qn"
   ]
  },
  {
   "cell_type": "code",
   "execution_count": 109,
   "id": "b55bfd0e",
   "metadata": {},
   "outputs": [
    {
     "data": {
      "image/png": "[encoded data removed]",
      "text/plain": [
       "<Figure size 432x288 with 1 Axes>"
      ]
     },
     "metadata": {},
     "output_type": "display_data"
    }
   ],
   "source": [
    "queen_with_clusters = qn_cluster.copy()\n",
    "queen_with_clusters['Clusters'] = identified_clusters_qn \n",
    "plt.scatter(queen_with_clusters['Longitude'],queen_with_clusters['Latitude'],c=queen_with_clusters['Clusters'],cmap='rainbow')\n",
    "plt.ylabel('Latitude')\n",
    "plt.xlabel('Longitude')\n",
    "plt.title('Clustered (K=2) Queens Crimes after K-Means')\n",
    "red_patch = mpatches.Patch(color='red', label='1')\n",
    "purple_patch = mpatches.Patch(color='purple', label='0')\n",
    "#green_patch = mpatches.Patch(color='lightgreen', label='1')\n",
    "plt.legend(handles=[red_patch, purple_patch])#, green_patch\n",
    "\n",
    "plt.show()"
   ]
  },
  {
   "cell_type": "code",
   "execution_count": 111,
   "id": "8356d0da",
   "metadata": {},
   "outputs": [
    {
     "data": {
      "text/html": [
       "<div>\n",
       "<style scoped>\n",
       "    .dataframe tbody tr th:only-of-type {\n",
       "        vertical-align: middle;\n",
       "    }\n",
       "\n",
       "    .dataframe tbody tr th {\n",
       "        vertical-align: top;\n",
       "    }\n",
       "\n",
       "    .dataframe thead th {\n",
       "        text-align: right;\n",
       "    }\n",
       "</style>\n",
       "<table border=\"1\" class=\"dataframe\">\n",
       "  <thead>\n",
       "    <tr style=\"text-align: right;\">\n",
       "      <th></th>\n",
       "      <th>Longitude</th>\n",
       "      <th>Latitude</th>\n",
       "      <th>Clusters</th>\n",
       "    </tr>\n",
       "  </thead>\n",
       "  <tbody>\n",
       "    <tr>\n",
       "      <th>0</th>\n",
       "      <td>-73.826917</td>\n",
       "      <td>40.762334</td>\n",
       "      <td>1</td>\n",
       "    </tr>\n",
       "    <tr>\n",
       "      <th>1</th>\n",
       "      <td>-73.915508</td>\n",
       "      <td>40.769306</td>\n",
       "      <td>1</td>\n",
       "    </tr>\n",
       "    <tr>\n",
       "      <th>2</th>\n",
       "      <td>-73.900820</td>\n",
       "      <td>40.717372</td>\n",
       "      <td>1</td>\n",
       "    </tr>\n",
       "  </tbody>\n",
       "</table>\n",
       "</div>"
      ],
      "text/plain": [
       "   Longitude   Latitude  Clusters\n",
       "0 -73.826917  40.762334         1\n",
       "1 -73.915508  40.769306         1\n",
       "2 -73.900820  40.717372         1"
      ]
     },
     "execution_count": 111,
     "metadata": {},
     "output_type": "execute_result"
    }
   ],
   "source": [
    "queen_with_clusters.head(3)"
   ]
  },
  {
   "cell_type": "code",
   "execution_count": 112,
   "id": "146b2cac",
   "metadata": {},
   "outputs": [
    {
     "name": "stdout",
     "output_type": "stream",
     "text": [
      "360467\n"
     ]
    },
    {
     "data": {
      "text/plain": [
       "1    180742\n",
       "0    179725\n",
       "Name: clusters, dtype: int64"
      ]
     },
     "execution_count": 112,
     "metadata": {},
     "output_type": "execute_result"
    }
   ],
   "source": [
    "queens['clusters'] = identified_clusters_qn\n",
    "#bronx.head(3)\n",
    "queens = queens.drop(['PATROL_BORO', 'Longitude', 'Latitude','index','borough'], axis=1)\n",
    "queens = queens.dropna()\n",
    "print(len(queens))\n",
    "queens['clusters'].value_counts() ##0 is southwest; 1 is northeast"
   ]
  },
  {
   "cell_type": "code",
   "execution_count": 113,
   "id": "b5a4ec82",
   "metadata": {},
   "outputs": [],
   "source": [
    "y_qn = np.array(queens['clusters'])\n",
    "Xtil_qn = np.array(queens.iloc[:,0:123])\n",
    "#Xtil_st[0]\n",
    "(Xt_qn ,Xv_qn ,Yt_qn ,Yv_qn)= train_test_split (Xtil_qn ,y_qn, test_size =0.3 , random_state =0, shuffle = True)"
   ]
  },
  {
   "cell_type": "markdown",
   "id": "93d377b3",
   "metadata": {},
   "source": [
    "#### Logistic Queens"
   ]
  },
  {
   "cell_type": "code",
   "execution_count": 114,
   "id": "6bfb2840",
   "metadata": {},
   "outputs": [
    {
     "name": "stdout",
     "output_type": "stream",
     "text": [
      "accuracy:  0.6959340120768256\n",
      "[[34446 19472]\n",
      " [13410 40813]]\n",
      "              precision    recall  f1-score   support\n",
      "\n",
      "           0       0.44      0.13      0.20     53918\n",
      "           1       0.49      0.84      0.62     54223\n",
      "\n",
      "    accuracy                           0.48    108141\n",
      "   macro avg       0.47      0.48      0.41    108141\n",
      "weighted avg       0.47      0.48      0.41    108141\n",
      "\n",
      "0.6927430230667287\n"
     ]
    }
   ],
   "source": [
    "log_qn = LogisticRegression(penalty='l1', solver='liblinear', C=10.0)\n",
    "log_qn.fit(Xt_qn, Yt_qn)\n",
    "Ypred_qn = log_bk.predict(Xv_qn)\n",
    "print('accuracy: ', log_qn.score(Xv_qn,Yv_qn))\n",
    "\n",
    "logit_conf_matrix_qn = confusion_matrix(Yv_qn, log_qn.predict(Xv_qn))\n",
    "print(logit_conf_matrix_qn)\n",
    "\n",
    "print(classification_report(Yv_qn, Ypred_qn))\n",
    "cv = RepeatedStratifiedKFold(n_splits=5, n_repeats=1, random_state=1)\n",
    "scores_log_qn = cross_val_score(log_qn, Xtil_qn, y_qn, scoring='accuracy', cv=cv, n_jobs=-1)\n",
    "print(np.mean(scores_log_qn))"
   ]
  },
  {
   "cell_type": "markdown",
   "id": "be2ab398",
   "metadata": {},
   "source": [
    "#### LDA Queens"
   ]
  },
  {
   "cell_type": "code",
   "execution_count": 115,
   "id": "fa59003a",
   "metadata": {},
   "outputs": [
    {
     "name": "stdout",
     "output_type": "stream",
     "text": [
      "Accuracy: 0.6871121961143322\n",
      "[[37519 16399]\n",
      " [17437 36786]]\n",
      "              precision    recall  f1-score   support\n",
      "\n",
      "           0       0.68      0.70      0.69     53918\n",
      "           1       0.69      0.68      0.68     54223\n",
      "\n",
      "    accuracy                           0.69    108141\n",
      "   macro avg       0.69      0.69      0.69    108141\n",
      "weighted avg       0.69      0.69      0.69    108141\n",
      "\n",
      "0.6827559784054756\n"
     ]
    }
   ],
   "source": [
    "lda_qn = LinearDiscriminantAnalysis()\n",
    "lda_qn.fit(Xt_qn, Yt_qn)\n",
    "\n",
    "Ypr_lda_qn = lda_qn.predict(Xv_qn)\n",
    "print(\"Accuracy:\",metrics.accuracy_score(Yv_qn, Ypr_lda_qn))\n",
    "print(confusion_matrix(Yv_qn, Ypr_lda_qn))\n",
    "print(classification_report(Yv_qn, Ypr_lda_qn))\n",
    "#evaluate model\n",
    "scores_lda_qn = cross_val_score(lda_qn, Xtil_qn, y_qn, scoring='accuracy', cv=cv, n_jobs=-1)\n",
    "print(np.mean(scores_lda_qn))"
   ]
  },
  {
   "cell_type": "markdown",
   "id": "f5a3f2f2",
   "metadata": {},
   "source": [
    "#### KNN Queens"
   ]
  },
  {
   "cell_type": "code",
   "execution_count": 116,
   "id": "0fc27b58",
   "metadata": {},
   "outputs": [
    {
     "name": "stdout",
     "output_type": "stream",
     "text": [
      "K:  599\n",
      "Accuracy: 0.6903949473372726\n",
      "[[33721 20197]\n",
      " [13284 40939]]\n",
      "              precision    recall  f1-score   support\n",
      "\n",
      "           0       0.72      0.63      0.67     53918\n",
      "           1       0.67      0.76      0.71     54223\n",
      "\n",
      "    accuracy                           0.69    108141\n",
      "   macro avg       0.69      0.69      0.69    108141\n",
      "weighted avg       0.69      0.69      0.69    108141\n",
      "\n"
     ]
    }
   ],
   "source": [
    "qn_n = int(((len(queens))**.5)-1)\n",
    "print('K: ', qn_n)\n",
    "knn_qn = KNeighborsClassifier(n_neighbors=qn_n)\n",
    "knn_qn.fit(Xt_qn, Yt_qn)\n",
    "\n",
    "#Predict the response for test dataset\n",
    "Ypr_knn_qn = knn_qn.predict(Xv_qn)\n",
    "print(\"Accuracy:\",metrics.accuracy_score(Yv_qn, Ypr_knn_qn))\n",
    "print(confusion_matrix(Yv_qn, Ypr_knn_qn))\n",
    "print(classification_report(Yv_qn, Ypr_knn_qn))"
   ]
  },
  {
   "cell_type": "code",
   "execution_count": 121,
   "id": "bd4171ab",
   "metadata": {},
   "outputs": [
    {
     "name": "stdout",
     "output_type": "stream",
     "text": [
      "CV accuracy:  0.688190589302373\n"
     ]
    }
   ],
   "source": [
    "##RUN LATER\n",
    "scores_knn_qn = cross_val_score(knn_qn, Xtil_qn, y_qn, scoring='accuracy', cv=cv, n_jobs=-1)\n",
    "print('CV accuracy: ', np.mean(scores_knn_qn))"
   ]
  }
 ],
 "metadata": {
  "kernelspec": {
   "display_name": "Python 3",
   "language": "python",
   "name": "python3"
  },
  "language_info": {
   "codemirror_mode": {
    "name": "ipython",
    "version": 3
   },
   "file_extension": ".py",
   "mimetype": "text/x-python",
   "name": "python",
   "nbconvert_exporter": "python",
   "pygments_lexer": "ipython3",
   "version": "3.8.8"
  }
 },
 "nbformat": 4,
 "nbformat_minor": 5
}
