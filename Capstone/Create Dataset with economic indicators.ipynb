{
 "cells": [
  {
   "cell_type": "code",
   "execution_count": 1,
   "id": "f9be608f",
   "metadata": {},
   "outputs": [],
   "source": [
    "import pandas as pd\n",
    "import numpy as np"
   ]
  },
  {
   "cell_type": "markdown",
   "id": "1364b330",
   "metadata": {},
   "source": [
    "## Bronx Population by race"
   ]
  },
  {
   "cell_type": "code",
   "execution_count": 2,
   "id": "b15fb014",
   "metadata": {},
   "outputs": [
    {
     "data": {
      "text/html": [
       "<div>\n",
       "<style scoped>\n",
       "    .dataframe tbody tr th:only-of-type {\n",
       "        vertical-align: middle;\n",
       "    }\n",
       "\n",
       "    .dataframe tbody tr th {\n",
       "        vertical-align: top;\n",
       "    }\n",
       "\n",
       "    .dataframe thead th {\n",
       "        text-align: right;\n",
       "    }\n",
       "</style>\n",
       "<table border=\"1\" class=\"dataframe\">\n",
       "  <thead>\n",
       "    <tr style=\"text-align: right;\">\n",
       "      <th></th>\n",
       "      <th>Label (Grouping)</th>\n",
       "      <th>Bronx borough, Bronx County, New York</th>\n",
       "    </tr>\n",
       "  </thead>\n",
       "  <tbody>\n",
       "    <tr>\n",
       "      <th>0</th>\n",
       "      <td>Total:</td>\n",
       "      <td>1,472,654</td>\n",
       "    </tr>\n",
       "    <tr>\n",
       "      <th>1</th>\n",
       "      <td>Hispanic or Latino</td>\n",
       "      <td>806,463</td>\n",
       "    </tr>\n",
       "    <tr>\n",
       "      <th>2</th>\n",
       "      <td>Not Hispanic or Latino:</td>\n",
       "      <td>666,191</td>\n",
       "    </tr>\n",
       "    <tr>\n",
       "      <th>3</th>\n",
       "      <td>Population of one race:</td>\n",
       "      <td>637,821</td>\n",
       "    </tr>\n",
       "    <tr>\n",
       "      <th>4</th>\n",
       "      <td>White alone</td>\n",
       "      <td>130,796</td>\n",
       "    </tr>\n",
       "    <tr>\n",
       "      <th>5</th>\n",
       "      <td>Black or African American alone</td>\n",
       "      <td>419,393</td>\n",
       "    </tr>\n",
       "    <tr>\n",
       "      <th>6</th>\n",
       "      <td>American Indian and Alaska Native ...</td>\n",
       "      <td>3,087</td>\n",
       "    </tr>\n",
       "    <tr>\n",
       "      <th>7</th>\n",
       "      <td>Asian alone</td>\n",
       "      <td>67,766</td>\n",
       "    </tr>\n",
       "    <tr>\n",
       "      <th>8</th>\n",
       "      <td>Native Hawaiian and Other Pacific ...</td>\n",
       "      <td>457</td>\n",
       "    </tr>\n",
       "    <tr>\n",
       "      <th>9</th>\n",
       "      <td>Some Other Race alone</td>\n",
       "      <td>16,322</td>\n",
       "    </tr>\n",
       "  </tbody>\n",
       "</table>\n",
       "</div>"
      ],
      "text/plain": [
       "                                    Label (Grouping)  \\\n",
       "0                                             Total:   \n",
       "1                                 Hispanic or Latino   \n",
       "2                            Not Hispanic or Latino:   \n",
       "3                            Population of one race:   \n",
       "4                                        White alone   \n",
       "5                    Black or African American alone   \n",
       "6              American Indian and Alaska Native ...   \n",
       "7                                        Asian alone   \n",
       "8              Native Hawaiian and Other Pacific ...   \n",
       "9                              Some Other Race alone   \n",
       "\n",
       "  Bronx borough, Bronx County, New York  \n",
       "0                             1,472,654  \n",
       "1                               806,463  \n",
       "2                               666,191  \n",
       "3                               637,821  \n",
       "4                               130,796  \n",
       "5                               419,393  \n",
       "6                                 3,087  \n",
       "7                                67,766  \n",
       "8                                   457  \n",
       "9                                16,322  "
      ]
     },
     "execution_count": 2,
     "metadata": {},
     "output_type": "execute_result"
    }
   ],
   "source": [
    "bronx = pd.read_csv(\"bronx_pop_data.csv\")\n",
    "bronx.head(10)"
   ]
  },
  {
   "cell_type": "code",
   "execution_count": 3,
   "id": "9113514f",
   "metadata": {},
   "outputs": [
    {
     "data": {
      "text/html": [
       "<div>\n",
       "<style scoped>\n",
       "    .dataframe tbody tr th:only-of-type {\n",
       "        vertical-align: middle;\n",
       "    }\n",
       "\n",
       "    .dataframe tbody tr th {\n",
       "        vertical-align: top;\n",
       "    }\n",
       "\n",
       "    .dataframe thead th {\n",
       "        text-align: right;\n",
       "    }\n",
       "</style>\n",
       "<table border=\"1\" class=\"dataframe\">\n",
       "  <thead>\n",
       "    <tr style=\"text-align: right;\">\n",
       "      <th></th>\n",
       "      <th>race</th>\n",
       "      <th>pop_est</th>\n",
       "    </tr>\n",
       "  </thead>\n",
       "  <tbody>\n",
       "    <tr>\n",
       "      <th>0</th>\n",
       "      <td>Total:</td>\n",
       "      <td>1,472,654</td>\n",
       "    </tr>\n",
       "    <tr>\n",
       "      <th>1</th>\n",
       "      <td>Hispanic or Latino</td>\n",
       "      <td>806,463</td>\n",
       "    </tr>\n",
       "  </tbody>\n",
       "</table>\n",
       "</div>"
      ],
      "text/plain": [
       "                     race    pop_est\n",
       "0                  Total:  1,472,654\n",
       "1      Hispanic or Latino    806,463"
      ]
     },
     "execution_count": 3,
     "metadata": {},
     "output_type": "execute_result"
    }
   ],
   "source": [
    "bronx = bronx.rename(columns = {\"Label (Grouping)\":\"race\",\"Bronx borough, Bronx County, New York\" : \"pop_est\"})\n",
    "bronx.head(2)"
   ]
  },
  {
   "cell_type": "code",
   "execution_count": 4,
   "id": "c375e755",
   "metadata": {},
   "outputs": [],
   "source": [
    "##convert string into integer, add column with integers\n",
    "pop = []\n",
    "for i in range(len(bronx[\"pop_est\"])):\n",
    "    c = bronx[\"pop_est\"][i].replace(\",\",\"\")\n",
    "    pop.append(int(c))\n",
    "bronx['pop'] = pop\n",
    "bronx = bronx.drop(['pop_est'], axis=1)\n",
    "#bronx.head()"
   ]
  },
  {
   "cell_type": "code",
   "execution_count": 5,
   "id": "0d0ecf04",
   "metadata": {},
   "outputs": [],
   "source": [
    "#calculate hispanic, black, asian pop rate in the bronx\n",
    "br_hisp_rate = round(int(bronx[\"pop\"][1])/int(bronx[\"pop\"][0])*100,2)\n",
    "br_black_rate = round(int(bronx[\"pop\"][5])/int(bronx[\"pop\"][0])*100,2)\n",
    "br_asian_rate = round(int(bronx[\"pop\"][7])/int(bronx[\"pop\"][0])*100,2)"
   ]
  },
  {
   "cell_type": "markdown",
   "id": "0e99d40f",
   "metadata": {},
   "source": [
    "## Queens Population by race"
   ]
  },
  {
   "cell_type": "code",
   "execution_count": 6,
   "id": "2bdada7a",
   "metadata": {},
   "outputs": [],
   "source": [
    "queens = pd.read_csv(\"queens_pop_data.csv\")\n",
    "queens = queens.rename(columns = {\"Label (Grouping)\":\"race\",\"Queens County, New York\" : \"pop_est\"})\n",
    "pop = []\n",
    "for i in range(len(queens[\"pop_est\"])):\n",
    "    c = queens[\"pop_est\"][i].replace(\",\",\"\")\n",
    "    pop.append(int(c))\n",
    "queens['pop'] = pop\n",
    "queens = queens.drop(['pop_est'], axis=1)\n",
    "#queens.head(10)"
   ]
  },
  {
   "cell_type": "code",
   "execution_count": 7,
   "id": "8d1e7fcb",
   "metadata": {},
   "outputs": [],
   "source": [
    "#calculate hispanic, black, asian pop rate in queens\n",
    "q_hisp_rate = round(int(queens[\"pop\"][1])/int(queens[\"pop\"][0])*100,2)\n",
    "q_black_rate = round(int(queens[\"pop\"][5])/int(queens[\"pop\"][0])*100,2)\n",
    "q_asian_rate = round(int(queens[\"pop\"][7])/int(queens[\"pop\"][0])*100,2)\n",
    "#q_hisp_rate"
   ]
  },
  {
   "cell_type": "markdown",
   "id": "16de0a00",
   "metadata": {},
   "source": [
    "## Manhattan Population by race"
   ]
  },
  {
   "cell_type": "code",
   "execution_count": 8,
   "id": "def10b5a",
   "metadata": {},
   "outputs": [],
   "source": [
    "manhattan = pd.read_csv(\"manhattan_pop_data.csv\")\n",
    "manhattan = manhattan.rename(columns = {\"Label (Grouping)\":\"race\",\"Manhattan borough, New York County, New York\" : \"pop_est\"})\n",
    "pop = []\n",
    "for i in range(len(manhattan[\"pop_est\"])):\n",
    "    c = manhattan[\"pop_est\"][i].replace(\",\",\"\")\n",
    "    pop.append(int(c))\n",
    "manhattan['pop'] = pop\n",
    "manhattan = manhattan.drop(['pop_est'], axis=1)\n",
    "#manhattan.head(10)"
   ]
  },
  {
   "cell_type": "code",
   "execution_count": 9,
   "id": "1767b362",
   "metadata": {},
   "outputs": [
    {
     "data": {
      "text/plain": [
       "23.77"
      ]
     },
     "execution_count": 9,
     "metadata": {},
     "output_type": "execute_result"
    }
   ],
   "source": [
    "m_hisp_rate = round(int(manhattan[\"pop\"][1])/int(manhattan[\"pop\"][0])*100,2)\n",
    "m_black_rate = round(int(manhattan[\"pop\"][5])/int(manhattan[\"pop\"][0])*100,2)\n",
    "m_asian_rate = round(int(manhattan[\"pop\"][7])/int(manhattan[\"pop\"][0])*100,2)\n",
    "m_hisp_rate"
   ]
  },
  {
   "cell_type": "markdown",
   "id": "03bf2dee",
   "metadata": {},
   "source": [
    "## Brooklyn Population by race"
   ]
  },
  {
   "cell_type": "code",
   "execution_count": 10,
   "id": "4583a8ae",
   "metadata": {},
   "outputs": [],
   "source": [
    "brooklyn = pd.read_csv(\"brooklyn_pop_data.csv\")\n",
    "brooklyn = brooklyn.rename(columns = {\"Label (Grouping)\":\"race\",\"Brooklyn borough, Kings County, New York\" : \"pop_est\"})\n",
    "pop = []\n",
    "for i in range(len(brooklyn[\"pop_est\"])):\n",
    "    c = brooklyn[\"pop_est\"][i].replace(\",\",\"\")\n",
    "    pop.append(int(c))\n",
    "brooklyn['pop'] = pop\n",
    "brooklyn = brooklyn.drop(['pop_est'], axis=1)"
   ]
  },
  {
   "cell_type": "code",
   "execution_count": 11,
   "id": "02d20595",
   "metadata": {},
   "outputs": [
    {
     "data": {
      "text/plain": [
       "18.87"
      ]
     },
     "execution_count": 11,
     "metadata": {},
     "output_type": "execute_result"
    }
   ],
   "source": [
    "bk_hisp_rate = round(int(brooklyn[\"pop\"][1])/int(brooklyn[\"pop\"][0])*100,2)\n",
    "bk_black_rate = round(int(brooklyn[\"pop\"][5])/int(brooklyn[\"pop\"][0])*100,2)\n",
    "bk_asian_rate = round(int(brooklyn[\"pop\"][7])/int(brooklyn[\"pop\"][0])*100,2)\n",
    "bk_hisp_rate"
   ]
  },
  {
   "cell_type": "markdown",
   "id": "53e261f7",
   "metadata": {},
   "source": [
    "## Staten Island Population by Race"
   ]
  },
  {
   "cell_type": "code",
   "execution_count": 12,
   "id": "22f39bfc",
   "metadata": {},
   "outputs": [
    {
     "data": {
      "text/html": [
       "<div>\n",
       "<style scoped>\n",
       "    .dataframe tbody tr th:only-of-type {\n",
       "        vertical-align: middle;\n",
       "    }\n",
       "\n",
       "    .dataframe tbody tr th {\n",
       "        vertical-align: top;\n",
       "    }\n",
       "\n",
       "    .dataframe thead th {\n",
       "        text-align: right;\n",
       "    }\n",
       "</style>\n",
       "<table border=\"1\" class=\"dataframe\">\n",
       "  <thead>\n",
       "    <tr style=\"text-align: right;\">\n",
       "      <th></th>\n",
       "      <th>race</th>\n",
       "      <th>pop</th>\n",
       "    </tr>\n",
       "  </thead>\n",
       "  <tbody>\n",
       "    <tr>\n",
       "      <th>0</th>\n",
       "      <td>Total:</td>\n",
       "      <td>495747</td>\n",
       "    </tr>\n",
       "    <tr>\n",
       "      <th>1</th>\n",
       "      <td>Hispanic or Latino</td>\n",
       "      <td>96960</td>\n",
       "    </tr>\n",
       "    <tr>\n",
       "      <th>2</th>\n",
       "      <td>Not Hispanic or Latino:</td>\n",
       "      <td>398787</td>\n",
       "    </tr>\n",
       "    <tr>\n",
       "      <th>3</th>\n",
       "      <td>Population of one race:</td>\n",
       "      <td>387469</td>\n",
       "    </tr>\n",
       "    <tr>\n",
       "      <th>4</th>\n",
       "      <td>White alone</td>\n",
       "      <td>277981</td>\n",
       "    </tr>\n",
       "    <tr>\n",
       "      <th>5</th>\n",
       "      <td>Black or African American alone</td>\n",
       "      <td>46835</td>\n",
       "    </tr>\n",
       "    <tr>\n",
       "      <th>6</th>\n",
       "      <td>American Indian and Alaska Native ...</td>\n",
       "      <td>624</td>\n",
       "    </tr>\n",
       "    <tr>\n",
       "      <th>7</th>\n",
       "      <td>Asian alone</td>\n",
       "      <td>58753</td>\n",
       "    </tr>\n",
       "    <tr>\n",
       "      <th>8</th>\n",
       "      <td>Native Hawaiian and Other Pacific ...</td>\n",
       "      <td>135</td>\n",
       "    </tr>\n",
       "    <tr>\n",
       "      <th>9</th>\n",
       "      <td>Some Other Race alone</td>\n",
       "      <td>3141</td>\n",
       "    </tr>\n",
       "  </tbody>\n",
       "</table>\n",
       "</div>"
      ],
      "text/plain": [
       "                                                race     pop\n",
       "0                                             Total:  495747\n",
       "1                                 Hispanic or Latino   96960\n",
       "2                            Not Hispanic or Latino:  398787\n",
       "3                            Population of one race:  387469\n",
       "4                                        White alone  277981\n",
       "5                    Black or African American alone   46835\n",
       "6              American Indian and Alaska Native ...     624\n",
       "7                                        Asian alone   58753\n",
       "8              Native Hawaiian and Other Pacific ...     135\n",
       "9                              Some Other Race alone    3141"
      ]
     },
     "execution_count": 12,
     "metadata": {},
     "output_type": "execute_result"
    }
   ],
   "source": [
    "staten = pd.read_csv(\"staten_pop_data.csv\")\n",
    "staten = staten.rename(columns = {\"Label (Grouping)\":\"race\",\"Staten Island borough, Richmond County, New York\" : \"pop_est\"})\n",
    "pop = []\n",
    "for i in range(len(staten[\"pop_est\"])):\n",
    "    c = staten[\"pop_est\"][i].replace(\",\",\"\")\n",
    "    pop.append(int(c))\n",
    "staten['pop'] = pop\n",
    "staten = staten.drop(['pop_est', 'Brooklyn borough, Kings County, New York'], axis=1)\n",
    "staten.head(10)"
   ]
  },
  {
   "cell_type": "code",
   "execution_count": 13,
   "id": "1849f5af",
   "metadata": {},
   "outputs": [
    {
     "data": {
      "text/plain": [
       "19.56"
      ]
     },
     "execution_count": 13,
     "metadata": {},
     "output_type": "execute_result"
    }
   ],
   "source": [
    "s_hisp_rate = round(int(staten[\"pop\"][1])/int(staten[\"pop\"][0])*100,2)\n",
    "s_black_rate = round(int(staten[\"pop\"][5])/int(staten[\"pop\"][0])*100,2)\n",
    "s_asian_rate = round(int(staten[\"pop\"][7])/int(staten[\"pop\"][0])*100,2)\n",
    "s_hisp_rate"
   ]
  },
  {
   "cell_type": "markdown",
   "id": "26362281",
   "metadata": {},
   "source": [
    "## Manhattan Indicators"
   ]
  },
  {
   "cell_type": "code",
   "execution_count": 14,
   "id": "01a15135",
   "metadata": {},
   "outputs": [],
   "source": [
    "## Median age in manhattan\n",
    "m_median_age = 37.6\n",
    "## Median Income (usd, 2019 inflation adjusted dollars)\n",
    "m_median_income = 86553\n",
    "## percent below poverty level\n",
    "m_poverty_level = 15.8 #15.8 percent\n",
    "## Unemployment rate as a percentage\n",
    "m_unemp_rate = 5.2\n",
    "## Percentage of Population aged 25+ w/ at least a bachelor's degree\n",
    "m_educ = 61.3\n",
    "## labor force participation rate (LFPR)\n",
    "m_lfpr = 67.3\n",
    "## Foreign born population & percentage in Manhattan\n",
    "m_foreign = 468820\n",
    "m_foreign_per = int(m_foreign/int(manhattan[\"pop\"][0]))"
   ]
  },
  {
   "cell_type": "markdown",
   "id": "80e10a2c",
   "metadata": {},
   "source": [
    "## Brooklyn Indicators"
   ]
  },
  {
   "cell_type": "code",
   "execution_count": 15,
   "id": "8289b933",
   "metadata": {},
   "outputs": [],
   "source": [
    "## Median age \n",
    "bk_median_age = 35.6\n",
    "## Median Income (usd, 2019 inflation adjusted dollars)\n",
    "bk_median_income = 60231\n",
    "## percent below poverty level\n",
    "bk_poverty_level = 17.7  #14.0 percent\n",
    "## Unemployment rate as a percentage\n",
    "bk_unemp_rate = 6.2\n",
    "## Percentage of Population aged 25+ w/ at least a bachelor's degree\n",
    "bk_educ = 37.5\n",
    "## labor force participation rate (LFPR)\n",
    "bk_lfpr = 63.7\n",
    "## Foreign born population & percentage in Manhattan\n",
    "bk_foreign = 934371\n",
    "bk_foreign_per = int(bk_foreign/2589974)"
   ]
  },
  {
   "cell_type": "markdown",
   "id": "ecf2f8d7",
   "metadata": {},
   "source": [
    "## Bronx Indicators"
   ]
  },
  {
   "cell_type": "code",
   "execution_count": 16,
   "id": "445352d1",
   "metadata": {},
   "outputs": [],
   "source": [
    "## Median age \n",
    "br_median_age = 34.2\n",
    "## Median Income (usd, 2019 inflation adjusted dollars)\n",
    "br_median_income = 40088\n",
    "## percent below poverty level\n",
    "br_poverty_level = 28.0  #14.0 percent\n",
    "## Unemployment rate as a percentage\n",
    "br_unemp_rate = 10.0\n",
    "## Percentage of Population aged 25+ w/ at least a bachelor's degree\n",
    "br_educ = 20.4\n",
    "## labor force participation rate (LFPR)\n",
    "br_lfpr = 59.4\n",
    "## Foreign born population & percentage in Manhattan\n",
    "br_foreign = 506431\n",
    "br_foreign_per = int(br_foreign/1435068)"
   ]
  },
  {
   "cell_type": "markdown",
   "id": "fec379b8",
   "metadata": {},
   "source": [
    "## Queens Indicators"
   ]
  },
  {
   "cell_type": "code",
   "execution_count": 17,
   "id": "97af9557",
   "metadata": {},
   "outputs": [],
   "source": [
    "## Median age \n",
    "q_median_age = 39.0\n",
    "## Median Income (usd, 2019 inflation adjusted dollars)\n",
    "q_median_income = 68666\n",
    "## percent below poverty level\n",
    "q_poverty_level = 12.2 #14.0 percent\n",
    "## Unemployment rate as a percentage\n",
    "q_unemp_rate = 5.6\n",
    "## Percentage of Population aged 25+ w/ at least a bachelor's degree\n",
    "q_educ = 32.2\n",
    "## labor force participation rate (LFPR)\n",
    "q_lfpr = 64.2\n",
    "## Foreign born population & percentage in Manhattan\n",
    "q_foreign = 1080523\n",
    "q_foreign_per = int(q_foreign/2287388)"
   ]
  },
  {
   "cell_type": "markdown",
   "id": "0d5d7a3f",
   "metadata": {},
   "source": [
    "## Staten Island Indicators"
   ]
  },
  {
   "cell_type": "code",
   "execution_count": 18,
   "id": "a0ed1f37",
   "metadata": {},
   "outputs": [],
   "source": [
    "## Median age \n",
    "s_median_age = 40.1\n",
    "## Median Income (usd, 2019 inflation adjusted dollars)\n",
    "s_median_income = 82783\n",
    "## percent below poverty level\n",
    "s_poverty_level = 11.7 \n",
    "## Unemployment rate as a percentage\n",
    "s_unemp_rate = 4.6\n",
    "## Percentage of Population aged 25+ w/ at least a bachelor's degree\n",
    "s_educ = 36.2\n",
    "## labor force participation rate (LFPR)\n",
    "s_lfpr = 58.8\n",
    "## Foreign born population & percentage in Manhattan\n",
    "s_foreign = 110413\n",
    "s_foreign_per = int(s_foreign/474893)"
   ]
  },
  {
   "cell_type": "markdown",
   "id": "9d52e422",
   "metadata": {},
   "source": [
    "### Organize each indicator into a list in order to integrate into larger data set"
   ]
  },
  {
   "cell_type": "code",
   "execution_count": 19,
   "id": "56ee00e5",
   "metadata": {},
   "outputs": [],
   "source": [
    "## Order of boroughs: manhattan, brooklyn (bk), bronx (br), queens, staten island \n",
    "median_age = [m_median_age, bk_median_age, br_median_age, q_median_age, s_median_age]\n",
    "median_income = [m_median_income, bk_median_income, br_median_income, q_median_income, s_median_income]\n",
    "poverty_rate = [m_poverty_level, bk_poverty_level, br_poverty_level, q_poverty_level, s_poverty_level]\n",
    "unemployment_rate = [m_unemp_rate, bk_unemp_rate, br_unemp_rate, q_unemp_rate, s_unemp_rate]\n",
    "educ = [m_educ, bk_educ, br_educ, q_educ, s_educ]\n",
    "labor_part = [m_lfpr, bk_lfpr, br_lfpr, q_lfpr, s_lfpr]\n",
    "foreign_percent = [m_foreign_per, bk_foreign_per, br_foreign_per, q_foreign_per, s_foreign_per]\n",
    "hispanic_rate = [m_hisp_rate, bk_hisp_rate, br_hisp_rate, q_hisp_rate, s_hisp_rate]\n",
    "black_rate = [m_black_rate, bk_black_rate, br_black_rate, q_black_rate, s_black_rate]\n",
    "asian_rate = [m_asian_rate, bk_asian_rate, br_asian_rate, q_asian_rate, s_asian_rate]"
   ]
  },
  {
   "cell_type": "markdown",
   "id": "a53be337",
   "metadata": {},
   "source": [
    "## Create Data Frame"
   ]
  },
  {
   "cell_type": "code",
   "execution_count": 20,
   "id": "df0e6e99",
   "metadata": {},
   "outputs": [],
   "source": [
    "boroughs = ['manhattan', 'brooklyn', 'bronx', 'queens', 'staten']"
   ]
  },
  {
   "cell_type": "code",
   "execution_count": 21,
   "id": "c7e6729b",
   "metadata": {},
   "outputs": [
    {
     "data": {
      "text/html": [
       "<div>\n",
       "<style scoped>\n",
       "    .dataframe tbody tr th:only-of-type {\n",
       "        vertical-align: middle;\n",
       "    }\n",
       "\n",
       "    .dataframe tbody tr th {\n",
       "        vertical-align: top;\n",
       "    }\n",
       "\n",
       "    .dataframe thead th {\n",
       "        text-align: right;\n",
       "    }\n",
       "</style>\n",
       "<table border=\"1\" class=\"dataframe\">\n",
       "  <thead>\n",
       "    <tr style=\"text-align: right;\">\n",
       "      <th></th>\n",
       "      <th>borough</th>\n",
       "      <th>median_age</th>\n",
       "      <th>poverty_rate</th>\n",
       "      <th>unemployment_rate</th>\n",
       "      <th>educ</th>\n",
       "      <th>labor_part</th>\n",
       "      <th>foreign_percent</th>\n",
       "      <th>hispanic_rate</th>\n",
       "      <th>black_rate</th>\n",
       "      <th>asian_rate</th>\n",
       "    </tr>\n",
       "  </thead>\n",
       "  <tbody>\n",
       "    <tr>\n",
       "      <th>0</th>\n",
       "      <td>manhattan</td>\n",
       "      <td>37.6</td>\n",
       "      <td>15.8</td>\n",
       "      <td>5.2</td>\n",
       "      <td>61.3</td>\n",
       "      <td>67.3</td>\n",
       "      <td>0</td>\n",
       "      <td>23.77</td>\n",
       "      <td>11.78</td>\n",
       "      <td>12.96</td>\n",
       "    </tr>\n",
       "    <tr>\n",
       "      <th>1</th>\n",
       "      <td>brooklyn</td>\n",
       "      <td>35.6</td>\n",
       "      <td>17.7</td>\n",
       "      <td>6.2</td>\n",
       "      <td>37.5</td>\n",
       "      <td>63.7</td>\n",
       "      <td>0</td>\n",
       "      <td>18.87</td>\n",
       "      <td>26.67</td>\n",
       "      <td>13.55</td>\n",
       "    </tr>\n",
       "    <tr>\n",
       "      <th>2</th>\n",
       "      <td>bronx</td>\n",
       "      <td>34.2</td>\n",
       "      <td>28.0</td>\n",
       "      <td>10.0</td>\n",
       "      <td>20.4</td>\n",
       "      <td>59.4</td>\n",
       "      <td>0</td>\n",
       "      <td>54.76</td>\n",
       "      <td>28.48</td>\n",
       "      <td>4.60</td>\n",
       "    </tr>\n",
       "    <tr>\n",
       "      <th>3</th>\n",
       "      <td>queens</td>\n",
       "      <td>39.0</td>\n",
       "      <td>12.2</td>\n",
       "      <td>5.6</td>\n",
       "      <td>32.2</td>\n",
       "      <td>64.2</td>\n",
       "      <td>0</td>\n",
       "      <td>27.76</td>\n",
       "      <td>15.85</td>\n",
       "      <td>27.30</td>\n",
       "    </tr>\n",
       "    <tr>\n",
       "      <th>4</th>\n",
       "      <td>staten</td>\n",
       "      <td>40.1</td>\n",
       "      <td>11.7</td>\n",
       "      <td>4.6</td>\n",
       "      <td>36.2</td>\n",
       "      <td>58.8</td>\n",
       "      <td>0</td>\n",
       "      <td>19.56</td>\n",
       "      <td>9.45</td>\n",
       "      <td>11.85</td>\n",
       "    </tr>\n",
       "  </tbody>\n",
       "</table>\n",
       "</div>"
      ],
      "text/plain": [
       "     borough  median_age  poverty_rate  unemployment_rate  educ  labor_part  \\\n",
       "0  manhattan        37.6          15.8                5.2  61.3        67.3   \n",
       "1   brooklyn        35.6          17.7                6.2  37.5        63.7   \n",
       "2      bronx        34.2          28.0               10.0  20.4        59.4   \n",
       "3     queens        39.0          12.2                5.6  32.2        64.2   \n",
       "4     staten        40.1          11.7                4.6  36.2        58.8   \n",
       "\n",
       "   foreign_percent  hispanic_rate  black_rate  asian_rate  \n",
       "0                0          23.77       11.78       12.96  \n",
       "1                0          18.87       26.67       13.55  \n",
       "2                0          54.76       28.48        4.60  \n",
       "3                0          27.76       15.85       27.30  \n",
       "4                0          19.56        9.45       11.85  "
      ]
     },
     "execution_count": 21,
     "metadata": {},
     "output_type": "execute_result"
    }
   ],
   "source": [
    "econ_ind = pd.DataFrame({'borough':boroughs,\n",
    "                        'median_age': median_age,\n",
    "                        'poverty_rate': poverty_rate,\n",
    "                        'unemployment_rate':unemployment_rate,\n",
    "                        'educ':educ,\n",
    "                        'labor_part':labor_part,\n",
    "                        'foreign_percent':foreign_percent,\n",
    "                        'hispanic_rate':hispanic_rate,\n",
    "                        'black_rate':black_rate,\n",
    "                        'asian_rate':asian_rate})\n",
    "econ_ind"
   ]
  },
  {
   "cell_type": "code",
   "execution_count": 22,
   "id": "2b128eb9",
   "metadata": {},
   "outputs": [],
   "source": [
    "econ_ind.to_csv('economic_indicators.csv')\n",
    "################################################################################################################################"
   ]
  },
  {
   "cell_type": "markdown",
   "id": "417015e3",
   "metadata": {},
   "source": [
    "# Create Subgroups for crime"
   ]
  },
  {
   "cell_type": "code",
   "execution_count": 23,
   "id": "77f5ce2c",
   "metadata": {},
   "outputs": [
    {
     "name": "stderr",
     "output_type": "stream",
     "text": [
      "C:\\Users\\david\\anaconda3\\lib\\site-packages\\IPython\\core\\interactiveshell.py:3165: DtypeWarning: Columns (20) have mixed types.Specify dtype option on import or set low_memory=False.\n",
      "  has_raised = await self.run_ast_nodes(code_ast.body, cell_name,\n"
     ]
    },
    {
     "data": {
      "text/html": [
       "<div>\n",
       "<style scoped>\n",
       "    .dataframe tbody tr th:only-of-type {\n",
       "        vertical-align: middle;\n",
       "    }\n",
       "\n",
       "    .dataframe tbody tr th {\n",
       "        vertical-align: top;\n",
       "    }\n",
       "\n",
       "    .dataframe thead th {\n",
       "        text-align: right;\n",
       "    }\n",
       "</style>\n",
       "<table border=\"1\" class=\"dataframe\">\n",
       "  <thead>\n",
       "    <tr style=\"text-align: right;\">\n",
       "      <th></th>\n",
       "      <th>CMPLNT_NUM</th>\n",
       "      <th>CMPLNT_FR_DT</th>\n",
       "      <th>CMPLNT_FR_TM</th>\n",
       "      <th>CMPLNT_TO_DT</th>\n",
       "      <th>CMPLNT_TO_TM</th>\n",
       "      <th>ADDR_PCT_CD</th>\n",
       "      <th>RPT_DT</th>\n",
       "      <th>KY_CD</th>\n",
       "      <th>OFNS_DESC</th>\n",
       "      <th>PD_CD</th>\n",
       "      <th>...</th>\n",
       "      <th>SUSP_SEX</th>\n",
       "      <th>TRANSIT_DISTRICT</th>\n",
       "      <th>Latitude</th>\n",
       "      <th>Longitude</th>\n",
       "      <th>Lat_Lon</th>\n",
       "      <th>PATROL_BORO</th>\n",
       "      <th>STATION_NAME</th>\n",
       "      <th>VIC_AGE_GROUP</th>\n",
       "      <th>VIC_RACE</th>\n",
       "      <th>VIC_SEX</th>\n",
       "    </tr>\n",
       "  </thead>\n",
       "  <tbody>\n",
       "    <tr>\n",
       "      <th>0</th>\n",
       "      <td>216044876</td>\n",
       "      <td>01/01/2017</td>\n",
       "      <td>11:00:00</td>\n",
       "      <td>08/20/2018</td>\n",
       "      <td>12:00:00</td>\n",
       "      <td>109.0</td>\n",
       "      <td>12/31/2019</td>\n",
       "      <td>116</td>\n",
       "      <td>SEX CRIMES</td>\n",
       "      <td>179.0</td>\n",
       "      <td>...</td>\n",
       "      <td>M</td>\n",
       "      <td>NaN</td>\n",
       "      <td>40.762334</td>\n",
       "      <td>-73.826917</td>\n",
       "      <td>(40.76233421800004, -73.82691730799998)</td>\n",
       "      <td>PATROL BORO QUEENS NORTH</td>\n",
       "      <td>NaN</td>\n",
       "      <td>&lt;18</td>\n",
       "      <td>ASIAN / PACIFIC ISLANDER</td>\n",
       "      <td>F</td>\n",
       "    </tr>\n",
       "    <tr>\n",
       "      <th>1</th>\n",
       "      <td>112025807</td>\n",
       "      <td>01/01/2017</td>\n",
       "      <td>09:00:00</td>\n",
       "      <td>09/01/2019</td>\n",
       "      <td>09:00:00</td>\n",
       "      <td>13.0</td>\n",
       "      <td>12/06/2019</td>\n",
       "      <td>233</td>\n",
       "      <td>SEX CRIMES</td>\n",
       "      <td>175.0</td>\n",
       "      <td>...</td>\n",
       "      <td>M</td>\n",
       "      <td>NaN</td>\n",
       "      <td>40.736698</td>\n",
       "      <td>-73.983316</td>\n",
       "      <td>(40.736698070000045, -73.98331602599995)</td>\n",
       "      <td>PATROL BORO MAN SOUTH</td>\n",
       "      <td>NaN</td>\n",
       "      <td>45-64</td>\n",
       "      <td>WHITE HISPANIC</td>\n",
       "      <td>M</td>\n",
       "    </tr>\n",
       "    <tr>\n",
       "      <th>2</th>\n",
       "      <td>669902330</td>\n",
       "      <td>01/01/2017</td>\n",
       "      <td>00:01:00</td>\n",
       "      <td>12/31/2017</td>\n",
       "      <td>23:59:00</td>\n",
       "      <td>114.0</td>\n",
       "      <td>11/26/2019</td>\n",
       "      <td>233</td>\n",
       "      <td>SEX CRIMES</td>\n",
       "      <td>175.0</td>\n",
       "      <td>...</td>\n",
       "      <td>M</td>\n",
       "      <td>NaN</td>\n",
       "      <td>40.769306</td>\n",
       "      <td>-73.915508</td>\n",
       "      <td>(40.76930608700008, -73.91550817999997)</td>\n",
       "      <td>PATROL BORO QUEENS NORTH</td>\n",
       "      <td>NaN</td>\n",
       "      <td>&lt;18</td>\n",
       "      <td>BLACK</td>\n",
       "      <td>F</td>\n",
       "    </tr>\n",
       "  </tbody>\n",
       "</table>\n",
       "<p>3 rows × 35 columns</p>\n",
       "</div>"
      ],
      "text/plain": [
       "   CMPLNT_NUM CMPLNT_FR_DT CMPLNT_FR_TM CMPLNT_TO_DT CMPLNT_TO_TM  \\\n",
       "0   216044876   01/01/2017     11:00:00   08/20/2018     12:00:00   \n",
       "1   112025807   01/01/2017     09:00:00   09/01/2019     09:00:00   \n",
       "2   669902330   01/01/2017     00:01:00   12/31/2017     23:59:00   \n",
       "\n",
       "   ADDR_PCT_CD      RPT_DT  KY_CD   OFNS_DESC  PD_CD  ... SUSP_SEX  \\\n",
       "0        109.0  12/31/2019    116  SEX CRIMES  179.0  ...        M   \n",
       "1         13.0  12/06/2019    233  SEX CRIMES  175.0  ...        M   \n",
       "2        114.0  11/26/2019    233  SEX CRIMES  175.0  ...        M   \n",
       "\n",
       "  TRANSIT_DISTRICT   Latitude  Longitude  \\\n",
       "0              NaN  40.762334 -73.826917   \n",
       "1              NaN  40.736698 -73.983316   \n",
       "2              NaN  40.769306 -73.915508   \n",
       "\n",
       "                                    Lat_Lon               PATROL_BORO  \\\n",
       "0   (40.76233421800004, -73.82691730799998)  PATROL BORO QUEENS NORTH   \n",
       "1  (40.736698070000045, -73.98331602599995)     PATROL BORO MAN SOUTH   \n",
       "2   (40.76930608700008, -73.91550817999997)  PATROL BORO QUEENS NORTH   \n",
       "\n",
       "  STATION_NAME  VIC_AGE_GROUP                  VIC_RACE VIC_SEX  \n",
       "0          NaN            <18  ASIAN / PACIFIC ISLANDER       F  \n",
       "1          NaN          45-64            WHITE HISPANIC       M  \n",
       "2          NaN            <18                     BLACK       F  \n",
       "\n",
       "[3 rows x 35 columns]"
      ]
     },
     "execution_count": 23,
     "metadata": {},
     "output_type": "execute_result"
    }
   ],
   "source": [
    "data = pd.read_csv(\"NYPD_Complaint_Data_2017-21.csv\")\n",
    "data.head(3)"
   ]
  },
  {
   "cell_type": "code",
   "execution_count": 24,
   "id": "28da65f8",
   "metadata": {},
   "outputs": [
    {
     "data": {
      "text/plain": [
       "Index(['CMPLNT_NUM', 'CMPLNT_FR_DT', 'CMPLNT_FR_TM', 'CMPLNT_TO_DT',\n",
       "       'CMPLNT_TO_TM', 'ADDR_PCT_CD', 'RPT_DT', 'KY_CD', 'OFNS_DESC', 'PD_CD',\n",
       "       'PD_DESC', 'CRM_ATPT_CPTD_CD', 'LAW_CAT_CD', 'BORO_NM',\n",
       "       'LOC_OF_OCCUR_DESC', 'PREM_TYP_DESC', 'JURIS_DESC', 'JURISDICTION_CODE',\n",
       "       'PARKS_NM', 'HADEVELOPT', 'HOUSING_PSA', 'X_COORD_CD', 'Y_COORD_CD',\n",
       "       'SUSP_AGE_GROUP', 'SUSP_RACE', 'SUSP_SEX', 'TRANSIT_DISTRICT',\n",
       "       'Latitude', 'Longitude', 'Lat_Lon', 'PATROL_BORO', 'STATION_NAME',\n",
       "       'VIC_AGE_GROUP', 'VIC_RACE', 'VIC_SEX'],\n",
       "      dtype='object')"
      ]
     },
     "execution_count": 24,
     "metadata": {},
     "output_type": "execute_result"
    }
   ],
   "source": [
    "data.columns"
   ]
  },
  {
   "cell_type": "code",
   "execution_count": 30,
   "id": "9218a8eb",
   "metadata": {},
   "outputs": [
    {
     "data": {
      "text/plain": [
       "array(['FELONY', 'MISDEMEANOR', 'VIOLATION'], dtype=object)"
      ]
     },
     "execution_count": 30,
     "metadata": {},
     "output_type": "execute_result"
    }
   ],
   "source": [
    "data['LAW_CAT_CD'].unique() ### use this for analysis"
   ]
  },
  {
   "cell_type": "markdown",
   "id": "57d152fe",
   "metadata": {},
   "source": [
    "#### Use this link and find ways to group crimes, BUT CHECK COLUMN DESCRIPTIONS FIRST TO MAKE SURE IT DOESNT EXIST ALREADY\n",
    "\n",
    "https://open.lib.umn.edu/socialproblems/chapter/8-2-types-of-crime/\n",
    "\n",
    "For each crime group, put a unique ID to ultimately tie to larger dataset."
   ]
  },
  {
   "cell_type": "code",
   "execution_count": 32,
   "id": "19fc1648",
   "metadata": {},
   "outputs": [
    {
     "data": {
      "text/plain": [
       "array(['QUEENS', 'MANHATTAN', 'BROOKLYN', 'BRONX', 'STATEN ISLAND', nan],\n",
       "      dtype=object)"
      ]
     },
     "execution_count": 32,
     "metadata": {},
     "output_type": "execute_result"
    }
   ],
   "source": [
    "data['BORO_NM'].unique()"
   ]
  },
  {
   "cell_type": "code",
   "execution_count": 31,
   "id": "4f3d3079",
   "metadata": {},
   "outputs": [
    {
     "data": {
      "text/html": [
       "<div>\n",
       "<style scoped>\n",
       "    .dataframe tbody tr th:only-of-type {\n",
       "        vertical-align: middle;\n",
       "    }\n",
       "\n",
       "    .dataframe tbody tr th {\n",
       "        vertical-align: top;\n",
       "    }\n",
       "\n",
       "    .dataframe thead th {\n",
       "        text-align: right;\n",
       "    }\n",
       "</style>\n",
       "<table border=\"1\" class=\"dataframe\">\n",
       "  <thead>\n",
       "    <tr style=\"text-align: right;\">\n",
       "      <th></th>\n",
       "      <th>CMPLNT_NUM</th>\n",
       "      <th>CMPLNT_FR_DT</th>\n",
       "      <th>CMPLNT_FR_TM</th>\n",
       "      <th>CMPLNT_TO_DT</th>\n",
       "      <th>CMPLNT_TO_TM</th>\n",
       "      <th>ADDR_PCT_CD</th>\n",
       "      <th>RPT_DT</th>\n",
       "      <th>KY_CD</th>\n",
       "      <th>OFNS_DESC</th>\n",
       "      <th>PD_CD</th>\n",
       "      <th>...</th>\n",
       "      <th>SUSP_SEX</th>\n",
       "      <th>TRANSIT_DISTRICT</th>\n",
       "      <th>Latitude</th>\n",
       "      <th>Longitude</th>\n",
       "      <th>Lat_Lon</th>\n",
       "      <th>PATROL_BORO</th>\n",
       "      <th>STATION_NAME</th>\n",
       "      <th>VIC_AGE_GROUP</th>\n",
       "      <th>VIC_RACE</th>\n",
       "      <th>VIC_SEX</th>\n",
       "    </tr>\n",
       "  </thead>\n",
       "  <tbody>\n",
       "    <tr>\n",
       "      <th>0</th>\n",
       "      <td>216044876</td>\n",
       "      <td>01/01/2017</td>\n",
       "      <td>11:00:00</td>\n",
       "      <td>08/20/2018</td>\n",
       "      <td>12:00:00</td>\n",
       "      <td>109.0</td>\n",
       "      <td>12/31/2019</td>\n",
       "      <td>116</td>\n",
       "      <td>SEX CRIMES</td>\n",
       "      <td>179.0</td>\n",
       "      <td>...</td>\n",
       "      <td>M</td>\n",
       "      <td>NaN</td>\n",
       "      <td>40.762334</td>\n",
       "      <td>-73.826917</td>\n",
       "      <td>(40.76233421800004, -73.82691730799998)</td>\n",
       "      <td>PATROL BORO QUEENS NORTH</td>\n",
       "      <td>NaN</td>\n",
       "      <td>&lt;18</td>\n",
       "      <td>ASIAN / PACIFIC ISLANDER</td>\n",
       "      <td>F</td>\n",
       "    </tr>\n",
       "    <tr>\n",
       "      <th>1</th>\n",
       "      <td>112025807</td>\n",
       "      <td>01/01/2017</td>\n",
       "      <td>09:00:00</td>\n",
       "      <td>09/01/2019</td>\n",
       "      <td>09:00:00</td>\n",
       "      <td>13.0</td>\n",
       "      <td>12/06/2019</td>\n",
       "      <td>233</td>\n",
       "      <td>SEX CRIMES</td>\n",
       "      <td>175.0</td>\n",
       "      <td>...</td>\n",
       "      <td>M</td>\n",
       "      <td>NaN</td>\n",
       "      <td>40.736698</td>\n",
       "      <td>-73.983316</td>\n",
       "      <td>(40.736698070000045, -73.98331602599995)</td>\n",
       "      <td>PATROL BORO MAN SOUTH</td>\n",
       "      <td>NaN</td>\n",
       "      <td>45-64</td>\n",
       "      <td>WHITE HISPANIC</td>\n",
       "      <td>M</td>\n",
       "    </tr>\n",
       "    <tr>\n",
       "      <th>2</th>\n",
       "      <td>669902330</td>\n",
       "      <td>01/01/2017</td>\n",
       "      <td>00:01:00</td>\n",
       "      <td>12/31/2017</td>\n",
       "      <td>23:59:00</td>\n",
       "      <td>114.0</td>\n",
       "      <td>11/26/2019</td>\n",
       "      <td>233</td>\n",
       "      <td>SEX CRIMES</td>\n",
       "      <td>175.0</td>\n",
       "      <td>...</td>\n",
       "      <td>M</td>\n",
       "      <td>NaN</td>\n",
       "      <td>40.769306</td>\n",
       "      <td>-73.915508</td>\n",
       "      <td>(40.76930608700008, -73.91550817999997)</td>\n",
       "      <td>PATROL BORO QUEENS NORTH</td>\n",
       "      <td>NaN</td>\n",
       "      <td>&lt;18</td>\n",
       "      <td>BLACK</td>\n",
       "      <td>F</td>\n",
       "    </tr>\n",
       "  </tbody>\n",
       "</table>\n",
       "<p>3 rows × 35 columns</p>\n",
       "</div>"
      ],
      "text/plain": [
       "   CMPLNT_NUM CMPLNT_FR_DT CMPLNT_FR_TM CMPLNT_TO_DT CMPLNT_TO_TM  \\\n",
       "0   216044876   01/01/2017     11:00:00   08/20/2018     12:00:00   \n",
       "1   112025807   01/01/2017     09:00:00   09/01/2019     09:00:00   \n",
       "2   669902330   01/01/2017     00:01:00   12/31/2017     23:59:00   \n",
       "\n",
       "   ADDR_PCT_CD      RPT_DT  KY_CD   OFNS_DESC  PD_CD  ... SUSP_SEX  \\\n",
       "0        109.0  12/31/2019    116  SEX CRIMES  179.0  ...        M   \n",
       "1         13.0  12/06/2019    233  SEX CRIMES  175.0  ...        M   \n",
       "2        114.0  11/26/2019    233  SEX CRIMES  175.0  ...        M   \n",
       "\n",
       "  TRANSIT_DISTRICT   Latitude  Longitude  \\\n",
       "0              NaN  40.762334 -73.826917   \n",
       "1              NaN  40.736698 -73.983316   \n",
       "2              NaN  40.769306 -73.915508   \n",
       "\n",
       "                                    Lat_Lon               PATROL_BORO  \\\n",
       "0   (40.76233421800004, -73.82691730799998)  PATROL BORO QUEENS NORTH   \n",
       "1  (40.736698070000045, -73.98331602599995)     PATROL BORO MAN SOUTH   \n",
       "2   (40.76930608700008, -73.91550817999997)  PATROL BORO QUEENS NORTH   \n",
       "\n",
       "  STATION_NAME  VIC_AGE_GROUP                  VIC_RACE VIC_SEX  \n",
       "0          NaN            <18  ASIAN / PACIFIC ISLANDER       F  \n",
       "1          NaN          45-64            WHITE HISPANIC       M  \n",
       "2          NaN            <18                     BLACK       F  \n",
       "\n",
       "[3 rows x 35 columns]"
      ]
     },
     "execution_count": 31,
     "metadata": {},
     "output_type": "execute_result"
    }
   ],
   "source": [
    "data.head(3)"
   ]
  }
 ],
 "metadata": {
  "kernelspec": {
   "display_name": "Python 3",
   "language": "python",
   "name": "python3"
  },
  "language_info": {
   "codemirror_mode": {
    "name": "ipython",
    "version": 3
   },
   "file_extension": ".py",
   "mimetype": "text/x-python",
   "name": "python",
   "nbconvert_exporter": "python",
   "pygments_lexer": "ipython3",
   "version": "3.8.8"
  }
 },
 "nbformat": 4,
 "nbformat_minor": 5
}
