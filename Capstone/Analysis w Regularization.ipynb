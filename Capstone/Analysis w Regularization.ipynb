{
 "cells": [
  {
   "cell_type": "markdown",
   "id": "fc0db41f",
   "metadata": {},
   "source": [
    "## Analysis w Regularization techniques for variable selection\n",
    "### Links:\n",
    "- Lectures 3 & 4 from Prof Chetverikov\n",
    "- https://medium.com/@dbertsch/how-to-use-lasso-regularization-to-rank-independent-variables-by-importance-fe9da4d2bf95\n",
    "- https://towardsdatascience.com/everything-you-ever-wanted-to-know-about-k-nearest-neighbors-dab986e21b60#:~:text=Distance%20Weighting%3A%20Instead%20of%20directly,point%20and%20the%20training%20point.\n",
    "- https://machinelearningmastery.com/lasso-regression-with-python/"
   ]
  },
  {
   "cell_type": "code",
   "execution_count": 1,
   "id": "63e91b6a",
   "metadata": {},
   "outputs": [],
   "source": [
    "import pandas as pd\n",
    "import numpy as np\n",
    "from math import radians\n",
    "from sklearn. linear_model import Lasso\n",
    "from sklearn.model_selection import train_test_split\n",
    "from sklearn.metrics import accuracy_score\n",
    "from sklearn import preprocessing\n",
    "from scipy.stats import norm\n",
    "from sklearn. linear_model import LassoCV\n",
    "import matplotlib.pyplot as plt"
   ]
  },
  {
   "cell_type": "code",
   "execution_count": 2,
   "id": "de4c3f3e",
   "metadata": {},
   "outputs": [
    {
     "data": {
      "text/html": [
       "<div>\n",
       "<style scoped>\n",
       "    .dataframe tbody tr th:only-of-type {\n",
       "        vertical-align: middle;\n",
       "    }\n",
       "\n",
       "    .dataframe tbody tr th {\n",
       "        vertical-align: top;\n",
       "    }\n",
       "\n",
       "    .dataframe thead th {\n",
       "        text-align: right;\n",
       "    }\n",
       "</style>\n",
       "<table border=\"1\" class=\"dataframe\">\n",
       "  <thead>\n",
       "    <tr style=\"text-align: right;\">\n",
       "      <th></th>\n",
       "      <th>crime_rate</th>\n",
       "      <th>crime_diff</th>\n",
       "      <th>felony</th>\n",
       "      <th>misdemeanor</th>\n",
       "      <th>completed</th>\n",
       "      <th>s_native</th>\n",
       "      <th>s_apac</th>\n",
       "      <th>s_black</th>\n",
       "      <th>s_bl_hisp</th>\n",
       "      <th>s_white</th>\n",
       "      <th>...</th>\n",
       "      <th>VARIETY STORE</th>\n",
       "      <th>VIDEO STORE</th>\n",
       "      <th>median_age</th>\n",
       "      <th>poverty_rate</th>\n",
       "      <th>unemployment_rate</th>\n",
       "      <th>educ</th>\n",
       "      <th>labor_part</th>\n",
       "      <th>hispanic_rate</th>\n",
       "      <th>black_rate</th>\n",
       "      <th>asian_rate</th>\n",
       "    </tr>\n",
       "  </thead>\n",
       "  <tbody>\n",
       "    <tr>\n",
       "      <th>0</th>\n",
       "      <td>322.95</td>\n",
       "      <td>596.0</td>\n",
       "      <td>1</td>\n",
       "      <td>0</td>\n",
       "      <td>1</td>\n",
       "      <td>0</td>\n",
       "      <td>1</td>\n",
       "      <td>0</td>\n",
       "      <td>0</td>\n",
       "      <td>0</td>\n",
       "      <td>...</td>\n",
       "      <td>0</td>\n",
       "      <td>0</td>\n",
       "      <td>39.0</td>\n",
       "      <td>12.2</td>\n",
       "      <td>5.6</td>\n",
       "      <td>32.2</td>\n",
       "      <td>64.2</td>\n",
       "      <td>27.76</td>\n",
       "      <td>15.85</td>\n",
       "      <td>27.3</td>\n",
       "    </tr>\n",
       "    <tr>\n",
       "      <th>1</th>\n",
       "      <td>322.95</td>\n",
       "      <td>364.0</td>\n",
       "      <td>0</td>\n",
       "      <td>1</td>\n",
       "      <td>1</td>\n",
       "      <td>0</td>\n",
       "      <td>0</td>\n",
       "      <td>1</td>\n",
       "      <td>0</td>\n",
       "      <td>0</td>\n",
       "      <td>...</td>\n",
       "      <td>0</td>\n",
       "      <td>0</td>\n",
       "      <td>39.0</td>\n",
       "      <td>12.2</td>\n",
       "      <td>5.6</td>\n",
       "      <td>32.2</td>\n",
       "      <td>64.2</td>\n",
       "      <td>27.76</td>\n",
       "      <td>15.85</td>\n",
       "      <td>27.3</td>\n",
       "    </tr>\n",
       "    <tr>\n",
       "      <th>2</th>\n",
       "      <td>322.95</td>\n",
       "      <td>1047.0</td>\n",
       "      <td>0</td>\n",
       "      <td>1</td>\n",
       "      <td>1</td>\n",
       "      <td>0</td>\n",
       "      <td>0</td>\n",
       "      <td>0</td>\n",
       "      <td>0</td>\n",
       "      <td>0</td>\n",
       "      <td>...</td>\n",
       "      <td>0</td>\n",
       "      <td>0</td>\n",
       "      <td>39.0</td>\n",
       "      <td>12.2</td>\n",
       "      <td>5.6</td>\n",
       "      <td>32.2</td>\n",
       "      <td>64.2</td>\n",
       "      <td>27.76</td>\n",
       "      <td>15.85</td>\n",
       "      <td>27.3</td>\n",
       "    </tr>\n",
       "    <tr>\n",
       "      <th>3</th>\n",
       "      <td>322.95</td>\n",
       "      <td>364.0</td>\n",
       "      <td>1</td>\n",
       "      <td>0</td>\n",
       "      <td>1</td>\n",
       "      <td>0</td>\n",
       "      <td>0</td>\n",
       "      <td>0</td>\n",
       "      <td>0</td>\n",
       "      <td>0</td>\n",
       "      <td>...</td>\n",
       "      <td>0</td>\n",
       "      <td>0</td>\n",
       "      <td>39.0</td>\n",
       "      <td>12.2</td>\n",
       "      <td>5.6</td>\n",
       "      <td>32.2</td>\n",
       "      <td>64.2</td>\n",
       "      <td>27.76</td>\n",
       "      <td>15.85</td>\n",
       "      <td>27.3</td>\n",
       "    </tr>\n",
       "    <tr>\n",
       "      <th>4</th>\n",
       "      <td>322.95</td>\n",
       "      <td>585.0</td>\n",
       "      <td>0</td>\n",
       "      <td>1</td>\n",
       "      <td>1</td>\n",
       "      <td>0</td>\n",
       "      <td>0</td>\n",
       "      <td>1</td>\n",
       "      <td>0</td>\n",
       "      <td>0</td>\n",
       "      <td>...</td>\n",
       "      <td>0</td>\n",
       "      <td>0</td>\n",
       "      <td>39.0</td>\n",
       "      <td>12.2</td>\n",
       "      <td>5.6</td>\n",
       "      <td>32.2</td>\n",
       "      <td>64.2</td>\n",
       "      <td>27.76</td>\n",
       "      <td>15.85</td>\n",
       "      <td>27.3</td>\n",
       "    </tr>\n",
       "  </tbody>\n",
       "</table>\n",
       "<p>5 rows × 127 columns</p>\n",
       "</div>"
      ],
      "text/plain": [
       "   crime_rate  crime_diff  felony  misdemeanor  completed  s_native  s_apac  \\\n",
       "0      322.95       596.0       1            0          1         0       1   \n",
       "1      322.95       364.0       0            1          1         0       0   \n",
       "2      322.95      1047.0       0            1          1         0       0   \n",
       "3      322.95       364.0       1            0          1         0       0   \n",
       "4      322.95       585.0       0            1          1         0       0   \n",
       "\n",
       "   s_black  s_bl_hisp  s_white  ...  VARIETY STORE  VIDEO STORE  median_age  \\\n",
       "0        0          0        0  ...              0            0        39.0   \n",
       "1        1          0        0  ...              0            0        39.0   \n",
       "2        0          0        0  ...              0            0        39.0   \n",
       "3        0          0        0  ...              0            0        39.0   \n",
       "4        1          0        0  ...              0            0        39.0   \n",
       "\n",
       "   poverty_rate  unemployment_rate  educ  labor_part  hispanic_rate  \\\n",
       "0          12.2                5.6  32.2        64.2          27.76   \n",
       "1          12.2                5.6  32.2        64.2          27.76   \n",
       "2          12.2                5.6  32.2        64.2          27.76   \n",
       "3          12.2                5.6  32.2        64.2          27.76   \n",
       "4          12.2                5.6  32.2        64.2          27.76   \n",
       "\n",
       "   black_rate  asian_rate  \n",
       "0       15.85        27.3  \n",
       "1       15.85        27.3  \n",
       "2       15.85        27.3  \n",
       "3       15.85        27.3  \n",
       "4       15.85        27.3  \n",
       "\n",
       "[5 rows x 127 columns]"
      ]
     },
     "execution_count": 2,
     "metadata": {},
     "output_type": "execute_result"
    }
   ],
   "source": [
    "df = pd.read_csv('data_regularization')\n",
    "df.head()"
   ]
  },
  {
   "cell_type": "code",
   "execution_count": 3,
   "id": "ab62c604",
   "metadata": {},
   "outputs": [],
   "source": [
    "################################################################################################################################"
   ]
  },
  {
   "cell_type": "markdown",
   "id": "b59c709e",
   "metadata": {},
   "source": [
    "## Don't scale dummies"
   ]
  },
  {
   "cell_type": "code",
   "execution_count": 3,
   "id": "77360033",
   "metadata": {},
   "outputs": [
    {
     "data": {
      "text/html": [
       "<div>\n",
       "<style scoped>\n",
       "    .dataframe tbody tr th:only-of-type {\n",
       "        vertical-align: middle;\n",
       "    }\n",
       "\n",
       "    .dataframe tbody tr th {\n",
       "        vertical-align: top;\n",
       "    }\n",
       "\n",
       "    .dataframe thead th {\n",
       "        text-align: right;\n",
       "    }\n",
       "</style>\n",
       "<table border=\"1\" class=\"dataframe\">\n",
       "  <thead>\n",
       "    <tr style=\"text-align: right;\">\n",
       "      <th></th>\n",
       "      <th>median_age</th>\n",
       "      <th>poverty_rate</th>\n",
       "      <th>unemployment_rate</th>\n",
       "      <th>educ</th>\n",
       "      <th>hispanic_rate</th>\n",
       "      <th>black_rate</th>\n",
       "      <th>asian_rate</th>\n",
       "      <th>labor_part</th>\n",
       "      <th>crime_diff</th>\n",
       "    </tr>\n",
       "  </thead>\n",
       "  <tbody>\n",
       "    <tr>\n",
       "      <th>0</th>\n",
       "      <td>39.0</td>\n",
       "      <td>12.2</td>\n",
       "      <td>5.6</td>\n",
       "      <td>32.2</td>\n",
       "      <td>27.76</td>\n",
       "      <td>15.85</td>\n",
       "      <td>27.3</td>\n",
       "      <td>64.2</td>\n",
       "      <td>596.0</td>\n",
       "    </tr>\n",
       "    <tr>\n",
       "      <th>1</th>\n",
       "      <td>39.0</td>\n",
       "      <td>12.2</td>\n",
       "      <td>5.6</td>\n",
       "      <td>32.2</td>\n",
       "      <td>27.76</td>\n",
       "      <td>15.85</td>\n",
       "      <td>27.3</td>\n",
       "      <td>64.2</td>\n",
       "      <td>364.0</td>\n",
       "    </tr>\n",
       "    <tr>\n",
       "      <th>2</th>\n",
       "      <td>39.0</td>\n",
       "      <td>12.2</td>\n",
       "      <td>5.6</td>\n",
       "      <td>32.2</td>\n",
       "      <td>27.76</td>\n",
       "      <td>15.85</td>\n",
       "      <td>27.3</td>\n",
       "      <td>64.2</td>\n",
       "      <td>1047.0</td>\n",
       "    </tr>\n",
       "    <tr>\n",
       "      <th>3</th>\n",
       "      <td>39.0</td>\n",
       "      <td>12.2</td>\n",
       "      <td>5.6</td>\n",
       "      <td>32.2</td>\n",
       "      <td>27.76</td>\n",
       "      <td>15.85</td>\n",
       "      <td>27.3</td>\n",
       "      <td>64.2</td>\n",
       "      <td>364.0</td>\n",
       "    </tr>\n",
       "    <tr>\n",
       "      <th>4</th>\n",
       "      <td>39.0</td>\n",
       "      <td>12.2</td>\n",
       "      <td>5.6</td>\n",
       "      <td>32.2</td>\n",
       "      <td>27.76</td>\n",
       "      <td>15.85</td>\n",
       "      <td>27.3</td>\n",
       "      <td>64.2</td>\n",
       "      <td>585.0</td>\n",
       "    </tr>\n",
       "  </tbody>\n",
       "</table>\n",
       "</div>"
      ],
      "text/plain": [
       "   median_age  poverty_rate  unemployment_rate  educ  hispanic_rate  \\\n",
       "0        39.0          12.2                5.6  32.2          27.76   \n",
       "1        39.0          12.2                5.6  32.2          27.76   \n",
       "2        39.0          12.2                5.6  32.2          27.76   \n",
       "3        39.0          12.2                5.6  32.2          27.76   \n",
       "4        39.0          12.2                5.6  32.2          27.76   \n",
       "\n",
       "   black_rate  asian_rate  labor_part  crime_diff  \n",
       "0       15.85        27.3        64.2       596.0  \n",
       "1       15.85        27.3        64.2       364.0  \n",
       "2       15.85        27.3        64.2      1047.0  \n",
       "3       15.85        27.3        64.2       364.0  \n",
       "4       15.85        27.3        64.2       585.0  "
      ]
     },
     "execution_count": 3,
     "metadata": {},
     "output_type": "execute_result"
    }
   ],
   "source": [
    "pre_scale = df[['median_age','poverty_rate', 'unemployment_rate',  'educ', 'hispanic_rate', 'black_rate', 'asian_rate', 'labor_part', 'crime_diff']]\n",
    "df = df.drop(['median_age','poverty_rate', 'unemployment_rate',  'educ', 'hispanic_rate', 'black_rate', 'asian_rate', 'labor_part', 'crime_diff'],axis=1)\n",
    "pre_scale.head()"
   ]
  },
  {
   "cell_type": "code",
   "execution_count": 5,
   "id": "01ac6601",
   "metadata": {},
   "outputs": [
    {
     "data": {
      "text/html": [
       "<div>\n",
       "<style scoped>\n",
       "    .dataframe tbody tr th:only-of-type {\n",
       "        vertical-align: middle;\n",
       "    }\n",
       "\n",
       "    .dataframe tbody tr th {\n",
       "        vertical-align: top;\n",
       "    }\n",
       "\n",
       "    .dataframe thead th {\n",
       "        text-align: right;\n",
       "    }\n",
       "</style>\n",
       "<table border=\"1\" class=\"dataframe\">\n",
       "  <thead>\n",
       "    <tr style=\"text-align: right;\">\n",
       "      <th></th>\n",
       "      <th>0</th>\n",
       "      <th>1</th>\n",
       "      <th>2</th>\n",
       "      <th>3</th>\n",
       "      <th>4</th>\n",
       "      <th>5</th>\n",
       "      <th>6</th>\n",
       "      <th>7</th>\n",
       "      <th>8</th>\n",
       "    </tr>\n",
       "  </thead>\n",
       "  <tbody>\n",
       "    <tr>\n",
       "      <th>0</th>\n",
       "      <td>1.252528</td>\n",
       "      <td>-1.054108</td>\n",
       "      <td>-0.538622</td>\n",
       "      <td>-0.434118</td>\n",
       "      <td>-0.146719</td>\n",
       "      <td>-0.636541</td>\n",
       "      <td>1.767097</td>\n",
       "      <td>0.23365</td>\n",
       "      <td>22.413513</td>\n",
       "    </tr>\n",
       "    <tr>\n",
       "      <th>1</th>\n",
       "      <td>1.252528</td>\n",
       "      <td>-1.054108</td>\n",
       "      <td>-0.538622</td>\n",
       "      <td>-0.434118</td>\n",
       "      <td>-0.146719</td>\n",
       "      <td>-0.636541</td>\n",
       "      <td>1.767097</td>\n",
       "      <td>0.23365</td>\n",
       "      <td>13.645411</td>\n",
       "    </tr>\n",
       "    <tr>\n",
       "      <th>2</th>\n",
       "      <td>1.252528</td>\n",
       "      <td>-1.054108</td>\n",
       "      <td>-0.538622</td>\n",
       "      <td>-0.434118</td>\n",
       "      <td>-0.146719</td>\n",
       "      <td>-0.636541</td>\n",
       "      <td>1.767097</td>\n",
       "      <td>0.23365</td>\n",
       "      <td>39.458402</td>\n",
       "    </tr>\n",
       "    <tr>\n",
       "      <th>3</th>\n",
       "      <td>1.252528</td>\n",
       "      <td>-1.054108</td>\n",
       "      <td>-0.538622</td>\n",
       "      <td>-0.434118</td>\n",
       "      <td>-0.146719</td>\n",
       "      <td>-0.636541</td>\n",
       "      <td>1.767097</td>\n",
       "      <td>0.23365</td>\n",
       "      <td>13.645411</td>\n",
       "    </tr>\n",
       "    <tr>\n",
       "      <th>4</th>\n",
       "      <td>1.252528</td>\n",
       "      <td>-1.054108</td>\n",
       "      <td>-0.538622</td>\n",
       "      <td>-0.434118</td>\n",
       "      <td>-0.146719</td>\n",
       "      <td>-0.636541</td>\n",
       "      <td>1.767097</td>\n",
       "      <td>0.23365</td>\n",
       "      <td>21.997784</td>\n",
       "    </tr>\n",
       "  </tbody>\n",
       "</table>\n",
       "</div>"
      ],
      "text/plain": [
       "          0         1         2         3         4         5         6  \\\n",
       "0  1.252528 -1.054108 -0.538622 -0.434118 -0.146719 -0.636541  1.767097   \n",
       "1  1.252528 -1.054108 -0.538622 -0.434118 -0.146719 -0.636541  1.767097   \n",
       "2  1.252528 -1.054108 -0.538622 -0.434118 -0.146719 -0.636541  1.767097   \n",
       "3  1.252528 -1.054108 -0.538622 -0.434118 -0.146719 -0.636541  1.767097   \n",
       "4  1.252528 -1.054108 -0.538622 -0.434118 -0.146719 -0.636541  1.767097   \n",
       "\n",
       "         7          8  \n",
       "0  0.23365  22.413513  \n",
       "1  0.23365  13.645411  \n",
       "2  0.23365  39.458402  \n",
       "3  0.23365  13.645411  \n",
       "4  0.23365  21.997784  "
      ]
     },
     "execution_count": 5,
     "metadata": {},
     "output_type": "execute_result"
    }
   ],
   "source": [
    "scaler = preprocessing.StandardScaler()\n",
    "scaled = pd.DataFrame(scaler.fit_transform(pre_scale))\n",
    "scaled.head()"
   ]
  },
  {
   "cell_type": "code",
   "execution_count": 6,
   "id": "2b4fe8a7",
   "metadata": {},
   "outputs": [],
   "source": [
    "scaled = scaled.rename(columns={0: \"median_age\", 1: \"poverty_rate\", 2: \"unemployment_rate\",3: \"educ\",\n",
    "                       4: \"hispanic_rate\",5: \"black_rate\",6: \"asian_rate\", 7:\"labor_part\",8:'crime_diff'})\n"
   ]
  },
  {
   "cell_type": "code",
   "execution_count": 7,
   "id": "90367bd1",
   "metadata": {},
   "outputs": [],
   "source": [
    "len(scaled)\n",
    "index = list(range(1, 1790832+1))\n",
    "df['index'] = index\n",
    "scaled['index'] = index"
   ]
  },
  {
   "cell_type": "code",
   "execution_count": null,
   "id": "976d1f9d",
   "metadata": {},
   "outputs": [],
   "source": [
    "#df.to_csv('scaled_regularization_data.csv', index=False)"
   ]
  },
  {
   "cell_type": "code",
   "execution_count": 8,
   "id": "14cf435f",
   "metadata": {},
   "outputs": [
    {
     "data": {
      "text/html": [
       "<div>\n",
       "<style scoped>\n",
       "    .dataframe tbody tr th:only-of-type {\n",
       "        vertical-align: middle;\n",
       "    }\n",
       "\n",
       "    .dataframe tbody tr th {\n",
       "        vertical-align: top;\n",
       "    }\n",
       "\n",
       "    .dataframe thead th {\n",
       "        text-align: right;\n",
       "    }\n",
       "</style>\n",
       "<table border=\"1\" class=\"dataframe\">\n",
       "  <thead>\n",
       "    <tr style=\"text-align: right;\">\n",
       "      <th></th>\n",
       "      <th>crime_rate</th>\n",
       "      <th>felony</th>\n",
       "      <th>misdemeanor</th>\n",
       "      <th>completed</th>\n",
       "      <th>s_native</th>\n",
       "      <th>s_apac</th>\n",
       "      <th>s_black</th>\n",
       "      <th>s_bl_hisp</th>\n",
       "      <th>s_white</th>\n",
       "      <th>s_white_hisp</th>\n",
       "      <th>...</th>\n",
       "      <th>VIDEO STORE</th>\n",
       "      <th>median_age</th>\n",
       "      <th>poverty_rate</th>\n",
       "      <th>unemployment_rate</th>\n",
       "      <th>educ</th>\n",
       "      <th>hispanic_rate</th>\n",
       "      <th>black_rate</th>\n",
       "      <th>asian_rate</th>\n",
       "      <th>labor_part</th>\n",
       "      <th>crime_diff</th>\n",
       "    </tr>\n",
       "  </thead>\n",
       "  <tbody>\n",
       "    <tr>\n",
       "      <th>0</th>\n",
       "      <td>322.95</td>\n",
       "      <td>1</td>\n",
       "      <td>0</td>\n",
       "      <td>1</td>\n",
       "      <td>0</td>\n",
       "      <td>1</td>\n",
       "      <td>0</td>\n",
       "      <td>0</td>\n",
       "      <td>0</td>\n",
       "      <td>0</td>\n",
       "      <td>...</td>\n",
       "      <td>0</td>\n",
       "      <td>1.252528</td>\n",
       "      <td>-1.054108</td>\n",
       "      <td>-0.538622</td>\n",
       "      <td>-0.434118</td>\n",
       "      <td>-0.146719</td>\n",
       "      <td>-0.636541</td>\n",
       "      <td>1.767097</td>\n",
       "      <td>0.23365</td>\n",
       "      <td>22.413513</td>\n",
       "    </tr>\n",
       "    <tr>\n",
       "      <th>1</th>\n",
       "      <td>322.95</td>\n",
       "      <td>0</td>\n",
       "      <td>1</td>\n",
       "      <td>1</td>\n",
       "      <td>0</td>\n",
       "      <td>0</td>\n",
       "      <td>1</td>\n",
       "      <td>0</td>\n",
       "      <td>0</td>\n",
       "      <td>0</td>\n",
       "      <td>...</td>\n",
       "      <td>0</td>\n",
       "      <td>1.252528</td>\n",
       "      <td>-1.054108</td>\n",
       "      <td>-0.538622</td>\n",
       "      <td>-0.434118</td>\n",
       "      <td>-0.146719</td>\n",
       "      <td>-0.636541</td>\n",
       "      <td>1.767097</td>\n",
       "      <td>0.23365</td>\n",
       "      <td>13.645411</td>\n",
       "    </tr>\n",
       "    <tr>\n",
       "      <th>2</th>\n",
       "      <td>322.95</td>\n",
       "      <td>0</td>\n",
       "      <td>1</td>\n",
       "      <td>1</td>\n",
       "      <td>0</td>\n",
       "      <td>0</td>\n",
       "      <td>0</td>\n",
       "      <td>0</td>\n",
       "      <td>0</td>\n",
       "      <td>0</td>\n",
       "      <td>...</td>\n",
       "      <td>0</td>\n",
       "      <td>1.252528</td>\n",
       "      <td>-1.054108</td>\n",
       "      <td>-0.538622</td>\n",
       "      <td>-0.434118</td>\n",
       "      <td>-0.146719</td>\n",
       "      <td>-0.636541</td>\n",
       "      <td>1.767097</td>\n",
       "      <td>0.23365</td>\n",
       "      <td>39.458402</td>\n",
       "    </tr>\n",
       "    <tr>\n",
       "      <th>3</th>\n",
       "      <td>322.95</td>\n",
       "      <td>1</td>\n",
       "      <td>0</td>\n",
       "      <td>1</td>\n",
       "      <td>0</td>\n",
       "      <td>0</td>\n",
       "      <td>0</td>\n",
       "      <td>0</td>\n",
       "      <td>0</td>\n",
       "      <td>0</td>\n",
       "      <td>...</td>\n",
       "      <td>0</td>\n",
       "      <td>1.252528</td>\n",
       "      <td>-1.054108</td>\n",
       "      <td>-0.538622</td>\n",
       "      <td>-0.434118</td>\n",
       "      <td>-0.146719</td>\n",
       "      <td>-0.636541</td>\n",
       "      <td>1.767097</td>\n",
       "      <td>0.23365</td>\n",
       "      <td>13.645411</td>\n",
       "    </tr>\n",
       "    <tr>\n",
       "      <th>4</th>\n",
       "      <td>322.95</td>\n",
       "      <td>0</td>\n",
       "      <td>1</td>\n",
       "      <td>1</td>\n",
       "      <td>0</td>\n",
       "      <td>0</td>\n",
       "      <td>1</td>\n",
       "      <td>0</td>\n",
       "      <td>0</td>\n",
       "      <td>0</td>\n",
       "      <td>...</td>\n",
       "      <td>0</td>\n",
       "      <td>1.252528</td>\n",
       "      <td>-1.054108</td>\n",
       "      <td>-0.538622</td>\n",
       "      <td>-0.434118</td>\n",
       "      <td>-0.146719</td>\n",
       "      <td>-0.636541</td>\n",
       "      <td>1.767097</td>\n",
       "      <td>0.23365</td>\n",
       "      <td>21.997784</td>\n",
       "    </tr>\n",
       "  </tbody>\n",
       "</table>\n",
       "<p>5 rows × 127 columns</p>\n",
       "</div>"
      ],
      "text/plain": [
       "   crime_rate  felony  misdemeanor  completed  s_native  s_apac  s_black  \\\n",
       "0      322.95       1            0          1         0       1        0   \n",
       "1      322.95       0            1          1         0       0        1   \n",
       "2      322.95       0            1          1         0       0        0   \n",
       "3      322.95       1            0          1         0       0        0   \n",
       "4      322.95       0            1          1         0       0        1   \n",
       "\n",
       "   s_bl_hisp  s_white  s_white_hisp  ...  VIDEO STORE  median_age  \\\n",
       "0          0        0             0  ...            0    1.252528   \n",
       "1          0        0             0  ...            0    1.252528   \n",
       "2          0        0             0  ...            0    1.252528   \n",
       "3          0        0             0  ...            0    1.252528   \n",
       "4          0        0             0  ...            0    1.252528   \n",
       "\n",
       "   poverty_rate  unemployment_rate      educ  hispanic_rate  black_rate  \\\n",
       "0     -1.054108          -0.538622 -0.434118      -0.146719   -0.636541   \n",
       "1     -1.054108          -0.538622 -0.434118      -0.146719   -0.636541   \n",
       "2     -1.054108          -0.538622 -0.434118      -0.146719   -0.636541   \n",
       "3     -1.054108          -0.538622 -0.434118      -0.146719   -0.636541   \n",
       "4     -1.054108          -0.538622 -0.434118      -0.146719   -0.636541   \n",
       "\n",
       "   asian_rate  labor_part  crime_diff  \n",
       "0    1.767097     0.23365   22.413513  \n",
       "1    1.767097     0.23365   13.645411  \n",
       "2    1.767097     0.23365   39.458402  \n",
       "3    1.767097     0.23365   13.645411  \n",
       "4    1.767097     0.23365   21.997784  \n",
       "\n",
       "[5 rows x 127 columns]"
      ]
     },
     "execution_count": 8,
     "metadata": {},
     "output_type": "execute_result"
    }
   ],
   "source": [
    "df = pd.merge(df, scaled, on='index', how='outer')\n",
    "df = df.drop('index', axis=1)\n",
    "df.head()"
   ]
  },
  {
   "cell_type": "code",
   "execution_count": 9,
   "id": "490f3d1b",
   "metadata": {},
   "outputs": [
    {
     "data": {
      "text/plain": [
       "<AxesSubplot:>"
      ]
     },
     "execution_count": 9,
     "metadata": {},
     "output_type": "execute_result"
    },
    {
     "data": {
      "image/png": "[encoded data removed]",
      "text/plain": [
       "<Figure size 432x288 with 1 Axes>"
      ]
     },
     "metadata": {
      "needs_background": "light"
     },
     "output_type": "display_data"
    }
   ],
   "source": [
    "df['median_age'].hist()"
   ]
  },
  {
   "cell_type": "code",
   "execution_count": null,
   "id": "0e437f52",
   "metadata": {},
   "outputs": [],
   "source": [
    "################################################################################################################################"
   ]
  },
  {
   "cell_type": "code",
   "execution_count": 8,
   "id": "a5a28a2b",
   "metadata": {},
   "outputs": [
    {
     "data": {
      "text/plain": [
       "1790832"
      ]
     },
     "execution_count": 8,
     "metadata": {},
     "output_type": "execute_result"
    }
   ],
   "source": [
    "len(df)"
   ]
  },
  {
   "cell_type": "code",
   "execution_count": 9,
   "id": "9628b734",
   "metadata": {},
   "outputs": [
    {
     "data": {
      "text/plain": [
       "crime_rate       0\n",
       "felony           0\n",
       "misdemeanor      0\n",
       "completed        0\n",
       "s_native         0\n",
       "                ..\n",
       "hispanic_rate    0\n",
       "black_rate       0\n",
       "asian_rate       0\n",
       "labor_part       0\n",
       "crime_diff       7\n",
       "Length: 127, dtype: int64"
      ]
     },
     "execution_count": 9,
     "metadata": {},
     "output_type": "execute_result"
    }
   ],
   "source": [
    "df.isna().sum()"
   ]
  },
  {
   "cell_type": "code",
   "execution_count": 10,
   "id": "558a90b7",
   "metadata": {},
   "outputs": [],
   "source": [
    "df = df.dropna()\n",
    "y = np.array(df['crime_rate'])\n",
    "df = df.drop(['crime_rate'], axis=1)\n",
    "\n",
    "Xtilde = np.array(df)"
   ]
  },
  {
   "cell_type": "code",
   "execution_count": 12,
   "id": "a8c99719",
   "metadata": {},
   "outputs": [
    {
     "name": "stdout",
     "output_type": "stream",
     "text": [
      "[ -0.           0.          -0.           0.           0.\n",
      "   0.           0.           0.           0.           0.\n",
      "   0.           0.           0.           0.           0.\n",
      "   0.          -0.          -0.           0.          -0.\n",
      "  -0.          -0.          -0.          -0.           0.\n",
      "   0.          -0.          -0.          -0.           0.\n",
      "  -0.          -0.          -0.         -42.00482365 -17.35895502\n",
      " -25.04708445   0.4523418    0.          20.08354072  19.33615217\n",
      "   1.13064244   8.49035905 -12.65742938 -21.76042689   0.\n",
      "   0.          -0.           0.           0.           0.\n",
      "   0.           0.           0.           0.           0.\n",
      "   0.           0.           0.           0.           0.\n",
      "   0.           0.           0.          -0.          -0.\n",
      "   0.          -0.          -0.          -0.           0.\n",
      "   0.           0.           0.          -0.          -0.\n",
      "   0.          -0.          -0.           0.          -0.\n",
      "  -0.          -0.           0.          -0.           0.\n",
      "   0.           0.           0.           0.           0.\n",
      "   0.          -0.          -0.          -0.           0.\n",
      "   0.           0.          -0.          -0.          -0.\n",
      "   0.           0.           0.           0.          -0.\n",
      "   0.          -0.           0.           0.           0.\n",
      "  -0.           0.           0.           0.           0.\n",
      "   0.           0.          -0.          66.02496489   0.\n",
      "  87.298624    44.17969256  -0.         -13.44570684   0.\n",
      "   0.        ]\n"
     ]
    }
   ],
   "source": [
    "lasso = Lasso(alpha = .85)\n",
    "lasso.fit(Xtilde ,y)\n",
    "coef = lasso.coef_\n",
    "print(coef)"
   ]
  },
  {
   "cell_type": "code",
   "execution_count": null,
   "id": "bba49420",
   "metadata": {},
   "outputs": [],
   "source": [
    "lasso.intercept_"
   ]
  },
  {
   "cell_type": "code",
   "execution_count": null,
   "id": "d033a777",
   "metadata": {},
   "outputs": [],
   "source": [
    "len(coef)"
   ]
  },
  {
   "cell_type": "code",
   "execution_count": 11,
   "id": "b3c0c089",
   "metadata": {},
   "outputs": [],
   "source": [
    "## split data\n",
    "(Xt ,Xv ,Yt ,Yv)= train_test_split (Xtilde ,y, test_size =0.3 , random_state =0)"
   ]
  },
  {
   "cell_type": "markdown",
   "id": "7d4e6656",
   "metadata": {},
   "source": [
    "## Plot results below\n",
    "We see that the value of Lambda that performs best are those that are the first in the list of alphas, meaning when lambda is equal to .85. Given this, we will test values in the interval of zero to one to see if there is a better fit within this range."
   ]
  },
  {
   "cell_type": "markdown",
   "id": "9911aa2b",
   "metadata": {},
   "source": [
    "#### Try alphas between 0 and 1"
   ]
  },
  {
   "cell_type": "code",
   "execution_count": 13,
   "id": "8a9c17ec",
   "metadata": {},
   "outputs": [
    {
     "data": {
      "text/plain": [
       "array([0.05627252, 0.53114297, 0.53495463, 0.63059117, 0.68544568,\n",
       "       0.7354104 , 0.74894536, 0.85111321, 0.85529616, 0.97915958])"
      ]
     },
     "execution_count": 13,
     "metadata": {},
     "output_type": "execute_result"
    }
   ],
   "source": [
    "alphas_01 = np.random.random(10)\n",
    "alphas_01.sort()\n",
    "alphas_01"
   ]
  },
  {
   "cell_type": "code",
   "execution_count": 14,
   "id": "d3e48dcf",
   "metadata": {},
   "outputs": [
    {
     "data": {
      "text/plain": [
       "array([0., 0., 0., 0., 0., 0., 0., 0., 0., 0.])"
      ]
     },
     "execution_count": 14,
     "metadata": {},
     "output_type": "execute_result"
    }
   ],
   "source": [
    "res = np.zeros( alphas_01.size)\n",
    "res"
   ]
  },
  {
   "cell_type": "code",
   "execution_count": 68,
   "id": "51bb63b6",
   "metadata": {},
   "outputs": [
    {
     "name": "stdout",
     "output_type": "stream",
     "text": [
      "0\n"
     ]
    },
    {
     "name": "stderr",
     "output_type": "stream",
     "text": [
      "C:\\Users\\david\\anaconda3\\lib\\site-packages\\sklearn\\linear_model\\_coordinate_descent.py:647: ConvergenceWarning: Objective did not converge. You might want to increase the number of iterations, check the scale of the features or consider increasing regularisation. Duality gap: 2.391e+08, tolerance: 1.541e+06\n",
      "  model = cd_fast.enet_coordinate_descent(\n"
     ]
    },
    {
     "name": "stdout",
     "output_type": "stream",
     "text": [
      "1\n"
     ]
    },
    {
     "name": "stderr",
     "output_type": "stream",
     "text": [
      "C:\\Users\\david\\anaconda3\\lib\\site-packages\\sklearn\\linear_model\\_coordinate_descent.py:647: ConvergenceWarning: Objective did not converge. You might want to increase the number of iterations, check the scale of the features or consider increasing regularisation. Duality gap: 2.179e+08, tolerance: 1.541e+06\n",
      "  model = cd_fast.enet_coordinate_descent(\n"
     ]
    },
    {
     "name": "stdout",
     "output_type": "stream",
     "text": [
      "2\n"
     ]
    },
    {
     "name": "stderr",
     "output_type": "stream",
     "text": [
      "C:\\Users\\david\\anaconda3\\lib\\site-packages\\sklearn\\linear_model\\_coordinate_descent.py:647: ConvergenceWarning: Objective did not converge. You might want to increase the number of iterations, check the scale of the features or consider increasing regularisation. Duality gap: 7.822e+07, tolerance: 1.541e+06\n",
      "  model = cd_fast.enet_coordinate_descent(\n"
     ]
    },
    {
     "name": "stdout",
     "output_type": "stream",
     "text": [
      "3\n"
     ]
    },
    {
     "name": "stderr",
     "output_type": "stream",
     "text": [
      "C:\\Users\\david\\anaconda3\\lib\\site-packages\\sklearn\\linear_model\\_coordinate_descent.py:647: ConvergenceWarning: Objective did not converge. You might want to increase the number of iterations, check the scale of the features or consider increasing regularisation. Duality gap: 1.716e+07, tolerance: 1.541e+06\n",
      "  model = cd_fast.enet_coordinate_descent(\n"
     ]
    },
    {
     "name": "stdout",
     "output_type": "stream",
     "text": [
      "4\n"
     ]
    },
    {
     "name": "stderr",
     "output_type": "stream",
     "text": [
      "C:\\Users\\david\\anaconda3\\lib\\site-packages\\sklearn\\linear_model\\_coordinate_descent.py:647: ConvergenceWarning: Objective did not converge. You might want to increase the number of iterations, check the scale of the features or consider increasing regularisation. Duality gap: 1.771e+07, tolerance: 1.541e+06\n",
      "  model = cd_fast.enet_coordinate_descent(\n"
     ]
    },
    {
     "name": "stdout",
     "output_type": "stream",
     "text": [
      "5\n"
     ]
    },
    {
     "name": "stderr",
     "output_type": "stream",
     "text": [
      "C:\\Users\\david\\anaconda3\\lib\\site-packages\\sklearn\\linear_model\\_coordinate_descent.py:647: ConvergenceWarning: Objective did not converge. You might want to increase the number of iterations, check the scale of the features or consider increasing regularisation. Duality gap: 7.984e+06, tolerance: 1.541e+06\n",
      "  model = cd_fast.enet_coordinate_descent(\n"
     ]
    },
    {
     "name": "stdout",
     "output_type": "stream",
     "text": [
      "6\n"
     ]
    },
    {
     "name": "stderr",
     "output_type": "stream",
     "text": [
      "C:\\Users\\david\\anaconda3\\lib\\site-packages\\sklearn\\linear_model\\_coordinate_descent.py:647: ConvergenceWarning: Objective did not converge. You might want to increase the number of iterations, check the scale of the features or consider increasing regularisation. Duality gap: 9.871e+06, tolerance: 1.541e+06\n",
      "  model = cd_fast.enet_coordinate_descent(\n"
     ]
    },
    {
     "name": "stdout",
     "output_type": "stream",
     "text": [
      "7\n",
      "8\n",
      "9\n"
     ]
    }
   ],
   "source": [
    "for i in range(len(alphas_used)):\n",
    "    print (i)\n",
    "    lasso = Lasso(alpha = alphas_used[i]) ## MAX_ITER = 100000 ???\n",
    "    lasso.fit(Xt ,Yt)\n",
    "    Y_pred = lasso.predict(Xv)\n",
    "    res[i] = np.mean((Yv - Y_pred ) ** 2)"
   ]
  },
  {
   "cell_type": "code",
   "execution_count": 69,
   "id": "823e96be",
   "metadata": {},
   "outputs": [
    {
     "data": {
      "text/plain": [
       "Text(0, 0.5, 'Mean Residual')"
      ]
     },
     "execution_count": 69,
     "metadata": {},
     "output_type": "execute_result"
    },
    {
     "data": {
      "image/png": "[encoded data removed]",
      "text/plain": [
       "<Figure size 432x288 with 1 Axes>"
      ]
     },
     "metadata": {
      "needs_background": "light"
     },
     "output_type": "display_data"
    }
   ],
   "source": [
    "plt.plot(res)\n",
    "plt.title('Residual of Lasso for each Lambda')\n",
    "plt.xlabel('Index of Randomly Generated Lambdas')\n",
    "plt.ylabel('Mean Residual')"
   ]
  },
  {
   "cell_type": "code",
   "execution_count": 13,
   "id": "40255a4b",
   "metadata": {},
   "outputs": [
    {
     "name": "stdout",
     "output_type": "stream",
     "text": [
      "[0.0124, 0.0325, 0.0593, 0.0842, 0.0943, 0.156, 0.235, 0.471, 0.853, 0.954]\n",
      "[0, 1, 2, 3, 4, 5, 6, 7, 8, 9]\n"
     ]
    },
    {
     "data": {
      "text/html": [
       "<div>\n",
       "<style scoped>\n",
       "    .dataframe tbody tr th:only-of-type {\n",
       "        vertical-align: middle;\n",
       "    }\n",
       "\n",
       "    .dataframe tbody tr th {\n",
       "        vertical-align: top;\n",
       "    }\n",
       "\n",
       "    .dataframe thead th {\n",
       "        text-align: right;\n",
       "    }\n",
       "</style>\n",
       "<table border=\"1\" class=\"dataframe\">\n",
       "  <thead>\n",
       "    <tr style=\"text-align: right;\">\n",
       "      <th></th>\n",
       "      <th>Index</th>\n",
       "      <th>Lambda</th>\n",
       "    </tr>\n",
       "  </thead>\n",
       "  <tbody>\n",
       "    <tr>\n",
       "      <th>0</th>\n",
       "      <td>0</td>\n",
       "      <td>0.0124</td>\n",
       "    </tr>\n",
       "    <tr>\n",
       "      <th>1</th>\n",
       "      <td>1</td>\n",
       "      <td>0.0325</td>\n",
       "    </tr>\n",
       "    <tr>\n",
       "      <th>2</th>\n",
       "      <td>2</td>\n",
       "      <td>0.0593</td>\n",
       "    </tr>\n",
       "    <tr>\n",
       "      <th>3</th>\n",
       "      <td>3</td>\n",
       "      <td>0.0842</td>\n",
       "    </tr>\n",
       "    <tr>\n",
       "      <th>4</th>\n",
       "      <td>4</td>\n",
       "      <td>0.0943</td>\n",
       "    </tr>\n",
       "    <tr>\n",
       "      <th>5</th>\n",
       "      <td>5</td>\n",
       "      <td>0.1560</td>\n",
       "    </tr>\n",
       "    <tr>\n",
       "      <th>6</th>\n",
       "      <td>6</td>\n",
       "      <td>0.2350</td>\n",
       "    </tr>\n",
       "    <tr>\n",
       "      <th>7</th>\n",
       "      <td>7</td>\n",
       "      <td>0.4710</td>\n",
       "    </tr>\n",
       "    <tr>\n",
       "      <th>8</th>\n",
       "      <td>8</td>\n",
       "      <td>0.8530</td>\n",
       "    </tr>\n",
       "    <tr>\n",
       "      <th>9</th>\n",
       "      <td>9</td>\n",
       "      <td>0.9540</td>\n",
       "    </tr>\n",
       "  </tbody>\n",
       "</table>\n",
       "</div>"
      ],
      "text/plain": [
       "   Index  Lambda\n",
       "0      0  0.0124\n",
       "1      1  0.0325\n",
       "2      2  0.0593\n",
       "3      3  0.0842\n",
       "4      4  0.0943\n",
       "5      5  0.1560\n",
       "6      6  0.2350\n",
       "7      7  0.4710\n",
       "8      8  0.8530\n",
       "9      9  0.9540"
      ]
     },
     "execution_count": 13,
     "metadata": {},
     "output_type": "execute_result"
    }
   ],
   "source": [
    "alphas_used = []\n",
    "alphas_used = [.0124, .0325, .0593, .0842, .0943, .156, .235, .471, .853, .954]\n",
    "indexes = [0,1,2,3,4,5,6,7,8,9]\n",
    "print(alphas_used)\n",
    "print(indexes)\n",
    "table = pd.DataFrame({'Index':indexes, 'Lambda':alphas_used})\n",
    "table.head(10)"
   ]
  },
  {
   "cell_type": "code",
   "execution_count": 72,
   "id": "7192ec0c",
   "metadata": {},
   "outputs": [
    {
     "data": {
      "text/plain": [
       "array([1647.21751951, 1650.31577742, 1654.39083069, 1657.10061548,\n",
       "       1658.22614312, 1663.88361001, 1670.18157992, 1696.9345707 ,\n",
       "       1761.2372887 , 1783.56480892])"
      ]
     },
     "execution_count": 72,
     "metadata": {},
     "output_type": "execute_result"
    }
   ],
   "source": [
    "res"
   ]
  },
  {
   "cell_type": "markdown",
   "id": "257a3063",
   "metadata": {},
   "source": [
    "## LassoCV"
   ]
  },
  {
   "cell_type": "code",
   "execution_count": 14,
   "id": "b4e35365",
   "metadata": {},
   "outputs": [
    {
     "name": "stderr",
     "output_type": "stream",
     "text": [
      "C:\\Users\\david\\anaconda3\\lib\\site-packages\\sklearn\\linear_model\\_coordinate_descent.py:647: ConvergenceWarning: Objective did not converge. You might want to increase the number of iterations, check the scale of the features or consider increasing regularisation. Duality gap: 2.419e+07, tolerance: 2.199e+06\n",
      "  model = cd_fast.enet_coordinate_descent(\n"
     ]
    }
   ],
   "source": [
    "lasso1 = LassoCV(cv = 5)\n",
    "lasso1.fit(Xtilde ,y)\n",
    "coef1 = lasso1.coef_\n"
   ]
  },
  {
   "cell_type": "code",
   "execution_count": 15,
   "id": "c439046c",
   "metadata": {},
   "outputs": [],
   "source": [
    "coefCV = []\n",
    "for i in range(len(coef1)):\n",
    "    a = np.round(coef1[i],4)\n",
    "    coefCV.append(a)"
   ]
  },
  {
   "cell_type": "code",
   "execution_count": null,
   "id": "b08f05bd",
   "metadata": {},
   "outputs": [],
   "source": [
    "#coefCV"
   ]
  },
  {
   "cell_type": "code",
   "execution_count": 16,
   "id": "1fe0fe61",
   "metadata": {},
   "outputs": [
    {
     "name": "stdout",
     "output_type": "stream",
     "text": [
      "Lambda w/ \"grid search\":  0.0124\n",
      "Lambda with 5-fold CV:  0.0802394\n"
     ]
    }
   ],
   "source": [
    "print('Lambda w/ \"grid search\": ', np.round(alphas_used[0],7))\n",
    "print('Lambda with 5-fold CV: ', np.round(lasso1.alpha_,7))\n",
    "lambda_grid = np.round(alphas_used[0],7)\n",
    "lambda_5cv = np.round(lasso1.alpha_,7)"
   ]
  },
  {
   "cell_type": "code",
   "execution_count": 18,
   "id": "e6b9fce6",
   "metadata": {},
   "outputs": [
    {
     "data": {
      "text/plain": [
       "126"
      ]
     },
     "execution_count": 18,
     "metadata": {},
     "output_type": "execute_result"
    }
   ],
   "source": [
    "len(coefCV)"
   ]
  },
  {
   "cell_type": "code",
   "execution_count": 49,
   "id": "41f0b098",
   "metadata": {},
   "outputs": [],
   "source": [
    "key_variables = ['Educational attainment', 'Share of pop that is hispanic', 'Poverty Rate', 'February', 'July', 'August', 'April',\n",
    "                'December', 'Share of pop that is Asian', 'March', 'October', 'November', 'September', 'May', 'Labor Force Participation Rate',\n",
    "                'June', 'Median Age', 'If crime occured in a Bar/Night Club', 'If a suspect was <18 yrs old', 'If a crime occured on the NYC subway']"
   ]
  },
  {
   "cell_type": "code",
   "execution_count": 41,
   "id": "71962e00",
   "metadata": {},
   "outputs": [],
   "source": [
    "\n",
    "#LassoCV_important"
   ]
  },
  {
   "cell_type": "markdown",
   "id": "c2381414",
   "metadata": {},
   "source": [
    "## Implement models & Compare performance between Lambda's"
   ]
  },
  {
   "cell_type": "code",
   "execution_count": 17,
   "id": "539ba158",
   "metadata": {},
   "outputs": [],
   "source": [
    "## split data\n",
    "(Xtrain ,Xtest ,Ytrain ,Ytest)= train_test_split (Xtilde ,y, test_size =0.3 , random_state=42, shuffle = True)"
   ]
  },
  {
   "cell_type": "code",
   "execution_count": 18,
   "id": "8ae5e4c6",
   "metadata": {},
   "outputs": [],
   "source": [
    "Ybar = np.mean(Ytest)"
   ]
  },
  {
   "cell_type": "code",
   "execution_count": 19,
   "id": "1eae90e4",
   "metadata": {},
   "outputs": [
    {
     "name": "stderr",
     "output_type": "stream",
     "text": [
      "C:\\Users\\david\\anaconda3\\lib\\site-packages\\sklearn\\linear_model\\_coordinate_descent.py:647: ConvergenceWarning: Objective did not converge. You might want to increase the number of iterations, check the scale of the features or consider increasing regularisation. Duality gap: 2.399e+08, tolerance: 1.541e+06\n",
      "  model = cd_fast.enet_coordinate_descent(\n"
     ]
    },
    {
     "ename": "NameError",
     "evalue": "name 'coef' is not defined",
     "output_type": "error",
     "traceback": [
      "\u001b[1;31m---------------------------------------------------------------------------\u001b[0m",
      "\u001b[1;31mNameError\u001b[0m                                 Traceback (most recent call last)",
      "\u001b[1;32m<ipython-input-19-87c2abc8b675>\u001b[0m in \u001b[0;36m<module>\u001b[1;34m\u001b[0m\n\u001b[0;32m      7\u001b[0m \u001b[0mRsq_g\u001b[0m \u001b[1;33m=\u001b[0m \u001b[1;36m1\u001b[0m \u001b[1;33m-\u001b[0m \u001b[1;33m(\u001b[0m\u001b[0mRSS_g\u001b[0m\u001b[1;33m/\u001b[0m\u001b[0mTSS_g\u001b[0m\u001b[1;33m)\u001b[0m\u001b[1;33m\u001b[0m\u001b[1;33m\u001b[0m\u001b[0m\n\u001b[0;32m      8\u001b[0m \u001b[0mcoef_g\u001b[0m \u001b[1;33m=\u001b[0m \u001b[0mlasso_grid\u001b[0m\u001b[1;33m.\u001b[0m\u001b[0mcoef_\u001b[0m\u001b[1;33m\u001b[0m\u001b[1;33m\u001b[0m\u001b[0m\n\u001b[1;32m----> 9\u001b[1;33m \u001b[0mprint\u001b[0m\u001b[1;33m(\u001b[0m\u001b[0mcoef\u001b[0m\u001b[1;33m)\u001b[0m\u001b[1;33m\u001b[0m\u001b[1;33m\u001b[0m\u001b[0m\n\u001b[0m",
      "\u001b[1;31mNameError\u001b[0m: name 'coef' is not defined"
     ]
    }
   ],
   "source": [
    "## Model w/ grid Lambda\n",
    "lasso_grid = Lasso(alpha = lambda_grid)\n",
    "lasso_grid.fit(Xtrain ,Ytrain)\n",
    "Y_pred_g = lasso_grid.predict(Xtest)\n",
    "RSS_g = np.sum((Ytest - Y_pred_g)**2)\n",
    "TSS_g = np.sum((Ytest - Ybar)**2)\n",
    "Rsq_g = 1 - (RSS_g/TSS_g)\n",
    "coef_g = lasso_grid.coef_\n",
    "print(coef_g)"
   ]
  },
  {
   "cell_type": "code",
   "execution_count": 34,
   "id": "e0262e3d",
   "metadata": {},
   "outputs": [],
   "source": [
    "coef_rounded = []\n",
    "for i in range(len(coef_g)):\n",
    "    r = round(coef_g[i],4)\n",
    "    coef_rounded.append(r)\n",
    "coef_g=coef_rounded"
   ]
  },
  {
   "cell_type": "code",
   "execution_count": 21,
   "id": "40bd877e",
   "metadata": {},
   "outputs": [
    {
     "data": {
      "text/plain": [
       "461.1476034763196"
      ]
     },
     "execution_count": 21,
     "metadata": {},
     "output_type": "execute_result"
    }
   ],
   "source": [
    "lasso_grid.intercept_"
   ]
  },
  {
   "cell_type": "code",
   "execution_count": 22,
   "id": "72f7cb80",
   "metadata": {},
   "outputs": [
    {
     "name": "stderr",
     "output_type": "stream",
     "text": [
      "C:\\Users\\david\\anaconda3\\lib\\site-packages\\sklearn\\linear_model\\_coordinate_descent.py:647: ConvergenceWarning: Objective did not converge. You might want to increase the number of iterations, check the scale of the features or consider increasing regularisation. Duality gap: 1.694e+07, tolerance: 1.541e+06\n",
      "  model = cd_fast.enet_coordinate_descent(\n"
     ]
    }
   ],
   "source": [
    "## Model w/ grid Lambda\n",
    "lasso_CV = Lasso(alpha = lambda_5cv)\n",
    "lasso_CV.fit(Xtrain ,Ytrain)\n",
    "Y_pred_cv = lasso_CV.predict(Xtest)\n",
    "RSS_cv = np.sum((Ytest - Y_pred_cv)**2)\n",
    "TSS_cv = np.sum((Ytest - Ybar)**2)\n",
    "Rsq_cv = 1 - (RSS_cv/TSS_cv)"
   ]
  },
  {
   "cell_type": "code",
   "execution_count": 45,
   "id": "35496874",
   "metadata": {},
   "outputs": [
    {
     "data": {
      "text/plain": [
       "-0.0"
      ]
     },
     "execution_count": 45,
     "metadata": {},
     "output_type": "execute_result"
    }
   ],
   "source": [
    "lasso_CV.coef_"
   ]
  },
  {
   "cell_type": "code",
   "execution_count": 23,
   "id": "37bb54d7",
   "metadata": {},
   "outputs": [
    {
     "name": "stdout",
     "output_type": "stream",
     "text": [
      "Rsq w/ grid search:  86.56\n",
      "Rsq w/ 5 fold CV:  86.49\n"
     ]
    }
   ],
   "source": [
    "print(\"Rsq w/ grid search: \", round(Rsq_g,4)*100)\n",
    "print(\"Rsq w/ 5 fold CV: \", round(Rsq_cv,4)*100)"
   ]
  },
  {
   "cell_type": "code",
   "execution_count": 24,
   "id": "b1e45c10",
   "metadata": {},
   "outputs": [
    {
     "data": {
      "text/plain": [
       "40.58684643417666"
      ]
     },
     "execution_count": 24,
     "metadata": {},
     "output_type": "execute_result"
    }
   ],
   "source": [
    "RMSE_g = ((np.sum((Y_pred_g - Ytest)**2))/len(Ytest))**.5\n",
    "RMSE_g"
   ]
  },
  {
   "cell_type": "code",
   "execution_count": 25,
   "id": "bf9b9a06",
   "metadata": {},
   "outputs": [
    {
     "data": {
      "text/plain": [
       "40.699492160909344"
      ]
     },
     "execution_count": 25,
     "metadata": {},
     "output_type": "execute_result"
    }
   ],
   "source": [
    "RMSE_cv = ((np.sum((Y_pred_cv - Ytest)**2))/len(Ytest))**.5\n",
    "RMSE_cv"
   ]
  },
  {
   "cell_type": "markdown",
   "id": "6abdda48",
   "metadata": {},
   "source": [
    "### Top coefficients in grid search"
   ]
  },
  {
   "cell_type": "code",
   "execution_count": 48,
   "id": "6752a006",
   "metadata": {},
   "outputs": [],
   "source": [
    "variables_grid = ['Bronx','Queens','Educational attainment','February', 'July','August','Hispanic share of population', 'April',\n",
    "                 'December','October', 'March', 'Staten Island', 'Labor Force Participation Rate', 'Brooklyn',\n",
    "                 'Homeless Shelter', 'Population Median Age', 'November', 'September', 'May', 'Bar/Nightclub']"
   ]
  },
  {
   "cell_type": "code",
   "execution_count": 62,
   "id": "01a715cd",
   "metadata": {},
   "outputs": [
    {
     "name": "stderr",
     "output_type": "stream",
     "text": [
      "<ipython-input-62-2dd9555eeb7b>:11: SettingWithCopyWarning: \n",
      "A value is trying to be set on a copy of a slice from a DataFrame.\n",
      "Try using .loc[row_indexer,col_indexer] = value instead\n",
      "\n",
      "See the caveats in the documentation: https://pandas.pydata.org/pandas-docs/stable/user_guide/indexing.html#returning-a-view-versus-a-copy\n",
      "  Lassog_important['Variable Description'] = variables_grid\n"
     ]
    }
   ],
   "source": [
    "#coefCV\n",
    "Lassog_coefs = pd.DataFrame(df.columns)\n",
    "Lassog_coefs['Columns'] = Lassog_coefs[0]\n",
    "Lassog_coefs['Coefficient'] = coef_g\n",
    "Lassog_coefs = Lassog_coefs.drop(0, axis=1)\n",
    "Lassog_coefs['|coefficient|'] = Lassog_coefs['Coefficient'].abs()\n",
    "Lassog_coefs = Lassog_coefs.sort_values(by=['|coefficient|'], ascending=False)\n",
    "Lassog_coefs.head(20)\n",
    "Lassog_important = Lassog_coefs.head(20)\n",
    "#LassoCV_coefs.head(20)\n",
    "Lassog_important['Variable Description'] = variables_grid\n",
    "Lassog_important = Lassog_important.reset_index()\n",
    "#LassoCV_important = LassoCV_important.drop('index', axis=1)\n",
    "Lassog_important['Coefficients'] = Lassog_important['Coefficient']\n",
    "Lassog_important['|coefficients|'] = Lassog_important['|coefficient|']\n",
    "Lassog_important = Lassog_important.drop(['index', 'Columns','Coefficient','|coefficient|'],axis=1)\n",
    "#Lassog_important"
   ]
  },
  {
   "cell_type": "markdown",
   "id": "1530ef8f",
   "metadata": {},
   "source": [
    "### Top coefficients w/ CV Lambda"
   ]
  },
  {
   "cell_type": "code",
   "execution_count": 54,
   "id": "317df7a9",
   "metadata": {},
   "outputs": [],
   "source": [
    "variables_cv = ['Educational attainment', 'Hispanic share of population', 'Poverty Rate', 'February', 'July','August','April', 'December',\n",
    "               'Asian share of population','March','October','November','September','May','Labor force participation rate','June',\n",
    "               'Population Median Age', 'Bar/Nightclub','Suspect under 18 yrs old', 'Transit crimes: Subway']"
   ]
  },
  {
   "cell_type": "code",
   "execution_count": 123,
   "id": "0fcb5557",
   "metadata": {},
   "outputs": [
    {
     "name": "stderr",
     "output_type": "stream",
     "text": [
      "<ipython-input-123-1514f6eacff4>:11: SettingWithCopyWarning: \n",
      "A value is trying to be set on a copy of a slice from a DataFrame.\n",
      "Try using .loc[row_indexer,col_indexer] = value instead\n",
      "\n",
      "See the caveats in the documentation: https://pandas.pydata.org/pandas-docs/stable/user_guide/indexing.html#returning-a-view-versus-a-copy\n",
      "  LassoCV_important['Variable Description'] = variables_cv\n"
     ]
    }
   ],
   "source": [
    "#coefCV\n",
    "LassoCV_coefs = pd.DataFrame(df.columns)\n",
    "LassoCV_coefs['Columns'] = LassoCV_coefs[0]\n",
    "LassoCV_coefs['Coefficient'] = np.round(lasso_CV.coef_,4)\n",
    "LassoCV_coefs = LassoCV_coefs.drop(0, axis=1)\n",
    "LassoCV_coefs['|coefficient|'] = LassoCV_coefs['Coefficient'].abs()\n",
    "LassoCV_coefs = LassoCV_coefs.sort_values(by=['|coefficient|'], ascending=False)\n",
    "LassoCV_coefs.head(20)\n",
    "LassoCV_important = LassoCV_coefs.head(20)\n",
    "LassoCV_coefs.head(20)\n",
    "LassoCV_important['Variable Description'] = variables_cv\n",
    "LassoCV_important = LassoCV_important.reset_index()\n",
    "LassoCV_important = LassoCV_important.drop('index', axis=1)\n",
    "LassoCV_important['Coefficients'] = LassoCV_important['Coefficient']\n",
    "LassoCV_important['|coefficients|'] = LassoCV_important['|coefficient|']\n",
    "LassoCV_important = LassoCV_important.drop(['Columns','Coefficient','|coefficient|'],axis=1)\n",
    "#LassoCV_important "
   ]
  },
  {
   "cell_type": "code",
   "execution_count": 124,
   "id": "82bd41ef",
   "metadata": {},
   "outputs": [],
   "source": [
    "#LassoCV_important"
   ]
  },
  {
   "cell_type": "code",
   "execution_count": 56,
   "id": "732ef2ef",
   "metadata": {},
   "outputs": [
    {
     "data": {
      "text/plain": [
       "465.42918993027354"
      ]
     },
     "execution_count": 56,
     "metadata": {},
     "output_type": "execute_result"
    }
   ],
   "source": [
    "lasso_CV.intercept_\n"
   ]
  },
  {
   "cell_type": "code",
   "execution_count": 59,
   "id": "1187fe0f",
   "metadata": {},
   "outputs": [
    {
     "data": {
      "text/html": [
       "<div>\n",
       "<style scoped>\n",
       "    .dataframe tbody tr th:only-of-type {\n",
       "        vertical-align: middle;\n",
       "    }\n",
       "\n",
       "    .dataframe tbody tr th {\n",
       "        vertical-align: top;\n",
       "    }\n",
       "\n",
       "    .dataframe thead th {\n",
       "        text-align: right;\n",
       "    }\n",
       "</style>\n",
       "<table border=\"1\" class=\"dataframe\">\n",
       "  <thead>\n",
       "    <tr style=\"text-align: right;\">\n",
       "      <th></th>\n",
       "      <th>Model</th>\n",
       "      <th>Lambda</th>\n",
       "      <th>R-squared</th>\n",
       "      <th>RMSE</th>\n",
       "      <th>Intercept</th>\n",
       "    </tr>\n",
       "  </thead>\n",
       "  <tbody>\n",
       "    <tr>\n",
       "      <th>0</th>\n",
       "      <td>Lasso CV Lambda</td>\n",
       "      <td>0.0802</td>\n",
       "      <td>0.8649</td>\n",
       "      <td>40.699</td>\n",
       "      <td>465.429</td>\n",
       "    </tr>\n",
       "    <tr>\n",
       "      <th>1</th>\n",
       "      <td>Grid Search Lambda</td>\n",
       "      <td>0.0124</td>\n",
       "      <td>0.8656</td>\n",
       "      <td>40.587</td>\n",
       "      <td>461.148</td>\n",
       "    </tr>\n",
       "  </tbody>\n",
       "</table>\n",
       "</div>"
      ],
      "text/plain": [
       "                Model  Lambda  R-squared    RMSE  Intercept\n",
       "0     Lasso CV Lambda  0.0802     0.8649  40.699    465.429\n",
       "1  Grid Search Lambda  0.0124     0.8656  40.587    461.148"
      ]
     },
     "execution_count": 59,
     "metadata": {},
     "output_type": "execute_result"
    }
   ],
   "source": [
    "## Table for performance results\n",
    "model = ['Lasso CV Lambda', 'Grid Search Lambda']\n",
    "lambdas = [.0802, .0124]\n",
    "R_squared = [.8649, .8656]\n",
    "RMSE= [40.699, 40.587]\n",
    "Intercept  = [465.429,461.148]\n",
    "pd.DataFrame({'Model': model, 'Lambda':lambdas, 'R-squared':R_squared, 'RMSE':RMSE, 'Intercept':Intercept})"
   ]
  },
  {
   "cell_type": "markdown",
   "id": "0bf18f40",
   "metadata": {},
   "source": [
    "# Ridge Regression Models"
   ]
  },
  {
   "cell_type": "code",
   "execution_count": 61,
   "id": "8e5673ff",
   "metadata": {},
   "outputs": [],
   "source": [
    "from sklearn.linear_model import RidgeCV\n",
    "from sklearn.linear_model import Ridge"
   ]
  },
  {
   "cell_type": "code",
   "execution_count": 64,
   "id": "201743d7",
   "metadata": {},
   "outputs": [
    {
     "ename": "NameError",
     "evalue": "name 'ridge_cv' is not defined",
     "output_type": "error",
     "traceback": [
      "\u001b[1;31m---------------------------------------------------------------------------\u001b[0m",
      "\u001b[1;31mNameError\u001b[0m                                 Traceback (most recent call last)",
      "\u001b[1;32m<ipython-input-64-ea3b6e3bd977>\u001b[0m in \u001b[0;36m<module>\u001b[1;34m\u001b[0m\n\u001b[0;32m      1\u001b[0m \u001b[0mridge1\u001b[0m \u001b[1;33m=\u001b[0m \u001b[0mRidgeCV\u001b[0m\u001b[1;33m(\u001b[0m\u001b[0mcv\u001b[0m \u001b[1;33m=\u001b[0m \u001b[1;36m5\u001b[0m\u001b[1;33m)\u001b[0m\u001b[1;33m\u001b[0m\u001b[1;33m\u001b[0m\u001b[0m\n\u001b[0;32m      2\u001b[0m \u001b[0mridge1\u001b[0m\u001b[1;33m.\u001b[0m\u001b[0mfit\u001b[0m\u001b[1;33m(\u001b[0m\u001b[0mXtilde\u001b[0m\u001b[1;33m,\u001b[0m\u001b[0my\u001b[0m\u001b[1;33m)\u001b[0m\u001b[1;33m\u001b[0m\u001b[1;33m\u001b[0m\u001b[0m\n\u001b[1;32m----> 3\u001b[1;33m \u001b[0my_pred_cv\u001b[0m \u001b[1;33m=\u001b[0m \u001b[0mridge_cv\u001b[0m\u001b[1;33m.\u001b[0m\u001b[0mpredict\u001b[0m\u001b[1;33m(\u001b[0m\u001b[0mXtilde\u001b[0m\u001b[1;33m)\u001b[0m\u001b[1;33m\u001b[0m\u001b[1;33m\u001b[0m\u001b[0m\n\u001b[0m\u001b[0;32m      4\u001b[0m \u001b[0mcoef_cv\u001b[0m \u001b[1;33m=\u001b[0m \u001b[0mridge_cv\u001b[0m\u001b[1;33m.\u001b[0m\u001b[0mcoef_\u001b[0m\u001b[1;33m\u001b[0m\u001b[1;33m\u001b[0m\u001b[0m\n\u001b[0;32m      5\u001b[0m \u001b[0mprint\u001b[0m\u001b[1;33m(\u001b[0m\u001b[0mnp\u001b[0m\u001b[1;33m.\u001b[0m\u001b[0mround\u001b[0m\u001b[1;33m(\u001b[0m\u001b[0mcoef_cv\u001b[0m \u001b[1;33m,\u001b[0m\u001b[1;36m4\u001b[0m\u001b[1;33m)\u001b[0m\u001b[1;33m)\u001b[0m\u001b[1;33m\u001b[0m\u001b[1;33m\u001b[0m\u001b[0m\n",
      "\u001b[1;31mNameError\u001b[0m: name 'ridge_cv' is not defined"
     ]
    }
   ],
   "source": [
    "ridge1 = RidgeCV(cv = 5)\n",
    "ridge1.fit(Xtilde,y)\n"
   ]
  },
  {
   "cell_type": "code",
   "execution_count": 66,
   "id": "2ec2f369",
   "metadata": {},
   "outputs": [],
   "source": [
    "y_pred_1 = ridge1.predict(Xtilde)\n",
    "coef_1 = ridge1.coef_\n",
    "#print(np.round(coef_1 ,4))"
   ]
  },
  {
   "cell_type": "code",
   "execution_count": 67,
   "id": "37174c2d",
   "metadata": {},
   "outputs": [
    {
     "data": {
      "text/plain": [
       "10.0"
      ]
     },
     "execution_count": 67,
     "metadata": {},
     "output_type": "execute_result"
    }
   ],
   "source": [
    "ridge1.alpha_"
   ]
  },
  {
   "cell_type": "markdown",
   "id": "4e58d59e",
   "metadata": {},
   "source": [
    "#### Crid search alphas for Ridge:"
   ]
  },
  {
   "cell_type": "code",
   "execution_count": 134,
   "id": "b763ce8e",
   "metadata": {},
   "outputs": [
    {
     "data": {
      "text/plain": [
       "array([0., 0., 0., 0., 0., 0., 0., 0., 0., 0.])"
      ]
     },
     "execution_count": 134,
     "metadata": {},
     "output_type": "execute_result"
    }
   ],
   "source": [
    "alphas_ridge = np.array([8.1, 10.5, 11.7, 13, 14.7, 15.3, 16.0,20,23.3,25.1])\n",
    "res1 = np.zeros( alphas_ridge.size)\n",
    "res1"
   ]
  },
  {
   "cell_type": "code",
   "execution_count": 135,
   "id": "c60c659c",
   "metadata": {},
   "outputs": [
    {
     "name": "stdout",
     "output_type": "stream",
     "text": [
      "0\n",
      "1\n",
      "2\n",
      "3\n",
      "4\n",
      "5\n",
      "6\n",
      "7\n",
      "8\n",
      "9\n"
     ]
    }
   ],
   "source": [
    "for i in range(len(alphas_ridge)):\n",
    "    print (i)\n",
    "    ridge = Ridge(alpha = alphas_ridge[i]) ## MAX_ITER = 100000 ???\n",
    "    ridge.fit(Xt ,Yt)\n",
    "    Y_pred = ridge.predict(Xv)\n",
    "    res1[i] = np.mean((Yv - Y_pred ) ** 2)"
   ]
  },
  {
   "cell_type": "code",
   "execution_count": 138,
   "id": "0c173567",
   "metadata": {},
   "outputs": [
    {
     "data": {
      "text/html": [
       "<div>\n",
       "<style scoped>\n",
       "    .dataframe tbody tr th:only-of-type {\n",
       "        vertical-align: middle;\n",
       "    }\n",
       "\n",
       "    .dataframe tbody tr th {\n",
       "        vertical-align: top;\n",
       "    }\n",
       "\n",
       "    .dataframe thead th {\n",
       "        text-align: right;\n",
       "    }\n",
       "</style>\n",
       "<table border=\"1\" class=\"dataframe\">\n",
       "  <thead>\n",
       "    <tr style=\"text-align: right;\">\n",
       "      <th></th>\n",
       "      <th>Index</th>\n",
       "      <th>lambdas</th>\n",
       "      <th>Mean Residual</th>\n",
       "    </tr>\n",
       "  </thead>\n",
       "  <tbody>\n",
       "    <tr>\n",
       "      <th>0</th>\n",
       "      <td>0</td>\n",
       "      <td>8.1</td>\n",
       "      <td>1645.56490</td>\n",
       "    </tr>\n",
       "    <tr>\n",
       "      <th>1</th>\n",
       "      <td>1</td>\n",
       "      <td>10.5</td>\n",
       "      <td>1645.56458</td>\n",
       "    </tr>\n",
       "    <tr>\n",
       "      <th>2</th>\n",
       "      <td>2</td>\n",
       "      <td>11.7</td>\n",
       "      <td>1645.56447</td>\n",
       "    </tr>\n",
       "    <tr>\n",
       "      <th>3</th>\n",
       "      <td>3</td>\n",
       "      <td>13.0</td>\n",
       "      <td>1645.56439</td>\n",
       "    </tr>\n",
       "    <tr>\n",
       "      <th>4</th>\n",
       "      <td>4</td>\n",
       "      <td>14.7</td>\n",
       "      <td>1645.56433</td>\n",
       "    </tr>\n",
       "    <tr>\n",
       "      <th>5</th>\n",
       "      <td>5</td>\n",
       "      <td>15.3</td>\n",
       "      <td>1645.56432</td>\n",
       "    </tr>\n",
       "    <tr>\n",
       "      <th>6</th>\n",
       "      <td>6</td>\n",
       "      <td>16.0</td>\n",
       "      <td>1645.56431</td>\n",
       "    </tr>\n",
       "    <tr>\n",
       "      <th>7</th>\n",
       "      <td>7</td>\n",
       "      <td>20.0</td>\n",
       "      <td>1645.56436</td>\n",
       "    </tr>\n",
       "    <tr>\n",
       "      <th>8</th>\n",
       "      <td>8</td>\n",
       "      <td>23.3</td>\n",
       "      <td>1645.56450</td>\n",
       "    </tr>\n",
       "    <tr>\n",
       "      <th>9</th>\n",
       "      <td>9</td>\n",
       "      <td>25.1</td>\n",
       "      <td>1645.56460</td>\n",
       "    </tr>\n",
       "  </tbody>\n",
       "</table>\n",
       "</div>"
      ],
      "text/plain": [
       "   Index  lambdas  Mean Residual\n",
       "0      0      8.1     1645.56490\n",
       "1      1     10.5     1645.56458\n",
       "2      2     11.7     1645.56447\n",
       "3      3     13.0     1645.56439\n",
       "4      4     14.7     1645.56433\n",
       "5      5     15.3     1645.56432\n",
       "6      6     16.0     1645.56431\n",
       "7      7     20.0     1645.56436\n",
       "8      8     23.3     1645.56450\n",
       "9      9     25.1     1645.56460"
      ]
     },
     "execution_count": 138,
     "metadata": {},
     "output_type": "execute_result"
    }
   ],
   "source": [
    "index = np.array([0,1,2,3,4,5,6,7,8,9])\n",
    "res1\n",
    "pd.DataFrame({'Index':index, 'lambdas':alphas_ridge, 'Mean Residual':np.round(res1,5)})"
   ]
  },
  {
   "cell_type": "code",
   "execution_count": 133,
   "id": "fb00a4f7",
   "metadata": {},
   "outputs": [
    {
     "data": {
      "text/plain": [
       "Text(0, 0.5, 'Mean Residual')"
      ]
     },
     "execution_count": 133,
     "metadata": {},
     "output_type": "execute_result"
    },
    {
     "data": {
      "image/png": "[encoded data removed]",
      "text/plain": [
       "<Figure size 432x288 with 1 Axes>"
      ]
     },
     "metadata": {
      "needs_background": "light"
     },
     "output_type": "display_data"
    }
   ],
   "source": [
    "plt.plot(np.round(res,4))\n",
    "plt.title('           Residual of Ridge for each Lambda')\n",
    "plt.xlabel('Index of Randomly Generated Lambdas')\n",
    "plt.ylabel('Mean Residual')"
   ]
  },
  {
   "cell_type": "markdown",
   "id": "a3cc1ae5",
   "metadata": {},
   "source": [
    "#### Ridge using top lambdas from CV & Grid search"
   ]
  },
  {
   "cell_type": "code",
   "execution_count": 139,
   "id": "8581110d",
   "metadata": {},
   "outputs": [],
   "source": [
    "## Ridge Model w/ grid Lambda\n",
    "ridge_grid = Ridge(alpha = 16.0)\n",
    "ridge_grid.fit(Xtrain ,Ytrain)\n",
    "Y_pred_g = ridge_grid.predict(Xtest)\n",
    "RSS_g = np.sum((Ytest - Y_pred_g)**2)\n",
    "TSS_g = np.sum((Ytest - Ybar)**2)\n",
    "Rsq_g = 1 - (RSS_g/TSS_g)\n",
    "coef_g = ridge_grid.coef_\n",
    "#print(coef_g)"
   ]
  },
  {
   "cell_type": "code",
   "execution_count": 141,
   "id": "c15a5bf8",
   "metadata": {},
   "outputs": [],
   "source": [
    "## Ridge Model w/ CV Lambda\n",
    "ridge_CV = Lasso(alpha = 10.0)\n",
    "ridge_CV.fit(Xtrain ,Ytrain)\n",
    "Y_pred_cv = ridge_CV.predict(Xtest)\n",
    "RSS_cv = np.sum((Ytest - Y_pred_cv)**2)\n",
    "TSS_cv = np.sum((Ytest - Ybar)**2)\n",
    "Rsq_cv = 1 - (RSS_cv/TSS_cv)"
   ]
  },
  {
   "cell_type": "code",
   "execution_count": 142,
   "id": "d56186ac",
   "metadata": {},
   "outputs": [
    {
     "name": "stdout",
     "output_type": "stream",
     "text": [
      "Rsq w/ grid search:  86.58\n",
      "Rsq w/ 5 fold CV:  75.64\n"
     ]
    }
   ],
   "source": [
    "print(\"Rsq w/ grid search: \", round(Rsq_g,4)*100)\n",
    "print(\"Rsq w/ 5 fold CV: \", round(Rsq_cv,4)*100)"
   ]
  },
  {
   "cell_type": "code",
   "execution_count": 143,
   "id": "f0f8097e",
   "metadata": {},
   "outputs": [
    {
     "data": {
      "text/plain": [
       "40.56607741891545"
      ]
     },
     "execution_count": 143,
     "metadata": {},
     "output_type": "execute_result"
    }
   ],
   "source": [
    "RMSE_g = ((np.sum((Y_pred_g - Ytest)**2))/len(Ytest))**.5\n",
    "RMSE_g"
   ]
  },
  {
   "cell_type": "code",
   "execution_count": 144,
   "id": "1e3c36f8",
   "metadata": {},
   "outputs": [
    {
     "data": {
      "text/plain": [
       "54.653213400161846"
      ]
     },
     "execution_count": 144,
     "metadata": {},
     "output_type": "execute_result"
    }
   ],
   "source": [
    "RMSE_cv = ((np.sum((Y_pred_cv - Ytest)**2))/len(Ytest))**.5\n",
    "RMSE_cv"
   ]
  },
  {
   "cell_type": "markdown",
   "id": "c3391a01",
   "metadata": {},
   "source": [
    "### Ridge Models Tables w/ top 20 coefficients"
   ]
  },
  {
   "cell_type": "code",
   "execution_count": 94,
   "id": "26a38aed",
   "metadata": {},
   "outputs": [],
   "source": [
    "ridge_variables_grid = ['February', 'Educational attainment', 'Asian share of population', 'July', 'August', 'April', 'Labor Force Participation Rate',\n",
    "                  'Poverty Rate', 'Hispanice share of population', 'December', 'Homeless Shelter', 'October', 'March',\n",
    "                  'Black share of population', 'Brooklyn', 'Population Median Age', 'November', 'Unemployment Rate', 'September', 'May']"
   ]
  },
  {
   "cell_type": "code",
   "execution_count": 147,
   "id": "233a4dee",
   "metadata": {},
   "outputs": [
    {
     "name": "stderr",
     "output_type": "stream",
     "text": [
      "<ipython-input-147-ad101b15adcc>:11: SettingWithCopyWarning: \n",
      "A value is trying to be set on a copy of a slice from a DataFrame.\n",
      "Try using .loc[row_indexer,col_indexer] = value instead\n",
      "\n",
      "See the caveats in the documentation: https://pandas.pydata.org/pandas-docs/stable/user_guide/indexing.html#returning-a-view-versus-a-copy\n",
      "  Ridge_g_important['Variable Description'] = ridge_variables_grid\n"
     ]
    },
    {
     "data": {
      "text/html": [
       "<div>\n",
       "<style scoped>\n",
       "    .dataframe tbody tr th:only-of-type {\n",
       "        vertical-align: middle;\n",
       "    }\n",
       "\n",
       "    .dataframe tbody tr th {\n",
       "        vertical-align: top;\n",
       "    }\n",
       "\n",
       "    .dataframe thead th {\n",
       "        text-align: right;\n",
       "    }\n",
       "</style>\n",
       "<table border=\"1\" class=\"dataframe\">\n",
       "  <thead>\n",
       "    <tr style=\"text-align: right;\">\n",
       "      <th></th>\n",
       "      <th>Variable Description</th>\n",
       "      <th>Coefficients</th>\n",
       "      <th>|coefficients|</th>\n",
       "    </tr>\n",
       "  </thead>\n",
       "  <tbody>\n",
       "    <tr>\n",
       "      <th>0</th>\n",
       "      <td>February</td>\n",
       "      <td>-48.2831</td>\n",
       "      <td>48.2831</td>\n",
       "    </tr>\n",
       "    <tr>\n",
       "      <th>1</th>\n",
       "      <td>Educational attainment</td>\n",
       "      <td>41.3394</td>\n",
       "      <td>41.3394</td>\n",
       "    </tr>\n",
       "    <tr>\n",
       "      <th>2</th>\n",
       "      <td>Asian share of population</td>\n",
       "      <td>-37.5861</td>\n",
       "      <td>37.5861</td>\n",
       "    </tr>\n",
       "    <tr>\n",
       "      <th>3</th>\n",
       "      <td>July</td>\n",
       "      <td>35.0441</td>\n",
       "      <td>35.0441</td>\n",
       "    </tr>\n",
       "    <tr>\n",
       "      <th>4</th>\n",
       "      <td>August</td>\n",
       "      <td>34.2943</td>\n",
       "      <td>34.2943</td>\n",
       "    </tr>\n",
       "    <tr>\n",
       "      <th>5</th>\n",
       "      <td>April</td>\n",
       "      <td>-31.1800</td>\n",
       "      <td>31.1800</td>\n",
       "    </tr>\n",
       "    <tr>\n",
       "      <th>6</th>\n",
       "      <td>Labor Force Participation Rate</td>\n",
       "      <td>31.0924</td>\n",
       "      <td>31.0924</td>\n",
       "    </tr>\n",
       "    <tr>\n",
       "      <th>7</th>\n",
       "      <td>Poverty Rate</td>\n",
       "      <td>30.0481</td>\n",
       "      <td>30.0481</td>\n",
       "    </tr>\n",
       "    <tr>\n",
       "      <th>8</th>\n",
       "      <td>Hispanice share of population</td>\n",
       "      <td>29.0718</td>\n",
       "      <td>29.0718</td>\n",
       "    </tr>\n",
       "    <tr>\n",
       "      <th>9</th>\n",
       "      <td>December</td>\n",
       "      <td>-27.1336</td>\n",
       "      <td>27.1336</td>\n",
       "    </tr>\n",
       "    <tr>\n",
       "      <th>10</th>\n",
       "      <td>Homeless Shelter</td>\n",
       "      <td>-26.2357</td>\n",
       "      <td>26.2357</td>\n",
       "    </tr>\n",
       "    <tr>\n",
       "      <th>11</th>\n",
       "      <td>October</td>\n",
       "      <td>23.4733</td>\n",
       "      <td>23.4733</td>\n",
       "    </tr>\n",
       "    <tr>\n",
       "      <th>12</th>\n",
       "      <td>March</td>\n",
       "      <td>-22.9410</td>\n",
       "      <td>22.9410</td>\n",
       "    </tr>\n",
       "    <tr>\n",
       "      <th>13</th>\n",
       "      <td>Black share of population</td>\n",
       "      <td>-20.0872</td>\n",
       "      <td>20.0872</td>\n",
       "    </tr>\n",
       "    <tr>\n",
       "      <th>14</th>\n",
       "      <td>Brooklyn</td>\n",
       "      <td>-19.1231</td>\n",
       "      <td>19.1231</td>\n",
       "    </tr>\n",
       "    <tr>\n",
       "      <th>15</th>\n",
       "      <td>Population Median Age</td>\n",
       "      <td>-18.3010</td>\n",
       "      <td>18.3010</td>\n",
       "    </tr>\n",
       "    <tr>\n",
       "      <th>16</th>\n",
       "      <td>November</td>\n",
       "      <td>-17.8914</td>\n",
       "      <td>17.8914</td>\n",
       "    </tr>\n",
       "    <tr>\n",
       "      <th>17</th>\n",
       "      <td>Unemployment Rate</td>\n",
       "      <td>16.3032</td>\n",
       "      <td>16.3032</td>\n",
       "    </tr>\n",
       "    <tr>\n",
       "      <th>18</th>\n",
       "      <td>September</td>\n",
       "      <td>16.2820</td>\n",
       "      <td>16.2820</td>\n",
       "    </tr>\n",
       "    <tr>\n",
       "      <th>19</th>\n",
       "      <td>May</td>\n",
       "      <td>15.5703</td>\n",
       "      <td>15.5703</td>\n",
       "    </tr>\n",
       "  </tbody>\n",
       "</table>\n",
       "</div>"
      ],
      "text/plain": [
       "              Variable Description  Coefficients  |coefficients|\n",
       "0                         February      -48.2831         48.2831\n",
       "1           Educational attainment       41.3394         41.3394\n",
       "2        Asian share of population      -37.5861         37.5861\n",
       "3                             July       35.0441         35.0441\n",
       "4                           August       34.2943         34.2943\n",
       "5                            April      -31.1800         31.1800\n",
       "6   Labor Force Participation Rate       31.0924         31.0924\n",
       "7                     Poverty Rate       30.0481         30.0481\n",
       "8    Hispanice share of population       29.0718         29.0718\n",
       "9                         December      -27.1336         27.1336\n",
       "10                Homeless Shelter      -26.2357         26.2357\n",
       "11                         October       23.4733         23.4733\n",
       "12                           March      -22.9410         22.9410\n",
       "13       Black share of population      -20.0872         20.0872\n",
       "14                        Brooklyn      -19.1231         19.1231\n",
       "15           Population Median Age      -18.3010         18.3010\n",
       "16                        November      -17.8914         17.8914\n",
       "17               Unemployment Rate       16.3032         16.3032\n",
       "18                       September       16.2820         16.2820\n",
       "19                             May       15.5703         15.5703"
      ]
     },
     "execution_count": 147,
     "metadata": {},
     "output_type": "execute_result"
    }
   ],
   "source": [
    "#coefCV\n",
    "Ridge_g_coefs = pd.DataFrame(df.columns)\n",
    "Ridge_g_coefs['Columns'] = Ridge_g_coefs[0]\n",
    "Ridge_g_coefs['Coefficient'] = np.round(coef_g,4)\n",
    "Ridge_g_coefs = Ridge_g_coefs.drop(0, axis=1)\n",
    "Ridge_g_coefs['|coefficient|'] = Ridge_g_coefs['Coefficient'].abs()\n",
    "Ridge_g_coefs = Ridge_g_coefs.sort_values(by=['|coefficient|'], ascending=False)\n",
    "Ridge_g_coefs.head(20)\n",
    "Ridge_g_important = Ridge_g_coefs.head(20)\n",
    "#LassoCV_coefs.head(20)\n",
    "Ridge_g_important['Variable Description'] = ridge_variables_grid\n",
    "Ridge_g_important = Ridge_g_important.reset_index()\n",
    "#LassoCV_important = LassoCV_important.drop('index', axis=1)\n",
    "Ridge_g_important['Coefficients'] = Ridge_g_important['Coefficient']\n",
    "Ridge_g_important['|coefficients|'] = Ridge_g_important['|coefficient|']\n",
    "Ridge_g_important = Ridge_g_important.drop(['index', 'Columns','Coefficient','|coefficient|'],axis=1)\n",
    "Ridge_g_important"
   ]
  },
  {
   "cell_type": "code",
   "execution_count": 99,
   "id": "be09711f",
   "metadata": {},
   "outputs": [],
   "source": [
    "ridge_variables_cv = ['Educational Attainment', 'Asian Share of Population', 'Poverty Rate', 'Hispanic Share of Population', 'Felony Crimes']"
   ]
  },
  {
   "cell_type": "code",
   "execution_count": 101,
   "id": "1b1eed7b",
   "metadata": {},
   "outputs": [
    {
     "name": "stderr",
     "output_type": "stream",
     "text": [
      "<ipython-input-101-0d3b57de6a9c>:10: SettingWithCopyWarning: \n",
      "A value is trying to be set on a copy of a slice from a DataFrame.\n",
      "Try using .loc[row_indexer,col_indexer] = value instead\n",
      "\n",
      "See the caveats in the documentation: https://pandas.pydata.org/pandas-docs/stable/user_guide/indexing.html#returning-a-view-versus-a-copy\n",
      "  RidgeCV_important['Variable Description'] = ridge_variables_cv\n"
     ]
    },
    {
     "data": {
      "text/html": [
       "<div>\n",
       "<style scoped>\n",
       "    .dataframe tbody tr th:only-of-type {\n",
       "        vertical-align: middle;\n",
       "    }\n",
       "\n",
       "    .dataframe tbody tr th {\n",
       "        vertical-align: top;\n",
       "    }\n",
       "\n",
       "    .dataframe thead th {\n",
       "        text-align: right;\n",
       "    }\n",
       "</style>\n",
       "<table border=\"1\" class=\"dataframe\">\n",
       "  <thead>\n",
       "    <tr style=\"text-align: right;\">\n",
       "      <th></th>\n",
       "      <th>Variable Description</th>\n",
       "      <th>Coefficients</th>\n",
       "      <th>|coefficients|</th>\n",
       "    </tr>\n",
       "  </thead>\n",
       "  <tbody>\n",
       "    <tr>\n",
       "      <th>0</th>\n",
       "      <td>Educational Attainment</td>\n",
       "      <td>54.3582</td>\n",
       "      <td>54.3582</td>\n",
       "    </tr>\n",
       "    <tr>\n",
       "      <th>1</th>\n",
       "      <td>Asian Share of Population</td>\n",
       "      <td>-34.8036</td>\n",
       "      <td>34.8036</td>\n",
       "    </tr>\n",
       "    <tr>\n",
       "      <th>2</th>\n",
       "      <td>Poverty Rate</td>\n",
       "      <td>32.0848</td>\n",
       "      <td>32.0848</td>\n",
       "    </tr>\n",
       "    <tr>\n",
       "      <th>3</th>\n",
       "      <td>Hispanic Share of Population</td>\n",
       "      <td>31.1397</td>\n",
       "      <td>31.1397</td>\n",
       "    </tr>\n",
       "    <tr>\n",
       "      <th>4</th>\n",
       "      <td>Felony Crimes</td>\n",
       "      <td>-0.0000</td>\n",
       "      <td>0.0000</td>\n",
       "    </tr>\n",
       "  </tbody>\n",
       "</table>\n",
       "</div>"
      ],
      "text/plain": [
       "           Variable Description  Coefficients  |coefficients|\n",
       "0        Educational Attainment       54.3582         54.3582\n",
       "1     Asian Share of Population      -34.8036         34.8036\n",
       "2                  Poverty Rate       32.0848         32.0848\n",
       "3  Hispanic Share of Population       31.1397         31.1397\n",
       "4                 Felony Crimes       -0.0000          0.0000"
      ]
     },
     "execution_count": 101,
     "metadata": {},
     "output_type": "execute_result"
    }
   ],
   "source": [
    "#coefCV\n",
    "RidgeCV_coefs = pd.DataFrame(df.columns)\n",
    "RidgeCV_coefs['Columns'] = RidgeCV_coefs[0]\n",
    "RidgeCV_coefs['Coefficient'] = np.round(ridge_CV.coef_, 4)\n",
    "RidgeCV_coefs = RidgeCV_coefs.drop(0, axis=1)\n",
    "RidgeCV_coefs['|coefficient|'] =RidgeCV_coefs['Coefficient'].abs()\n",
    "RidgeCV_coefs = RidgeCV_coefs.sort_values(by=['|coefficient|'], ascending=False)\n",
    "RidgeCV_coefs.head(5)\n",
    "RidgeCV_important = RidgeCV_coefs.head(5)\n",
    "RidgeCV_important['Variable Description'] = ridge_variables_cv\n",
    "RidgeCV_important = RidgeCV_important.reset_index()\n",
    "RidgeCV_important = RidgeCV_important.drop('index', axis=1)\n",
    "RidgeCV_important['Coefficients'] = RidgeCV_important['Coefficient']\n",
    "RidgeCV_important['|coefficients|'] = RidgeCV_important['|coefficient|']\n",
    "RidgeCV_important = RidgeCV_important.drop(['Columns','Coefficient','|coefficient|'],axis=1)\n",
    "RidgeCV_important "
   ]
  },
  {
   "cell_type": "markdown",
   "id": "0eb30486",
   "metadata": {},
   "source": [
    "##### Table w/ results"
   ]
  },
  {
   "cell_type": "code",
   "execution_count": 148,
   "id": "76baaedf",
   "metadata": {},
   "outputs": [
    {
     "data": {
      "text/html": [
       "<div>\n",
       "<style scoped>\n",
       "    .dataframe tbody tr th:only-of-type {\n",
       "        vertical-align: middle;\n",
       "    }\n",
       "\n",
       "    .dataframe tbody tr th {\n",
       "        vertical-align: top;\n",
       "    }\n",
       "\n",
       "    .dataframe thead th {\n",
       "        text-align: right;\n",
       "    }\n",
       "</style>\n",
       "<table border=\"1\" class=\"dataframe\">\n",
       "  <thead>\n",
       "    <tr style=\"text-align: right;\">\n",
       "      <th></th>\n",
       "      <th>Model</th>\n",
       "      <th>Lambda</th>\n",
       "      <th>R-squared</th>\n",
       "      <th>RMSE</th>\n",
       "      <th>Intercept</th>\n",
       "    </tr>\n",
       "  </thead>\n",
       "  <tbody>\n",
       "    <tr>\n",
       "      <th>0</th>\n",
       "      <td>Ridge CV Lambda</td>\n",
       "      <td>10.0</td>\n",
       "      <td>0.7564</td>\n",
       "      <td>54.653</td>\n",
       "      <td>464.715</td>\n",
       "    </tr>\n",
       "    <tr>\n",
       "      <th>1</th>\n",
       "      <td>Ridge Grid Search Lambda</td>\n",
       "      <td>16.0</td>\n",
       "      <td>0.8658</td>\n",
       "      <td>40.566</td>\n",
       "      <td>468.551</td>\n",
       "    </tr>\n",
       "  </tbody>\n",
       "</table>\n",
       "</div>"
      ],
      "text/plain": [
       "                      Model  Lambda  R-squared    RMSE  Intercept\n",
       "0           Ridge CV Lambda    10.0     0.7564  54.653    464.715\n",
       "1  Ridge Grid Search Lambda    16.0     0.8658  40.566    468.551"
      ]
     },
     "execution_count": 148,
     "metadata": {},
     "output_type": "execute_result"
    }
   ],
   "source": [
    "## Table for performance results\n",
    "model = ['Ridge CV Lambda', 'Ridge Grid Search Lambda']\n",
    "lambdas = [10.0, 16.0]\n",
    "R_squared = [.7564, .8658]\n",
    "RMSE= [54.653, 40.566]\n",
    "Intercept  = [round(ridge_CV.intercept_,3) , round(ridge_grid.intercept_,3)]\n",
    "pd.DataFrame({'Model': model, 'Lambda':lambdas, 'R-squared':R_squared, 'RMSE':RMSE, 'Intercept':Intercept})"
   ]
  },
  {
   "cell_type": "markdown",
   "id": "ba0474b1",
   "metadata": {},
   "source": [
    "# Elastic Net Models"
   ]
  },
  {
   "cell_type": "code",
   "execution_count": 105,
   "id": "618f35f5",
   "metadata": {},
   "outputs": [],
   "source": [
    "from sklearn.linear_model import ElasticNet\n",
    "from sklearn.linear_model import ElasticNetCV"
   ]
  },
  {
   "cell_type": "code",
   "execution_count": 106,
   "id": "abceb008",
   "metadata": {},
   "outputs": [
    {
     "data": {
      "text/plain": [
       "0.16047873174264976"
      ]
     },
     "execution_count": 106,
     "metadata": {},
     "output_type": "execute_result"
    }
   ],
   "source": [
    "en1 = ElasticNetCV(cv = 5)\n",
    "en1.fit(Xtilde,y)\n",
    "y_pred_1 = en1.predict(Xtilde)\n",
    "coef_1 = en1.coef_\n",
    "en1.alpha_"
   ]
  },
  {
   "cell_type": "code",
   "execution_count": 108,
   "id": "31d98953",
   "metadata": {},
   "outputs": [],
   "source": [
    "#print(np.round(coef_1 ,4))"
   ]
  },
  {
   "cell_type": "markdown",
   "id": "b9869ffe",
   "metadata": {},
   "source": [
    "#### Crid search alphas for Elastic Net:"
   ]
  },
  {
   "cell_type": "code",
   "execution_count": 110,
   "id": "5d188ded",
   "metadata": {},
   "outputs": [
    {
     "data": {
      "text/plain": [
       "array([0., 0., 0., 0., 0., 0., 0., 0., 0., 0.])"
      ]
     },
     "execution_count": 110,
     "metadata": {},
     "output_type": "execute_result"
    }
   ],
   "source": [
    "alphas_en = np.array([.0153, .0841, .1348, .1858, .2574, .4131, .5107, .6522, .7835, .9133])\n",
    "res = np.zeros( alphas_en.size)\n",
    "res"
   ]
  },
  {
   "cell_type": "code",
   "execution_count": 111,
   "id": "ea1afb97",
   "metadata": {},
   "outputs": [
    {
     "name": "stdout",
     "output_type": "stream",
     "text": [
      "0\n",
      "1\n",
      "2\n",
      "3\n",
      "4\n",
      "5\n",
      "6\n",
      "7\n",
      "8\n",
      "9\n"
     ]
    }
   ],
   "source": [
    "for i in range(len(alphas_en)):\n",
    "    print (i)\n",
    "    en = ElasticNet(alpha = alphas_en[i], l1_ratio = 0.5) ## MAX_ITER = 100000 ???\n",
    "    en.fit(Xt ,Yt)\n",
    "    Y_pred = en.predict(Xv)\n",
    "    res[i] = np.mean((Yv - Y_pred ) ** 2)"
   ]
  },
  {
   "cell_type": "code",
   "execution_count": 149,
   "id": "9ef7a0f4",
   "metadata": {},
   "outputs": [
    {
     "data": {
      "text/plain": [
       "Text(0, 0.5, 'Mean Residual')"
      ]
     },
     "execution_count": 149,
     "metadata": {},
     "output_type": "execute_result"
    },
    {
     "data": {
      "image/png": "[encoded data removed]",
      "text/plain": [
       "<Figure size 432x288 with 1 Axes>"
      ]
     },
     "metadata": {
      "needs_background": "light"
     },
     "output_type": "display_data"
    }
   ],
   "source": [
    "plt.plot(res)\n",
    "plt.title('Residual of Elastic Net for each Lambda')\n",
    "plt.xlabel('Index of Randomly Generated Lambdas')\n",
    "plt.ylabel('Mean Residual')"
   ]
  },
  {
   "cell_type": "code",
   "execution_count": 150,
   "id": "5cc2081c",
   "metadata": {},
   "outputs": [
    {
     "data": {
      "text/html": [
       "<div>\n",
       "<style scoped>\n",
       "    .dataframe tbody tr th:only-of-type {\n",
       "        vertical-align: middle;\n",
       "    }\n",
       "\n",
       "    .dataframe tbody tr th {\n",
       "        vertical-align: top;\n",
       "    }\n",
       "\n",
       "    .dataframe thead th {\n",
       "        text-align: right;\n",
       "    }\n",
       "</style>\n",
       "<table border=\"1\" class=\"dataframe\">\n",
       "  <thead>\n",
       "    <tr style=\"text-align: right;\">\n",
       "      <th></th>\n",
       "      <th>Index</th>\n",
       "      <th>Lambda</th>\n",
       "    </tr>\n",
       "  </thead>\n",
       "  <tbody>\n",
       "    <tr>\n",
       "      <th>0</th>\n",
       "      <td>0</td>\n",
       "      <td>0.0153</td>\n",
       "    </tr>\n",
       "    <tr>\n",
       "      <th>1</th>\n",
       "      <td>1</td>\n",
       "      <td>0.0841</td>\n",
       "    </tr>\n",
       "    <tr>\n",
       "      <th>2</th>\n",
       "      <td>2</td>\n",
       "      <td>0.1348</td>\n",
       "    </tr>\n",
       "    <tr>\n",
       "      <th>3</th>\n",
       "      <td>3</td>\n",
       "      <td>0.1858</td>\n",
       "    </tr>\n",
       "    <tr>\n",
       "      <th>4</th>\n",
       "      <td>4</td>\n",
       "      <td>0.2574</td>\n",
       "    </tr>\n",
       "    <tr>\n",
       "      <th>5</th>\n",
       "      <td>5</td>\n",
       "      <td>0.4131</td>\n",
       "    </tr>\n",
       "    <tr>\n",
       "      <th>6</th>\n",
       "      <td>6</td>\n",
       "      <td>0.5107</td>\n",
       "    </tr>\n",
       "    <tr>\n",
       "      <th>7</th>\n",
       "      <td>7</td>\n",
       "      <td>0.6522</td>\n",
       "    </tr>\n",
       "    <tr>\n",
       "      <th>8</th>\n",
       "      <td>8</td>\n",
       "      <td>0.7835</td>\n",
       "    </tr>\n",
       "    <tr>\n",
       "      <th>9</th>\n",
       "      <td>9</td>\n",
       "      <td>0.9133</td>\n",
       "    </tr>\n",
       "  </tbody>\n",
       "</table>\n",
       "</div>"
      ],
      "text/plain": [
       "   Index  Lambda\n",
       "0      0  0.0153\n",
       "1      1  0.0841\n",
       "2      2  0.1348\n",
       "3      3  0.1858\n",
       "4      4  0.2574\n",
       "5      5  0.4131\n",
       "6      6  0.5107\n",
       "7      7  0.6522\n",
       "8      8  0.7835\n",
       "9      9  0.9133"
      ]
     },
     "execution_count": 150,
     "metadata": {},
     "output_type": "execute_result"
    }
   ],
   "source": [
    "pd.DataFrame({'Index':index, 'Lambda':alphas_en})"
   ]
  },
  {
   "cell_type": "markdown",
   "id": "b3a4016b",
   "metadata": {},
   "source": [
    "#### Elastic Net using top lambdas from CV & Grid search"
   ]
  },
  {
   "cell_type": "code",
   "execution_count": 114,
   "id": "548686f9",
   "metadata": {},
   "outputs": [],
   "source": [
    "## Ridge Model w/ grid Lambda\n",
    "en_grid = ElasticNet(alpha = .0153)\n",
    "en_grid.fit(Xtrain ,Ytrain)\n",
    "Y_pred_g = en_grid.predict(Xtest)\n",
    "RSS_g = np.sum((Ytest - Y_pred_g)**2)\n",
    "TSS_g = np.sum((Ytest - Ybar)**2)\n",
    "Rsq_g = 1 - (RSS_g/TSS_g)\n",
    "coef_g = en_grid.coef_\n",
    "#print(coef_g)"
   ]
  },
  {
   "cell_type": "code",
   "execution_count": 115,
   "id": "95d44dcc",
   "metadata": {},
   "outputs": [],
   "source": [
    "## Ridge Model w/ CV Lambda\n",
    "en_CV = ElasticNet(alpha = .1604)\n",
    "en_CV.fit(Xtrain ,Ytrain)\n",
    "Y_pred_cv = en_CV.predict(Xtest)\n",
    "RSS_cv = np.sum((Ytest - Y_pred_cv)**2)\n",
    "TSS_cv = np.sum((Ytest - Ybar)**2)\n",
    "Rsq_cv = 1 - (RSS_cv/TSS_cv)"
   ]
  },
  {
   "cell_type": "code",
   "execution_count": 116,
   "id": "cc94eeca",
   "metadata": {},
   "outputs": [
    {
     "name": "stdout",
     "output_type": "stream",
     "text": [
      "Rsq w/ grid search:  86.49\n",
      "Rsq w/ 5 fold CV:  84.66\n",
      "40.69426382223112\n",
      "43.36425000541225\n"
     ]
    }
   ],
   "source": [
    "print(\"Rsq w/ grid search: \", round(Rsq_g,4)*100)\n",
    "print(\"Rsq w/ 5 fold CV: \", round(Rsq_cv,4)*100)\n",
    "RMSE_g = ((np.sum((Y_pred_g - Ytest)**2))/len(Ytest))**.5\n",
    "print(RMSE_g)\n",
    "RMSE_cv = ((np.sum((Y_pred_cv - Ytest)**2))/len(Ytest))**.5\n",
    "print(RMSE_cv)"
   ]
  },
  {
   "cell_type": "markdown",
   "id": "cb6016ec",
   "metadata": {},
   "source": [
    "### Elastic Net Models Tables w/ top 20 coefficients"
   ]
  },
  {
   "cell_type": "code",
   "execution_count": 118,
   "id": "0805632a",
   "metadata": {},
   "outputs": [],
   "source": [
    "en_variables_grid = ['February','Educational Attainment', 'Asian Share of Population','July', 'August', 'Labor Force Participation Rate',\n",
    "                    'Poverty rate', 'Hispanic Share of Population', 'April', 'December', 'October', 'March', 'Black share of population',\n",
    "                    'Brooklyn', 'Population Median Age', 'Unemployment Rate', 'November', 'September', 'May', 'Queens']"
   ]
  },
  {
   "cell_type": "code",
   "execution_count": 120,
   "id": "b80480ec",
   "metadata": {},
   "outputs": [
    {
     "name": "stderr",
     "output_type": "stream",
     "text": [
      "<ipython-input-120-f176e1420b7a>:11: SettingWithCopyWarning: \n",
      "A value is trying to be set on a copy of a slice from a DataFrame.\n",
      "Try using .loc[row_indexer,col_indexer] = value instead\n",
      "\n",
      "See the caveats in the documentation: https://pandas.pydata.org/pandas-docs/stable/user_guide/indexing.html#returning-a-view-versus-a-copy\n",
      "  en_g_important['Variable Description'] = en_variables_grid\n"
     ]
    },
    {
     "data": {
      "text/html": [
       "<div>\n",
       "<style scoped>\n",
       "    .dataframe tbody tr th:only-of-type {\n",
       "        vertical-align: middle;\n",
       "    }\n",
       "\n",
       "    .dataframe tbody tr th {\n",
       "        vertical-align: top;\n",
       "    }\n",
       "\n",
       "    .dataframe thead th {\n",
       "        text-align: right;\n",
       "    }\n",
       "</style>\n",
       "<table border=\"1\" class=\"dataframe\">\n",
       "  <thead>\n",
       "    <tr style=\"text-align: right;\">\n",
       "      <th></th>\n",
       "      <th>Variable Description</th>\n",
       "      <th>Coefficients</th>\n",
       "      <th>|coefficients|</th>\n",
       "    </tr>\n",
       "  </thead>\n",
       "  <tbody>\n",
       "    <tr>\n",
       "      <th>0</th>\n",
       "      <td>February</td>\n",
       "      <td>-43.2989</td>\n",
       "      <td>43.2989</td>\n",
       "    </tr>\n",
       "    <tr>\n",
       "      <th>1</th>\n",
       "      <td>Educational Attainment</td>\n",
       "      <td>41.3599</td>\n",
       "      <td>41.3599</td>\n",
       "    </tr>\n",
       "    <tr>\n",
       "      <th>2</th>\n",
       "      <td>Asian Share of Population</td>\n",
       "      <td>-37.6850</td>\n",
       "      <td>37.6850</td>\n",
       "    </tr>\n",
       "    <tr>\n",
       "      <th>3</th>\n",
       "      <td>July</td>\n",
       "      <td>32.5056</td>\n",
       "      <td>32.5056</td>\n",
       "    </tr>\n",
       "    <tr>\n",
       "      <th>4</th>\n",
       "      <td>August</td>\n",
       "      <td>31.8221</td>\n",
       "      <td>31.8221</td>\n",
       "    </tr>\n",
       "    <tr>\n",
       "      <th>5</th>\n",
       "      <td>Labor Force Participation Rate</td>\n",
       "      <td>30.7234</td>\n",
       "      <td>30.7234</td>\n",
       "    </tr>\n",
       "    <tr>\n",
       "      <th>6</th>\n",
       "      <td>Poverty rate</td>\n",
       "      <td>30.1157</td>\n",
       "      <td>30.1157</td>\n",
       "    </tr>\n",
       "    <tr>\n",
       "      <th>7</th>\n",
       "      <td>Hispanic Share of Population</td>\n",
       "      <td>29.1128</td>\n",
       "      <td>29.1128</td>\n",
       "    </tr>\n",
       "    <tr>\n",
       "      <th>8</th>\n",
       "      <td>April</td>\n",
       "      <td>-27.8762</td>\n",
       "      <td>27.8762</td>\n",
       "    </tr>\n",
       "    <tr>\n",
       "      <th>9</th>\n",
       "      <td>December</td>\n",
       "      <td>-24.2792</td>\n",
       "      <td>24.2792</td>\n",
       "    </tr>\n",
       "    <tr>\n",
       "      <th>10</th>\n",
       "      <td>October</td>\n",
       "      <td>21.8480</td>\n",
       "      <td>21.8480</td>\n",
       "    </tr>\n",
       "    <tr>\n",
       "      <th>11</th>\n",
       "      <td>March</td>\n",
       "      <td>-20.4177</td>\n",
       "      <td>20.4177</td>\n",
       "    </tr>\n",
       "    <tr>\n",
       "      <th>12</th>\n",
       "      <td>Black share of population</td>\n",
       "      <td>-19.6187</td>\n",
       "      <td>19.6187</td>\n",
       "    </tr>\n",
       "    <tr>\n",
       "      <th>13</th>\n",
       "      <td>Brooklyn</td>\n",
       "      <td>-18.7579</td>\n",
       "      <td>18.7579</td>\n",
       "    </tr>\n",
       "    <tr>\n",
       "      <th>14</th>\n",
       "      <td>Population Median Age</td>\n",
       "      <td>-17.9451</td>\n",
       "      <td>17.9451</td>\n",
       "    </tr>\n",
       "    <tr>\n",
       "      <th>15</th>\n",
       "      <td>Unemployment Rate</td>\n",
       "      <td>15.9357</td>\n",
       "      <td>15.9357</td>\n",
       "    </tr>\n",
       "    <tr>\n",
       "      <th>16</th>\n",
       "      <td>November</td>\n",
       "      <td>-15.9211</td>\n",
       "      <td>15.9211</td>\n",
       "    </tr>\n",
       "    <tr>\n",
       "      <th>17</th>\n",
       "      <td>September</td>\n",
       "      <td>15.1963</td>\n",
       "      <td>15.1963</td>\n",
       "    </tr>\n",
       "    <tr>\n",
       "      <th>18</th>\n",
       "      <td>May</td>\n",
       "      <td>14.5924</td>\n",
       "      <td>14.5924</td>\n",
       "    </tr>\n",
       "    <tr>\n",
       "      <th>19</th>\n",
       "      <td>Queens</td>\n",
       "      <td>-12.5452</td>\n",
       "      <td>12.5452</td>\n",
       "    </tr>\n",
       "  </tbody>\n",
       "</table>\n",
       "</div>"
      ],
      "text/plain": [
       "              Variable Description  Coefficients  |coefficients|\n",
       "0                         February      -43.2989         43.2989\n",
       "1           Educational Attainment       41.3599         41.3599\n",
       "2        Asian Share of Population      -37.6850         37.6850\n",
       "3                             July       32.5056         32.5056\n",
       "4                           August       31.8221         31.8221\n",
       "5   Labor Force Participation Rate       30.7234         30.7234\n",
       "6                     Poverty rate       30.1157         30.1157\n",
       "7     Hispanic Share of Population       29.1128         29.1128\n",
       "8                            April      -27.8762         27.8762\n",
       "9                         December      -24.2792         24.2792\n",
       "10                         October       21.8480         21.8480\n",
       "11                           March      -20.4177         20.4177\n",
       "12       Black share of population      -19.6187         19.6187\n",
       "13                        Brooklyn      -18.7579         18.7579\n",
       "14           Population Median Age      -17.9451         17.9451\n",
       "15               Unemployment Rate       15.9357         15.9357\n",
       "16                        November      -15.9211         15.9211\n",
       "17                       September       15.1963         15.1963\n",
       "18                             May       14.5924         14.5924\n",
       "19                          Queens      -12.5452         12.5452"
      ]
     },
     "execution_count": 120,
     "metadata": {},
     "output_type": "execute_result"
    }
   ],
   "source": [
    "#coefCV\n",
    "en_g_coefs = pd.DataFrame(df.columns)\n",
    "en_g_coefs['Columns'] = en_g_coefs[0]\n",
    "en_g_coefs['Coefficient'] = np.round(coef_g, 4)\n",
    "en_g_coefs = en_g_coefs.drop(0, axis=1)\n",
    "en_g_coefs['|coefficient|'] = en_g_coefs['Coefficient'].abs()\n",
    "en_g_coefs = en_g_coefs.sort_values(by=['|coefficient|'], ascending=False)\n",
    "en_g_coefs.head(20)\n",
    "en_g_important = en_g_coefs.head(20)\n",
    "#LassoCV_coefs.head(20)\n",
    "en_g_important['Variable Description'] = en_variables_grid\n",
    "en_g_important = en_g_important.reset_index()\n",
    "#LassoCV_important = LassoCV_important.drop('index', axis=1)\n",
    "en_g_important['Coefficients'] = en_g_important['Coefficient']\n",
    "en_g_important['|coefficients|'] = en_g_important['|coefficient|']\n",
    "en_g_important = en_g_important.drop(['index', 'Columns','Coefficient','|coefficient|'],axis=1)\n",
    "en_g_important"
   ]
  },
  {
   "cell_type": "code",
   "execution_count": 127,
   "id": "396fc8b1",
   "metadata": {},
   "outputs": [],
   "source": [
    "en_variables_cv = ['Educational attainment', 'Asian share of population', 'Poverty Rate', 'Labor Force Participation Rate',\n",
    "                  'Hispanic Share of Population', 'February', 'Black share of population', 'July', 'August', 'Brooklyn',\n",
    "                  'Population Median Age', 'Unemployment Rate', 'April', 'December', 'Queens', 'October', 'March', 'Bronx',\n",
    "                  'November', 'September']"
   ]
  },
  {
   "cell_type": "code",
   "execution_count": 129,
   "id": "5c1dde94",
   "metadata": {},
   "outputs": [
    {
     "name": "stderr",
     "output_type": "stream",
     "text": [
      "<ipython-input-129-f045bd581d6b>:9: SettingWithCopyWarning: \n",
      "A value is trying to be set on a copy of a slice from a DataFrame.\n",
      "Try using .loc[row_indexer,col_indexer] = value instead\n",
      "\n",
      "See the caveats in the documentation: https://pandas.pydata.org/pandas-docs/stable/user_guide/indexing.html#returning-a-view-versus-a-copy\n",
      "  enCV_important['Variable Description'] = en_variables_cv\n"
     ]
    },
    {
     "data": {
      "text/html": [
       "<div>\n",
       "<style scoped>\n",
       "    .dataframe tbody tr th:only-of-type {\n",
       "        vertical-align: middle;\n",
       "    }\n",
       "\n",
       "    .dataframe tbody tr th {\n",
       "        vertical-align: top;\n",
       "    }\n",
       "\n",
       "    .dataframe thead th {\n",
       "        text-align: right;\n",
       "    }\n",
       "</style>\n",
       "<table border=\"1\" class=\"dataframe\">\n",
       "  <thead>\n",
       "    <tr style=\"text-align: right;\">\n",
       "      <th></th>\n",
       "      <th>Variable Description</th>\n",
       "      <th>Coefficients</th>\n",
       "      <th>|coefficients|</th>\n",
       "    </tr>\n",
       "  </thead>\n",
       "  <tbody>\n",
       "    <tr>\n",
       "      <th>0</th>\n",
       "      <td>Educational attainment</td>\n",
       "      <td>38.4415</td>\n",
       "      <td>38.4415</td>\n",
       "    </tr>\n",
       "    <tr>\n",
       "      <th>1</th>\n",
       "      <td>Asian share of population</td>\n",
       "      <td>-36.7188</td>\n",
       "      <td>36.7188</td>\n",
       "    </tr>\n",
       "    <tr>\n",
       "      <th>2</th>\n",
       "      <td>Poverty Rate</td>\n",
       "      <td>28.2675</td>\n",
       "      <td>28.2675</td>\n",
       "    </tr>\n",
       "    <tr>\n",
       "      <th>3</th>\n",
       "      <td>Labor Force Participation Rate</td>\n",
       "      <td>27.2998</td>\n",
       "      <td>27.2998</td>\n",
       "    </tr>\n",
       "    <tr>\n",
       "      <th>4</th>\n",
       "      <td>Hispanic Share of Population</td>\n",
       "      <td>26.5528</td>\n",
       "      <td>26.5528</td>\n",
       "    </tr>\n",
       "    <tr>\n",
       "      <th>5</th>\n",
       "      <td>February</td>\n",
       "      <td>-22.6558</td>\n",
       "      <td>22.6558</td>\n",
       "    </tr>\n",
       "    <tr>\n",
       "      <th>6</th>\n",
       "      <td>Black share of population</td>\n",
       "      <td>-18.0391</td>\n",
       "      <td>18.0391</td>\n",
       "    </tr>\n",
       "    <tr>\n",
       "      <th>7</th>\n",
       "      <td>July</td>\n",
       "      <td>17.9947</td>\n",
       "      <td>17.9947</td>\n",
       "    </tr>\n",
       "    <tr>\n",
       "      <th>8</th>\n",
       "      <td>August</td>\n",
       "      <td>17.6393</td>\n",
       "      <td>17.6393</td>\n",
       "    </tr>\n",
       "    <tr>\n",
       "      <th>9</th>\n",
       "      <td>Brooklyn</td>\n",
       "      <td>-17.0195</td>\n",
       "      <td>17.0195</td>\n",
       "    </tr>\n",
       "    <tr>\n",
       "      <th>10</th>\n",
       "      <td>Population Median Age</td>\n",
       "      <td>-16.9031</td>\n",
       "      <td>16.9031</td>\n",
       "    </tr>\n",
       "    <tr>\n",
       "      <th>11</th>\n",
       "      <td>Unemployment Rate</td>\n",
       "      <td>14.7215</td>\n",
       "      <td>14.7215</td>\n",
       "    </tr>\n",
       "    <tr>\n",
       "      <th>12</th>\n",
       "      <td>April</td>\n",
       "      <td>-14.6095</td>\n",
       "      <td>14.6095</td>\n",
       "    </tr>\n",
       "    <tr>\n",
       "      <th>13</th>\n",
       "      <td>December</td>\n",
       "      <td>-12.8537</td>\n",
       "      <td>12.8537</td>\n",
       "    </tr>\n",
       "    <tr>\n",
       "      <th>14</th>\n",
       "      <td>Queens</td>\n",
       "      <td>-12.4551</td>\n",
       "      <td>12.4551</td>\n",
       "    </tr>\n",
       "    <tr>\n",
       "      <th>15</th>\n",
       "      <td>October</td>\n",
       "      <td>11.8558</td>\n",
       "      <td>11.8558</td>\n",
       "    </tr>\n",
       "    <tr>\n",
       "      <th>16</th>\n",
       "      <td>March</td>\n",
       "      <td>-10.7712</td>\n",
       "      <td>10.7712</td>\n",
       "    </tr>\n",
       "    <tr>\n",
       "      <th>17</th>\n",
       "      <td>Bronx</td>\n",
       "      <td>9.1218</td>\n",
       "      <td>9.1218</td>\n",
       "    </tr>\n",
       "    <tr>\n",
       "      <th>18</th>\n",
       "      <td>November</td>\n",
       "      <td>-8.4437</td>\n",
       "      <td>8.4437</td>\n",
       "    </tr>\n",
       "    <tr>\n",
       "      <th>19</th>\n",
       "      <td>September</td>\n",
       "      <td>8.0092</td>\n",
       "      <td>8.0092</td>\n",
       "    </tr>\n",
       "  </tbody>\n",
       "</table>\n",
       "</div>"
      ],
      "text/plain": [
       "              Variable Description  Coefficients  |coefficients|\n",
       "0           Educational attainment       38.4415         38.4415\n",
       "1        Asian share of population      -36.7188         36.7188\n",
       "2                     Poverty Rate       28.2675         28.2675\n",
       "3   Labor Force Participation Rate       27.2998         27.2998\n",
       "4     Hispanic Share of Population       26.5528         26.5528\n",
       "5                         February      -22.6558         22.6558\n",
       "6        Black share of population      -18.0391         18.0391\n",
       "7                             July       17.9947         17.9947\n",
       "8                           August       17.6393         17.6393\n",
       "9                         Brooklyn      -17.0195         17.0195\n",
       "10           Population Median Age      -16.9031         16.9031\n",
       "11               Unemployment Rate       14.7215         14.7215\n",
       "12                           April      -14.6095         14.6095\n",
       "13                        December      -12.8537         12.8537\n",
       "14                          Queens      -12.4551         12.4551\n",
       "15                         October       11.8558         11.8558\n",
       "16                           March      -10.7712         10.7712\n",
       "17                           Bronx        9.1218          9.1218\n",
       "18                        November       -8.4437          8.4437\n",
       "19                       September        8.0092          8.0092"
      ]
     },
     "execution_count": 129,
     "metadata": {},
     "output_type": "execute_result"
    }
   ],
   "source": [
    "enCV_coefs = pd.DataFrame(df.columns)\n",
    "enCV_coefs['Columns'] = enCV_coefs[0]\n",
    "enCV_coefs['Coefficient'] = np.round(en_CV.coef_, 4)\n",
    "enCV_coefs = enCV_coefs.drop(0, axis=1)\n",
    "enCV_coefs['|coefficient|'] =enCV_coefs['Coefficient'].abs()\n",
    "enCV_coefs = enCV_coefs.sort_values(by=['|coefficient|'], ascending=False)\n",
    "enCV_coefs.head(20)\n",
    "enCV_important = enCV_coefs.head(20)\n",
    "enCV_important['Variable Description'] = en_variables_cv\n",
    "enCV_important = enCV_important.reset_index()\n",
    "enCV_important = enCV_important.drop('index', axis=1)\n",
    "enCV_important['Coefficients'] = enCV_important['Coefficient']\n",
    "enCV_important['|coefficients|'] = enCV_important['|coefficient|']\n",
    "enCV_important = enCV_important.drop(['Columns','Coefficient','|coefficient|'],axis=1)\n",
    "enCV_important "
   ]
  },
  {
   "cell_type": "markdown",
   "id": "ac277fb3",
   "metadata": {},
   "source": [
    "##### Table w/ results"
   ]
  },
  {
   "cell_type": "code",
   "execution_count": 131,
   "id": "5b1fcad6",
   "metadata": {},
   "outputs": [
    {
     "data": {
      "text/html": [
       "<div>\n",
       "<style scoped>\n",
       "    .dataframe tbody tr th:only-of-type {\n",
       "        vertical-align: middle;\n",
       "    }\n",
       "\n",
       "    .dataframe tbody tr th {\n",
       "        vertical-align: top;\n",
       "    }\n",
       "\n",
       "    .dataframe thead th {\n",
       "        text-align: right;\n",
       "    }\n",
       "</style>\n",
       "<table border=\"1\" class=\"dataframe\">\n",
       "  <thead>\n",
       "    <tr style=\"text-align: right;\">\n",
       "      <th></th>\n",
       "      <th>Model</th>\n",
       "      <th>Lambda</th>\n",
       "      <th>R-squared</th>\n",
       "      <th>RMSE</th>\n",
       "      <th>Intercept</th>\n",
       "    </tr>\n",
       "  </thead>\n",
       "  <tbody>\n",
       "    <tr>\n",
       "      <th>0</th>\n",
       "      <td>Elastic Net CV Lambda</td>\n",
       "      <td>0.1605</td>\n",
       "      <td>0.8466</td>\n",
       "      <td>43.364</td>\n",
       "      <td>470.476</td>\n",
       "    </tr>\n",
       "    <tr>\n",
       "      <th>1</th>\n",
       "      <td>Elastic Net Grid Search Lambda</td>\n",
       "      <td>0.0153</td>\n",
       "      <td>0.8649</td>\n",
       "      <td>40.694</td>\n",
       "      <td>469.305</td>\n",
       "    </tr>\n",
       "  </tbody>\n",
       "</table>\n",
       "</div>"
      ],
      "text/plain": [
       "                            Model  Lambda  R-squared    RMSE  Intercept\n",
       "0           Elastic Net CV Lambda  0.1605     0.8466  43.364    470.476\n",
       "1  Elastic Net Grid Search Lambda  0.0153     0.8649  40.694    469.305"
      ]
     },
     "execution_count": 131,
     "metadata": {},
     "output_type": "execute_result"
    }
   ],
   "source": [
    "## Table for performance results\n",
    "model = ['Elastic Net CV Lambda', 'Elastic Net Grid Search Lambda']\n",
    "lambdas = [.1605, .0153]\n",
    "R_squared = [.8466, .8649]\n",
    "RMSE= [43.364, 40.694]\n",
    "Intercept  = [round(en_CV.intercept_,3) , round(en_grid.intercept_,3)]\n",
    "pd.DataFrame({'Model': model, 'Lambda':lambdas, 'R-squared':R_squared, 'RMSE':RMSE, 'Intercept':Intercept})"
   ]
  }
 ],
 "metadata": {
  "kernelspec": {
   "display_name": "Python 3",
   "language": "python",
   "name": "python3"
  },
  "language_info": {
   "codemirror_mode": {
    "name": "ipython",
    "version": 3
   },
   "file_extension": ".py",
   "mimetype": "text/x-python",
   "name": "python",
   "nbconvert_exporter": "python",
   "pygments_lexer": "ipython3",
   "version": "3.8.8"
  }
 },
 "nbformat": 4,
 "nbformat_minor": 5
}
