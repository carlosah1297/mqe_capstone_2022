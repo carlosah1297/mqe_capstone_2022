{
 "cells": [
  {
   "cell_type": "markdown",
   "id": "af5f57f2",
   "metadata": {},
   "source": [
    "#### Carlos Hernandez\n",
    "#### Capstone Idea\n",
    "\n",
    "I plan to use data provided by the NYC open data to identify and predict areas where crime occurs and to gain insight on crime in different areas of NYC. Below I proved a very basic overview of the data which I plan to continue to expand. Below I focus solely on crime in NYC in 2021 so far but can use historical data from 2013 as well.\n"
   ]
  },
  {
   "cell_type": "code",
   "execution_count": 2,
   "id": "6353d46a",
   "metadata": {},
   "outputs": [],
   "source": [
    "import pandas as pd\n",
    "import numpy as np\n",
    "import matplotlib.pyplot as plt"
   ]
  },
  {
   "cell_type": "code",
   "execution_count": 3,
   "id": "68d62c99",
   "metadata": {},
   "outputs": [],
   "source": [
    "data = pd.read_csv(\"data.csv\")"
   ]
  },
  {
   "cell_type": "code",
   "execution_count": 4,
   "id": "a2b07619",
   "metadata": {},
   "outputs": [
    {
     "data": {
      "text/html": [
       "<div>\n",
       "<style scoped>\n",
       "    .dataframe tbody tr th:only-of-type {\n",
       "        vertical-align: middle;\n",
       "    }\n",
       "\n",
       "    .dataframe tbody tr th {\n",
       "        vertical-align: top;\n",
       "    }\n",
       "\n",
       "    .dataframe thead th {\n",
       "        text-align: right;\n",
       "    }\n",
       "</style>\n",
       "<table border=\"1\" class=\"dataframe\">\n",
       "  <thead>\n",
       "    <tr style=\"text-align: right;\">\n",
       "      <th></th>\n",
       "      <th>Unnamed: 0</th>\n",
       "      <th>CMPLNT_NUM</th>\n",
       "      <th>CMPLNT_FR_DT</th>\n",
       "      <th>CMPLNT_FR_TM</th>\n",
       "      <th>CMPLNT_TO_DT</th>\n",
       "      <th>ADDR_PCT_CD</th>\n",
       "      <th>RPT_DT</th>\n",
       "      <th>KY_CD</th>\n",
       "      <th>OFNS_DESC</th>\n",
       "      <th>PD_CD</th>\n",
       "      <th>...</th>\n",
       "      <th>VIC_SEX</th>\n",
       "      <th>borough_x</th>\n",
       "      <th>year</th>\n",
       "      <th>date_y</th>\n",
       "      <th>borough_y</th>\n",
       "      <th>crimes</th>\n",
       "      <th>time_borough</th>\n",
       "      <th>location_yr</th>\n",
       "      <th>pop</th>\n",
       "      <th>crime_rate</th>\n",
       "    </tr>\n",
       "  </thead>\n",
       "  <tbody>\n",
       "    <tr>\n",
       "      <th>0</th>\n",
       "      <td>0</td>\n",
       "      <td>216044876</td>\n",
       "      <td>2017-01-01</td>\n",
       "      <td>11:00:00</td>\n",
       "      <td>08/20/2018</td>\n",
       "      <td>109.0</td>\n",
       "      <td>12/31/2019</td>\n",
       "      <td>116</td>\n",
       "      <td>SEX CRIMES</td>\n",
       "      <td>179.0</td>\n",
       "      <td>...</td>\n",
       "      <td>F</td>\n",
       "      <td>queens</td>\n",
       "      <td>2017</td>\n",
       "      <td>201701</td>\n",
       "      <td>queens</td>\n",
       "      <td>7617</td>\n",
       "      <td>201701queens</td>\n",
       "      <td>2017queens</td>\n",
       "      <td>2358582</td>\n",
       "      <td>322.95</td>\n",
       "    </tr>\n",
       "    <tr>\n",
       "      <th>1</th>\n",
       "      <td>1</td>\n",
       "      <td>669902330</td>\n",
       "      <td>2017-01-01</td>\n",
       "      <td>00:01:00</td>\n",
       "      <td>12/31/2017</td>\n",
       "      <td>114.0</td>\n",
       "      <td>11/26/2019</td>\n",
       "      <td>233</td>\n",
       "      <td>SEX CRIMES</td>\n",
       "      <td>175.0</td>\n",
       "      <td>...</td>\n",
       "      <td>F</td>\n",
       "      <td>queens</td>\n",
       "      <td>2017</td>\n",
       "      <td>201701</td>\n",
       "      <td>queens</td>\n",
       "      <td>7617</td>\n",
       "      <td>201701queens</td>\n",
       "      <td>2017queens</td>\n",
       "      <td>2358582</td>\n",
       "      <td>322.95</td>\n",
       "    </tr>\n",
       "    <tr>\n",
       "      <th>2</th>\n",
       "      <td>2</td>\n",
       "      <td>336910010</td>\n",
       "      <td>2017-01-01</td>\n",
       "      <td>12:00:00</td>\n",
       "      <td>11/14/2019</td>\n",
       "      <td>104.0</td>\n",
       "      <td>11/14/2019</td>\n",
       "      <td>361</td>\n",
       "      <td>OFF. AGNST PUB ORD SENSBLTY &amp;</td>\n",
       "      <td>639.0</td>\n",
       "      <td>...</td>\n",
       "      <td>F</td>\n",
       "      <td>queens</td>\n",
       "      <td>2017</td>\n",
       "      <td>201701</td>\n",
       "      <td>queens</td>\n",
       "      <td>7617</td>\n",
       "      <td>201701queens</td>\n",
       "      <td>2017queens</td>\n",
       "      <td>2358582</td>\n",
       "      <td>322.95</td>\n",
       "    </tr>\n",
       "    <tr>\n",
       "      <th>3</th>\n",
       "      <td>3</td>\n",
       "      <td>452130663</td>\n",
       "      <td>2017-01-01</td>\n",
       "      <td>12:00:00</td>\n",
       "      <td>12/31/2017</td>\n",
       "      <td>113.0</td>\n",
       "      <td>11/21/2019</td>\n",
       "      <td>104</td>\n",
       "      <td>RAPE</td>\n",
       "      <td>155.0</td>\n",
       "      <td>...</td>\n",
       "      <td>F</td>\n",
       "      <td>queens</td>\n",
       "      <td>2017</td>\n",
       "      <td>201701</td>\n",
       "      <td>queens</td>\n",
       "      <td>7617</td>\n",
       "      <td>201701queens</td>\n",
       "      <td>2017queens</td>\n",
       "      <td>2358582</td>\n",
       "      <td>322.95</td>\n",
       "    </tr>\n",
       "    <tr>\n",
       "      <th>4</th>\n",
       "      <td>4</td>\n",
       "      <td>785888415</td>\n",
       "      <td>2017-01-01</td>\n",
       "      <td>09:00:00</td>\n",
       "      <td>08/09/2018</td>\n",
       "      <td>110.0</td>\n",
       "      <td>11/13/2019</td>\n",
       "      <td>233</td>\n",
       "      <td>SEX CRIMES</td>\n",
       "      <td>175.0</td>\n",
       "      <td>...</td>\n",
       "      <td>F</td>\n",
       "      <td>queens</td>\n",
       "      <td>2017</td>\n",
       "      <td>201701</td>\n",
       "      <td>queens</td>\n",
       "      <td>7617</td>\n",
       "      <td>201701queens</td>\n",
       "      <td>2017queens</td>\n",
       "      <td>2358582</td>\n",
       "      <td>322.95</td>\n",
       "    </tr>\n",
       "  </tbody>\n",
       "</table>\n",
       "<p>5 rows × 38 columns</p>\n",
       "</div>"
      ],
      "text/plain": [
       "   Unnamed: 0  CMPLNT_NUM CMPLNT_FR_DT CMPLNT_FR_TM CMPLNT_TO_DT  ADDR_PCT_CD  \\\n",
       "0           0   216044876   2017-01-01     11:00:00   08/20/2018        109.0   \n",
       "1           1   669902330   2017-01-01     00:01:00   12/31/2017        114.0   \n",
       "2           2   336910010   2017-01-01     12:00:00   11/14/2019        104.0   \n",
       "3           3   452130663   2017-01-01     12:00:00   12/31/2017        113.0   \n",
       "4           4   785888415   2017-01-01     09:00:00   08/09/2018        110.0   \n",
       "\n",
       "       RPT_DT  KY_CD                      OFNS_DESC  PD_CD  ... VIC_SEX  \\\n",
       "0  12/31/2019    116                     SEX CRIMES  179.0  ...       F   \n",
       "1  11/26/2019    233                     SEX CRIMES  175.0  ...       F   \n",
       "2  11/14/2019    361  OFF. AGNST PUB ORD SENSBLTY &  639.0  ...       F   \n",
       "3  11/21/2019    104                           RAPE  155.0  ...       F   \n",
       "4  11/13/2019    233                     SEX CRIMES  175.0  ...       F   \n",
       "\n",
       "  borough_x  year  date_y borough_y crimes  time_borough location_yr      pop  \\\n",
       "0    queens  2017  201701    queens   7617  201701queens  2017queens  2358582   \n",
       "1    queens  2017  201701    queens   7617  201701queens  2017queens  2358582   \n",
       "2    queens  2017  201701    queens   7617  201701queens  2017queens  2358582   \n",
       "3    queens  2017  201701    queens   7617  201701queens  2017queens  2358582   \n",
       "4    queens  2017  201701    queens   7617  201701queens  2017queens  2358582   \n",
       "\n",
       "  crime_rate  \n",
       "0     322.95  \n",
       "1     322.95  \n",
       "2     322.95  \n",
       "3     322.95  \n",
       "4     322.95  \n",
       "\n",
       "[5 rows x 38 columns]"
      ]
     },
     "execution_count": 4,
     "metadata": {},
     "output_type": "execute_result"
    }
   ],
   "source": [
    "####OVERVIEW OF DATA\n",
    "data.head()"
   ]
  },
  {
   "cell_type": "code",
   "execution_count": 5,
   "id": "692db6e9",
   "metadata": {},
   "outputs": [
    {
     "data": {
      "text/plain": [
       "Index(['Unnamed: 0', 'CMPLNT_NUM', 'CMPLNT_FR_DT', 'CMPLNT_FR_TM',\n",
       "       'CMPLNT_TO_DT', 'ADDR_PCT_CD', 'RPT_DT', 'KY_CD', 'OFNS_DESC', 'PD_CD',\n",
       "       'PD_DESC', 'CRM_ATPT_CPTD_CD', 'LAW_CAT_CD', 'BORO_NM', 'PREM_TYP_DESC',\n",
       "       'JURIS_DESC', 'JURISDICTION_CODE', 'X_COORD_CD', 'Y_COORD_CD',\n",
       "       'SUSP_AGE_GROUP', 'SUSP_RACE', 'SUSP_SEX', 'Latitude', 'Longitude',\n",
       "       'Lat_Lon', 'PATROL_BORO', 'VIC_AGE_GROUP', 'VIC_RACE', 'VIC_SEX',\n",
       "       'borough_x', 'year', 'date_y', 'borough_y', 'crimes', 'time_borough',\n",
       "       'location_yr', 'pop', 'crime_rate'],\n",
       "      dtype='object')"
      ]
     },
     "execution_count": 5,
     "metadata": {},
     "output_type": "execute_result"
    }
   ],
   "source": [
    "data.columns"
   ]
  },
  {
   "cell_type": "code",
   "execution_count": 6,
   "id": "c4e09176",
   "metadata": {},
   "outputs": [],
   "source": [
    "crime_count = pd.DataFrame(data['PD_DESC'].value_counts(dropna=True))"
   ]
  },
  {
   "cell_type": "markdown",
   "id": "3c04c3b1",
   "metadata": {},
   "source": [
    "The data had around 230 different crimes, so plotted the 20 most prevalent crimes."
   ]
  },
  {
   "cell_type": "code",
   "execution_count": 7,
   "id": "bfb1152f",
   "metadata": {},
   "outputs": [
    {
     "data": {
      "text/plain": [
       "<AxesSubplot:title={'center':'20 Most Prevalent Crime in NYC 2021 so far'}>"
      ]
     },
     "execution_count": 7,
     "metadata": {},
     "output_type": "execute_result"
    },
    {
     "data": {
      "image/png": "[encoded data removed]",
      "text/plain": [
       "<Figure size 432x288 with 1 Axes>"
      ]
     },
     "metadata": {
      "needs_background": "light"
     },
     "output_type": "display_data"
    }
   ],
   "source": [
    "\n",
    "crime_count.head(n=20).plot.barh(title='20 Most Prevalent Crime in NYC 2021 so far', legend=False)"
   ]
  },
  {
   "cell_type": "code",
   "execution_count": 17,
   "id": "105f7379",
   "metadata": {},
   "outputs": [
    {
     "data": {
      "text/plain": [
       "UNKNOWN    522639\n",
       "25-44      448296\n",
       "45-64      162995\n",
       "18-24      156850\n",
       "<18         45528\n",
       "65+         14710\n",
       "Name: SUSP_AGE_GROUP, dtype: int64"
      ]
     },
     "execution_count": 17,
     "metadata": {},
     "output_type": "execute_result"
    }
   ],
   "source": [
    "vol = ['522,639', '448,296', '162,995', '156,850', '45,528', '14,710']\n",
    "data['SUSP_AGE_GROUP'].value_counts(dropna=True)[0:6]"
   ]
  },
  {
   "cell_type": "code",
   "execution_count": 20,
   "id": "064e184f",
   "metadata": {},
   "outputs": [
    {
     "data": {
      "text/html": [
       "<div>\n",
       "<style scoped>\n",
       "    .dataframe tbody tr th:only-of-type {\n",
       "        vertical-align: middle;\n",
       "    }\n",
       "\n",
       "    .dataframe tbody tr th {\n",
       "        vertical-align: top;\n",
       "    }\n",
       "\n",
       "    .dataframe thead th {\n",
       "        text-align: right;\n",
       "    }\n",
       "</style>\n",
       "<table border=\"1\" class=\"dataframe\">\n",
       "  <thead>\n",
       "    <tr style=\"text-align: right;\">\n",
       "      <th></th>\n",
       "      <th>Age Group</th>\n",
       "      <th>Number of Suspects</th>\n",
       "    </tr>\n",
       "  </thead>\n",
       "  <tbody>\n",
       "    <tr>\n",
       "      <th>0</th>\n",
       "      <td>UNKNOWN</td>\n",
       "      <td>522,639</td>\n",
       "    </tr>\n",
       "    <tr>\n",
       "      <th>1</th>\n",
       "      <td>25-44</td>\n",
       "      <td>448,296</td>\n",
       "    </tr>\n",
       "    <tr>\n",
       "      <th>2</th>\n",
       "      <td>45-64</td>\n",
       "      <td>162,995</td>\n",
       "    </tr>\n",
       "    <tr>\n",
       "      <th>3</th>\n",
       "      <td>18-24</td>\n",
       "      <td>156,850</td>\n",
       "    </tr>\n",
       "    <tr>\n",
       "      <th>4</th>\n",
       "      <td>&lt;18</td>\n",
       "      <td>45,528</td>\n",
       "    </tr>\n",
       "    <tr>\n",
       "      <th>5</th>\n",
       "      <td>65+</td>\n",
       "      <td>14,710</td>\n",
       "    </tr>\n",
       "  </tbody>\n",
       "</table>\n",
       "</div>"
      ],
      "text/plain": [
       "  Age Group Number of Suspects\n",
       "0   UNKNOWN            522,639\n",
       "1     25-44            448,296\n",
       "2     45-64            162,995\n",
       "3     18-24            156,850\n",
       "4       <18             45,528\n",
       "5       65+             14,710"
      ]
     },
     "execution_count": 20,
     "metadata": {},
     "output_type": "execute_result"
    }
   ],
   "source": [
    "age_groups = pd.DataFrame(data['SUSP_AGE_GROUP'].value_counts(dropna=True)[0:6])\n",
    "age_groups = age_groups.reset_index()\n",
    "age_groups['Age Group'] = age_groups['index']\n",
    "age_groups['Number of Suspects'] = vol\n",
    "age_groups = age_groups.drop(['SUSP_AGE_GROUP', 'index'], axis=1)\n",
    "age_groups.head(6)"
   ]
  },
  {
   "cell_type": "markdown",
   "id": "bd31849e",
   "metadata": {},
   "source": [
    "Below we see the percentage of the different age groups. As expected, the most people aged 25-44 accounted for over half of the crimes."
   ]
  },
  {
   "cell_type": "code",
   "execution_count": 16,
   "id": "1066e70b",
   "metadata": {},
   "outputs": [],
   "source": [
    "#age_groups.plot.pie(y='VIC_AGE_GROUP', title='Pie Chart showing Age Groups' , \\\n",
    "               #    autopct='%1.1f%%')"
   ]
  },
  {
   "cell_type": "code",
   "execution_count": 17,
   "id": "b2942425",
   "metadata": {},
   "outputs": [
    {
     "data": {
      "text/html": [
       "<div>\n",
       "<style scoped>\n",
       "    .dataframe tbody tr th:only-of-type {\n",
       "        vertical-align: middle;\n",
       "    }\n",
       "\n",
       "    .dataframe tbody tr th {\n",
       "        vertical-align: top;\n",
       "    }\n",
       "\n",
       "    .dataframe thead th {\n",
       "        text-align: right;\n",
       "    }\n",
       "</style>\n",
       "<table border=\"1\" class=\"dataframe\">\n",
       "  <thead>\n",
       "    <tr style=\"text-align: right;\">\n",
       "      <th></th>\n",
       "      <th>SUSP_SEX</th>\n",
       "    </tr>\n",
       "  </thead>\n",
       "  <tbody>\n",
       "    <tr>\n",
       "      <th>M</th>\n",
       "      <td>818016</td>\n",
       "    </tr>\n",
       "    <tr>\n",
       "      <th>U</th>\n",
       "      <td>289175</td>\n",
       "    </tr>\n",
       "    <tr>\n",
       "      <th>F</th>\n",
       "      <td>243940</td>\n",
       "    </tr>\n",
       "  </tbody>\n",
       "</table>\n",
       "</div>"
      ],
      "text/plain": [
       "   SUSP_SEX\n",
       "M    818016\n",
       "U    289175\n",
       "F    243940"
      ]
     },
     "execution_count": 17,
     "metadata": {},
     "output_type": "execute_result"
    }
   ],
   "source": [
    "perp_sex = pd.DataFrame(data['SUSP_SEX'].value_counts(dropna=True))\n",
    "perp_sex.head()"
   ]
  },
  {
   "cell_type": "markdown",
   "id": "5b9d16d5",
   "metadata": {},
   "source": [
    "Also as expected, males were generally the perpetrators."
   ]
  },
  {
   "cell_type": "code",
   "execution_count": 38,
   "id": "e2048279",
   "metadata": {},
   "outputs": [
    {
     "data": {
      "text/plain": [
       "<AxesSubplot:title={'center':'Suspect Sex Pie Chart'}, ylabel='SUSP_SEX'>"
      ]
     },
     "execution_count": 38,
     "metadata": {},
     "output_type": "execute_result"
    },
    {
     "data": {
      "image/png": "[encoded data removed]",
      "text/plain": [
       "<Figure size 432x288 with 1 Axes>"
      ]
     },
     "metadata": {},
     "output_type": "display_data"
    }
   ],
   "source": [
    "perp_sex.plot.pie(y='SUSP_SEX', title='Suspect Sex Pie Chart', \\\n",
    "                   autopct='%1.1f%%')"
   ]
  },
  {
   "cell_type": "code",
   "execution_count": 23,
   "id": "d71905b6",
   "metadata": {},
   "outputs": [
    {
     "data": {
      "text/html": [
       "<div>\n",
       "<style scoped>\n",
       "    .dataframe tbody tr th:only-of-type {\n",
       "        vertical-align: middle;\n",
       "    }\n",
       "\n",
       "    .dataframe tbody tr th {\n",
       "        vertical-align: top;\n",
       "    }\n",
       "\n",
       "    .dataframe thead th {\n",
       "        text-align: right;\n",
       "    }\n",
       "</style>\n",
       "<table border=\"1\" class=\"dataframe\">\n",
       "  <thead>\n",
       "    <tr style=\"text-align: right;\">\n",
       "      <th></th>\n",
       "      <th>LAW_CAT_CD</th>\n",
       "    </tr>\n",
       "  </thead>\n",
       "  <tbody>\n",
       "    <tr>\n",
       "      <th>MISDEMEANOR</th>\n",
       "      <td>961298</td>\n",
       "    </tr>\n",
       "    <tr>\n",
       "      <th>FELONY</th>\n",
       "      <td>553855</td>\n",
       "    </tr>\n",
       "    <tr>\n",
       "      <th>VIOLATION</th>\n",
       "      <td>276995</td>\n",
       "    </tr>\n",
       "  </tbody>\n",
       "</table>\n",
       "</div>"
      ],
      "text/plain": [
       "             LAW_CAT_CD\n",
       "MISDEMEANOR      961298\n",
       "FELONY           553855\n",
       "VIOLATION        276995"
      ]
     },
     "execution_count": 23,
     "metadata": {},
     "output_type": "execute_result"
    }
   ],
   "source": [
    "types = pd.DataFrame(data['LAW_CAT_CD'].value_counts(dropna=True))\n",
    "types.head()"
   ]
  },
  {
   "cell_type": "code",
   "execution_count": 40,
   "id": "7e7295ad",
   "metadata": {},
   "outputs": [
    {
     "data": {
      "image/png": "[encoded data removed]",
      "text/plain": [
       "<Figure size 432x288 with 1 Axes>"
      ]
     },
     "metadata": {},
     "output_type": "display_data"
    }
   ],
   "source": [
    "import matplotlib.pyplot as plt\n",
    "\n",
    "# Pie chart, where the slices will be ordered and plotted counter-clockwise:\n",
    "labels = 'Misdemeanor', 'Violation', 'Felony'\n",
    "sizes = [53.6, 15.5, 30.9]\n",
    "#explode = (0, 0.1, 0, 0)  # only \"explode\" the 2nd slice (i.e. 'Hogs')\n",
    "\n",
    "fig1, ax1 = plt.subplots()\n",
    "ax1.pie(sizes, labels=labels, autopct='%1.1f%%',\n",
    "         startangle=90)\n",
    "ax1.axis('equal')  # Equal aspect ratio ensures that pie is drawn as a circle.\n",
    "plt.title('Share of crimes by Type of Offense')\n",
    "plt.show()"
   ]
  },
  {
   "cell_type": "code",
   "execution_count": 10,
   "id": "53624408",
   "metadata": {},
   "outputs": [
    {
     "data": {
      "text/html": [
       "<div>\n",
       "<style scoped>\n",
       "    .dataframe tbody tr th:only-of-type {\n",
       "        vertical-align: middle;\n",
       "    }\n",
       "\n",
       "    .dataframe tbody tr th {\n",
       "        vertical-align: top;\n",
       "    }\n",
       "\n",
       "    .dataframe thead th {\n",
       "        text-align: right;\n",
       "    }\n",
       "</style>\n",
       "<table border=\"1\" class=\"dataframe\">\n",
       "  <thead>\n",
       "    <tr style=\"text-align: right;\">\n",
       "      <th></th>\n",
       "      <th>ARREST_BORO</th>\n",
       "    </tr>\n",
       "  </thead>\n",
       "  <tbody>\n",
       "    <tr>\n",
       "      <th>K</th>\n",
       "      <td>31004</td>\n",
       "    </tr>\n",
       "    <tr>\n",
       "      <th>M</th>\n",
       "      <td>28948</td>\n",
       "    </tr>\n",
       "    <tr>\n",
       "      <th>B</th>\n",
       "      <td>25312</td>\n",
       "    </tr>\n",
       "    <tr>\n",
       "      <th>Q</th>\n",
       "      <td>24654</td>\n",
       "    </tr>\n",
       "    <tr>\n",
       "      <th>S</th>\n",
       "      <td>5381</td>\n",
       "    </tr>\n",
       "  </tbody>\n",
       "</table>\n",
       "</div>"
      ],
      "text/plain": [
       "   ARREST_BORO\n",
       "K        31004\n",
       "M        28948\n",
       "B        25312\n",
       "Q        24654\n",
       "S         5381"
      ]
     },
     "execution_count": 10,
     "metadata": {},
     "output_type": "execute_result"
    }
   ],
   "source": [
    "borough = pd.DataFrame(data['ARREST_BORO'].value_counts(dropna=True))\n",
    "borough"
   ]
  },
  {
   "cell_type": "markdown",
   "id": "578fe867",
   "metadata": {},
   "source": [
    "Below I show the frequency of crimes by borough. Staten Island appears to have far less crime on raw terms than the other boroughs, though they have a much smaller population than other boroughs."
   ]
  },
  {
   "cell_type": "code",
   "execution_count": 11,
   "id": "5a9e6728",
   "metadata": {},
   "outputs": [
    {
     "data": {
      "text/plain": [
       "<AxesSubplot:title={'center':'Frequency of Crimes by Borough 2021'}>"
      ]
     },
     "execution_count": 11,
     "metadata": {},
     "output_type": "execute_result"
    },
    {
     "data": {
      "image/png": "[encoded data removed]",
      "text/plain": [
       "<Figure size 432x288 with 1 Axes>"
      ]
     },
     "metadata": {
      "needs_background": "light"
     },
     "output_type": "display_data"
    }
   ],
   "source": [
    "borough.plot.barh(y='ARREST_BORO', title='Frequency of Crimes by Borough 2021', legend = False, color = 'green')"
   ]
  },
  {
   "cell_type": "markdown",
   "id": "d7007584",
   "metadata": {},
   "source": [
    "### Introduce column with populations of each borough\n",
    "https://data.cityofnewyork.us/City-Government/NYC-Population-by-Borough/h2bk-zmw6"
   ]
  },
  {
   "cell_type": "code",
   "execution_count": 12,
   "id": "8df6821b",
   "metadata": {},
   "outputs": [
    {
     "data": {
      "text/html": [
       "<div>\n",
       "<style scoped>\n",
       "    .dataframe tbody tr th:only-of-type {\n",
       "        vertical-align: middle;\n",
       "    }\n",
       "\n",
       "    .dataframe tbody tr th {\n",
       "        vertical-align: top;\n",
       "    }\n",
       "\n",
       "    .dataframe thead th {\n",
       "        text-align: right;\n",
       "    }\n",
       "</style>\n",
       "<table border=\"1\" class=\"dataframe\">\n",
       "  <thead>\n",
       "    <tr style=\"text-align: right;\">\n",
       "      <th></th>\n",
       "      <th>Borough</th>\n",
       "      <th>Population</th>\n",
       "    </tr>\n",
       "  </thead>\n",
       "  <tbody>\n",
       "    <tr>\n",
       "      <th>0</th>\n",
       "      <td>Queens</td>\n",
       "      <td>4,460,101</td>\n",
       "    </tr>\n",
       "    <tr>\n",
       "      <th>1</th>\n",
       "      <td>Brooklyn</td>\n",
       "      <td>4,970,026</td>\n",
       "    </tr>\n",
       "    <tr>\n",
       "      <th>2</th>\n",
       "      <td>Staten Island</td>\n",
       "      <td>912,458</td>\n",
       "    </tr>\n",
       "    <tr>\n",
       "      <th>3</th>\n",
       "      <td>Manhattan</td>\n",
       "      <td>3,123,068</td>\n",
       "    </tr>\n",
       "    <tr>\n",
       "      <th>4</th>\n",
       "      <td>Bronx</td>\n",
       "      <td>2,717,758</td>\n",
       "    </tr>\n",
       "  </tbody>\n",
       "</table>\n",
       "</div>"
      ],
      "text/plain": [
       "         Borough Population\n",
       "0         Queens  4,460,101\n",
       "1       Brooklyn  4,970,026\n",
       "2  Staten Island    912,458\n",
       "3      Manhattan  3,123,068\n",
       "4          Bronx  2,717,758"
      ]
     },
     "execution_count": 12,
     "metadata": {},
     "output_type": "execute_result"
    }
   ],
   "source": [
    "borough_pop = pd.read_csv(\"NYC_Population_by_Borough.csv\")\n",
    "borough_pop"
   ]
  },
  {
   "cell_type": "code",
   "execution_count": 13,
   "id": "55809acc",
   "metadata": {},
   "outputs": [],
   "source": [
    "code = ['Q', 'K', 'S', 'M', 'B']\n",
    "borough_pop['city_code'] = code"
   ]
  },
  {
   "cell_type": "code",
   "execution_count": 14,
   "id": "3db10bbc",
   "metadata": {},
   "outputs": [
    {
     "data": {
      "text/html": [
       "<div>\n",
       "<style scoped>\n",
       "    .dataframe tbody tr th:only-of-type {\n",
       "        vertical-align: middle;\n",
       "    }\n",
       "\n",
       "    .dataframe tbody tr th {\n",
       "        vertical-align: top;\n",
       "    }\n",
       "\n",
       "    .dataframe thead th {\n",
       "        text-align: right;\n",
       "    }\n",
       "</style>\n",
       "<table border=\"1\" class=\"dataframe\">\n",
       "  <thead>\n",
       "    <tr style=\"text-align: right;\">\n",
       "      <th></th>\n",
       "      <th>Borough</th>\n",
       "      <th>Population</th>\n",
       "      <th>city_code</th>\n",
       "    </tr>\n",
       "  </thead>\n",
       "  <tbody>\n",
       "    <tr>\n",
       "      <th>0</th>\n",
       "      <td>Queens</td>\n",
       "      <td>4,460,101</td>\n",
       "      <td>Q</td>\n",
       "    </tr>\n",
       "    <tr>\n",
       "      <th>1</th>\n",
       "      <td>Brooklyn</td>\n",
       "      <td>4,970,026</td>\n",
       "      <td>K</td>\n",
       "    </tr>\n",
       "    <tr>\n",
       "      <th>2</th>\n",
       "      <td>Staten Island</td>\n",
       "      <td>912,458</td>\n",
       "      <td>S</td>\n",
       "    </tr>\n",
       "    <tr>\n",
       "      <th>3</th>\n",
       "      <td>Manhattan</td>\n",
       "      <td>3,123,068</td>\n",
       "      <td>M</td>\n",
       "    </tr>\n",
       "    <tr>\n",
       "      <th>4</th>\n",
       "      <td>Bronx</td>\n",
       "      <td>2,717,758</td>\n",
       "      <td>B</td>\n",
       "    </tr>\n",
       "  </tbody>\n",
       "</table>\n",
       "</div>"
      ],
      "text/plain": [
       "         Borough Population city_code\n",
       "0         Queens  4,460,101         Q\n",
       "1       Brooklyn  4,970,026         K\n",
       "2  Staten Island    912,458         S\n",
       "3      Manhattan  3,123,068         M\n",
       "4          Bronx  2,717,758         B"
      ]
     },
     "execution_count": 14,
     "metadata": {},
     "output_type": "execute_result"
    }
   ],
   "source": [
    "borough_pop"
   ]
  },
  {
   "cell_type": "markdown",
   "id": "3dda7d0e",
   "metadata": {},
   "source": [
    "## Manhattan Race data"
   ]
  },
  {
   "cell_type": "code",
   "execution_count": 15,
   "id": "18a15be0",
   "metadata": {},
   "outputs": [],
   "source": [
    "manrace = pd.read_csv(\"manhattan_race.csv\")"
   ]
  },
  {
   "cell_type": "code",
   "execution_count": 16,
   "id": "ab149445",
   "metadata": {},
   "outputs": [
    {
     "data": {
      "text/html": [
       "<div>\n",
       "<style scoped>\n",
       "    .dataframe tbody tr th:only-of-type {\n",
       "        vertical-align: middle;\n",
       "    }\n",
       "\n",
       "    .dataframe tbody tr th {\n",
       "        vertical-align: top;\n",
       "    }\n",
       "\n",
       "    .dataframe thead th {\n",
       "        text-align: right;\n",
       "    }\n",
       "</style>\n",
       "<table border=\"1\" class=\"dataframe\">\n",
       "  <thead>\n",
       "    <tr style=\"text-align: right;\">\n",
       "      <th></th>\n",
       "      <th>Label (Grouping)</th>\n",
       "      <th>Manhattan borough, New York County, New York!!Estimate</th>\n",
       "      <th>Manhattan borough, New York County, New York!!Margin of Error</th>\n",
       "    </tr>\n",
       "  </thead>\n",
       "  <tbody>\n",
       "    <tr>\n",
       "      <th>0</th>\n",
       "      <td>Total:</td>\n",
       "      <td>1,628,706</td>\n",
       "      <td>*****</td>\n",
       "    </tr>\n",
       "    <tr>\n",
       "      <th>1</th>\n",
       "      <td>Not Hispanic or Latino:</td>\n",
       "      <td>1,211,948</td>\n",
       "      <td>*****</td>\n",
       "    </tr>\n",
       "    <tr>\n",
       "      <th>2</th>\n",
       "      <td>White alone</td>\n",
       "      <td>763,400</td>\n",
       "      <td>±1,961</td>\n",
       "    </tr>\n",
       "    <tr>\n",
       "      <th>3</th>\n",
       "      <td>Black or African American alone</td>\n",
       "      <td>199,823</td>\n",
       "      <td>±3,849</td>\n",
       "    </tr>\n",
       "    <tr>\n",
       "      <th>4</th>\n",
       "      <td>American Indian and Alaska Native alone</td>\n",
       "      <td>2,612</td>\n",
       "      <td>±749</td>\n",
       "    </tr>\n",
       "    <tr>\n",
       "      <th>5</th>\n",
       "      <td>Asian alone</td>\n",
       "      <td>201,049</td>\n",
       "      <td>±3,294</td>\n",
       "    </tr>\n",
       "    <tr>\n",
       "      <th>6</th>\n",
       "      <td>Native Hawaiian and Other Pacific Isla...</td>\n",
       "      <td>39</td>\n",
       "      <td>±69</td>\n",
       "    </tr>\n",
       "    <tr>\n",
       "      <th>7</th>\n",
       "      <td>Some other race alone</td>\n",
       "      <td>7,373</td>\n",
       "      <td>±2,221</td>\n",
       "    </tr>\n",
       "    <tr>\n",
       "      <th>8</th>\n",
       "      <td>Two or more races:</td>\n",
       "      <td>37,652</td>\n",
       "      <td>±5,319</td>\n",
       "    </tr>\n",
       "    <tr>\n",
       "      <th>9</th>\n",
       "      <td>Two races including Some other race</td>\n",
       "      <td>2,227</td>\n",
       "      <td>±1,145</td>\n",
       "    </tr>\n",
       "    <tr>\n",
       "      <th>10</th>\n",
       "      <td>Two races excluding Some other rac...</td>\n",
       "      <td>35,425</td>\n",
       "      <td>±5,301</td>\n",
       "    </tr>\n",
       "    <tr>\n",
       "      <th>11</th>\n",
       "      <td>Hispanic or Latino:</td>\n",
       "      <td>416,758</td>\n",
       "      <td>*****</td>\n",
       "    </tr>\n",
       "    <tr>\n",
       "      <th>12</th>\n",
       "      <td>White alone</td>\n",
       "      <td>159,346</td>\n",
       "      <td>±11,858</td>\n",
       "    </tr>\n",
       "    <tr>\n",
       "      <th>13</th>\n",
       "      <td>Black or African American alone</td>\n",
       "      <td>34,122</td>\n",
       "      <td>±5,140</td>\n",
       "    </tr>\n",
       "    <tr>\n",
       "      <th>14</th>\n",
       "      <td>American Indian and Alaska Native alone</td>\n",
       "      <td>3,828</td>\n",
       "      <td>±2,408</td>\n",
       "    </tr>\n",
       "    <tr>\n",
       "      <th>15</th>\n",
       "      <td>Asian alone</td>\n",
       "      <td>976</td>\n",
       "      <td>±578</td>\n",
       "    </tr>\n",
       "    <tr>\n",
       "      <th>16</th>\n",
       "      <td>Native Hawaiian and Other Pacific Isla...</td>\n",
       "      <td>306</td>\n",
       "      <td>±364</td>\n",
       "    </tr>\n",
       "    <tr>\n",
       "      <th>17</th>\n",
       "      <td>Some other race alone</td>\n",
       "      <td>186,741</td>\n",
       "      <td>±11,963</td>\n",
       "    </tr>\n",
       "    <tr>\n",
       "      <th>18</th>\n",
       "      <td>Two or more races:</td>\n",
       "      <td>31,439</td>\n",
       "      <td>±6,265</td>\n",
       "    </tr>\n",
       "    <tr>\n",
       "      <th>19</th>\n",
       "      <td>Two races including Some other race</td>\n",
       "      <td>9,323</td>\n",
       "      <td>±3,069</td>\n",
       "    </tr>\n",
       "    <tr>\n",
       "      <th>20</th>\n",
       "      <td>Two races excluding Some other rac...</td>\n",
       "      <td>22,116</td>\n",
       "      <td>±5,658</td>\n",
       "    </tr>\n",
       "  </tbody>\n",
       "</table>\n",
       "</div>"
      ],
      "text/plain": [
       "                                     Label (Grouping)  \\\n",
       "0                                              Total:   \n",
       "1                             Not Hispanic or Latino:   \n",
       "2                                         White alone   \n",
       "3                     Black or African American alone   \n",
       "4             American Indian and Alaska Native alone   \n",
       "5                                         Asian alone   \n",
       "6           Native Hawaiian and Other Pacific Isla...   \n",
       "7                               Some other race alone   \n",
       "8                                  Two or more races:   \n",
       "9                 Two races including Some other race   \n",
       "10              Two races excluding Some other rac...   \n",
       "11                                Hispanic or Latino:   \n",
       "12                                        White alone   \n",
       "13                    Black or African American alone   \n",
       "14            American Indian and Alaska Native alone   \n",
       "15                                        Asian alone   \n",
       "16          Native Hawaiian and Other Pacific Isla...   \n",
       "17                              Some other race alone   \n",
       "18                                 Two or more races:   \n",
       "19                Two races including Some other race   \n",
       "20              Two races excluding Some other rac...   \n",
       "\n",
       "   Manhattan borough, New York County, New York!!Estimate  \\\n",
       "0                                           1,628,706       \n",
       "1                                           1,211,948       \n",
       "2                                             763,400       \n",
       "3                                             199,823       \n",
       "4                                               2,612       \n",
       "5                                             201,049       \n",
       "6                                                  39       \n",
       "7                                               7,373       \n",
       "8                                              37,652       \n",
       "9                                               2,227       \n",
       "10                                             35,425       \n",
       "11                                            416,758       \n",
       "12                                            159,346       \n",
       "13                                             34,122       \n",
       "14                                              3,828       \n",
       "15                                                976       \n",
       "16                                                306       \n",
       "17                                            186,741       \n",
       "18                                             31,439       \n",
       "19                                              9,323       \n",
       "20                                             22,116       \n",
       "\n",
       "   Manhattan borough, New York County, New York!!Margin of Error  \n",
       "0                                               *****             \n",
       "1                                               *****             \n",
       "2                                              ±1,961             \n",
       "3                                              ±3,849             \n",
       "4                                                ±749             \n",
       "5                                              ±3,294             \n",
       "6                                                 ±69             \n",
       "7                                              ±2,221             \n",
       "8                                              ±5,319             \n",
       "9                                              ±1,145             \n",
       "10                                             ±5,301             \n",
       "11                                              *****             \n",
       "12                                            ±11,858             \n",
       "13                                             ±5,140             \n",
       "14                                             ±2,408             \n",
       "15                                               ±578             \n",
       "16                                               ±364             \n",
       "17                                            ±11,963             \n",
       "18                                             ±6,265             \n",
       "19                                             ±3,069             \n",
       "20                                             ±5,658             "
      ]
     },
     "execution_count": 16,
     "metadata": {},
     "output_type": "execute_result"
    }
   ],
   "source": [
    "manrace"
   ]
  },
  {
   "cell_type": "code",
   "execution_count": 17,
   "id": "81482d43",
   "metadata": {},
   "outputs": [],
   "source": [
    "manrace = manrace.rename(columns = {\"Label (Grouping)\":\"race\",\"Manhattan borough, New York County, New York!!Estimate\" : \"pop_est\"})"
   ]
  },
  {
   "cell_type": "code",
   "execution_count": 18,
   "id": "bf99f272",
   "metadata": {},
   "outputs": [
    {
     "data": {
      "text/html": [
       "<div>\n",
       "<style scoped>\n",
       "    .dataframe tbody tr th:only-of-type {\n",
       "        vertical-align: middle;\n",
       "    }\n",
       "\n",
       "    .dataframe tbody tr th {\n",
       "        vertical-align: top;\n",
       "    }\n",
       "\n",
       "    .dataframe thead th {\n",
       "        text-align: right;\n",
       "    }\n",
       "</style>\n",
       "<table border=\"1\" class=\"dataframe\">\n",
       "  <thead>\n",
       "    <tr style=\"text-align: right;\">\n",
       "      <th></th>\n",
       "      <th>race</th>\n",
       "      <th>pop_est</th>\n",
       "    </tr>\n",
       "  </thead>\n",
       "  <tbody>\n",
       "    <tr>\n",
       "      <th>0</th>\n",
       "      <td>Total:</td>\n",
       "      <td>1,628,706</td>\n",
       "    </tr>\n",
       "    <tr>\n",
       "      <th>1</th>\n",
       "      <td>Not Hispanic or Latino:</td>\n",
       "      <td>1,211,948</td>\n",
       "    </tr>\n",
       "    <tr>\n",
       "      <th>2</th>\n",
       "      <td>White alone</td>\n",
       "      <td>763,400</td>\n",
       "    </tr>\n",
       "    <tr>\n",
       "      <th>3</th>\n",
       "      <td>Black or African American alone</td>\n",
       "      <td>199,823</td>\n",
       "    </tr>\n",
       "    <tr>\n",
       "      <th>4</th>\n",
       "      <td>American Indian and Alaska Native alone</td>\n",
       "      <td>2,612</td>\n",
       "    </tr>\n",
       "    <tr>\n",
       "      <th>5</th>\n",
       "      <td>Asian alone</td>\n",
       "      <td>201,049</td>\n",
       "    </tr>\n",
       "    <tr>\n",
       "      <th>6</th>\n",
       "      <td>Native Hawaiian and Other Pacific Isla...</td>\n",
       "      <td>39</td>\n",
       "    </tr>\n",
       "    <tr>\n",
       "      <th>7</th>\n",
       "      <td>Some other race alone</td>\n",
       "      <td>7,373</td>\n",
       "    </tr>\n",
       "    <tr>\n",
       "      <th>8</th>\n",
       "      <td>Two or more races:</td>\n",
       "      <td>37,652</td>\n",
       "    </tr>\n",
       "    <tr>\n",
       "      <th>9</th>\n",
       "      <td>Two races including Some other race</td>\n",
       "      <td>2,227</td>\n",
       "    </tr>\n",
       "    <tr>\n",
       "      <th>10</th>\n",
       "      <td>Two races excluding Some other rac...</td>\n",
       "      <td>35,425</td>\n",
       "    </tr>\n",
       "    <tr>\n",
       "      <th>11</th>\n",
       "      <td>Hispanic or Latino:</td>\n",
       "      <td>416,758</td>\n",
       "    </tr>\n",
       "    <tr>\n",
       "      <th>12</th>\n",
       "      <td>White alone</td>\n",
       "      <td>159,346</td>\n",
       "    </tr>\n",
       "    <tr>\n",
       "      <th>13</th>\n",
       "      <td>Black or African American alone</td>\n",
       "      <td>34,122</td>\n",
       "    </tr>\n",
       "    <tr>\n",
       "      <th>14</th>\n",
       "      <td>American Indian and Alaska Native alone</td>\n",
       "      <td>3,828</td>\n",
       "    </tr>\n",
       "    <tr>\n",
       "      <th>15</th>\n",
       "      <td>Asian alone</td>\n",
       "      <td>976</td>\n",
       "    </tr>\n",
       "    <tr>\n",
       "      <th>16</th>\n",
       "      <td>Native Hawaiian and Other Pacific Isla...</td>\n",
       "      <td>306</td>\n",
       "    </tr>\n",
       "    <tr>\n",
       "      <th>17</th>\n",
       "      <td>Some other race alone</td>\n",
       "      <td>186,741</td>\n",
       "    </tr>\n",
       "    <tr>\n",
       "      <th>18</th>\n",
       "      <td>Two or more races:</td>\n",
       "      <td>31,439</td>\n",
       "    </tr>\n",
       "    <tr>\n",
       "      <th>19</th>\n",
       "      <td>Two races including Some other race</td>\n",
       "      <td>9,323</td>\n",
       "    </tr>\n",
       "    <tr>\n",
       "      <th>20</th>\n",
       "      <td>Two races excluding Some other rac...</td>\n",
       "      <td>22,116</td>\n",
       "    </tr>\n",
       "  </tbody>\n",
       "</table>\n",
       "</div>"
      ],
      "text/plain": [
       "                                                 race    pop_est\n",
       "0                                              Total:  1,628,706\n",
       "1                             Not Hispanic or Latino:  1,211,948\n",
       "2                                         White alone    763,400\n",
       "3                     Black or African American alone    199,823\n",
       "4             American Indian and Alaska Native alone      2,612\n",
       "5                                         Asian alone    201,049\n",
       "6           Native Hawaiian and Other Pacific Isla...         39\n",
       "7                               Some other race alone      7,373\n",
       "8                                  Two or more races:     37,652\n",
       "9                 Two races including Some other race      2,227\n",
       "10              Two races excluding Some other rac...     35,425\n",
       "11                                Hispanic or Latino:    416,758\n",
       "12                                        White alone    159,346\n",
       "13                    Black or African American alone     34,122\n",
       "14            American Indian and Alaska Native alone      3,828\n",
       "15                                        Asian alone        976\n",
       "16          Native Hawaiian and Other Pacific Isla...        306\n",
       "17                              Some other race alone    186,741\n",
       "18                                 Two or more races:     31,439\n",
       "19                Two races including Some other race      9,323\n",
       "20              Two races excluding Some other rac...     22,116"
      ]
     },
     "execution_count": 18,
     "metadata": {},
     "output_type": "execute_result"
    }
   ],
   "source": [
    "manrace = manrace.drop('Manhattan borough, New York County, New York!!Margin of Error', axis=1)\n",
    "manrace"
   ]
  },
  {
   "cell_type": "markdown",
   "id": "c925d4b3",
   "metadata": {},
   "source": [
    "## Figure out how to convert object to list"
   ]
  },
  {
   "cell_type": "code",
   "execution_count": 19,
   "id": "f9778d2b",
   "metadata": {},
   "outputs": [],
   "source": [
    "a = list(manrace[\"pop_est\"])"
   ]
  },
  {
   "cell_type": "code",
   "execution_count": 20,
   "id": "6402cf4f",
   "metadata": {},
   "outputs": [
    {
     "name": "stdout",
     "output_type": "stream",
     "text": [
      "[1628706, 1211948, 763400, 199823, 2612, 201049, 39, 7373, 37652, 2227, 35425, 416758, 159346, 34122, 3828, 976, 306, 186741, 31439, 9323, 22116]\n"
     ]
    }
   ],
   "source": [
    "## Remove commas from string and convert string to integer in order to calculate percentages of hispanics/blacks/asians\n",
    "##in manhattan, I will repeat with other boroughs\n",
    "b = [] \n",
    "for i in range(len(a)):\n",
    "    c = a[i].replace(\",\",\"\")\n",
    "    b.append(int(c))\n",
    "print(b)"
   ]
  }
 ],
 "metadata": {
  "kernelspec": {
   "display_name": "Python 3",
   "language": "python",
   "name": "python3"
  },
  "language_info": {
   "codemirror_mode": {
    "name": "ipython",
    "version": 3
   },
   "file_extension": ".py",
   "mimetype": "text/x-python",
   "name": "python",
   "nbconvert_exporter": "python",
   "pygments_lexer": "ipython3",
   "version": "3.8.8"
  }
 },
 "nbformat": 4,
 "nbformat_minor": 5
}
